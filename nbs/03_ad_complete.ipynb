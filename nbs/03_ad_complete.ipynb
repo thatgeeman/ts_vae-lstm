{
 "cells": [
  {
   "cell_type": "markdown",
   "metadata": {},
   "source": [
    "# Anomaly detection pipeline\n",
    "\n",
    "> Fill in a module description here"
   ]
  },
  {
   "cell_type": "code",
   "execution_count": 3,
   "metadata": {},
   "outputs": [],
   "source": [
    "# | default_exp ad_complete"
   ]
  },
  {
   "cell_type": "code",
   "execution_count": 4,
   "metadata": {},
   "outputs": [],
   "source": [
    "# | hide\n",
    "from nbdev.showdoc import *"
   ]
  },
  {
   "cell_type": "code",
   "execution_count": 5,
   "metadata": {},
   "outputs": [],
   "source": [
    "# | export\n",
    "import pandas as pd\n",
    "import numpy as np\n",
    "import matplotlib.pyplot as plt\n",
    "import seaborn as sns\n",
    "from datetime import datetime as dt\n",
    "from ts_vae_lstm.concepts import get_window\n",
    "from scipy import signal\n",
    "import os\n",
    "import math\n",
    "import torch"
   ]
  },
  {
   "cell_type": "code",
   "execution_count": 6,
   "metadata": {},
   "outputs": [],
   "source": [
    "# | export\n",
    "\n",
    "from torch import nn\n",
    "import torch.nn.functional as F\n",
    "import torch\n",
    "from torch.utils.data import Dataset, DataLoader\n",
    "from sklearn.metrics import roc_auc_score, accuracy_score"
   ]
  },
  {
   "cell_type": "code",
   "execution_count": 7,
   "metadata": {},
   "outputs": [],
   "source": [
    "# | export\n",
    "from ts_vae_lstm.vae import VAE, Encoder, Decoder, StochasticSampler\n",
    "from fastcore.xtras import noop\n",
    "from dotenv import load_dotenv"
   ]
  },
  {
   "cell_type": "code",
   "execution_count": 8,
   "metadata": {},
   "outputs": [],
   "source": [
    "# | export\n",
    "load_dotenv()\n",
    "\n",
    "BASEDIR = os.getenv(\"BASEDIR\")\n",
    "MODELDIR = os.getenv(\"MODELDIR\")"
   ]
  },
  {
   "cell_type": "code",
   "execution_count": 9,
   "metadata": {},
   "outputs": [
    {
     "data": {
      "text/plain": [
       "(4, 'cpu')"
      ]
     },
     "execution_count": 9,
     "metadata": {},
     "output_type": "execute_result"
    }
   ],
   "source": [
    "num_workers = os.cpu_count()\n",
    "device = \"cuda\" if torch.cuda.is_available() else \"cpu\"\n",
    "num_workers, device"
   ]
  },
  {
   "cell_type": "markdown",
   "metadata": {},
   "source": [
    "Train a VAE with no anomalies in the time series.\n",
    "\n",
    "```--> Anomalies occur at:\n",
    "  timestamp #0: 2014-11-01 19:00:00\n",
    "  timestamp #1: 2014-11-27 15:30:00\n",
    "  timestamp #2: 2014-12-25 15:00:00\n",
    "  timestamp #3: 2015-01-01 01:00:00\n",
    "  timestamp #4: 2015-01-27 00:00:00\n",
    "\n",
    "Original csv file contains (10320,) timestamps.\n",
    "Processed time series contain (10320,) readings.\n",
    "Anomaly indices are [5943, 7184, 8527, 8835, 10081]\n",
    "\n",
    "Training set mean is 14855.115757575757\n",
    "Training set std is 6556.134705703313\n",
    "Anomaly indices in the test set are [2643 3884 5227 5535 6781]```"
   ]
  },
  {
   "cell_type": "code",
   "execution_count": 10,
   "metadata": {},
   "outputs": [
    {
     "name": "stdout",
     "output_type": "stream",
     "text": [
      "t\n",
      "t_unit\n",
      "readings\n",
      "idx_anomaly\n",
      "idx_split\n",
      "training\n",
      "test\n",
      "train_m\n",
      "train_std\n",
      "t_train\n",
      "t_test\n",
      "idx_anomaly_test\n"
     ]
    }
   ],
   "source": [
    "data = np.load(f\"{BASEDIR}/sample_data/nyc_taxi.npz\")\n",
    "for k in data.keys():\n",
    "    print(k)"
   ]
  },
  {
   "cell_type": "code",
   "execution_count": 11,
   "metadata": {},
   "outputs": [
    {
     "data": {
      "text/plain": [
       "(4820,)"
      ]
     },
     "execution_count": 11,
     "metadata": {},
     "output_type": "execute_result"
    }
   ],
   "source": [
    "data[\"test\"].shape"
   ]
  },
  {
   "cell_type": "code",
   "execution_count": 12,
   "metadata": {},
   "outputs": [
    {
     "data": {
      "text/plain": [
       "(-0.030322429151081194, 1.0493333785801708)"
      ]
     },
     "execution_count": 12,
     "metadata": {},
     "output_type": "execute_result"
    }
   ],
   "source": [
    "test_m, test_std = data[\"test\"].mean(), data[\"test\"].std()\n",
    "test_m, test_std"
   ]
  },
  {
   "cell_type": "code",
   "execution_count": 13,
   "metadata": {},
   "outputs": [
    {
     "data": {
      "text/plain": [
       "(2.358648085510706e-17, 0.9999999999999999)"
      ]
     },
     "execution_count": 13,
     "metadata": {},
     "output_type": "execute_result"
    }
   ],
   "source": [
    "data_test_norm = (data[\"test\"] - test_m) / test_std\n",
    "data_test_norm.mean(), data_test_norm.std()"
   ]
  },
  {
   "cell_type": "code",
   "execution_count": 14,
   "metadata": {},
   "outputs": [
    {
     "data": {
      "text/plain": [
       "(-9.818408712321384e-17, 1.0)"
      ]
     },
     "execution_count": 14,
     "metadata": {},
     "output_type": "execute_result"
    }
   ],
   "source": [
    "train_m, train_std = data[\"training\"].mean(), data[\"training\"].std()\n",
    "train_m, train_std"
   ]
  },
  {
   "cell_type": "code",
   "execution_count": 15,
   "metadata": {},
   "outputs": [
    {
     "data": {
      "text/plain": [
       "array([0.53649793, 0.55448895, 0.4132313 , ..., 1.72615445, 1.62523604,\n",
       "       1.58264792])"
      ]
     },
     "execution_count": 15,
     "metadata": {},
     "output_type": "execute_result"
    }
   ],
   "source": [
    "data_test_norm = (data_test_norm * train_std) + train_m\n",
    "data_test_norm"
   ]
  },
  {
   "cell_type": "code",
   "execution_count": 16,
   "metadata": {},
   "outputs": [
    {
     "data": {
      "text/html": [
       "<div>\n",
       "<style scoped>\n",
       "    .dataframe tbody tr th:only-of-type {\n",
       "        vertical-align: middle;\n",
       "    }\n",
       "\n",
       "    .dataframe tbody tr th {\n",
       "        vertical-align: top;\n",
       "    }\n",
       "\n",
       "    .dataframe thead th {\n",
       "        text-align: right;\n",
       "    }\n",
       "</style>\n",
       "<table border=\"1\" class=\"dataframe\">\n",
       "  <thead>\n",
       "    <tr style=\"text-align: right;\">\n",
       "      <th></th>\n",
       "      <th>value</th>\n",
       "    </tr>\n",
       "  </thead>\n",
       "  <tbody>\n",
       "    <tr>\n",
       "      <th>1</th>\n",
       "      <td>0.536498</td>\n",
       "    </tr>\n",
       "    <tr>\n",
       "      <th>2</th>\n",
       "      <td>0.554489</td>\n",
       "    </tr>\n",
       "  </tbody>\n",
       "</table>\n",
       "</div>"
      ],
      "text/plain": [
       "      value\n",
       "1  0.536498\n",
       "2  0.554489"
      ]
     },
     "execution_count": 16,
     "metadata": {},
     "output_type": "execute_result"
    }
   ],
   "source": [
    "df = pd.DataFrame(\n",
    "    data_test_norm,  # data[\"test\"],  # - data[\"train_m\"]) / data[\"train_std\"],\n",
    "    index=data[\"t_test\"],\n",
    "    columns=[\"value\"],\n",
    ")\n",
    "df.head(2)"
   ]
  },
  {
   "cell_type": "markdown",
   "metadata": {},
   "source": [
    "normalize the test data with the means from train"
   ]
  },
  {
   "cell_type": "code",
   "execution_count": 17,
   "metadata": {},
   "outputs": [
    {
     "data": {
      "text/plain": [
       "(value   -4.127634e-17\n",
       " dtype: float64,\n",
       " value    1.000104\n",
       " dtype: float64)"
      ]
     },
     "execution_count": 17,
     "metadata": {},
     "output_type": "execute_result"
    }
   ],
   "source": [
    "df.mean(), df.std()"
   ]
  },
  {
   "cell_type": "code",
   "execution_count": null,
   "metadata": {},
   "outputs": [],
   "source": [
    "p = 48  # so that one window is one day\n",
    "\n",
    "data = [\n",
    "    {\n",
    "        \"subset\": get_window(\n",
    "            df.values,\n",
    "            window_size=p,\n",
    "            end_step=t,\n",
    "            indices=list(df.index),\n",
    "            return_indices=False,\n",
    "        ),\n",
    "        \"end_step\": t,\n",
    "        \"start_step\": t - p,\n",
    "    }\n",
    "    for t in range(\n",
    "        p, len(df), p\n",
    "    )  # take steps every 48 so that we end up with non-overlapping sequences\n",
    "]"
   ]
  },
  {
   "cell_type": "code",
   "execution_count": 18,
   "metadata": {},
   "outputs": [
    {
     "data": {
      "text/plain": [
       "VAE(\n",
       "  (encoder): Encoder(\n",
       "    (flatten): Flatten(start_dim=1, end_dim=-1)\n",
       "    (conv1): Conv2d(1, 32, kernel_size=(3, 1), stride=(2, 1))\n",
       "    (conv2): Conv2d(32, 512, kernel_size=(3, 1), stride=(2, 1))\n",
       "    (linear): Linear(in_features=5632, out_features=512, bias=False)\n",
       "    (linear_mean): Linear(in_features=512, out_features=24, bias=False)\n",
       "    (linear_var): Linear(in_features=512, out_features=24, bias=False)\n",
       "  )\n",
       "  (decoder): Decoder(\n",
       "    (linear): Linear(in_features=24, out_features=512, bias=False)\n",
       "    (dconv1): ConvTranspose2d(512, 128, kernel_size=(4, 1), stride=(1, 1))\n",
       "    (dconv2): ConvTranspose2d(128, 64, kernel_size=(3, 1), stride=(1, 1))\n",
       "    (flatten): Flatten(start_dim=1, end_dim=-1)\n",
       "    (linear_out): Linear(in_features=384, out_features=48, bias=False)\n",
       "  )\n",
       "  (latent_sampler): StochasticSampler()\n",
       ")"
      ]
     },
     "execution_count": 18,
     "metadata": {},
     "output_type": "execute_result"
    }
   ],
   "source": [
    "vae_model_pth = f\"{MODELDIR}/vae_500_z24.pth\"\n",
    "vae_model = torch.load(vae_model_pth, map_location=device)\n",
    "vae_model"
   ]
  },
  {
   "cell_type": "code",
   "execution_count": null,
   "metadata": {},
   "outputs": [],
   "source": [
    "@torch.no_grad()\n",
    "def get_embeddings(x, n_windows=1, latent_dim=32, seq_len=1, sampler_repeat=200):\n",
    "    \"\"\"\n",
    "    _summary_\n",
    "\n",
    "    Parameters\n",
    "    ----------\n",
    "    x : _type_\n",
    "        _description_\n",
    "    n_windows : int, optional\n",
    "        _description_, by default 1\n",
    "    latent_dim : int, optional\n",
    "        _description_, by default 32\n",
    "    seq_len : int, optional\n",
    "        _description_, by default 1\n",
    "    sampler_repeat : int, optional\n",
    "        Number of times to repeatedly sample from the sampler to ensure we have enough variablity in the embedding, by default 10\n",
    "\n",
    "    Returns\n",
    "    -------\n",
    "    _type_\n",
    "        _description_\n",
    "    \"\"\"\n",
    "    # actual_shape = x.shape[0]\n",
    "    vae_model.eval()\n",
    "    x = (\n",
    "        torch.from_numpy(x.astype(np.float32)).view(n_windows, -1, seq_len).to(device)\n",
    "    )  # p, seq -> n_windows, p, seq\n",
    "    embedded_x = torch.zeros(n_windows, latent_dim, seq_len).to(device)\n",
    "    for idx in range(n_windows):\n",
    "        batched_x_window = x[idx].unsqueeze(0)\n",
    "        # print(batched_x_window.shape)\n",
    "        z_mean, z_log_var = vae_model.encoder(batched_x_window)\n",
    "        for _ in range(sampler_repeat):\n",
    "            # explore multiple potential future embeddings by sampling from the latent space multiple times (Monte Carlo sampling).\n",
    "            embedded_x[idx] += (\n",
    "                vae_model.latent_sampler(z_mean, z_log_var).permute(1, 0)\n",
    "                / sampler_repeat\n",
    "            )\n",
    "\n",
    "        # reshape\n",
    "    embedded_x = embedded_x.reshape(latent_dim * n_windows, -1)\n",
    "    return embedded_x"
   ]
  },
  {
   "cell_type": "code",
   "execution_count": null,
   "metadata": {},
   "outputs": [
    {
     "data": {
      "text/plain": [
       "tensor([[ 0.0759],\n",
       "        [ 0.3519],\n",
       "        [ 0.2103],\n",
       "        [-0.1548],\n",
       "        [ 0.2648],\n",
       "        [ 0.3874],\n",
       "        [-0.2806],\n",
       "        [-0.1427],\n",
       "        [-0.2748],\n",
       "        [-0.1985],\n",
       "        [-0.1434],\n",
       "        [ 1.6747],\n",
       "        [-0.0750],\n",
       "        [-0.1031],\n",
       "        [-0.0106],\n",
       "        [-0.4370],\n",
       "        [ 0.7210],\n",
       "        [-0.3520],\n",
       "        [-0.0584],\n",
       "        [ 0.0764],\n",
       "        [-0.0530],\n",
       "        [ 0.0598],\n",
       "        [ 0.4409],\n",
       "        [ 0.2733]], device='cuda:0')"
      ]
     },
     "execution_count": null,
     "metadata": {},
     "output_type": "execute_result"
    }
   ],
   "source": [
    "get_embeddings(data[0][\"subset\"], latent_dim=24, sampler_repeat=20)"
   ]
  },
  {
   "cell_type": "code",
   "execution_count": null,
   "metadata": {},
   "outputs": [],
   "source": [
    "data_embeddings = [\n",
    "    {\n",
    "        \"subset\": get_embeddings(\n",
    "            data[i][\"subset\"], latent_dim=24, n_windows=1, seq_len=1, sampler_repeat=1\n",
    "        ),\n",
    "        \"end_step\": data[i][\"end_step\"],\n",
    "        \"start_step\": data[i][\"start_step\"],\n",
    "    }\n",
    "    for i in range(len(data))\n",
    "]"
   ]
  },
  {
   "cell_type": "markdown",
   "metadata": {},
   "source": [
    "We have now the testing embeddings. Can have already one benchmark with VAE reconstruction. But we now pass this to the LSTM model to predict expected embedding for next window."
   ]
  },
  {
   "cell_type": "code",
   "execution_count": null,
   "metadata": {},
   "outputs": [],
   "source": [
    "from ts_vae_lstm.lstm import LSTMModel"
   ]
  },
  {
   "cell_type": "code",
   "execution_count": null,
   "metadata": {},
   "outputs": [
    {
     "data": {
      "text/plain": [
       "LSTMModel(\n",
       "  (lstm_input): LSTM(24, 128, batch_first=True)\n",
       "  (lstm_hidden): LSTM(128, 128, batch_first=True, bidirectional=True)\n",
       "  (lstm_output): LSTM(256, 24, batch_first=True)\n",
       "  (dropout): Dropout(p=0.5, inplace=False)\n",
       ")"
      ]
     },
     "execution_count": null,
     "metadata": {},
     "output_type": "execute_result"
    }
   ],
   "source": [
    "lstm_model_pth = f\"{MODELDIR}/lstm_200.pth\"\n",
    "lstm_model = torch.load(lstm_model_pth, map_location=device)\n",
    "lstm_model"
   ]
  },
  {
   "cell_type": "code",
   "execution_count": null,
   "metadata": {},
   "outputs": [
    {
     "data": {
      "text/plain": [
       "torch.Size([24, 1])"
      ]
     },
     "execution_count": null,
     "metadata": {},
     "output_type": "execute_result"
    }
   ],
   "source": [
    "data_embeddings[0][\"subset\"].shape"
   ]
  },
  {
   "cell_type": "code",
   "execution_count": null,
   "metadata": {},
   "outputs": [
    {
     "data": {
      "text/plain": [
       "torch.Size([1, 24, 1])"
      ]
     },
     "execution_count": null,
     "metadata": {},
     "output_type": "execute_result"
    }
   ],
   "source": [
    "data_embeddings[0][\"subset\"].unsqueeze(0).shape"
   ]
  },
  {
   "cell_type": "code",
   "execution_count": null,
   "metadata": {},
   "outputs": [],
   "source": [
    "@torch.no_grad()\n",
    "def predict_next_embeddings(data, device=\"cpu\", batch_size=1, latent_dim=24, seq_len=1):\n",
    "    lstm_model.eval()\n",
    "    data = data.view(batch_size, latent_dim, seq_len).to(device)\n",
    "    embeddings = lstm_model(data)\n",
    "    return embeddings"
   ]
  },
  {
   "cell_type": "code",
   "execution_count": null,
   "metadata": {},
   "outputs": [],
   "source": [
    "x_emb = data_embeddings[0][\"subset\"].unsqueeze(0)\n",
    "next_x_emb = predict_next_embeddings(x_emb, device=device, latent_dim=24, seq_len=1)"
   ]
  },
  {
   "cell_type": "code",
   "execution_count": null,
   "metadata": {},
   "outputs": [
    {
     "data": {
      "text/plain": [
       "(48, torch.Size([1, 24, 1]))"
      ]
     },
     "execution_count": null,
     "metadata": {},
     "output_type": "execute_result"
    }
   ],
   "source": [
    "p, next_x_emb.shape"
   ]
  },
  {
   "cell_type": "code",
   "execution_count": null,
   "metadata": {},
   "outputs": [],
   "source": [
    "predicted_embeddings = [\n",
    "    {\n",
    "        \"prev_subset\": data_embeddings[i][\"subset\"],\n",
    "        \"next_subset\": predict_next_embeddings(\n",
    "            data_embeddings[i][\"subset\"].unsqueeze(0),\n",
    "            device=device,\n",
    "            latent_dim=24,\n",
    "            seq_len=1,\n",
    "        ),\n",
    "        # since we predict for the fututure\n",
    "        \"start_step\": data_embeddings[i][\"start_step\"] + p,\n",
    "        \"end_step\": data_embeddings[i][\"end_step\"] + p,\n",
    "    }\n",
    "    for i in range(len(data_embeddings))\n",
    "]"
   ]
  },
  {
   "cell_type": "code",
   "execution_count": null,
   "metadata": {},
   "outputs": [
    {
     "data": {
      "text/plain": [
       "dict_keys(['prev_subset', 'next_subset', 'start_step', 'end_step'])"
      ]
     },
     "execution_count": null,
     "metadata": {},
     "output_type": "execute_result"
    }
   ],
   "source": [
    "predicted_embeddings[0].keys()"
   ]
  },
  {
   "cell_type": "code",
   "execution_count": null,
   "metadata": {},
   "outputs": [],
   "source": [
    "@torch.no_grad()\n",
    "def decode_embeddings(data, device=\"cpu\", batch_size=1, latent_dim=24):\n",
    "    vae_model.eval()\n",
    "    data = data.view(batch_size, latent_dim).to(device)\n",
    "    ts = vae_model.decoder.to(device)(data)\n",
    "    return ts.cpu().squeeze(0).numpy()"
   ]
  },
  {
   "cell_type": "code",
   "execution_count": null,
   "metadata": {},
   "outputs": [
    {
     "data": {
      "text/plain": [
       "(48, 1)"
      ]
     },
     "execution_count": null,
     "metadata": {},
     "output_type": "execute_result"
    }
   ],
   "source": [
    "next_x_ts = decode_embeddings(predicted_embeddings[0][\"next_subset\"])\n",
    "next_x_ts.shape"
   ]
  },
  {
   "cell_type": "code",
   "execution_count": null,
   "metadata": {},
   "outputs": [],
   "source": [
    "predicted_ts = [\n",
    "    {\n",
    "        \"prev_subset\": decode_embeddings(\n",
    "            predicted_embeddings[i][\"prev_subset\"],\n",
    "            device=device,\n",
    "            latent_dim=24,\n",
    "        ),\n",
    "        \"next_subset\": decode_embeddings(\n",
    "            predicted_embeddings[i][\"next_subset\"],\n",
    "            device=device,\n",
    "            latent_dim=24,\n",
    "        ),\n",
    "        # since we predict for the fututure\n",
    "        \"start_step\": predicted_embeddings[i][\"start_step\"],\n",
    "        \"end_step\": predicted_embeddings[i][\"end_step\"],\n",
    "    }\n",
    "    for i in range(len(predicted_embeddings))\n",
    "]"
   ]
  },
  {
   "cell_type": "code",
   "execution_count": null,
   "metadata": {},
   "outputs": [
    {
     "data": {
      "text/plain": [
       "(48, 1)"
      ]
     },
     "execution_count": null,
     "metadata": {},
     "output_type": "execute_result"
    }
   ],
   "source": [
    "data[0][\"subset\"].shape  # actual data"
   ]
  },
  {
   "cell_type": "code",
   "execution_count": null,
   "metadata": {},
   "outputs": [
    {
     "data": {
      "text/plain": [
       "(48, 1)"
      ]
     },
     "execution_count": null,
     "metadata": {},
     "output_type": "execute_result"
    }
   ],
   "source": [
    "predicted_ts[0][\"prev_subset\"].shape  # decoded by vae_model.decoder"
   ]
  },
  {
   "cell_type": "code",
   "execution_count": null,
   "metadata": {},
   "outputs": [
    {
     "data": {
      "text/plain": [
       "(48, 1)"
      ]
     },
     "execution_count": null,
     "metadata": {},
     "output_type": "execute_result"
    }
   ],
   "source": [
    "data[1][\"subset\"].shape  # actual next subset"
   ]
  },
  {
   "cell_type": "code",
   "execution_count": null,
   "metadata": {},
   "outputs": [
    {
     "data": {
      "text/plain": [
       "(48, 1)"
      ]
     },
     "execution_count": null,
     "metadata": {},
     "output_type": "execute_result"
    }
   ],
   "source": [
    "predicted_ts[0][\"next_subset\"].shape  # predicted next subset"
   ]
  },
  {
   "cell_type": "code",
   "execution_count": null,
   "metadata": {},
   "outputs": [
    {
     "data": {
      "text/plain": [
       "<Axes: >"
      ]
     },
     "execution_count": null,
     "metadata": {},
     "output_type": "execute_result"
    },
    {
     "data": {
      "image/png": "[encoded data removed]",
      "text/plain": [
       "<Figure size 640x480 with 1 Axes>"
      ]
     },
     "metadata": {},
     "output_type": "display_data"
    }
   ],
   "source": [
    "idx = 11\n",
    "sns.lineplot(\n",
    "    np.concatenate([data[idx][\"subset\"], data[idx + 1][\"subset\"]], axis=0),\n",
    "    alpha=0.3,\n",
    "    linestyle=\"--\",\n",
    ")\n",
    "\n",
    "sns.lineplot(\n",
    "    np.concatenate(\n",
    "        [\n",
    "            predicted_ts[idx][\"prev_subset\"].flatten(),\n",
    "            predicted_ts[idx][\"next_subset\"].flatten(),\n",
    "        ]\n",
    "    )\n",
    ")\n",
    "# mse_val = F.mse_loss(pred_ts_values, pred_ts_values_true)\n",
    "# plt.title(f\"MSE = {mse_val:.4f}\")"
   ]
  },
  {
   "cell_type": "code",
   "execution_count": null,
   "metadata": {},
   "outputs": [],
   "source": []
  },
  {
   "cell_type": "code",
   "execution_count": null,
   "metadata": {},
   "outputs": [],
   "source": []
  },
  {
   "cell_type": "code",
   "execution_count": null,
   "metadata": {},
   "outputs": [],
   "source": []
  },
  {
   "cell_type": "code",
   "execution_count": null,
   "metadata": {},
   "outputs": [],
   "source": []
  },
  {
   "cell_type": "code",
   "execution_count": null,
   "metadata": {},
   "outputs": [],
   "source": [
    "# | hide\n",
    "import nbdev\n",
    "\n",
    "nbdev.nbdev_export()"
   ]
  },
  {
   "cell_type": "code",
   "execution_count": null,
   "metadata": {},
   "outputs": [],
   "source": []
  }
 ],
 "metadata": {
  "kernelspec": {
   "display_name": "ts_vae-lstm",
   "language": "python",
   "name": "ts_vae-lstm"
  },
  "language_info": {
   "codemirror_mode": {
    "name": "ipython",
    "version": 3
   },
   "file_extension": ".py",
   "mimetype": "text/x-python",
   "name": "python",
   "nbconvert_exporter": "python",
   "pygments_lexer": "ipython3",
   "version": "3.9.18"
  }
 },
 "nbformat": 4,
 "nbformat_minor": 4
}
