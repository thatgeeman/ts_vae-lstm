{
 "cells": [
  {
   "cell_type": "markdown",
   "metadata": {},
   "source": [
    "# core\n",
    "\n",
    "> Fill in a module description here"
   ]
  },
  {
   "cell_type": "code",
   "execution_count": 1,
   "metadata": {},
   "outputs": [],
   "source": [
    "# | default_exp vae\n"
   ]
  },
  {
   "cell_type": "code",
   "execution_count": 2,
   "metadata": {},
   "outputs": [],
   "source": [
    "# | hide\n",
    "from nbdev.showdoc import *\n"
   ]
  },
  {
   "cell_type": "code",
   "execution_count": 3,
   "metadata": {},
   "outputs": [],
   "source": [
    "# | export\n",
    "import pandas as pd\n",
    "import numpy as np\n",
    "import matplotlib.pyplot as plt\n",
    "import seaborn as sns\n",
    "from datetime import datetime as dt\n",
    "from ts_vae_lstm.concepts import get_window\n",
    "from scipy import signal\n",
    "import os\n",
    "import math\n"
   ]
  },
  {
   "cell_type": "code",
   "execution_count": 4,
   "metadata": {},
   "outputs": [
    {
     "data": {
      "text/plain": [
       "4"
      ]
     },
     "execution_count": 4,
     "metadata": {},
     "output_type": "execute_result"
    }
   ],
   "source": [
    "# | export\n",
    "\n",
    "num_workers = os.cpu_count()\n",
    "num_workers\n"
   ]
  },
  {
   "cell_type": "markdown",
   "metadata": {},
   "source": [
    "Train a VAE with no anomalies in the time series.\n",
    "\n",
    "```--> Anomalies occur at:\n",
    "  timestamp #0: 2014-11-01 19:00:00\n",
    "  timestamp #1: 2014-11-27 15:30:00\n",
    "  timestamp #2: 2014-12-25 15:00:00\n",
    "  timestamp #3: 2015-01-01 01:00:00\n",
    "  timestamp #4: 2015-01-27 00:00:00\n",
    "\n",
    "Original csv file contains (10320,) timestamps.\n",
    "Processed time series contain (10320,) readings.\n",
    "Anomaly indices are [5943, 7184, 8527, 8835, 10081]\n",
    "\n",
    "Training set mean is 14855.115757575757\n",
    "Training set std is 6556.134705703313\n",
    "Anomaly indices in the test set are [2643 3884 5227 5535 6781]```"
   ]
  },
  {
   "cell_type": "code",
   "execution_count": 5,
   "metadata": {},
   "outputs": [
    {
     "name": "stdout",
     "output_type": "stream",
     "text": [
      "t\n",
      "t_unit\n",
      "readings\n",
      "idx_anomaly\n",
      "idx_split\n",
      "training\n",
      "test\n",
      "train_m\n",
      "train_std\n",
      "t_train\n",
      "t_test\n",
      "idx_anomaly_test\n"
     ]
    }
   ],
   "source": [
    "# | export\n",
    "\n",
    "data = np.load(\"../sample_data/nyc_taxi.npz\")\n",
    "for k in data.keys():\n",
    "    print(k)\n"
   ]
  },
  {
   "cell_type": "markdown",
   "metadata": {},
   "source": [
    "# NYC Taxi dataset:\n",
    "- Data is in npz format, ie compressed numpy\n",
    "- The entries are per 30 minutures\n",
    "- Therefore, 1 hour is 2 entries, 24hrs is 48 entries"
   ]
  },
  {
   "cell_type": "code",
   "execution_count": 6,
   "metadata": {},
   "outputs": [
    {
     "data": {
      "text/plain": [
       "NpzFile '../sample_data/nyc_taxi.npz' with keys: t, t_unit, readings, idx_anomaly, idx_split..."
      ]
     },
     "execution_count": 6,
     "metadata": {},
     "output_type": "execute_result"
    }
   ],
   "source": [
    "data\n"
   ]
  },
  {
   "cell_type": "code",
   "execution_count": 7,
   "metadata": {},
   "outputs": [
    {
     "data": {
      "text/plain": [
       "array([    1,     2,     3, ..., 10318, 10319, 10320])"
      ]
     },
     "execution_count": 7,
     "metadata": {},
     "output_type": "execute_result"
    }
   ],
   "source": [
    "# read the key 't' from data\n",
    "data[\"t\"]\n"
   ]
  },
  {
   "cell_type": "code",
   "execution_count": 8,
   "metadata": {},
   "outputs": [
    {
     "data": {
      "text/plain": [
       "(array('30 min', dtype='<U6'),\n",
       " array([10844.,  8127.,  6210., ..., 27309., 26591., 26288.]),\n",
       " array([ 5943,  7184,  8527,  8835, 10081]),\n",
       " array([   0, 5500]),\n",
       " array([ 443, 1684, 3027, 3335, 4581]))"
      ]
     },
     "execution_count": 8,
     "metadata": {},
     "output_type": "execute_result"
    }
   ],
   "source": [
    "(\n",
    "    data[\"t_unit\"],\n",
    "    data[\"readings\"],  # what is this referring to?\n",
    "    data[\"idx_anomaly\"],\n",
    "    data[\"idx_split\"],\n",
    "    data[\"idx_anomaly_test\"],\n",
    ")\n"
   ]
  },
  {
   "cell_type": "markdown",
   "metadata": {},
   "source": [
    "As anomaly begins at 5943 index, the points upto 5500 are taken as training and everything after is test."
   ]
  },
  {
   "cell_type": "code",
   "execution_count": 9,
   "metadata": {},
   "outputs": [
    {
     "data": {
      "text/plain": [
       "(array([   1,    2,    3, ..., 5498, 5499, 5500]),\n",
       " array([   1,    2,    3, ..., 4818, 4819, 4820]))"
      ]
     },
     "execution_count": 9,
     "metadata": {},
     "output_type": "execute_result"
    }
   ],
   "source": [
    "data[\"t_train\"], data[\"t_test\"]\n"
   ]
  },
  {
   "cell_type": "code",
   "execution_count": 10,
   "metadata": {},
   "outputs": [
    {
     "data": {
      "text/plain": [
       "(5500,)"
      ]
     },
     "execution_count": 10,
     "metadata": {},
     "output_type": "execute_result"
    }
   ],
   "source": [
    "data[\"training\"].shape\n"
   ]
  },
  {
   "cell_type": "code",
   "execution_count": 11,
   "metadata": {},
   "outputs": [
    {
     "data": {
      "text/html": [
       "<div>\n",
       "<style scoped>\n",
       "    .dataframe tbody tr th:only-of-type {\n",
       "        vertical-align: middle;\n",
       "    }\n",
       "\n",
       "    .dataframe tbody tr th {\n",
       "        vertical-align: top;\n",
       "    }\n",
       "\n",
       "    .dataframe thead th {\n",
       "        text-align: right;\n",
       "    }\n",
       "</style>\n",
       "<table border=\"1\" class=\"dataframe\">\n",
       "  <thead>\n",
       "    <tr style=\"text-align: right;\">\n",
       "      <th></th>\n",
       "      <th>value</th>\n",
       "    </tr>\n",
       "  </thead>\n",
       "  <tbody>\n",
       "    <tr>\n",
       "      <th>1</th>\n",
       "      <td>-0.647416</td>\n",
       "    </tr>\n",
       "    <tr>\n",
       "      <th>2</th>\n",
       "      <td>-1.048144</td>\n",
       "    </tr>\n",
       "  </tbody>\n",
       "</table>\n",
       "</div>"
      ],
      "text/plain": [
       "      value\n",
       "1 -0.647416\n",
       "2 -1.048144"
      ]
     },
     "execution_count": 11,
     "metadata": {},
     "output_type": "execute_result"
    }
   ],
   "source": [
    "# | export\n",
    "df = pd.DataFrame(data[\"training\"], index=data[\"t_train\"], columns=[\"value\"])\n",
    "df.head(2)\n"
   ]
  },
  {
   "cell_type": "code",
   "execution_count": 12,
   "metadata": {},
   "outputs": [
    {
     "data": {
      "text/plain": [
       "<Axes: xlabel='index', ylabel='value'>"
      ]
     },
     "execution_count": 12,
     "metadata": {},
     "output_type": "execute_result"
    },
    {
     "data": {
      "image/png": "[encoded data removed]",
      "text/plain": [
       "<Figure size 640x480 with 1 Axes>"
      ]
     },
     "metadata": {},
     "output_type": "display_data"
    }
   ],
   "source": [
    "start_step = 0\n",
    "p = 48  # for one full day\n",
    "n_windows = 3\n",
    "sns.lineplot(\n",
    "    data=df.reset_index().iloc[start_step : 1 + start_step + (p * n_windows)],\n",
    "    x=\"index\",  # possible since we reset_index to add \"index\" column\n",
    "    y=\"value\",\n",
    ")\n"
   ]
  },
  {
   "cell_type": "markdown",
   "metadata": {},
   "source": [
    "Looks like this is already standardized and nicely distributed with some periodic behaviors."
   ]
  },
  {
   "cell_type": "markdown",
   "metadata": {},
   "source": [
    "# Gather data into structure"
   ]
  },
  {
   "cell_type": "code",
   "execution_count": 13,
   "metadata": {},
   "outputs": [
    {
     "data": {
      "text/html": [
       "<div>\n",
       "<style scoped>\n",
       "    .dataframe tbody tr th:only-of-type {\n",
       "        vertical-align: middle;\n",
       "    }\n",
       "\n",
       "    .dataframe tbody tr th {\n",
       "        vertical-align: top;\n",
       "    }\n",
       "\n",
       "    .dataframe thead th {\n",
       "        text-align: right;\n",
       "    }\n",
       "</style>\n",
       "<table border=\"1\" class=\"dataframe\">\n",
       "  <thead>\n",
       "    <tr style=\"text-align: right;\">\n",
       "      <th></th>\n",
       "      <th>value</th>\n",
       "    </tr>\n",
       "  </thead>\n",
       "  <tbody>\n",
       "    <tr>\n",
       "      <th>1</th>\n",
       "      <td>-0.647416</td>\n",
       "    </tr>\n",
       "    <tr>\n",
       "      <th>2</th>\n",
       "      <td>-1.048144</td>\n",
       "    </tr>\n",
       "  </tbody>\n",
       "</table>\n",
       "</div>"
      ],
      "text/plain": [
       "      value\n",
       "1 -0.647416\n",
       "2 -1.048144"
      ]
     },
     "execution_count": 13,
     "metadata": {},
     "output_type": "execute_result"
    }
   ],
   "source": [
    "a = df.head(10)\n",
    "a.iloc[:2]\n"
   ]
  },
  {
   "cell_type": "code",
   "execution_count": 64,
   "metadata": {},
   "outputs": [
    {
     "data": {
      "text/plain": [
       "(5452, [48, 49, 50], [5497, 5498, 5499])"
      ]
     },
     "execution_count": 64,
     "metadata": {},
     "output_type": "execute_result"
    }
   ],
   "source": [
    "# | export\n",
    "p = 48  # past sequences at time t. 48 steps = a day\n",
    "end_steps = [es for es in range(p, len(df), 1)]\n",
    "# step is one since we want overlapping windows for VAE training\n",
    "len(end_steps), end_steps[:3], end_steps[-3:]"
   ]
  },
  {
   "cell_type": "code",
   "execution_count": 65,
   "metadata": {},
   "outputs": [],
   "source": [
    "# | export\n",
    "\n",
    "data_windowed = [\n",
    "    {\n",
    "        \"subset\": get_window(\n",
    "            df.values,\n",
    "            window_size=p,\n",
    "            end_step=t,\n",
    "            indices=list(df.index),\n",
    "            return_indices=False,\n",
    "        ),\n",
    "        \"end_step\": t,  # the time we want to predict for. For vae, we reconstruct the window.\n",
    "        \"start_step\": t - p,\n",
    "    }\n",
    "    for t in end_steps\n",
    "]"
   ]
  },
  {
   "cell_type": "code",
   "execution_count": 66,
   "metadata": {},
   "outputs": [
    {
     "data": {
      "text/plain": [
       "(5452,\n",
       " {'subset': array([[-1.04814359],\n",
       "         [-1.33087987],\n",
       "         [-1.56007767],\n",
       "         [-1.68337841],\n",
       "         [-1.82305043],\n",
       "         [-1.89738485],\n",
       "         [-1.94236897],\n",
       "         [-1.91921321],\n",
       "         [-1.92850501],\n",
       "         [-1.87585146],\n",
       "         [-1.60314443],\n",
       "         [-1.28427337],\n",
       "         [-0.61865583],\n",
       "         [-0.20303203],\n",
       "         [ 0.09312574],\n",
       "         [ 0.39621549],\n",
       "         [ 0.75402364],\n",
       "         [ 0.63500007],\n",
       "         [ 0.71877378],\n",
       "         [ 0.55314371],\n",
       "         [ 0.36671771],\n",
       "         [ 0.29725042],\n",
       "         [ 0.47630198],\n",
       "         [ 0.54193456],\n",
       "         [ 0.5386898 ],\n",
       "         [ 0.43426764],\n",
       "         [ 0.62320096],\n",
       "         [ 0.63603249],\n",
       "         [ 0.79015842],\n",
       "         [ 0.61154933],\n",
       "         [ 0.48824859],\n",
       "         [ 0.14666422],\n",
       "         [-0.03253482],\n",
       "         [ 0.29046593],\n",
       "         [ 0.63293523],\n",
       "         [ 1.14044463],\n",
       "         [ 1.82361335],\n",
       "         [ 1.70989939],\n",
       "         [ 1.42627818],\n",
       "         [ 1.12702314],\n",
       "         [ 0.76110311],\n",
       "         [ 1.20460232],\n",
       "         [ 1.35769582],\n",
       "         [ 1.19236073],\n",
       "         [ 0.95859078],\n",
       "         [ 0.71833132],\n",
       "         [ 0.12940802],\n",
       "         [-0.27485914]]),\n",
       "  'end_step': 48,\n",
       "  'start_step': 0})"
      ]
     },
     "execution_count": 66,
     "metadata": {},
     "output_type": "execute_result"
    }
   ],
   "source": [
    "len(data_windowed), data_windowed[0]"
   ]
  },
  {
   "cell_type": "markdown",
   "metadata": {},
   "source": [
    "Preseve 10% of the dataset from this for validation set."
   ]
  },
  {
   "cell_type": "code",
   "execution_count": 67,
   "metadata": {},
   "outputs": [
    {
     "data": {
      "text/plain": [
       "(1090, 4362)"
      ]
     },
     "execution_count": 67,
     "metadata": {},
     "output_type": "execute_result"
    }
   ],
   "source": [
    "# | export\n",
    "split_ratio = 0.2\n",
    "val_data_idxs = np.random.choice(\n",
    "    range(len(data_windowed)), size=int(split_ratio * len(data_windowed)), replace=False\n",
    ")\n",
    "trn_data_idxs = [idx for idx in range(len(data_windowed)) if idx not in val_data_idxs]\n",
    "len(val_data_idxs), len(trn_data_idxs)"
   ]
  },
  {
   "cell_type": "code",
   "execution_count": 68,
   "metadata": {},
   "outputs": [],
   "source": [
    "# | export\n",
    "\n",
    "from torch import nn\n",
    "import torch.nn.functional as F\n",
    "import torch\n",
    "from torch.utils.data import Dataset, DataLoader\n",
    "from sklearn.metrics import roc_auc_score, accuracy_score"
   ]
  },
  {
   "cell_type": "code",
   "execution_count": 69,
   "metadata": {},
   "outputs": [],
   "source": [
    "# | export\n",
    "\n",
    "val_data = [data_windowed[idx] for idx in val_data_idxs]\n",
    "trn_data = [data_windowed[idx] for idx in trn_data_idxs]"
   ]
  },
  {
   "cell_type": "markdown",
   "metadata": {},
   "source": [
    "Calculate stats over training data."
   ]
  },
  {
   "cell_type": "code",
   "execution_count": 70,
   "metadata": {},
   "outputs": [
    {
     "data": {
      "text/plain": [
       "(48, 1)"
      ]
     },
     "execution_count": 70,
     "metadata": {},
     "output_type": "execute_result"
    }
   ],
   "source": [
    "trn_data[0][\"subset\"].shape"
   ]
  },
  {
   "cell_type": "code",
   "execution_count": 71,
   "metadata": {},
   "outputs": [
    {
     "data": {
      "text/plain": [
       "1"
      ]
     },
     "execution_count": 71,
     "metadata": {},
     "output_type": "execute_result"
    }
   ],
   "source": [
    "# | export\n",
    "\n",
    "n_features = trn_data[0][\"subset\"].shape[1]  # - 1\n",
    "n_features"
   ]
  },
  {
   "cell_type": "code",
   "execution_count": null,
   "metadata": {},
   "outputs": [],
   "source": []
  },
  {
   "cell_type": "code",
   "execution_count": 72,
   "metadata": {},
   "outputs": [
    {
     "data": {
      "text/plain": [
       "(array([0.]), array([0.]))"
      ]
     },
     "execution_count": 72,
     "metadata": {},
     "output_type": "execute_result"
    }
   ],
   "source": [
    "# | export\n",
    "\n",
    "means = np.zeros((len(trn_data), n_features))  # ((len(trn_data), 4))\n",
    "stds = np.zeros((len(trn_data), n_features))  # ((len(trn_data), 4))\n",
    "slice_from = n_features - 1\n",
    "\"\"\"\n",
    "for i, _trn_data in enumerate(trn_data):\n",
    "    means[i] = (np.mean(_trn_data[\"subset\"][:, slice_from:], axis=0)).astype(np.float32)\n",
    "    stds[i] = (np.var(_trn_data[\"subset\"][:, slice_from:], axis=0) ** 0.5).astype(\n",
    "        np.float32\n",
    "    )\n",
    "\"\"\"\n",
    "means = means.mean(0)\n",
    "stds = stds.mean(0)\n",
    "\n",
    "means, stds"
   ]
  },
  {
   "cell_type": "markdown",
   "metadata": {},
   "source": [
    "only first feature is numeric, so remove mean and std from the rest."
   ]
  },
  {
   "cell_type": "code",
   "execution_count": 73,
   "metadata": {},
   "outputs": [
    {
     "data": {
      "text/plain": [
       "(array([0.]), array([1.]))"
      ]
     },
     "execution_count": 73,
     "metadata": {},
     "output_type": "execute_result"
    }
   ],
   "source": [
    "means[slice_from:] = 0\n",
    "stds[slice_from:] = 1\n",
    "means, stds"
   ]
  },
  {
   "cell_type": "code",
   "execution_count": 74,
   "metadata": {},
   "outputs": [],
   "source": [
    "# | export\n",
    "\n",
    "\n",
    "class TSDataset(Dataset):\n",
    "    def __init__(self, data, mean, std):\n",
    "        self.data = data\n",
    "        self.mean = mean\n",
    "        self.std = std\n",
    "\n",
    "    def __getitem__(self, idx):\n",
    "        # output[channel] = (input[channel] - mean[channel]) / std[channel]\n",
    "        # ignore the timestamp column\n",
    "        x = self.data[idx][\"subset\"][:, slice_from:]  # 1024, 4\n",
    "        normed_X = ((x - self.mean) / (self.std + 1e-8)).astype(np.float32)\n",
    "        return torch.as_tensor(normed_X)\n",
    "\n",
    "    def __len__(self):\n",
    "        return len(self.data)"
   ]
  },
  {
   "cell_type": "code",
   "execution_count": 75,
   "metadata": {},
   "outputs": [],
   "source": [
    "# | export\n",
    "\n",
    "dset_trn = TSDataset(trn_data, mean=means, std=stds)\n",
    "dset_val = TSDataset(val_data, mean=means, std=stds)\n",
    "# use same stats from training data"
   ]
  },
  {
   "cell_type": "code",
   "execution_count": 76,
   "metadata": {},
   "outputs": [
    {
     "data": {
      "text/plain": [
       "torch.Size([48, 1])"
      ]
     },
     "execution_count": 76,
     "metadata": {},
     "output_type": "execute_result"
    }
   ],
   "source": [
    "dset_trn[0].shape"
   ]
  },
  {
   "cell_type": "code",
   "execution_count": 77,
   "metadata": {},
   "outputs": [
    {
     "data": {
      "text/plain": [
       "4362"
      ]
     },
     "execution_count": 77,
     "metadata": {},
     "output_type": "execute_result"
    }
   ],
   "source": [
    "len(dset_trn)"
   ]
  },
  {
   "cell_type": "code",
   "execution_count": 78,
   "metadata": {},
   "outputs": [],
   "source": [
    "# | export\n",
    "\n",
    "batch_size = 8"
   ]
  },
  {
   "cell_type": "code",
   "execution_count": 79,
   "metadata": {},
   "outputs": [],
   "source": [
    "# | export\n",
    "\n",
    "dl_trn = DataLoader(\n",
    "    dataset=dset_trn,\n",
    "    batch_size=batch_size,\n",
    "    drop_last=True,\n",
    "    shuffle=True,\n",
    "    num_workers=num_workers,\n",
    ")\n",
    "dl_val = DataLoader(\n",
    "    dataset=dset_val,\n",
    "    batch_size=batch_size,\n",
    "    drop_last=True,\n",
    "    shuffle=False,\n",
    "    num_workers=num_workers,\n",
    ")"
   ]
  },
  {
   "cell_type": "code",
   "execution_count": 80,
   "metadata": {},
   "outputs": [
    {
     "data": {
      "text/plain": [
       "torch.Size([8, 48, 1])"
      ]
     },
     "execution_count": 80,
     "metadata": {},
     "output_type": "execute_result"
    }
   ],
   "source": [
    "xs = next(iter(dl_trn))\n",
    "xs.shape"
   ]
  },
  {
   "cell_type": "code",
   "execution_count": 81,
   "metadata": {},
   "outputs": [
    {
     "data": {
      "text/plain": [
       "torch.Size([8, 48, 1])"
      ]
     },
     "execution_count": 81,
     "metadata": {},
     "output_type": "execute_result"
    }
   ],
   "source": [
    "xs.shape"
   ]
  },
  {
   "cell_type": "code",
   "execution_count": 82,
   "metadata": {},
   "outputs": [
    {
     "data": {
      "text/plain": [
       "(torch.Size([8, 32, 23, 1]), torch.Size([8, 512, 11, 1]))"
      ]
     },
     "execution_count": 82,
     "metadata": {},
     "output_type": "execute_result"
    }
   ],
   "source": [
    "num_hidden_units = 512\n",
    "kernel_size = (3, 1)\n",
    "stride = (2, 1)\n",
    "xs_c1 = nn.Conv2d(\n",
    "    in_channels=1,\n",
    "    out_channels=num_hidden_units // 16,\n",
    "    kernel_size=kernel_size,\n",
    "    stride=stride,\n",
    ")(xs.unsqueeze(1))\n",
    "xs_c2 = nn.Conv2d(\n",
    "    in_channels=num_hidden_units // 16,\n",
    "    out_channels=num_hidden_units,\n",
    "    kernel_size=kernel_size,\n",
    "    stride=stride,\n",
    ")(xs_c1)\n",
    "xs_c1.shape, xs_c2.shape  # , xs_c3.shape, xs_c4.shape"
   ]
  },
  {
   "cell_type": "code",
   "execution_count": null,
   "metadata": {},
   "outputs": [],
   "source": []
  },
  {
   "cell_type": "code",
   "execution_count": 83,
   "metadata": {},
   "outputs": [],
   "source": [
    "# | export\n",
    "\n",
    "# encoder\n",
    "# l_win to 24, the model would consider each 24-hour period as one sequence.\n",
    "# pad: if your array is [1, 2, 3] and you symmetrically pad it with 1 unit, the result would be [2, 1, 2, 3, 2].\n",
    "# xavier_initializer()\n",
    "# conv 1: num_hidden_units / 16\n",
    "# conv 2: num_hidden_units / 8\n",
    "# conv 3: num_hidden_units / 4\n",
    "# conv 4: num_hidden_units / 1, kernel = 4, 1\n",
    "# padding : same\n",
    "\n",
    "\n",
    "class Encoder(nn.Module):\n",
    "    def __init__(\n",
    "        self,\n",
    "        latent_dim=20,\n",
    "        num_hidden_units=512,\n",
    "        kernel_size=(3, 1),\n",
    "        stride=(2, 1),\n",
    "        act=F.mish,\n",
    "    ):\n",
    "        super().__init__()\n",
    "        self.flatten = nn.Flatten()\n",
    "        self.conv1 = nn.Conv2d(\n",
    "            in_channels=1,\n",
    "            out_channels=num_hidden_units // 16,\n",
    "            kernel_size=kernel_size,\n",
    "            stride=stride,\n",
    "        )\n",
    "        self.conv2 = nn.Conv2d(\n",
    "            in_channels=num_hidden_units // 16,\n",
    "            out_channels=num_hidden_units,\n",
    "            kernel_size=kernel_size,\n",
    "            stride=stride,\n",
    "        )\n",
    "        \"\"\"self.conv3 = nn.Conv2d(\n",
    "            in_channels=num_hidden_units // 8,\n",
    "            out_channels=num_hidden_units // 4,\n",
    "            kernel_size=kernel_size,\n",
    "            stride=stride,\n",
    "        )\n",
    "        self.conv4 = nn.Conv2d(\n",
    "            in_channels=num_hidden_units // 4,\n",
    "            out_channels=num_hidden_units,\n",
    "            kernel_size=(4, 1),\n",
    "            stride=stride,\n",
    "        )\"\"\"\n",
    "        self.linear = nn.LazyLinear(\n",
    "            # in_features=num_hidden_units,\n",
    "            out_features=num_hidden_units,\n",
    "            bias=False,\n",
    "        )\n",
    "        self.linear_mean = nn.LazyLinear(\n",
    "            # in_features=num_hidden_units,\n",
    "            out_features=latent_dim,\n",
    "            bias=False,\n",
    "        )\n",
    "        self.linear_var = nn.LazyLinear(\n",
    "            # in_features=num_hidden_units,\n",
    "            out_features=latent_dim,\n",
    "            bias=False,\n",
    "        )\n",
    "        self.act = act\n",
    "        self.init_weights()\n",
    "\n",
    "    def forward(self, x):\n",
    "        x = x.unsqueeze(1)  # 100, 1, 48, 1\n",
    "        x = self.act(self.conv1(x))  # 100, 32, 23, 1\n",
    "        x = self.act(self.conv2(x))  # 100, 64, 11, 1\n",
    "        # x = self.act(self.conv3(x))  # 100, 128, 5, 1\n",
    "        # x = self.act(self.conv4(x))  # 100, 512, 1, 1\n",
    "        x = self.flatten(x)  # 100, 512\n",
    "        x = self.act(self.linear(x))  # 100, 512\n",
    "        z_mean = self.linear_mean(x)\n",
    "        z_log_var = self.linear_var(x)\n",
    "        return z_mean, z_log_var\n",
    "\n",
    "    def init_weights(self):\n",
    "        for m in self.modules():\n",
    "            \"\"\"\n",
    "            if isinstance(m, nn.LazyLinear):\n",
    "                torch.nn.init.xavier_normal_(m.weight)\n",
    "                m.bias.data.fill_(0)\n",
    "            \"\"\"\n",
    "            if isinstance(m, nn.Conv2d):\n",
    "                torch.nn.init.xavier_normal_(m.weight)\n",
    "                m.bias.data.fill_(0)"
   ]
  },
  {
   "cell_type": "code",
   "execution_count": 84,
   "metadata": {},
   "outputs": [
    {
     "name": "stderr",
     "output_type": "stream",
     "text": [
      "/mnt/data2/ts_vae-lstm/.venv/lib/python3.9/site-packages/torch/nn/modules/lazy.py:180: UserWarning: Lazy modules are a new feature under heavy development so changes to the API or functionality can happen at any moment.\n",
      "  warnings.warn('Lazy modules are a new feature under heavy development '\n"
     ]
    },
    {
     "data": {
      "text/plain": [
       "(torch.Size([8, 20]), torch.Size([8, 20]))"
      ]
     },
     "execution_count": 84,
     "metadata": {},
     "output_type": "execute_result"
    }
   ],
   "source": [
    "emb_mean, emb_var = Encoder(latent_dim=20)(xs)\n",
    "emb_mean.shape, emb_var.shape"
   ]
  },
  {
   "cell_type": "code",
   "execution_count": 85,
   "metadata": {},
   "outputs": [
    {
     "data": {
      "text/plain": [
       "(tensor(0.0011, grad_fn=<MeanBackward0>),\n",
       " tensor(4.6495e-05, grad_fn=<MeanBackward0>))"
      ]
     },
     "execution_count": 85,
     "metadata": {},
     "output_type": "execute_result"
    }
   ],
   "source": [
    "emb_mean.mean(), emb_var.mean()"
   ]
  },
  {
   "cell_type": "code",
   "execution_count": null,
   "metadata": {},
   "outputs": [],
   "source": []
  },
  {
   "cell_type": "code",
   "execution_count": 86,
   "metadata": {},
   "outputs": [],
   "source": [
    "# | export\n",
    "\n",
    "\n",
    "class StochasticSampler(nn.Module):\n",
    "    def __init__(self, deterministic=False):\n",
    "        super().__init__()\n",
    "        self.sampler = torch.distributions.Normal(loc=0, scale=1)\n",
    "        self.deterministic = deterministic\n",
    "\n",
    "    def forward(self, z_mean, z_log_var):\n",
    "        \"\"\"Return a normal sample value Z from the latent space given a mean and variance\"\"\"\n",
    "        # z_mean and z_log_var are mean and log-var estimates of the latent space\n",
    "        # under the assumption that the latent space is a gaussian normal\n",
    "        device = z_mean.device\n",
    "        eps = self.sampler.sample(z_mean.shape).squeeze().to(device)\n",
    "        # print(eps.shape, z_log_var.shape, z_mean.shape)\n",
    "        return (\n",
    "            z_mean\n",
    "            if self.deterministic\n",
    "            else (z_mean + torch.exp(0.5 * z_log_var) * eps)\n",
    "        )"
   ]
  },
  {
   "cell_type": "code",
   "execution_count": 87,
   "metadata": {},
   "outputs": [
    {
     "data": {
      "text/plain": [
       "(torch.Size([8, 20]),\n",
       " True,\n",
       " tensor([-0.2987, -1.9834,  0.8027,  0.4354,  1.8266,  0.8302,  0.6557, -0.7375,\n",
       "         -0.7247,  0.0167,  0.1152, -0.5155, -0.8983, -0.8467, -1.5338,  2.5659,\n",
       "         -1.2579,  0.6296, -0.1105,  1.1053], grad_fn=<SelectBackward0>))"
      ]
     },
     "execution_count": 87,
     "metadata": {},
     "output_type": "execute_result"
    }
   ],
   "source": [
    "sampler = StochasticSampler(deterministic=False)\n",
    "emb = sampler(emb_mean, emb_var)\n",
    "emb.shape, emb.requires_grad, emb[0]"
   ]
  },
  {
   "cell_type": "code",
   "execution_count": null,
   "metadata": {},
   "outputs": [],
   "source": []
  },
  {
   "cell_type": "code",
   "execution_count": 88,
   "metadata": {},
   "outputs": [
    {
     "data": {
      "text/plain": [
       "(torch.Size([8, 512, 1, 1]),\n",
       " torch.Size([8, 128, 4, 1]),\n",
       " torch.Size([8, 512]),\n",
       " torch.Size([8, 48]))"
      ]
     },
     "execution_count": 88,
     "metadata": {},
     "output_type": "execute_result"
    }
   ],
   "source": [
    "kernel_size = (3, 1)\n",
    "stride = 1\n",
    "xs_c1 = nn.Linear(in_features=20, out_features=num_hidden_units, bias=False)(emb)\n",
    "xs_c1 = xs_c1[:, :, None, None]\n",
    "xs_c2 = nn.ConvTranspose2d(\n",
    "    in_channels=num_hidden_units,\n",
    "    out_channels=num_hidden_units // 4,\n",
    "    kernel_size=(4, 1),\n",
    "    stride=stride,\n",
    ")(xs_c1)\n",
    "xs_c3 = nn.ConvTranspose2d(\n",
    "    in_channels=num_hidden_units // 4,\n",
    "    out_channels=num_hidden_units // 8,\n",
    "    kernel_size=kernel_size,\n",
    "    stride=stride,\n",
    ")(xs_c2)\n",
    "xs_c3 = nn.Flatten()(xs_c2)\n",
    "xs_c4 = nn.LazyLinear(out_features=p, bias=False)(xs_c3)\n",
    "(\n",
    "    xs_c1.shape,\n",
    "    xs_c2.shape,\n",
    "    xs_c3.shape,\n",
    "    xs_c4.shape,\n",
    ")"
   ]
  },
  {
   "cell_type": "code",
   "execution_count": null,
   "metadata": {},
   "outputs": [],
   "source": []
  },
  {
   "cell_type": "code",
   "execution_count": 89,
   "metadata": {},
   "outputs": [],
   "source": [
    "# | export\n",
    "\n",
    "\n",
    "# l_win to 24, the model would consider each 24-hour period as one sequence.\n",
    "# pad: if your array is [1, 2, 3] and you symmetrically pad it with 1 unit, the result would be [2, 1, 2, 3, 2].\n",
    "# xavier_initializer()\n",
    "# dense 1: num_hidden_units\n",
    "# reshape: (bs, 1, 1, num_hidden_units)  -> this is tensorflow notation, channel at end so actually (bs, num_hidden_units, 1, 1)\n",
    "\n",
    "# conv 2: num_hidden_units, kernel = 1\n",
    "# reshape: (bs, 4, 1, num_hidden_units / 4)\n",
    "\n",
    "# conv 3: num_hidden_units / 4, kernel = 3, 1, stride = 1\n",
    "# permute depth to spatial tf\n",
    "# reshape: (bs, 8, 1, num_hidden_units / 8),\n",
    "\n",
    "# conv 4: num_hidden_units / 8,  kernel = 3, 1, stride = 1\n",
    "# permute depth to spatial tf\n",
    "# reshape: (bs, 16, 1, num_hidden_units / 16)\n",
    "\n",
    "# conv 5: num_hidden_units / 16, kernel = 3, 1, stride = 1\n",
    "# permute depth to spatial tf\n",
    "# reshape: (bs, num_hidden_units /16, 1,  16)\n",
    "\n",
    "# conv 6: num_channel, kernel = 9, 1, stride = 1\n",
    "# reshape: (bs, l_win, num_channel)\n",
    "\n",
    "\n",
    "class Decoder(nn.Module):\n",
    "    def __init__(\n",
    "        self,\n",
    "        output_shape,\n",
    "        latent_dim=20,\n",
    "        num_hidden_units=512,\n",
    "        kernel_size=(3, 1),\n",
    "        stride=1,\n",
    "        act=F.mish,\n",
    "    ):\n",
    "        super().__init__()\n",
    "        self.output_shape = output_shape\n",
    "        self.linear = nn.Linear(\n",
    "            in_features=latent_dim, out_features=num_hidden_units, bias=False\n",
    "        )\n",
    "        self.dconv1 = nn.ConvTranspose2d(\n",
    "            in_channels=num_hidden_units,\n",
    "            out_channels=num_hidden_units // 4,\n",
    "            kernel_size=(4, 1),\n",
    "            stride=stride,\n",
    "        )\n",
    "        self.dconv2 = nn.ConvTranspose2d(\n",
    "            in_channels=num_hidden_units // 4,\n",
    "            out_channels=num_hidden_units // 8,\n",
    "            kernel_size=kernel_size,\n",
    "            stride=stride,\n",
    "        )\n",
    "        self.flatten = nn.Flatten()\n",
    "        self.linear_out = nn.LazyLinear(\n",
    "            # in_features=96,\n",
    "            out_features=math.prod(output_shape),\n",
    "            bias=False,\n",
    "        )\n",
    "\n",
    "        self.act = act\n",
    "\n",
    "        self.init_weights()\n",
    "\n",
    "    def forward(self, x):\n",
    "        x = self.linear(x)\n",
    "        x = x[:, :, None, None]\n",
    "        x = self.act(self.dconv1(x))\n",
    "        x = self.act(self.dconv2(x))\n",
    "        x = self.flatten(x)\n",
    "        x = self.act(self.linear_out(x))\n",
    "        return self.reshape_to_output(x)\n",
    "\n",
    "    def reshape_to_output(self, x):\n",
    "        bs = x.shape[0]\n",
    "        return x.reshape(bs, *self.output_shape)\n",
    "\n",
    "    def init_weights(self):\n",
    "        for m in self.modules():\n",
    "            \"\"\"\n",
    "            if isinstance(m, nn.Linear):\n",
    "                torch.nn.init.xavier_normal_(m.weight)\n",
    "                # m.bias.data.fill_(0)\n",
    "            \"\"\"\n",
    "            if isinstance(m, nn.Conv2d):\n",
    "                torch.nn.init.xavier_normal_(m.weight)\n",
    "                m.bias.data.fill_(0)"
   ]
  },
  {
   "cell_type": "code",
   "execution_count": 90,
   "metadata": {},
   "outputs": [
    {
     "data": {
      "text/plain": [
       "torch.Size([8, 48, 1])"
      ]
     },
     "execution_count": 90,
     "metadata": {},
     "output_type": "execute_result"
    }
   ],
   "source": [
    "Decoder(output_shape=(p, n_features))(emb).shape"
   ]
  },
  {
   "cell_type": "code",
   "execution_count": 91,
   "metadata": {},
   "outputs": [
    {
     "data": {
      "text/plain": [
       "torch.Size([8, 48, 1])"
      ]
     },
     "execution_count": 91,
     "metadata": {},
     "output_type": "execute_result"
    }
   ],
   "source": [
    "xs.shape"
   ]
  },
  {
   "cell_type": "code",
   "execution_count": 92,
   "metadata": {},
   "outputs": [],
   "source": [
    "# | export\n",
    "from torch.distributions import kl_divergence"
   ]
  },
  {
   "cell_type": "code",
   "execution_count": 93,
   "metadata": {},
   "outputs": [],
   "source": [
    "# | export\n",
    "class VAE(nn.Module):\n",
    "    def __init__(\n",
    "        self, input_shape, latent_dim=20, act=F.leaky_relu, deterministic=False\n",
    "    ):\n",
    "        super().__init__()\n",
    "        self.encoder = Encoder(latent_dim=latent_dim, act=act)\n",
    "        self.decoder = Decoder(output_shape=input_shape, latent_dim=latent_dim, act=act)\n",
    "        self.latent_sampler = StochasticSampler(deterministic=deterministic)\n",
    "        self.act = act\n",
    "\n",
    "    def forward(self, x):\n",
    "        z_mean, z_log_var = self.encoder(x)\n",
    "        z = self.latent_sampler(z_mean, z_log_var)\n",
    "        out = self.decoder(z)\n",
    "        # loss to enforce all possible values are sampled from latent space\n",
    "        # should be of the size of the batch\n",
    "        loss_kl = -0.5 * torch.sum(\n",
    "            1 + z_log_var - z_mean.pow(2) - z_log_var.exp(), dim=-1\n",
    "        )\n",
    "        return out, loss_kl"
   ]
  },
  {
   "cell_type": "code",
   "execution_count": 94,
   "metadata": {},
   "outputs": [],
   "source": [
    "xs_pred, loss_kl = VAE(latent_dim=128, input_shape=(p, n_features))(xs)"
   ]
  },
  {
   "cell_type": "code",
   "execution_count": 95,
   "metadata": {},
   "outputs": [
    {
     "data": {
      "text/plain": [
       "(torch.Size([8, 48, 1]), torch.Size([8]))"
      ]
     },
     "execution_count": 95,
     "metadata": {},
     "output_type": "execute_result"
    }
   ],
   "source": [
    "xs_pred.shape, loss_kl.shape"
   ]
  },
  {
   "cell_type": "code",
   "execution_count": 96,
   "metadata": {},
   "outputs": [],
   "source": [
    "# | export\n",
    "\n",
    "\n",
    "def calculate_smape(predicted, actual):\n",
    "    with torch.no_grad():\n",
    "        absolute_percentage_errors = (\n",
    "            torch.abs(predicted - actual) / (torch.abs(predicted) + torch.abs(actual))\n",
    "        ) * 100\n",
    "        return absolute_percentage_errors.mean()"
   ]
  },
  {
   "cell_type": "code",
   "execution_count": 97,
   "metadata": {},
   "outputs": [],
   "source": [
    "# | export\n",
    "\n",
    "\n",
    "def loss_func(inputs, targets, loss_kl):\n",
    "    # targets = torch.where(targets >= 0, 1., 0.)\n",
    "    # loss_kl = loss_kl.unsqueeze(-1)  # add loss_kl per time step.\n",
    "    loss_reconstruct_numerical = F.huber_loss(\n",
    "        inputs,\n",
    "        targets,\n",
    "        delta=3,\n",
    "        reduction=\"none\",\n",
    "    ).sum((1, 2))\n",
    "    return (loss_reconstruct_numerical + loss_kl).sum()"
   ]
  },
  {
   "cell_type": "code",
   "execution_count": 98,
   "metadata": {},
   "outputs": [
    {
     "data": {
      "text/plain": [
       "tensor(193.9575, grad_fn=<SumBackward0>)"
      ]
     },
     "execution_count": 98,
     "metadata": {},
     "output_type": "execute_result"
    }
   ],
   "source": [
    "loss_func(xs_pred.to(\"cpu\"), xs.to(\"cpu\"), loss_kl.to(\"cpu\"))"
   ]
  },
  {
   "cell_type": "code",
   "execution_count": null,
   "metadata": {},
   "outputs": [],
   "source": []
  },
  {
   "cell_type": "code",
   "execution_count": 99,
   "metadata": {},
   "outputs": [],
   "source": [
    "# | export\n",
    "\n",
    "\n",
    "def get_similarity(inputs, targets):\n",
    "    func = F.mse_loss\n",
    "    with torch.no_grad():\n",
    "        loss_num = func(inputs.flatten(), targets.flatten())\n",
    "        return loss_num"
   ]
  },
  {
   "cell_type": "code",
   "execution_count": 100,
   "metadata": {},
   "outputs": [
    {
     "data": {
      "text/plain": [
       "tensor(1.0098)"
      ]
     },
     "execution_count": 100,
     "metadata": {},
     "output_type": "execute_result"
    }
   ],
   "source": [
    "get_similarity(\n",
    "    xs_pred.to(\"cpu\"),\n",
    "    xs.to(\"cpu\"),\n",
    ")"
   ]
  },
  {
   "cell_type": "code",
   "execution_count": 101,
   "metadata": {},
   "outputs": [
    {
     "data": {
      "text/plain": [
       "tensor(92.9841)"
      ]
     },
     "execution_count": 101,
     "metadata": {},
     "output_type": "execute_result"
    }
   ],
   "source": [
    "calculate_smape(\n",
    "    xs_pred.to(\"cpu\"),\n",
    "    xs.to(\"cpu\"),\n",
    ")"
   ]
  },
  {
   "cell_type": "markdown",
   "metadata": {},
   "source": [
    "# Training loop"
   ]
  },
  {
   "cell_type": "code",
   "execution_count": 102,
   "metadata": {},
   "outputs": [
    {
     "data": {
      "text/plain": [
       "'cuda'"
      ]
     },
     "execution_count": 102,
     "metadata": {},
     "output_type": "execute_result"
    }
   ],
   "source": [
    "# | export\n",
    "\n",
    "device = \"cuda\" if torch.cuda.is_available() else \"cpu\"\n",
    "device"
   ]
  },
  {
   "cell_type": "code",
   "execution_count": 103,
   "metadata": {},
   "outputs": [],
   "source": [
    "# | export\n",
    "\n",
    "\n",
    "def validate_epoch(dls, criterion, scorer):\n",
    "    \"\"\"For the full dataloader, calculate the running loss and score\"\"\"\n",
    "    model.eval()\n",
    "    running_loss = 0.0\n",
    "    running_score = 0.0\n",
    "    with torch.no_grad():\n",
    "        for batch_idx, xs in enumerate(dls):\n",
    "            # move to device\n",
    "            xs = xs.to(device)\n",
    "\n",
    "            # Forward pass\n",
    "            xs_gen, loss_kl = model(xs)\n",
    "\n",
    "            loss = criterion(xs_gen, targets=xs, loss_kl=loss_kl)\n",
    "            # print(loss - loss_kl, loss_kl)\n",
    "            # calc score\n",
    "            score = scorer(xs_gen, xs)\n",
    "\n",
    "            running_loss += loss.item()\n",
    "            running_score += score.item()\n",
    "    return running_loss / len(dls), running_score / len(dls)"
   ]
  },
  {
   "cell_type": "code",
   "execution_count": 104,
   "metadata": {},
   "outputs": [],
   "source": [
    "# | export\n",
    "\n",
    "from fastcore.xtras import partial"
   ]
  },
  {
   "cell_type": "code",
   "execution_count": 105,
   "metadata": {},
   "outputs": [
    {
     "data": {
      "text/plain": [
       "tensor([0.0085, 0.0126, 0.0112, 0.0063, 0.0098, 0.0097, 0.0109, 0.0076],\n",
       "       grad_fn=<MulBackward0>)"
      ]
     },
     "execution_count": 105,
     "metadata": {},
     "output_type": "execute_result"
    }
   ],
   "source": [
    "loss_kl"
   ]
  },
  {
   "cell_type": "code",
   "execution_count": 107,
   "metadata": {},
   "outputs": [
    {
     "name": "stdout",
     "output_type": "stream",
     "text": [
      "latent_dim is 24\n",
      "Epoch [1/500], Batch [68/68], Loss: [892.241, 669.604], Score: [0.386, 0.260]\n",
      "Epoch [2/500], Batch [68/68], Loss: [664.457, 604.990], Score: [0.222, 0.217]\n",
      "Epoch [3/500], Batch [68/68], Loss: [641.466, 598.630], Score: [0.205, 0.210]\n",
      "Epoch [4/500], Batch [68/68], Loss: [631.276, 594.966], Score: [0.198, 0.197]\n",
      "Epoch [5/500], Batch [68/68], Loss: [624.246, 593.593], Score: [0.194, 0.214]\n",
      "Epoch [6/500], Batch [68/68], Loss: [622.151, 584.273], Score: [0.194, 0.184]\n",
      "Epoch [7/500], Batch [68/68], Loss: [620.988, 583.089], Score: [0.193, 0.189]\n",
      "Epoch [8/500], Batch [68/68], Loss: [617.101, 577.712], Score: [0.190, 0.197]\n",
      "Epoch [9/500], Batch [68/68], Loss: [609.225, 572.341], Score: [0.189, 0.168]\n",
      "Epoch [10/500], Batch [68/68], Loss: [603.698, 565.248], Score: [0.187, 0.195]\n",
      "Epoch [11/500], Batch [68/68], Loss: [601.641, 561.677], Score: [0.185, 0.194]\n",
      "Epoch [12/500], Batch [68/68], Loss: [595.011, 556.775], Score: [0.184, 0.186]\n",
      "Epoch [13/500], Batch [68/68], Loss: [594.242, 565.952], Score: [0.183, 0.195]\n",
      "Epoch [14/500], Batch [68/68], Loss: [588.392, 560.454], Score: [0.180, 0.212]\n",
      "Epoch [15/500], Batch [68/68], Loss: [582.286, 537.986], Score: [0.181, 0.172]\n",
      "Epoch [16/500], Batch [68/68], Loss: [577.131, 546.453], Score: [0.178, 0.171]\n",
      "Epoch [17/500], Batch [68/68], Loss: [575.260, 539.269], Score: [0.176, 0.157]\n",
      "Epoch [18/500], Batch [68/68], Loss: [578.286, 540.930], Score: [0.176, 0.155]\n",
      "Epoch [19/500], Batch [68/68], Loss: [567.151, 531.141], Score: [0.171, 0.164]\n",
      "Epoch [20/500], Batch [68/68], Loss: [567.081, 535.494], Score: [0.171, 0.149]\n",
      "Epoch [21/500], Batch [68/68], Loss: [566.765, 538.060], Score: [0.171, 0.184]\n",
      "Epoch [22/500], Batch [68/68], Loss: [563.403, 540.978], Score: [0.171, 0.184]\n",
      "Epoch [23/500], Batch [68/68], Loss: [563.968, 533.741], Score: [0.170, 0.171]\n",
      "Epoch [24/500], Batch [68/68], Loss: [563.974, 526.445], Score: [0.167, 0.178]\n",
      "Epoch [25/500], Batch [68/68], Loss: [551.885, 523.306], Score: [0.164, 0.168]\n",
      "Epoch [26/500], Batch [68/68], Loss: [549.394, 513.900], Score: [0.161, 0.149]\n",
      "Epoch [27/500], Batch [68/68], Loss: [545.130, 510.556], Score: [0.161, 0.165]\n",
      "Epoch [28/500], Batch [68/68], Loss: [538.069, 506.648], Score: [0.157, 0.138]\n",
      "Epoch [29/500], Batch [68/68], Loss: [539.606, 506.924], Score: [0.158, 0.154]\n",
      "Epoch [30/500], Batch [68/68], Loss: [532.419, 496.052], Score: [0.156, 0.152]\n",
      "Epoch [31/500], Batch [68/68], Loss: [527.226, 494.207], Score: [0.154, 0.146]\n",
      "Epoch [32/500], Batch [68/68], Loss: [523.151, 501.426], Score: [0.151, 0.179]\n",
      "Epoch [33/500], Batch [68/68], Loss: [520.563, 508.281], Score: [0.152, 0.180]\n",
      "Epoch [34/500], Batch [68/68], Loss: [520.029, 496.071], Score: [0.150, 0.138]\n",
      "Epoch [35/500], Batch [68/68], Loss: [526.662, 492.935], Score: [0.150, 0.163]\n",
      "Epoch [36/500], Batch [68/68], Loss: [519.486, 488.970], Score: [0.150, 0.169]\n",
      "Epoch [37/500], Batch [68/68], Loss: [514.714, 484.171], Score: [0.149, 0.154]\n",
      "Epoch [38/500], Batch [68/68], Loss: [510.429, 473.725], Score: [0.145, 0.139]\n",
      "Epoch [39/500], Batch [68/68], Loss: [510.816, 481.630], Score: [0.145, 0.151]\n",
      "Epoch [40/500], Batch [68/68], Loss: [507.633, 481.515], Score: [0.146, 0.139]\n",
      "Epoch [41/500], Batch [68/68], Loss: [503.829, 484.544], Score: [0.145, 0.130]\n",
      "Epoch [42/500], Batch [68/68], Loss: [505.364, 471.553], Score: [0.144, 0.131]\n",
      "Epoch [43/500], Batch [68/68], Loss: [501.369, 487.467], Score: [0.144, 0.163]\n",
      "Epoch [44/500], Batch [68/68], Loss: [506.807, 486.902], Score: [0.144, 0.136]\n",
      "Epoch [45/500], Batch [68/68], Loss: [502.752, 467.036], Score: [0.143, 0.132]\n",
      "Epoch [46/500], Batch [68/68], Loss: [499.874, 470.086], Score: [0.143, 0.132]\n",
      "Epoch [47/500], Batch [68/68], Loss: [491.365, 465.044], Score: [0.140, 0.145]\n",
      "Epoch [48/500], Batch [68/68], Loss: [495.377, 460.982], Score: [0.142, 0.140]\n",
      "Epoch [49/500], Batch [68/68], Loss: [491.311, 465.038], Score: [0.140, 0.139]\n",
      "Epoch [50/500], Batch [68/68], Loss: [495.878, 470.326], Score: [0.143, 0.152]\n",
      "Epoch [51/500], Batch [68/68], Loss: [493.306, 467.837], Score: [0.140, 0.136]\n",
      "Epoch [52/500], Batch [68/68], Loss: [490.251, 461.492], Score: [0.142, 0.129]\n",
      "Epoch [53/500], Batch [68/68], Loss: [493.832, 460.889], Score: [0.140, 0.141]\n",
      "Epoch [54/500], Batch [68/68], Loss: [487.617, 470.490], Score: [0.141, 0.153]\n",
      "Epoch [55/500], Batch [68/68], Loss: [484.820, 459.717], Score: [0.138, 0.130]\n",
      "Epoch [56/500], Batch [68/68], Loss: [487.678, 470.620], Score: [0.138, 0.176]\n",
      "Epoch [57/500], Batch [68/68], Loss: [485.208, 453.056], Score: [0.139, 0.138]\n",
      "Epoch [58/500], Batch [68/68], Loss: [486.040, 457.610], Score: [0.137, 0.153]\n",
      "Epoch [59/500], Batch [68/68], Loss: [484.687, 459.580], Score: [0.137, 0.149]\n",
      "Epoch [60/500], Batch [68/68], Loss: [486.827, 460.753], Score: [0.139, 0.151]\n",
      "Epoch [61/500], Batch [68/68], Loss: [479.151, 457.040], Score: [0.136, 0.142]\n",
      "Epoch [62/500], Batch [68/68], Loss: [484.703, 458.465], Score: [0.137, 0.132]\n",
      "Epoch [63/500], Batch [68/68], Loss: [481.462, 449.855], Score: [0.136, 0.140]\n",
      "Epoch [64/500], Batch [68/68], Loss: [476.235, 454.391], Score: [0.136, 0.136]\n",
      "Epoch [65/500], Batch [68/68], Loss: [483.577, 465.436], Score: [0.136, 0.154]\n",
      "Epoch [66/500], Batch [68/68], Loss: [478.217, 451.446], Score: [0.135, 0.152]\n",
      "Epoch [67/500], Batch [68/68], Loss: [480.116, 450.423], Score: [0.136, 0.141]\n",
      "Epoch [68/500], Batch [68/68], Loss: [472.729, 449.846], Score: [0.133, 0.133]\n",
      "Epoch [69/500], Batch [68/68], Loss: [480.854, 456.202], Score: [0.134, 0.148]\n",
      "Epoch [70/500], Batch [68/68], Loss: [484.707, 454.295], Score: [0.134, 0.131]\n",
      "Epoch [71/500], Batch [68/68], Loss: [477.127, 454.895], Score: [0.134, 0.127]\n",
      "Epoch [72/500], Batch [68/68], Loss: [476.092, 446.231], Score: [0.134, 0.132]\n",
      "Epoch [73/500], Batch [68/68], Loss: [476.058, 451.997], Score: [0.133, 0.131]\n",
      "Epoch [74/500], Batch [68/68], Loss: [475.486, 450.633], Score: [0.135, 0.137]\n",
      "Epoch [75/500], Batch [68/68], Loss: [479.505, 455.252], Score: [0.133, 0.142]\n",
      "Epoch [76/500], Batch [68/68], Loss: [473.612, 447.429], Score: [0.133, 0.127]\n",
      "Epoch [77/500], Batch [68/68], Loss: [473.877, 453.462], Score: [0.134, 0.141]\n",
      "Epoch [78/500], Batch [68/68], Loss: [476.110, 454.271], Score: [0.133, 0.145]\n",
      "Epoch [79/500], Batch [68/68], Loss: [477.440, 450.234], Score: [0.135, 0.135]\n",
      "Epoch [80/500], Batch [68/68], Loss: [475.561, 459.464], Score: [0.133, 0.133]\n",
      "Epoch [81/500], Batch [68/68], Loss: [477.471, 454.527], Score: [0.132, 0.127]\n",
      "Epoch [82/500], Batch [68/68], Loss: [474.662, 448.909], Score: [0.133, 0.142]\n",
      "Epoch [83/500], Batch [68/68], Loss: [473.227, 457.303], Score: [0.132, 0.127]\n",
      "Epoch 00083: reducing learning rate of group 0 to 9.0000e-04.\n",
      "Epoch [84/500], Batch [68/68], Loss: [478.135, 452.825], Score: [0.134, 0.140]\n",
      "Epoch [85/500], Batch [68/68], Loss: [474.949, 448.251], Score: [0.130, 0.134]\n",
      "Epoch [86/500], Batch [68/68], Loss: [470.392, 450.242], Score: [0.130, 0.128]\n",
      "Epoch [87/500], Batch [68/68], Loss: [470.912, 440.230], Score: [0.131, 0.124]\n",
      "Epoch [88/500], Batch [68/68], Loss: [470.478, 441.416], Score: [0.131, 0.139]\n",
      "Epoch [89/500], Batch [68/68], Loss: [467.739, 447.905], Score: [0.129, 0.142]\n",
      "Epoch [90/500], Batch [68/68], Loss: [475.265, 446.302], Score: [0.133, 0.121]\n",
      "Epoch [91/500], Batch [68/68], Loss: [471.261, 449.095], Score: [0.128, 0.147]\n",
      "Epoch [92/500], Batch [68/68], Loss: [469.500, 439.970], Score: [0.131, 0.133]\n",
      "Epoch [93/500], Batch [68/68], Loss: [470.721, 441.708], Score: [0.129, 0.131]\n",
      "Epoch [94/500], Batch [68/68], Loss: [467.923, 440.302], Score: [0.129, 0.127]\n",
      "Epoch [95/500], Batch [68/68], Loss: [471.838, 444.036], Score: [0.131, 0.133]\n",
      "Epoch [96/500], Batch [68/68], Loss: [465.344, 445.832], Score: [0.127, 0.139]\n",
      "Epoch [97/500], Batch [68/68], Loss: [471.334, 446.115], Score: [0.130, 0.133]\n",
      "Epoch [98/500], Batch [68/68], Loss: [469.891, 447.727], Score: [0.131, 0.125]\n",
      "Epoch [99/500], Batch [68/68], Loss: [466.115, 434.198], Score: [0.129, 0.121]\n",
      "Epoch [100/500], Batch [68/68], Loss: [469.893, 442.003], Score: [0.129, 0.142]\n",
      "Epoch [101/500], Batch [68/68], Loss: [466.688, 443.862], Score: [0.129, 0.144]\n",
      "Epoch [102/500], Batch [68/68], Loss: [470.005, 442.660], Score: [0.129, 0.119]\n",
      "Epoch [103/500], Batch [68/68], Loss: [472.134, 454.215], Score: [0.128, 0.149]\n",
      "Epoch [104/500], Batch [68/68], Loss: [468.966, 448.115], Score: [0.128, 0.140]\n",
      "Epoch [105/500], Batch [68/68], Loss: [467.844, 445.810], Score: [0.130, 0.142]\n",
      "Epoch [106/500], Batch [68/68], Loss: [475.207, 446.152], Score: [0.129, 0.118]\n",
      "Epoch [107/500], Batch [68/68], Loss: [466.731, 439.728], Score: [0.130, 0.124]\n",
      "Epoch [108/500], Batch [68/68], Loss: [466.487, 440.293], Score: [0.130, 0.128]\n",
      "Epoch [109/500], Batch [68/68], Loss: [466.822, 444.866], Score: [0.129, 0.140]\n",
      "Epoch [110/500], Batch [68/68], Loss: [470.592, 439.927], Score: [0.129, 0.138]\n",
      "Epoch 00110: reducing learning rate of group 0 to 8.1000e-04.\n",
      "Epoch [111/500], Batch [68/68], Loss: [469.163, 448.408], Score: [0.131, 0.134]\n",
      "Epoch [112/500], Batch [68/68], Loss: [465.011, 441.339], Score: [0.126, 0.128]\n",
      "Epoch [113/500], Batch [68/68], Loss: [465.679, 435.097], Score: [0.128, 0.119]\n",
      "Epoch [114/500], Batch [68/68], Loss: [465.849, 447.971], Score: [0.128, 0.129]\n",
      "Epoch [115/500], Batch [68/68], Loss: [465.265, 437.742], Score: [0.128, 0.141]\n",
      "Epoch [116/500], Batch [68/68], Loss: [467.802, 434.536], Score: [0.127, 0.131]\n",
      "Epoch [117/500], Batch [68/68], Loss: [466.679, 434.716], Score: [0.125, 0.141]\n",
      "Epoch [118/500], Batch [68/68], Loss: [465.117, 444.119], Score: [0.128, 0.132]\n",
      "Epoch [119/500], Batch [68/68], Loss: [468.122, 440.240], Score: [0.129, 0.130]\n",
      "Epoch [120/500], Batch [68/68], Loss: [466.403, 443.606], Score: [0.126, 0.147]\n",
      "Epoch [121/500], Batch [68/68], Loss: [464.937, 438.694], Score: [0.127, 0.143]\n",
      "Epoch 00121: reducing learning rate of group 0 to 7.2900e-04.\n",
      "Epoch [122/500], Batch [68/68], Loss: [463.143, 434.455], Score: [0.128, 0.127]\n",
      "Epoch [123/500], Batch [68/68], Loss: [461.091, 441.325], Score: [0.125, 0.141]\n",
      "Epoch [124/500], Batch [68/68], Loss: [463.924, 439.314], Score: [0.127, 0.118]\n",
      "Epoch [125/500], Batch [68/68], Loss: [461.132, 443.449], Score: [0.126, 0.127]\n",
      "Epoch [126/500], Batch [68/68], Loss: [462.560, 445.079], Score: [0.126, 0.145]\n",
      "Epoch [127/500], Batch [68/68], Loss: [462.631, 438.242], Score: [0.126, 0.122]\n",
      "Epoch [128/500], Batch [68/68], Loss: [463.907, 439.631], Score: [0.127, 0.128]\n",
      "Epoch [129/500], Batch [68/68], Loss: [466.348, 441.362], Score: [0.126, 0.131]\n",
      "Epoch [130/500], Batch [68/68], Loss: [458.570, 430.840], Score: [0.124, 0.129]\n",
      "Epoch [131/500], Batch [68/68], Loss: [461.136, 436.262], Score: [0.126, 0.135]\n",
      "Epoch [132/500], Batch [68/68], Loss: [465.687, 447.475], Score: [0.124, 0.140]\n",
      "Epoch [133/500], Batch [68/68], Loss: [465.654, 444.956], Score: [0.127, 0.130]\n",
      "Epoch [134/500], Batch [68/68], Loss: [461.902, 443.442], Score: [0.125, 0.122]\n",
      "Epoch [135/500], Batch [68/68], Loss: [466.597, 431.846], Score: [0.126, 0.126]\n",
      "Epoch [136/500], Batch [68/68], Loss: [465.455, 440.592], Score: [0.129, 0.122]\n",
      "Epoch [137/500], Batch [68/68], Loss: [465.247, 434.476], Score: [0.126, 0.117]\n",
      "Epoch [138/500], Batch [68/68], Loss: [462.890, 440.664], Score: [0.123, 0.138]\n",
      "Epoch [139/500], Batch [68/68], Loss: [465.517, 438.236], Score: [0.126, 0.141]\n",
      "Epoch [140/500], Batch [68/68], Loss: [463.000, 440.452], Score: [0.126, 0.124]\n",
      "Epoch [141/500], Batch [68/68], Loss: [460.400, 434.850], Score: [0.124, 0.143]\n",
      "Epoch 00141: reducing learning rate of group 0 to 6.5610e-04.\n",
      "Epoch [142/500], Batch [68/68], Loss: [462.940, 430.495], Score: [0.126, 0.123]\n",
      "Epoch [143/500], Batch [68/68], Loss: [458.335, 444.339], Score: [0.124, 0.127]\n",
      "Epoch [144/500], Batch [68/68], Loss: [458.150, 427.503], Score: [0.124, 0.133]\n",
      "Epoch [145/500], Batch [68/68], Loss: [461.640, 436.856], Score: [0.124, 0.123]\n",
      "Epoch [146/500], Batch [68/68], Loss: [461.365, 438.324], Score: [0.124, 0.128]\n",
      "Epoch [147/500], Batch [68/68], Loss: [460.435, 438.691], Score: [0.124, 0.139]\n",
      "Epoch [148/500], Batch [68/68], Loss: [457.370, 448.063], Score: [0.124, 0.144]\n",
      "Epoch [149/500], Batch [68/68], Loss: [457.526, 437.932], Score: [0.124, 0.127]\n",
      "Epoch [150/500], Batch [68/68], Loss: [457.620, 433.540], Score: [0.125, 0.129]\n",
      "Epoch [151/500], Batch [68/68], Loss: [464.262, 433.984], Score: [0.124, 0.135]\n",
      "Epoch [152/500], Batch [68/68], Loss: [461.475, 432.493], Score: [0.125, 0.138]\n",
      "Epoch [153/500], Batch [68/68], Loss: [465.037, 443.951], Score: [0.123, 0.130]\n",
      "Epoch [154/500], Batch [68/68], Loss: [461.873, 432.701], Score: [0.125, 0.130]\n",
      "Epoch [155/500], Batch [68/68], Loss: [457.867, 435.600], Score: [0.126, 0.127]\n",
      "Epoch 00155: reducing learning rate of group 0 to 5.9049e-04.\n",
      "Epoch [156/500], Batch [68/68], Loss: [458.178, 433.962], Score: [0.122, 0.133]\n",
      "Epoch [157/500], Batch [68/68], Loss: [456.503, 424.974], Score: [0.121, 0.125]\n",
      "Epoch [158/500], Batch [68/68], Loss: [459.366, 431.743], Score: [0.124, 0.137]\n",
      "Epoch [159/500], Batch [68/68], Loss: [458.790, 437.158], Score: [0.123, 0.127]\n",
      "Epoch [160/500], Batch [68/68], Loss: [459.435, 430.221], Score: [0.125, 0.123]\n",
      "Epoch [161/500], Batch [68/68], Loss: [458.772, 431.119], Score: [0.121, 0.137]\n",
      "Epoch [162/500], Batch [68/68], Loss: [456.696, 436.512], Score: [0.124, 0.124]\n",
      "Epoch [163/500], Batch [68/68], Loss: [460.069, 435.236], Score: [0.123, 0.137]\n",
      "Epoch [164/500], Batch [68/68], Loss: [455.999, 437.802], Score: [0.123, 0.130]\n",
      "Epoch [165/500], Batch [68/68], Loss: [459.567, 424.906], Score: [0.126, 0.126]\n",
      "Epoch [166/500], Batch [68/68], Loss: [457.907, 433.219], Score: [0.121, 0.127]\n",
      "Epoch [167/500], Batch [68/68], Loss: [457.059, 434.408], Score: [0.123, 0.138]\n",
      "Epoch [168/500], Batch [68/68], Loss: [459.537, 434.803], Score: [0.124, 0.130]\n",
      "Epoch [169/500], Batch [68/68], Loss: [457.866, 436.292], Score: [0.122, 0.126]\n",
      "Epoch [170/500], Batch [68/68], Loss: [449.957, 431.241], Score: [0.121, 0.122]\n",
      "Epoch [171/500], Batch [68/68], Loss: [459.006, 440.377], Score: [0.122, 0.123]\n",
      "Epoch [172/500], Batch [68/68], Loss: [459.944, 440.190], Score: [0.124, 0.137]\n",
      "Epoch [173/500], Batch [68/68], Loss: [457.525, 438.985], Score: [0.122, 0.128]\n",
      "Epoch [174/500], Batch [68/68], Loss: [453.606, 434.662], Score: [0.124, 0.137]\n",
      "Epoch [175/500], Batch [68/68], Loss: [460.063, 437.393], Score: [0.122, 0.118]\n",
      "Epoch [176/500], Batch [68/68], Loss: [462.705, 436.144], Score: [0.124, 0.131]\n",
      "Epoch 00176: reducing learning rate of group 0 to 5.3144e-04.\n",
      "Epoch [177/500], Batch [68/68], Loss: [453.557, 430.689], Score: [0.123, 0.130]\n",
      "Epoch [178/500], Batch [68/68], Loss: [458.850, 428.120], Score: [0.122, 0.128]\n",
      "Epoch [179/500], Batch [68/68], Loss: [454.706, 424.288], Score: [0.121, 0.133]\n",
      "Epoch [180/500], Batch [68/68], Loss: [458.041, 436.653], Score: [0.122, 0.130]\n",
      "Epoch [181/500], Batch [68/68], Loss: [456.600, 424.966], Score: [0.121, 0.125]\n",
      "Epoch [182/500], Batch [68/68], Loss: [451.923, 424.630], Score: [0.120, 0.125]\n",
      "Epoch [183/500], Batch [68/68], Loss: [455.207, 429.692], Score: [0.121, 0.114]\n",
      "Epoch [184/500], Batch [68/68], Loss: [452.973, 425.987], Score: [0.120, 0.117]\n",
      "Epoch [185/500], Batch [68/68], Loss: [454.763, 423.453], Score: [0.121, 0.122]\n",
      "Epoch [186/500], Batch [68/68], Loss: [451.940, 443.629], Score: [0.120, 0.141]\n",
      "Epoch [187/500], Batch [68/68], Loss: [454.252, 432.377], Score: [0.122, 0.123]\n",
      "Epoch [188/500], Batch [68/68], Loss: [454.765, 435.039], Score: [0.122, 0.128]\n",
      "Epoch [189/500], Batch [68/68], Loss: [459.787, 433.794], Score: [0.122, 0.130]\n",
      "Epoch [190/500], Batch [68/68], Loss: [453.816, 436.027], Score: [0.120, 0.125]\n",
      "Epoch [191/500], Batch [68/68], Loss: [456.893, 432.953], Score: [0.122, 0.127]\n",
      "Epoch [192/500], Batch [68/68], Loss: [457.399, 433.754], Score: [0.122, 0.126]\n",
      "Epoch [193/500], Batch [68/68], Loss: [455.455, 434.693], Score: [0.122, 0.121]\n",
      "Epoch [194/500], Batch [68/68], Loss: [457.353, 429.398], Score: [0.121, 0.115]\n",
      "Epoch [195/500], Batch [68/68], Loss: [458.199, 424.227], Score: [0.122, 0.121]\n",
      "Epoch [196/500], Batch [68/68], Loss: [454.942, 430.365], Score: [0.120, 0.141]\n",
      "Epoch 00196: reducing learning rate of group 0 to 4.7830e-04.\n",
      "Epoch [197/500], Batch [68/68], Loss: [455.258, 434.389], Score: [0.122, 0.119]\n",
      "Epoch [198/500], Batch [68/68], Loss: [457.452, 429.464], Score: [0.119, 0.126]\n",
      "Epoch [199/500], Batch [68/68], Loss: [455.452, 431.352], Score: [0.122, 0.118]\n",
      "Epoch [200/500], Batch [68/68], Loss: [452.962, 428.139], Score: [0.121, 0.121]\n",
      "Epoch [201/500], Batch [68/68], Loss: [453.982, 430.127], Score: [0.120, 0.133]\n",
      "Epoch [202/500], Batch [68/68], Loss: [453.000, 440.211], Score: [0.121, 0.126]\n",
      "Epoch [203/500], Batch [68/68], Loss: [458.840, 432.690], Score: [0.120, 0.130]\n",
      "Epoch [204/500], Batch [68/68], Loss: [452.086, 429.511], Score: [0.121, 0.123]\n",
      "Epoch [205/500], Batch [68/68], Loss: [451.857, 428.680], Score: [0.120, 0.120]\n",
      "Epoch [206/500], Batch [68/68], Loss: [454.642, 435.181], Score: [0.120, 0.133]\n",
      "Epoch [207/500], Batch [68/68], Loss: [453.050, 429.818], Score: [0.122, 0.117]\n",
      "Epoch 00207: reducing learning rate of group 0 to 4.3047e-04.\n",
      "Epoch [208/500], Batch [68/68], Loss: [452.142, 438.202], Score: [0.120, 0.134]\n",
      "Epoch [209/500], Batch [68/68], Loss: [453.589, 422.482], Score: [0.121, 0.116]\n",
      "Epoch [210/500], Batch [68/68], Loss: [456.002, 427.983], Score: [0.120, 0.118]\n",
      "Epoch [211/500], Batch [68/68], Loss: [451.749, 441.503], Score: [0.119, 0.122]\n",
      "Epoch [212/500], Batch [68/68], Loss: [456.276, 432.817], Score: [0.122, 0.111]\n",
      "Epoch [213/500], Batch [68/68], Loss: [453.076, 429.450], Score: [0.120, 0.125]\n",
      "Epoch [214/500], Batch [68/68], Loss: [451.377, 430.464], Score: [0.120, 0.115]\n",
      "Epoch [215/500], Batch [68/68], Loss: [453.157, 425.911], Score: [0.119, 0.130]\n",
      "Epoch [216/500], Batch [68/68], Loss: [451.640, 437.017], Score: [0.119, 0.115]\n",
      "Epoch [217/500], Batch [68/68], Loss: [451.962, 432.348], Score: [0.120, 0.127]\n",
      "Epoch [218/500], Batch [68/68], Loss: [452.092, 430.987], Score: [0.119, 0.123]\n",
      "Epoch [219/500], Batch [68/68], Loss: [450.306, 436.674], Score: [0.120, 0.136]\n",
      "Epoch [220/500], Batch [68/68], Loss: [455.172, 428.600], Score: [0.120, 0.118]\n",
      "Epoch 00220: reducing learning rate of group 0 to 3.8742e-04.\n",
      "Epoch [221/500], Batch [68/68], Loss: [454.664, 423.663], Score: [0.121, 0.120]\n",
      "Epoch [222/500], Batch [68/68], Loss: [450.186, 423.564], Score: [0.118, 0.125]\n",
      "Epoch [223/500], Batch [68/68], Loss: [453.154, 421.599], Score: [0.121, 0.124]\n",
      "Epoch [224/500], Batch [68/68], Loss: [449.115, 435.186], Score: [0.118, 0.125]\n",
      "Epoch [225/500], Batch [68/68], Loss: [453.647, 433.167], Score: [0.118, 0.139]\n",
      "Epoch [226/500], Batch [68/68], Loss: [455.059, 428.671], Score: [0.121, 0.120]\n",
      "Epoch [227/500], Batch [68/68], Loss: [451.012, 434.097], Score: [0.119, 0.123]\n",
      "Epoch [228/500], Batch [68/68], Loss: [451.859, 426.261], Score: [0.119, 0.119]\n",
      "Epoch [229/500], Batch [68/68], Loss: [454.612, 428.440], Score: [0.119, 0.122]\n",
      "Epoch [230/500], Batch [68/68], Loss: [453.876, 425.997], Score: [0.119, 0.116]\n",
      "Epoch [231/500], Batch [68/68], Loss: [453.352, 431.131], Score: [0.120, 0.121]\n",
      "Epoch [232/500], Batch [68/68], Loss: [450.336, 424.737], Score: [0.118, 0.131]\n",
      "Epoch [233/500], Batch [68/68], Loss: [454.272, 426.414], Score: [0.120, 0.114]\n",
      "Epoch [234/500], Batch [68/68], Loss: [451.002, 433.945], Score: [0.119, 0.121]\n",
      "Epoch 00234: reducing learning rate of group 0 to 3.4868e-04.\n",
      "Epoch [235/500], Batch [68/68], Loss: [452.449, 428.132], Score: [0.119, 0.119]\n",
      "Epoch [236/500], Batch [68/68], Loss: [449.036, 429.726], Score: [0.118, 0.116]\n",
      "Epoch [237/500], Batch [68/68], Loss: [451.295, 424.456], Score: [0.119, 0.125]\n",
      "Epoch [238/500], Batch [68/68], Loss: [451.836, 431.056], Score: [0.119, 0.124]\n",
      "Epoch [239/500], Batch [68/68], Loss: [452.390, 427.402], Score: [0.119, 0.119]\n",
      "Epoch [240/500], Batch [68/68], Loss: [448.648, 425.663], Score: [0.119, 0.119]\n",
      "Epoch [241/500], Batch [68/68], Loss: [449.323, 424.876], Score: [0.119, 0.116]\n",
      "Epoch [242/500], Batch [68/68], Loss: [454.429, 429.336], Score: [0.119, 0.118]\n",
      "Epoch [243/500], Batch [68/68], Loss: [449.142, 431.742], Score: [0.120, 0.118]\n",
      "Epoch [244/500], Batch [68/68], Loss: [452.139, 425.275], Score: [0.118, 0.118]\n",
      "Epoch [245/500], Batch [68/68], Loss: [451.077, 422.972], Score: [0.117, 0.113]\n",
      "Epoch 00245: reducing learning rate of group 0 to 3.1381e-04.\n",
      "Epoch [246/500], Batch [68/68], Loss: [450.930, 419.279], Score: [0.118, 0.110]\n",
      "Epoch [247/500], Batch [68/68], Loss: [446.704, 426.863], Score: [0.118, 0.127]\n",
      "Epoch [248/500], Batch [68/68], Loss: [447.494, 433.458], Score: [0.119, 0.131]\n",
      "Epoch [249/500], Batch [68/68], Loss: [446.360, 428.217], Score: [0.117, 0.122]\n",
      "Epoch [250/500], Batch [68/68], Loss: [449.341, 429.894], Score: [0.120, 0.129]\n",
      "Epoch [251/500], Batch [68/68], Loss: [448.316, 429.939], Score: [0.117, 0.122]\n",
      "Epoch [252/500], Batch [68/68], Loss: [453.336, 426.106], Score: [0.118, 0.117]\n",
      "Epoch [253/500], Batch [68/68], Loss: [450.723, 433.958], Score: [0.118, 0.135]\n",
      "Epoch [254/500], Batch [68/68], Loss: [448.647, 427.552], Score: [0.119, 0.122]\n",
      "Epoch [255/500], Batch [68/68], Loss: [447.947, 420.437], Score: [0.117, 0.128]\n",
      "Epoch [256/500], Batch [68/68], Loss: [446.946, 428.028], Score: [0.116, 0.116]\n",
      "Epoch [257/500], Batch [68/68], Loss: [449.208, 431.147], Score: [0.117, 0.130]\n",
      "Epoch 00257: reducing learning rate of group 0 to 2.8243e-04.\n",
      "Epoch [258/500], Batch [68/68], Loss: [449.660, 431.502], Score: [0.118, 0.122]\n",
      "Epoch [259/500], Batch [68/68], Loss: [446.260, 423.154], Score: [0.116, 0.119]\n",
      "Epoch [260/500], Batch [68/68], Loss: [447.496, 424.432], Score: [0.117, 0.129]\n",
      "Epoch [261/500], Batch [68/68], Loss: [448.857, 432.331], Score: [0.117, 0.116]\n",
      "Epoch [262/500], Batch [68/68], Loss: [447.561, 426.674], Score: [0.116, 0.128]\n",
      "Epoch [263/500], Batch [68/68], Loss: [445.202, 422.791], Score: [0.118, 0.117]\n",
      "Epoch [264/500], Batch [68/68], Loss: [449.805, 434.392], Score: [0.118, 0.118]\n",
      "Epoch [265/500], Batch [68/68], Loss: [448.794, 426.184], Score: [0.119, 0.124]\n",
      "Epoch [266/500], Batch [68/68], Loss: [451.062, 424.087], Score: [0.117, 0.121]\n",
      "Epoch [267/500], Batch [68/68], Loss: [446.203, 424.934], Score: [0.118, 0.123]\n",
      "Epoch [268/500], Batch [68/68], Loss: [448.959, 427.877], Score: [0.117, 0.118]\n",
      "Epoch 00268: reducing learning rate of group 0 to 2.5419e-04.\n",
      "Epoch [269/500], Batch [68/68], Loss: [449.272, 423.189], Score: [0.119, 0.114]\n",
      "Epoch [270/500], Batch [68/68], Loss: [448.880, 427.531], Score: [0.116, 0.119]\n",
      "Epoch [271/500], Batch [68/68], Loss: [448.787, 422.059], Score: [0.116, 0.113]\n",
      "Epoch [272/500], Batch [68/68], Loss: [447.053, 428.864], Score: [0.117, 0.130]\n",
      "Epoch [273/500], Batch [68/68], Loss: [447.923, 423.131], Score: [0.118, 0.120]\n",
      "Epoch [274/500], Batch [68/68], Loss: [448.703, 420.166], Score: [0.118, 0.112]\n",
      "Epoch [275/500], Batch [68/68], Loss: [444.484, 427.283], Score: [0.117, 0.127]\n",
      "Epoch [276/500], Batch [68/68], Loss: [447.179, 420.871], Score: [0.117, 0.119]\n",
      "Epoch [277/500], Batch [68/68], Loss: [448.693, 424.645], Score: [0.118, 0.119]\n",
      "Epoch [278/500], Batch [68/68], Loss: [445.060, 420.593], Score: [0.116, 0.123]\n",
      "Epoch [279/500], Batch [68/68], Loss: [447.328, 425.707], Score: [0.118, 0.126]\n",
      "Epoch 00279: reducing learning rate of group 0 to 2.2877e-04.\n",
      "Epoch [280/500], Batch [68/68], Loss: [445.508, 430.781], Score: [0.116, 0.124]\n",
      "Epoch [281/500], Batch [68/68], Loss: [449.568, 421.750], Score: [0.116, 0.111]\n",
      "Epoch [282/500], Batch [68/68], Loss: [446.016, 428.089], Score: [0.116, 0.129]\n",
      "Epoch [283/500], Batch [68/68], Loss: [448.641, 424.643], Score: [0.118, 0.111]\n",
      "Epoch [284/500], Batch [68/68], Loss: [445.052, 420.144], Score: [0.116, 0.116]\n",
      "Epoch [285/500], Batch [68/68], Loss: [446.513, 427.054], Score: [0.115, 0.125]\n",
      "Epoch [286/500], Batch [68/68], Loss: [443.279, 424.168], Score: [0.116, 0.132]\n",
      "Epoch [287/500], Batch [68/68], Loss: [449.142, 423.780], Score: [0.118, 0.123]\n",
      "Epoch [288/500], Batch [68/68], Loss: [452.098, 421.940], Score: [0.119, 0.116]\n",
      "Epoch [289/500], Batch [68/68], Loss: [444.021, 427.844], Score: [0.117, 0.116]\n",
      "Epoch [290/500], Batch [68/68], Loss: [447.879, 424.619], Score: [0.117, 0.148]\n",
      "Epoch 00290: reducing learning rate of group 0 to 2.0589e-04.\n",
      "Epoch [291/500], Batch [68/68], Loss: [443.759, 425.049], Score: [0.116, 0.127]\n",
      "Epoch [292/500], Batch [68/68], Loss: [442.814, 424.040], Score: [0.115, 0.120]\n",
      "Epoch [293/500], Batch [68/68], Loss: [444.561, 418.595], Score: [0.117, 0.123]\n",
      "Epoch [294/500], Batch [68/68], Loss: [449.014, 425.743], Score: [0.116, 0.122]\n",
      "Epoch [295/500], Batch [68/68], Loss: [448.906, 425.334], Score: [0.119, 0.117]\n",
      "Epoch [296/500], Batch [68/68], Loss: [448.186, 416.241], Score: [0.115, 0.112]\n",
      "Epoch [297/500], Batch [68/68], Loss: [446.187, 422.004], Score: [0.115, 0.119]\n",
      "Epoch [298/500], Batch [68/68], Loss: [447.797, 418.347], Score: [0.117, 0.117]\n",
      "Epoch [299/500], Batch [68/68], Loss: [442.500, 418.104], Score: [0.116, 0.112]\n",
      "Epoch [300/500], Batch [68/68], Loss: [444.651, 418.626], Score: [0.115, 0.117]\n",
      "Epoch [301/500], Batch [68/68], Loss: [447.396, 421.524], Score: [0.117, 0.115]\n",
      "Epoch [302/500], Batch [68/68], Loss: [444.076, 434.633], Score: [0.115, 0.128]\n",
      "Epoch [303/500], Batch [68/68], Loss: [442.354, 426.135], Score: [0.115, 0.122]\n",
      "Epoch [304/500], Batch [68/68], Loss: [447.394, 421.658], Score: [0.116, 0.135]\n",
      "Epoch [305/500], Batch [68/68], Loss: [447.376, 421.134], Score: [0.117, 0.120]\n",
      "Epoch [306/500], Batch [68/68], Loss: [447.457, 423.972], Score: [0.116, 0.121]\n",
      "Epoch [307/500], Batch [68/68], Loss: [444.697, 423.388], Score: [0.117, 0.119]\n",
      "Epoch 00307: reducing learning rate of group 0 to 1.8530e-04.\n",
      "Epoch [308/500], Batch [68/68], Loss: [445.537, 424.963], Score: [0.117, 0.116]\n",
      "Epoch [309/500], Batch [68/68], Loss: [446.026, 423.778], Score: [0.114, 0.120]\n",
      "Epoch [310/500], Batch [68/68], Loss: [442.563, 427.313], Score: [0.115, 0.126]\n",
      "Epoch [311/500], Batch [68/68], Loss: [448.746, 426.861], Score: [0.116, 0.117]\n",
      "Epoch [312/500], Batch [68/68], Loss: [448.307, 417.679], Score: [0.115, 0.114]\n",
      "Epoch [313/500], Batch [68/68], Loss: [445.399, 427.642], Score: [0.116, 0.124]\n",
      "Epoch [314/500], Batch [68/68], Loss: [449.558, 415.857], Score: [0.117, 0.121]\n",
      "Epoch [315/500], Batch [68/68], Loss: [445.094, 422.281], Score: [0.117, 0.116]\n",
      "Epoch [316/500], Batch [68/68], Loss: [447.955, 425.086], Score: [0.116, 0.113]\n",
      "Epoch [317/500], Batch [68/68], Loss: [444.671, 427.411], Score: [0.115, 0.127]\n",
      "Epoch [318/500], Batch [68/68], Loss: [445.581, 420.428], Score: [0.115, 0.114]\n",
      "Epoch [319/500], Batch [68/68], Loss: [445.692, 420.629], Score: [0.115, 0.124]\n",
      "Epoch [320/500], Batch [68/68], Loss: [442.817, 422.087], Score: [0.116, 0.113]\n",
      "Epoch [321/500], Batch [68/68], Loss: [444.899, 423.254], Score: [0.117, 0.117]\n",
      "Epoch [322/500], Batch [68/68], Loss: [442.480, 417.361], Score: [0.114, 0.114]\n",
      "Epoch [323/500], Batch [68/68], Loss: [447.149, 426.799], Score: [0.116, 0.122]\n",
      "Epoch [324/500], Batch [68/68], Loss: [444.510, 425.689], Score: [0.114, 0.124]\n",
      "Epoch [325/500], Batch [68/68], Loss: [442.471, 423.954], Score: [0.116, 0.123]\n",
      "Epoch 00325: reducing learning rate of group 0 to 1.6677e-04.\n",
      "Epoch [326/500], Batch [68/68], Loss: [448.984, 423.410], Score: [0.115, 0.105]\n",
      "Epoch [327/500], Batch [68/68], Loss: [446.727, 424.542], Score: [0.116, 0.127]\n",
      "Epoch [328/500], Batch [68/68], Loss: [443.714, 417.672], Score: [0.115, 0.116]\n",
      "Epoch [329/500], Batch [68/68], Loss: [445.313, 424.329], Score: [0.115, 0.127]\n",
      "Epoch [330/500], Batch [68/68], Loss: [442.958, 425.680], Score: [0.115, 0.113]\n",
      "Epoch [331/500], Batch [68/68], Loss: [447.520, 423.598], Score: [0.116, 0.116]\n",
      "Epoch [332/500], Batch [68/68], Loss: [445.063, 422.053], Score: [0.115, 0.113]\n",
      "Epoch [333/500], Batch [68/68], Loss: [442.956, 423.748], Score: [0.114, 0.122]\n",
      "Epoch [334/500], Batch [68/68], Loss: [443.959, 420.706], Score: [0.115, 0.115]\n",
      "Epoch [335/500], Batch [68/68], Loss: [442.423, 426.268], Score: [0.114, 0.127]\n",
      "Epoch [336/500], Batch [68/68], Loss: [444.668, 422.907], Score: [0.116, 0.125]\n",
      "Epoch 00336: reducing learning rate of group 0 to 1.5009e-04.\n",
      "Epoch [337/500], Batch [68/68], Loss: [443.512, 420.580], Score: [0.116, 0.146]\n",
      "Epoch [338/500], Batch [68/68], Loss: [446.162, 421.651], Score: [0.117, 0.118]\n",
      "Epoch [339/500], Batch [68/68], Loss: [442.844, 420.905], Score: [0.115, 0.115]\n",
      "Epoch [340/500], Batch [68/68], Loss: [444.088, 428.599], Score: [0.113, 0.130]\n",
      "Epoch [341/500], Batch [68/68], Loss: [446.927, 423.586], Score: [0.115, 0.126]\n",
      "Epoch [342/500], Batch [68/68], Loss: [445.465, 421.452], Score: [0.115, 0.113]\n",
      "Epoch [343/500], Batch [68/68], Loss: [437.912, 421.603], Score: [0.113, 0.126]\n",
      "Epoch [344/500], Batch [68/68], Loss: [442.560, 421.424], Score: [0.116, 0.119]\n",
      "Epoch [345/500], Batch [68/68], Loss: [448.254, 418.026], Score: [0.115, 0.119]\n",
      "Epoch [346/500], Batch [68/68], Loss: [443.942, 420.365], Score: [0.115, 0.118]\n",
      "Epoch [347/500], Batch [68/68], Loss: [446.502, 421.859], Score: [0.116, 0.109]\n",
      "Epoch 00347: reducing learning rate of group 0 to 1.3509e-04.\n",
      "Epoch [348/500], Batch [68/68], Loss: [446.834, 422.606], Score: [0.115, 0.118]\n",
      "Epoch [349/500], Batch [68/68], Loss: [447.900, 416.997], Score: [0.117, 0.113]\n",
      "Epoch [350/500], Batch [68/68], Loss: [446.607, 424.031], Score: [0.115, 0.117]\n",
      "Epoch [351/500], Batch [68/68], Loss: [444.164, 418.780], Score: [0.115, 0.117]\n",
      "Epoch [352/500], Batch [68/68], Loss: [446.753, 420.027], Score: [0.116, 0.113]\n",
      "Epoch [353/500], Batch [68/68], Loss: [443.002, 420.460], Score: [0.115, 0.121]\n",
      "Epoch [354/500], Batch [68/68], Loss: [441.277, 429.439], Score: [0.114, 0.127]\n",
      "Epoch [355/500], Batch [68/68], Loss: [443.332, 432.399], Score: [0.115, 0.120]\n",
      "Epoch [356/500], Batch [68/68], Loss: [443.408, 418.364], Score: [0.115, 0.118]\n",
      "Epoch [357/500], Batch [68/68], Loss: [442.408, 423.649], Score: [0.115, 0.121]\n",
      "Epoch [358/500], Batch [68/68], Loss: [446.032, 419.183], Score: [0.114, 0.120]\n",
      "Epoch 00358: reducing learning rate of group 0 to 1.2158e-04.\n",
      "Epoch [359/500], Batch [68/68], Loss: [447.909, 426.220], Score: [0.117, 0.117]\n",
      "Epoch [360/500], Batch [68/68], Loss: [443.292, 426.929], Score: [0.115, 0.127]\n",
      "Epoch [361/500], Batch [68/68], Loss: [445.395, 419.993], Score: [0.115, 0.115]\n",
      "Epoch [362/500], Batch [68/68], Loss: [444.964, 422.078], Score: [0.114, 0.118]\n",
      "Epoch [363/500], Batch [68/68], Loss: [447.804, 427.087], Score: [0.116, 0.120]\n",
      "Epoch [364/500], Batch [68/68], Loss: [444.061, 416.306], Score: [0.115, 0.118]\n",
      "Epoch [365/500], Batch [68/68], Loss: [448.604, 424.363], Score: [0.115, 0.118]\n",
      "Epoch [366/500], Batch [68/68], Loss: [446.390, 425.117], Score: [0.114, 0.117]\n",
      "Epoch [367/500], Batch [68/68], Loss: [445.574, 412.191], Score: [0.116, 0.113]\n",
      "Epoch [368/500], Batch [68/68], Loss: [447.621, 421.740], Score: [0.114, 0.115]\n",
      "Epoch [369/500], Batch [68/68], Loss: [444.624, 419.754], Score: [0.114, 0.114]\n",
      "Epoch [370/500], Batch [68/68], Loss: [443.746, 421.660], Score: [0.115, 0.118]\n",
      "Epoch [371/500], Batch [68/68], Loss: [445.470, 418.789], Score: [0.115, 0.115]\n",
      "Epoch [372/500], Batch [68/68], Loss: [445.216, 421.671], Score: [0.113, 0.122]\n",
      "Epoch [373/500], Batch [68/68], Loss: [445.246, 430.380], Score: [0.115, 0.117]\n",
      "Epoch [374/500], Batch [68/68], Loss: [444.288, 424.329], Score: [0.114, 0.122]\n",
      "Epoch [375/500], Batch [68/68], Loss: [442.434, 423.185], Score: [0.113, 0.114]\n",
      "Epoch [376/500], Batch [68/68], Loss: [444.623, 430.768], Score: [0.115, 0.118]\n",
      "Epoch [377/500], Batch [68/68], Loss: [443.346, 425.707], Score: [0.114, 0.126]\n",
      "Epoch [378/500], Batch [68/68], Loss: [442.268, 421.572], Score: [0.114, 0.125]\n",
      "Epoch 00378: reducing learning rate of group 0 to 1.0942e-04.\n",
      "Epoch [379/500], Batch [68/68], Loss: [443.187, 424.118], Score: [0.115, 0.128]\n",
      "Epoch [380/500], Batch [68/68], Loss: [442.146, 419.822], Score: [0.115, 0.118]\n",
      "Epoch [381/500], Batch [68/68], Loss: [443.656, 417.435], Score: [0.114, 0.113]\n",
      "Epoch [382/500], Batch [68/68], Loss: [443.341, 424.990], Score: [0.114, 0.120]\n",
      "Epoch [383/500], Batch [68/68], Loss: [442.789, 420.785], Score: [0.115, 0.116]\n",
      "Epoch [384/500], Batch [68/68], Loss: [439.702, 418.404], Score: [0.112, 0.113]\n",
      "Epoch [385/500], Batch [68/68], Loss: [445.952, 419.731], Score: [0.113, 0.120]\n",
      "Epoch [386/500], Batch [68/68], Loss: [443.756, 417.013], Score: [0.114, 0.118]\n",
      "Epoch [387/500], Batch [68/68], Loss: [442.529, 423.011], Score: [0.115, 0.121]\n",
      "Epoch [388/500], Batch [68/68], Loss: [448.583, 422.390], Score: [0.117, 0.117]\n",
      "Epoch [389/500], Batch [68/68], Loss: [442.378, 434.134], Score: [0.114, 0.123]\n",
      "Epoch 00389: reducing learning rate of group 0 to 9.8477e-05.\n",
      "Epoch [390/500], Batch [68/68], Loss: [442.185, 421.557], Score: [0.113, 0.122]\n",
      "Epoch [391/500], Batch [68/68], Loss: [443.055, 422.020], Score: [0.116, 0.117]\n",
      "Epoch [392/500], Batch [68/68], Loss: [442.649, 418.004], Score: [0.114, 0.118]\n",
      "Epoch [393/500], Batch [68/68], Loss: [446.262, 422.562], Score: [0.114, 0.132]\n",
      "Epoch [394/500], Batch [68/68], Loss: [445.102, 414.601], Score: [0.114, 0.122]\n",
      "Epoch [395/500], Batch [68/68], Loss: [441.215, 423.076], Score: [0.112, 0.130]\n",
      "Epoch [396/500], Batch [68/68], Loss: [440.353, 418.024], Score: [0.113, 0.118]\n",
      "Epoch [397/500], Batch [68/68], Loss: [445.454, 423.436], Score: [0.116, 0.123]\n",
      "Epoch [398/500], Batch [68/68], Loss: [443.214, 418.472], Score: [0.116, 0.124]\n",
      "Epoch [399/500], Batch [68/68], Loss: [443.087, 420.989], Score: [0.114, 0.120]\n",
      "Epoch [400/500], Batch [68/68], Loss: [446.672, 417.229], Score: [0.116, 0.114]\n",
      "Epoch 00400: reducing learning rate of group 0 to 8.8629e-05.\n",
      "Epoch [401/500], Batch [68/68], Loss: [438.351, 416.525], Score: [0.114, 0.116]\n",
      "Epoch [402/500], Batch [68/68], Loss: [442.791, 417.369], Score: [0.113, 0.117]\n",
      "Epoch [403/500], Batch [68/68], Loss: [446.406, 421.573], Score: [0.114, 0.157]\n",
      "Epoch [404/500], Batch [68/68], Loss: [441.624, 422.146], Score: [0.115, 0.117]\n",
      "Epoch [405/500], Batch [68/68], Loss: [445.321, 424.708], Score: [0.114, 0.118]\n",
      "Epoch [406/500], Batch [68/68], Loss: [441.760, 416.232], Score: [0.113, 0.111]\n",
      "Epoch [407/500], Batch [68/68], Loss: [446.410, 422.971], Score: [0.115, 0.125]\n",
      "Epoch [408/500], Batch [68/68], Loss: [442.686, 417.899], Score: [0.114, 0.111]\n",
      "Epoch [409/500], Batch [68/68], Loss: [446.712, 418.979], Score: [0.113, 0.116]\n",
      "Epoch [410/500], Batch [68/68], Loss: [445.764, 427.213], Score: [0.115, 0.120]\n",
      "Epoch [411/500], Batch [68/68], Loss: [442.156, 429.377], Score: [0.115, 0.121]\n",
      "Epoch 00411: reducing learning rate of group 0 to 7.9766e-05.\n",
      "Epoch [412/500], Batch [68/68], Loss: [443.579, 420.793], Score: [0.114, 0.118]\n",
      "Epoch [413/500], Batch [68/68], Loss: [444.616, 421.457], Score: [0.114, 0.118]\n",
      "Epoch [414/500], Batch [68/68], Loss: [442.858, 421.675], Score: [0.113, 0.116]\n",
      "Epoch [415/500], Batch [68/68], Loss: [442.781, 420.844], Score: [0.114, 0.116]\n",
      "Epoch [416/500], Batch [68/68], Loss: [439.721, 422.360], Score: [0.113, 0.116]\n",
      "Epoch [417/500], Batch [68/68], Loss: [439.622, 424.542], Score: [0.113, 0.130]\n",
      "Epoch [418/500], Batch [68/68], Loss: [445.427, 425.672], Score: [0.115, 0.126]\n",
      "Epoch [419/500], Batch [68/68], Loss: [446.511, 421.806], Score: [0.116, 0.119]\n",
      "Epoch [420/500], Batch [68/68], Loss: [440.515, 410.621], Score: [0.113, 0.111]\n",
      "Epoch [421/500], Batch [68/68], Loss: [443.806, 423.663], Score: [0.114, 0.123]\n",
      "Epoch [422/500], Batch [68/68], Loss: [442.638, 417.172], Score: [0.114, 0.111]\n",
      "Epoch [423/500], Batch [68/68], Loss: [444.689, 426.262], Score: [0.115, 0.119]\n",
      "Epoch [424/500], Batch [68/68], Loss: [442.150, 414.845], Score: [0.115, 0.118]\n",
      "Epoch [425/500], Batch [68/68], Loss: [439.135, 418.859], Score: [0.113, 0.118]\n",
      "Epoch [426/500], Batch [68/68], Loss: [443.742, 421.816], Score: [0.115, 0.123]\n",
      "Epoch [427/500], Batch [68/68], Loss: [442.059, 422.085], Score: [0.114, 0.121]\n",
      "Epoch [428/500], Batch [68/68], Loss: [437.005, 420.599], Score: [0.112, 0.122]\n",
      "Epoch [429/500], Batch [68/68], Loss: [440.561, 425.280], Score: [0.113, 0.131]\n",
      "Epoch [430/500], Batch [68/68], Loss: [442.684, 414.388], Score: [0.116, 0.114]\n",
      "Epoch [431/500], Batch [68/68], Loss: [443.333, 419.837], Score: [0.115, 0.114]\n",
      "Epoch 00431: reducing learning rate of group 0 to 7.1790e-05.\n",
      "Epoch [432/500], Batch [68/68], Loss: [444.157, 431.509], Score: [0.114, 0.125]\n",
      "Epoch [433/500], Batch [68/68], Loss: [443.263, 422.566], Score: [0.116, 0.121]\n",
      "Epoch [434/500], Batch [68/68], Loss: [441.204, 414.917], Score: [0.113, 0.115]\n",
      "Epoch [435/500], Batch [68/68], Loss: [441.557, 423.298], Score: [0.114, 0.116]\n",
      "Epoch [436/500], Batch [68/68], Loss: [440.163, 428.031], Score: [0.113, 0.117]\n",
      "Epoch [437/500], Batch [68/68], Loss: [441.086, 417.869], Score: [0.113, 0.114]\n",
      "Epoch [438/500], Batch [68/68], Loss: [442.864, 425.452], Score: [0.114, 0.124]\n",
      "Epoch [439/500], Batch [68/68], Loss: [441.379, 425.314], Score: [0.114, 0.120]\n",
      "Epoch [440/500], Batch [68/68], Loss: [440.999, 418.278], Score: [0.113, 0.116]\n",
      "Epoch [441/500], Batch [68/68], Loss: [438.984, 420.487], Score: [0.113, 0.118]\n",
      "Epoch [442/500], Batch [68/68], Loss: [441.009, 419.957], Score: [0.114, 0.119]\n",
      "Epoch 00442: reducing learning rate of group 0 to 6.4611e-05.\n",
      "Epoch [443/500], Batch [68/68], Loss: [442.088, 417.353], Score: [0.115, 0.117]\n",
      "Epoch [444/500], Batch [68/68], Loss: [442.019, 417.078], Score: [0.112, 0.111]\n",
      "Epoch [445/500], Batch [68/68], Loss: [441.200, 418.264], Score: [0.113, 0.119]\n",
      "Epoch [446/500], Batch [68/68], Loss: [445.728, 420.429], Score: [0.114, 0.116]\n",
      "Epoch [447/500], Batch [68/68], Loss: [441.466, 415.821], Score: [0.112, 0.115]\n",
      "Epoch [448/500], Batch [68/68], Loss: [444.303, 425.644], Score: [0.117, 0.131]\n",
      "Epoch [449/500], Batch [68/68], Loss: [438.580, 420.345], Score: [0.110, 0.117]\n",
      "Epoch [450/500], Batch [68/68], Loss: [443.729, 410.838], Score: [0.115, 0.109]\n",
      "Epoch [451/500], Batch [68/68], Loss: [440.384, 418.875], Score: [0.112, 0.116]\n",
      "Epoch [452/500], Batch [68/68], Loss: [442.399, 418.157], Score: [0.113, 0.114]\n",
      "Epoch [453/500], Batch [68/68], Loss: [443.242, 415.001], Score: [0.114, 0.114]\n",
      "Epoch 00453: reducing learning rate of group 0 to 5.8150e-05.\n",
      "Epoch [454/500], Batch [68/68], Loss: [444.169, 428.924], Score: [0.113, 0.122]\n",
      "Epoch [455/500], Batch [68/68], Loss: [442.347, 429.394], Score: [0.114, 0.126]\n",
      "Epoch [456/500], Batch [68/68], Loss: [442.672, 413.497], Score: [0.114, 0.120]\n",
      "Epoch [457/500], Batch [68/68], Loss: [442.704, 412.979], Score: [0.114, 0.110]\n",
      "Epoch [458/500], Batch [68/68], Loss: [443.118, 414.285], Score: [0.113, 0.106]\n",
      "Epoch [459/500], Batch [68/68], Loss: [441.843, 424.065], Score: [0.112, 0.110]\n",
      "Epoch [460/500], Batch [68/68], Loss: [443.215, 410.225], Score: [0.110, 0.110]\n",
      "Epoch [461/500], Batch [68/68], Loss: [440.221, 415.995], Score: [0.114, 0.116]\n",
      "Epoch [462/500], Batch [68/68], Loss: [444.798, 420.204], Score: [0.113, 0.117]\n",
      "Epoch [463/500], Batch [68/68], Loss: [442.338, 419.767], Score: [0.113, 0.117]\n",
      "Epoch [464/500], Batch [68/68], Loss: [439.225, 420.507], Score: [0.114, 0.117]\n",
      "Epoch [465/500], Batch [68/68], Loss: [439.420, 415.222], Score: [0.114, 0.114]\n",
      "Epoch [466/500], Batch [68/68], Loss: [441.791, 417.527], Score: [0.115, 0.115]\n",
      "Epoch [467/500], Batch [68/68], Loss: [445.571, 417.343], Score: [0.114, 0.112]\n",
      "Epoch [468/500], Batch [68/68], Loss: [438.595, 425.147], Score: [0.113, 0.122]\n",
      "Epoch [469/500], Batch [68/68], Loss: [445.483, 417.379], Score: [0.114, 0.110]\n",
      "Epoch [470/500], Batch [68/68], Loss: [445.300, 418.996], Score: [0.115, 0.111]\n",
      "Epoch [471/500], Batch [68/68], Loss: [441.386, 420.983], Score: [0.111, 0.119]\n",
      "Epoch 00471: reducing learning rate of group 0 to 5.2335e-05.\n",
      "Epoch [472/500], Batch [68/68], Loss: [445.100, 416.273], Score: [0.114, 0.112]\n",
      "Epoch [473/500], Batch [68/68], Loss: [441.528, 419.352], Score: [0.114, 0.123]\n",
      "Epoch [474/500], Batch [68/68], Loss: [438.701, 414.791], Score: [0.113, 0.118]\n",
      "Epoch [475/500], Batch [68/68], Loss: [441.444, 422.862], Score: [0.114, 0.117]\n",
      "Epoch [476/500], Batch [68/68], Loss: [440.246, 417.998], Score: [0.114, 0.115]\n",
      "Epoch [477/500], Batch [68/68], Loss: [442.321, 425.346], Score: [0.115, 0.121]\n",
      "Epoch [478/500], Batch [68/68], Loss: [442.402, 415.838], Score: [0.114, 0.114]\n",
      "Epoch [479/500], Batch [68/68], Loss: [442.947, 422.277], Score: [0.112, 0.116]\n",
      "Epoch [480/500], Batch [68/68], Loss: [441.288, 421.995], Score: [0.114, 0.119]\n",
      "Epoch [481/500], Batch [68/68], Loss: [444.092, 419.202], Score: [0.116, 0.118]\n",
      "Epoch [482/500], Batch [68/68], Loss: [442.307, 418.440], Score: [0.113, 0.116]\n",
      "Epoch 00482: reducing learning rate of group 0 to 4.7101e-05.\n",
      "Epoch [483/500], Batch [68/68], Loss: [441.375, 420.244], Score: [0.112, 0.113]\n",
      "Epoch [484/500], Batch [68/68], Loss: [440.492, 421.999], Score: [0.113, 0.116]\n",
      "Epoch [485/500], Batch [68/68], Loss: [441.562, 416.115], Score: [0.114, 0.116]\n",
      "Epoch [486/500], Batch [68/68], Loss: [441.179, 424.755], Score: [0.113, 0.117]\n",
      "Epoch [487/500], Batch [68/68], Loss: [442.222, 420.040], Score: [0.114, 0.120]\n",
      "Epoch [488/500], Batch [68/68], Loss: [442.631, 423.691], Score: [0.112, 0.121]\n",
      "Epoch [489/500], Batch [68/68], Loss: [441.807, 415.985], Score: [0.113, 0.117]\n",
      "Epoch [490/500], Batch [68/68], Loss: [442.106, 416.405], Score: [0.113, 0.113]\n",
      "Epoch [491/500], Batch [68/68], Loss: [443.714, 419.674], Score: [0.113, 0.122]\n",
      "Epoch [492/500], Batch [68/68], Loss: [446.668, 418.607], Score: [0.115, 0.115]\n",
      "Epoch [493/500], Batch [68/68], Loss: [439.941, 419.244], Score: [0.112, 0.122]\n",
      "Epoch 00493: reducing learning rate of group 0 to 4.2391e-05.\n",
      "Epoch [494/500], Batch [68/68], Loss: [437.221, 419.042], Score: [0.112, 0.118]\n",
      "Epoch [495/500], Batch [68/68], Loss: [444.913, 422.995], Score: [0.115, 0.115]\n",
      "Epoch [496/500], Batch [68/68], Loss: [443.485, 416.443], Score: [0.112, 0.112]\n",
      "Epoch [497/500], Batch [68/68], Loss: [439.163, 419.247], Score: [0.111, 0.117]\n",
      "Epoch [498/500], Batch [68/68], Loss: [440.813, 413.032], Score: [0.114, 0.117]\n",
      "Epoch [499/500], Batch [68/68], Loss: [447.343, 425.423], Score: [0.114, 0.125]\n",
      "Epoch [500/500], Batch [68/68], Loss: [441.134, 416.631], Score: [0.111, 0.118]\n"
     ]
    }
   ],
   "source": [
    "train = True\n",
    "batch_size = 64\n",
    "\n",
    "dset_trn = TSDataset(trn_data, mean=means, std=stds)\n",
    "dset_val = TSDataset(val_data, mean=means, std=stds)\n",
    "dl_trn = DataLoader(\n",
    "    dataset=dset_trn,\n",
    "    batch_size=batch_size,\n",
    "    drop_last=True,\n",
    "    shuffle=train,\n",
    "    num_workers=num_workers,\n",
    ")\n",
    "dl_val = DataLoader(\n",
    "    dataset=dset_val,\n",
    "    batch_size=batch_size,\n",
    "    drop_last=False,\n",
    "    shuffle=False,\n",
    "    num_workers=num_workers,\n",
    ")\n",
    "\n",
    "#\n",
    "train_dataloader = dl_trn\n",
    "valid_dataloader = dl_val\n",
    "\n",
    "range_of_vals = 3.5  # output values will be in the range -3 to 3\n",
    "activation = partial(F.hardtanh, min_val=-range_of_vals, max_val=range_of_vals)\n",
    "latent_dim = int(p * n_features // 2)\n",
    "print(f\"latent_dim is {latent_dim}\")\n",
    "model = VAE(latent_dim=latent_dim, input_shape=(p, n_features), act=activation).to(\n",
    "    device\n",
    ")  # to make visualization easier, 2 latent dims\n",
    "\n",
    "learning_rate = 1e-3\n",
    "criterion = loss_func\n",
    "optimizer = torch.optim.Adam(model.parameters(), lr=learning_rate, weight_decay=1e-6)\n",
    "scorer = get_similarity  # calculate_smape\n",
    "# Training loop\n",
    "num_epochs = 500\n",
    "print_every = len(train_dataloader)  # epoch number to print at\n",
    "\n",
    "# Define LR scheduler\n",
    "scheduler = torch.optim.lr_scheduler.ReduceLROnPlateau(\n",
    "    optimizer, factor=0.9, patience=10, min_lr=1e-8, verbose=True\n",
    ")\n",
    "\n",
    "# Training loop\n",
    "for epoch in range(num_epochs):\n",
    "    model.train()\n",
    "    running_loss = 0.0\n",
    "    running_score = 0.0\n",
    "    for batch_idx, xs in enumerate(train_dataloader):\n",
    "        model.train()\n",
    "        optimizer.zero_grad()\n",
    "\n",
    "        # move to device\n",
    "        xs = xs.to(device)\n",
    "\n",
    "        # Forward pass\n",
    "        xs_gen, loss_kl = model(xs)\n",
    "\n",
    "        loss = criterion(xs_gen, targets=xs, loss_kl=loss_kl)\n",
    "        # calc score\n",
    "        score = scorer(xs_gen, xs)\n",
    "\n",
    "        loss.backward()\n",
    "        optimizer.step()\n",
    "\n",
    "        running_loss += loss.item()\n",
    "        running_score += score.item()\n",
    "\n",
    "    if (batch_idx + 1) % print_every == 0:\n",
    "        # calculate loss for valid_dataloader\n",
    "        n_dls = len(train_dataloader)\n",
    "        val_loss, val_score = validate_epoch(valid_dataloader, criterion, scorer)\n",
    "        print(\n",
    "            \"Epoch [{}/{}], Batch [{}/{}], Loss: [{:.3f}, {:.3f}], Score: [{:.3f}, {:.3f}]\".format(\n",
    "                epoch + 1,\n",
    "                num_epochs,\n",
    "                batch_idx + 1,\n",
    "                n_dls,\n",
    "                running_loss / n_dls,\n",
    "                val_loss,\n",
    "                running_score / n_dls,\n",
    "                val_score,\n",
    "            )\n",
    "        )\n",
    "    # reset at end of epoch\n",
    "    running_loss = 0.0\n",
    "    running_score = 0.0\n",
    "    # Step the LR scheduler\n",
    "    scheduler.step(val_loss)  # min the running_loss\n"
   ]
  },
  {
   "cell_type": "code",
   "execution_count": null,
   "metadata": {},
   "outputs": [],
   "source": []
  },
  {
   "cell_type": "code",
   "execution_count": 108,
   "metadata": {},
   "outputs": [
    {
     "data": {
      "text/plain": [
       "'../models/vae_500_z24.pth'"
      ]
     },
     "execution_count": 108,
     "metadata": {},
     "output_type": "execute_result"
    }
   ],
   "source": [
    "model_pth = f\"../models/vae_{num_epochs}_z{latent_dim}.pth\"\n",
    "torch.save(model, model_pth)\n",
    "model_pth\n"
   ]
  },
  {
   "cell_type": "markdown",
   "metadata": {},
   "source": [
    "# Inference"
   ]
  },
  {
   "cell_type": "code",
   "execution_count": 111,
   "metadata": {},
   "outputs": [
    {
     "data": {
      "image/png": "[encoded data removed]",
      "text/plain": [
       "<Figure size 640x480 with 10 Axes>"
      ]
     },
     "metadata": {},
     "output_type": "display_data"
    }
   ],
   "source": [
    "model = torch.load(model_pth)\n",
    "with torch.no_grad():\n",
    "    xs_val = next(iter(dl_val))\n",
    "    xs_val_gen, loss_kl = model(xs_val.to(device))\n",
    "\n",
    "for idx in range(batch_size):\n",
    "    if idx >= 10:\n",
    "        break\n",
    "    plt.subplot(5, 2, idx + 1)\n",
    "    idx_feature = 0\n",
    "    decoded_example, actual_example = (\n",
    "        xs_val_gen[idx].detach().cpu(),\n",
    "        xs_val[idx].detach().cpu(),\n",
    "    )\n",
    "    sns.lineplot(\n",
    "        actual_example[:, idx_feature].numpy(),\n",
    "        alpha=0.5,\n",
    "        label=\"true\",\n",
    "    )\n",
    "    sns.lineplot(decoded_example[:, idx_feature].numpy())  # , label=\"vae\")\n",
    "plt.tight_layout()\n"
   ]
  },
  {
   "cell_type": "markdown",
   "metadata": {},
   "source": [
    "# Display embedding"
   ]
  },
  {
   "cell_type": "code",
   "execution_count": 115,
   "metadata": {},
   "outputs": [],
   "source": [
    "with torch.no_grad():\n",
    "    xs_val = next(iter(dl_val))\n",
    "    emb_mean_val, emb_std_val = model.encoder(xs_val.to(device))\n",
    "    emb_val = model.latent_sampler(emb_mean_val, emb_std_val)"
   ]
  },
  {
   "cell_type": "code",
   "execution_count": 116,
   "metadata": {},
   "outputs": [
    {
     "data": {
      "text/plain": [
       "(64, 24)"
      ]
     },
     "execution_count": 116,
     "metadata": {},
     "output_type": "execute_result"
    }
   ],
   "source": [
    "emb_val.cpu().numpy().shape\n"
   ]
  },
  {
   "cell_type": "code",
   "execution_count": 117,
   "metadata": {},
   "outputs": [
    {
     "data": {
      "text/plain": [
       "<Axes: xlabel='None', ylabel='None'>"
      ]
     },
     "execution_count": 117,
     "metadata": {},
     "output_type": "execute_result"
    },
    {
     "data": {
      "image/png": "[encoded data removed]",
      "text/plain": [
       "<Figure size 640x480 with 1 Axes>"
      ]
     },
     "metadata": {},
     "output_type": "display_data"
    }
   ],
   "source": [
    "sns.scatterplot(x=emb_val[:, 0].cpu(), y=emb_val[:, 1].cpu())\n"
   ]
  },
  {
   "cell_type": "code",
   "execution_count": 118,
   "metadata": {},
   "outputs": [],
   "source": [
    "# | hide\n",
    "import nbdev\n",
    "\n",
    "nbdev.nbdev_export()\n"
   ]
  },
  {
   "cell_type": "code",
   "execution_count": null,
   "metadata": {},
   "outputs": [],
   "source": []
  },
  {
   "cell_type": "code",
   "execution_count": null,
   "metadata": {},
   "outputs": [],
   "source": []
  }
 ],
 "metadata": {
  "kernelspec": {
   "display_name": "vae-lstm-kernel",
   "language": "python",
   "name": "vae-lstm-kernel"
  },
  "language_info": {
   "codemirror_mode": {
    "name": "ipython",
    "version": 3
   },
   "file_extension": ".py",
   "mimetype": "text/x-python",
   "name": "python",
   "nbconvert_exporter": "python",
   "pygments_lexer": "ipython3",
   "version": "3.9.17"
  }
 },
 "nbformat": 4,
 "nbformat_minor": 4
}
