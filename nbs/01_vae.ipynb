{
 "cells": [
  {
   "cell_type": "markdown",
   "metadata": {},
   "source": [
    "# core\n",
    "\n",
    "> Fill in a module description here"
   ]
  },
  {
   "cell_type": "code",
   "execution_count": 1,
   "metadata": {},
   "outputs": [],
   "source": [
    "# | default_exp vae\n"
   ]
  },
  {
   "cell_type": "code",
   "execution_count": 2,
   "metadata": {},
   "outputs": [],
   "source": [
    "# | hide\n",
    "from nbdev.showdoc import *\n"
   ]
  },
  {
   "cell_type": "code",
   "execution_count": 3,
   "metadata": {},
   "outputs": [],
   "source": [
    "# | export\n",
    "import pandas as pd\n",
    "import numpy as np\n",
    "import matplotlib.pyplot as plt\n",
    "import seaborn as sns\n",
    "from datetime import datetime as dt\n",
    "from ts_vae_lstm.concepts import get_window\n",
    "from scipy import signal\n",
    "import os\n",
    "import math\n"
   ]
  },
  {
   "cell_type": "code",
   "execution_count": 4,
   "metadata": {},
   "outputs": [
    {
     "data": {
      "text/plain": [
       "4"
      ]
     },
     "execution_count": 4,
     "metadata": {},
     "output_type": "execute_result"
    }
   ],
   "source": [
    "num_workers = os.cpu_count()\n",
    "num_workers\n"
   ]
  },
  {
   "cell_type": "markdown",
   "metadata": {},
   "source": [
    "Train a VAE with no anomalies in the time series.\n",
    "\n",
    "```--> Anomalies occur at:\n",
    "  timestamp #0: 2014-11-01 19:00:00\n",
    "  timestamp #1: 2014-11-27 15:30:00\n",
    "  timestamp #2: 2014-12-25 15:00:00\n",
    "  timestamp #3: 2015-01-01 01:00:00\n",
    "  timestamp #4: 2015-01-27 00:00:00\n",
    "\n",
    "Original csv file contains (10320,) timestamps.\n",
    "Processed time series contain (10320,) readings.\n",
    "Anomaly indices are [5943, 7184, 8527, 8835, 10081]\n",
    "\n",
    "Training set mean is 14855.115757575757\n",
    "Training set std is 6556.134705703313\n",
    "Anomaly indices in the test set are [2643 3884 5227 5535 6781]```"
   ]
  },
  {
   "cell_type": "code",
   "execution_count": 5,
   "metadata": {},
   "outputs": [
    {
     "name": "stdout",
     "output_type": "stream",
     "text": [
      "t\n",
      "t_unit\n",
      "readings\n",
      "idx_anomaly\n",
      "idx_split\n",
      "training\n",
      "test\n",
      "train_m\n",
      "train_std\n",
      "t_train\n",
      "t_test\n",
      "idx_anomaly_test\n"
     ]
    }
   ],
   "source": [
    "data = np.load(\"../sample_data/nyc_taxi.npz\")\n",
    "for k in data.keys():\n",
    "    print(k)"
   ]
  },
  {
   "cell_type": "code",
   "execution_count": 6,
   "metadata": {},
   "outputs": [
    {
     "data": {
      "text/plain": [
       "array('30 min', dtype='<U6')"
      ]
     },
     "execution_count": 6,
     "metadata": {},
     "output_type": "execute_result"
    }
   ],
   "source": [
    "data[\"t_unit\"]  # 1 hour is 2 steps, 24hrs is 48 steps\n"
   ]
  },
  {
   "cell_type": "code",
   "execution_count": 7,
   "metadata": {},
   "outputs": [
    {
     "data": {
      "text/plain": [
       "(5500,)"
      ]
     },
     "execution_count": 7,
     "metadata": {},
     "output_type": "execute_result"
    }
   ],
   "source": [
    "data[\"training\"].shape"
   ]
  },
  {
   "cell_type": "code",
   "execution_count": 8,
   "metadata": {},
   "outputs": [
    {
     "data": {
      "text/html": [
       "<div>\n",
       "<style scoped>\n",
       "    .dataframe tbody tr th:only-of-type {\n",
       "        vertical-align: middle;\n",
       "    }\n",
       "\n",
       "    .dataframe tbody tr th {\n",
       "        vertical-align: top;\n",
       "    }\n",
       "\n",
       "    .dataframe thead th {\n",
       "        text-align: right;\n",
       "    }\n",
       "</style>\n",
       "<table border=\"1\" class=\"dataframe\">\n",
       "  <thead>\n",
       "    <tr style=\"text-align: right;\">\n",
       "      <th></th>\n",
       "      <th>value</th>\n",
       "    </tr>\n",
       "  </thead>\n",
       "  <tbody>\n",
       "    <tr>\n",
       "      <th>1</th>\n",
       "      <td>-0.647416</td>\n",
       "    </tr>\n",
       "    <tr>\n",
       "      <th>2</th>\n",
       "      <td>-1.048144</td>\n",
       "    </tr>\n",
       "    <tr>\n",
       "      <th>3</th>\n",
       "      <td>-1.330880</td>\n",
       "    </tr>\n",
       "    <tr>\n",
       "      <th>4</th>\n",
       "      <td>-1.560078</td>\n",
       "    </tr>\n",
       "    <tr>\n",
       "      <th>5</th>\n",
       "      <td>-1.683378</td>\n",
       "    </tr>\n",
       "    <tr>\n",
       "      <th>...</th>\n",
       "      <td>...</td>\n",
       "    </tr>\n",
       "    <tr>\n",
       "      <th>5496</th>\n",
       "      <td>0.650634</td>\n",
       "    </tr>\n",
       "    <tr>\n",
       "      <th>5497</th>\n",
       "      <td>0.769805</td>\n",
       "    </tr>\n",
       "    <tr>\n",
       "      <th>5498</th>\n",
       "      <td>0.614499</td>\n",
       "    </tr>\n",
       "    <tr>\n",
       "      <th>5499</th>\n",
       "      <td>0.474090</td>\n",
       "    </tr>\n",
       "    <tr>\n",
       "      <th>5500</th>\n",
       "      <td>0.437365</td>\n",
       "    </tr>\n",
       "  </tbody>\n",
       "</table>\n",
       "<p>5500 rows × 1 columns</p>\n",
       "</div>"
      ],
      "text/plain": [
       "         value\n",
       "1    -0.647416\n",
       "2    -1.048144\n",
       "3    -1.330880\n",
       "4    -1.560078\n",
       "5    -1.683378\n",
       "...        ...\n",
       "5496  0.650634\n",
       "5497  0.769805\n",
       "5498  0.614499\n",
       "5499  0.474090\n",
       "5500  0.437365\n",
       "\n",
       "[5500 rows x 1 columns]"
      ]
     },
     "execution_count": 8,
     "metadata": {},
     "output_type": "execute_result"
    }
   ],
   "source": [
    "df = pd.DataFrame(data[\"training\"], index=data[\"t_train\"], columns=[\"value\"])\n",
    "df"
   ]
  },
  {
   "cell_type": "code",
   "execution_count": 9,
   "metadata": {},
   "outputs": [],
   "source": [
    "window_size = 48  # so that one window is one day\n",
    "\n",
    "data = [\n",
    "    {\n",
    "        \"subset\": get_window(\n",
    "            df.values,\n",
    "            window_size=window_size,\n",
    "            end_step=end_step,\n",
    "            indices=list(df.index),\n",
    "            return_indices=False,\n",
    "        ),\n",
    "        \"end_step\": end_step,\n",
    "        \"start_step\": end_step - window_size,\n",
    "    }\n",
    "    for end_step in range(window_size, len(df))\n",
    "]"
   ]
  },
  {
   "cell_type": "code",
   "execution_count": 10,
   "metadata": {},
   "outputs": [
    {
     "data": {
      "text/plain": [
       "5452"
      ]
     },
     "execution_count": 10,
     "metadata": {},
     "output_type": "execute_result"
    }
   ],
   "source": [
    "# Number of datapoints\n",
    "len(df) - window_size"
   ]
  },
  {
   "cell_type": "markdown",
   "metadata": {},
   "source": [
    "Preseve 10% of the dataset from this for validation set."
   ]
  },
  {
   "cell_type": "code",
   "execution_count": 11,
   "metadata": {},
   "outputs": [
    {
     "data": {
      "text/plain": [
       "(545, 4907)"
      ]
     },
     "execution_count": 11,
     "metadata": {},
     "output_type": "execute_result"
    }
   ],
   "source": [
    "val_data_idxs = np.random.choice(\n",
    "    range(len(data)), size=int(0.1 * len(data)), replace=False\n",
    ")\n",
    "trn_data_idxs = [idx for idx in range(len(data)) if idx not in val_data_idxs]\n",
    "len(val_data_idxs), len(trn_data_idxs)"
   ]
  },
  {
   "cell_type": "code",
   "execution_count": 12,
   "metadata": {},
   "outputs": [],
   "source": [
    "# | export\n",
    "\n",
    "from torch import nn\n",
    "import torch.nn.functional as F\n",
    "import torch\n",
    "from torch.utils.data import Dataset, DataLoader\n",
    "from sklearn.metrics import roc_auc_score, accuracy_score"
   ]
  },
  {
   "cell_type": "code",
   "execution_count": 13,
   "metadata": {},
   "outputs": [],
   "source": [
    "val_data = [data[idx] for idx in val_data_idxs]\n",
    "trn_data = [data[idx] for idx in trn_data_idxs]"
   ]
  },
  {
   "cell_type": "markdown",
   "metadata": {},
   "source": [
    "Calculate stats over training data."
   ]
  },
  {
   "cell_type": "code",
   "execution_count": 14,
   "metadata": {},
   "outputs": [
    {
     "data": {
      "text/plain": [
       "(48, 1)"
      ]
     },
     "execution_count": 14,
     "metadata": {},
     "output_type": "execute_result"
    }
   ],
   "source": [
    "trn_data[0][\"subset\"].shape"
   ]
  },
  {
   "cell_type": "code",
   "execution_count": 15,
   "metadata": {},
   "outputs": [
    {
     "data": {
      "text/plain": [
       "1"
      ]
     },
     "execution_count": 15,
     "metadata": {},
     "output_type": "execute_result"
    }
   ],
   "source": [
    "n_features = trn_data[0][\"subset\"].shape[1]  # - 1\n",
    "n_features\n"
   ]
  },
  {
   "cell_type": "code",
   "execution_count": null,
   "metadata": {},
   "outputs": [],
   "source": []
  },
  {
   "cell_type": "code",
   "execution_count": 16,
   "metadata": {},
   "outputs": [
    {
     "data": {
      "text/plain": [
       "(array([0.]), array([0.]))"
      ]
     },
     "execution_count": 16,
     "metadata": {},
     "output_type": "execute_result"
    }
   ],
   "source": [
    "means = np.zeros((len(trn_data), n_features))  # ((len(trn_data), 4))\n",
    "stds = np.zeros((len(trn_data), n_features))  # ((len(trn_data), 4))\n",
    "slice_from = n_features - 1\n",
    "\"\"\"\n",
    "for i, _trn_data in enumerate(trn_data):\n",
    "    means[i] = (np.mean(_trn_data[\"subset\"][:, slice_from:], axis=0)).astype(np.float32)\n",
    "    stds[i] = (np.var(_trn_data[\"subset\"][:, slice_from:], axis=0) ** 0.5).astype(\n",
    "        np.float32\n",
    "    )\n",
    "\"\"\"\n",
    "means = means.mean(0)\n",
    "stds = stds.mean(0)\n",
    "\n",
    "means, stds\n"
   ]
  },
  {
   "cell_type": "markdown",
   "metadata": {},
   "source": [
    "only first feature is numeric, so remove mean and std from the rest."
   ]
  },
  {
   "cell_type": "code",
   "execution_count": 17,
   "metadata": {},
   "outputs": [
    {
     "data": {
      "text/plain": [
       "(array([0.]), array([1.]))"
      ]
     },
     "execution_count": 17,
     "metadata": {},
     "output_type": "execute_result"
    }
   ],
   "source": [
    "means[slice_from:] = 0\n",
    "stds[slice_from:] = 1\n",
    "means, stds\n"
   ]
  },
  {
   "cell_type": "code",
   "execution_count": 18,
   "metadata": {},
   "outputs": [],
   "source": [
    "class TSDataset(Dataset):\n",
    "    def __init__(self, data, mean, std):\n",
    "        self.data = data\n",
    "        self.mean = mean\n",
    "        self.std = std\n",
    "\n",
    "    def __getitem__(self, idx):\n",
    "        # output[channel] = (input[channel] - mean[channel]) / std[channel]\n",
    "        # ignore the timestamp column\n",
    "        x = self.data[idx][\"subset\"][:, slice_from:]  # 1024, 4\n",
    "        normed_X = ((x - self.mean) / (self.std + 1e-8)).astype(np.float32)\n",
    "        return torch.as_tensor(normed_X)\n",
    "\n",
    "    def __len__(self):\n",
    "        return len(self.data)"
   ]
  },
  {
   "cell_type": "code",
   "execution_count": 19,
   "metadata": {},
   "outputs": [],
   "source": [
    "dset_trn = TSDataset(trn_data, mean=means, std=stds)\n",
    "dset_val = TSDataset(\n",
    "    val_data, mean=means, std=stds\n",
    ")  # use same stats from training data\n"
   ]
  },
  {
   "cell_type": "code",
   "execution_count": 20,
   "metadata": {},
   "outputs": [
    {
     "data": {
      "text/plain": [
       "torch.Size([48, 1])"
      ]
     },
     "execution_count": 20,
     "metadata": {},
     "output_type": "execute_result"
    }
   ],
   "source": [
    "dset_trn[0].shape\n"
   ]
  },
  {
   "cell_type": "code",
   "execution_count": 21,
   "metadata": {},
   "outputs": [],
   "source": [
    "batch_size = 32"
   ]
  },
  {
   "cell_type": "code",
   "execution_count": 22,
   "metadata": {},
   "outputs": [],
   "source": [
    "dl_trn = DataLoader(\n",
    "    dataset=dset_trn,\n",
    "    batch_size=batch_size,\n",
    "    drop_last=True,\n",
    "    shuffle=True,\n",
    "    num_workers=num_workers,\n",
    ")\n",
    "dl_val = DataLoader(\n",
    "    dataset=dset_val,\n",
    "    batch_size=batch_size,\n",
    "    drop_last=True,\n",
    "    shuffle=False,\n",
    "    num_workers=num_workers,\n",
    ")"
   ]
  },
  {
   "cell_type": "code",
   "execution_count": 23,
   "metadata": {},
   "outputs": [
    {
     "data": {
      "text/plain": [
       "torch.Size([32, 48, 1])"
      ]
     },
     "execution_count": 23,
     "metadata": {},
     "output_type": "execute_result"
    }
   ],
   "source": [
    "xs = next(iter(dl_trn))\n",
    "xs.shape"
   ]
  },
  {
   "cell_type": "code",
   "execution_count": 24,
   "metadata": {},
   "outputs": [
    {
     "data": {
      "text/plain": [
       "torch.Size([32, 48, 1])"
      ]
     },
     "execution_count": 24,
     "metadata": {},
     "output_type": "execute_result"
    }
   ],
   "source": [
    "xs.shape"
   ]
  },
  {
   "cell_type": "code",
   "execution_count": 25,
   "metadata": {},
   "outputs": [
    {
     "data": {
      "text/plain": [
       "(torch.Size([32, 32, 23, 1]),\n",
       " torch.Size([32, 64, 11, 1]),\n",
       " torch.Size([32, 128, 5, 1]),\n",
       " torch.Size([32, 512, 1, 1]))"
      ]
     },
     "execution_count": 25,
     "metadata": {},
     "output_type": "execute_result"
    }
   ],
   "source": [
    "num_hidden_units = 512\n",
    "kernel_size = (3, 1)\n",
    "stride = (2, 1)\n",
    "xs_c1 = nn.Conv2d(\n",
    "    in_channels=1,\n",
    "    out_channels=num_hidden_units // 16,\n",
    "    kernel_size=kernel_size,\n",
    "    stride=stride,\n",
    ")(xs.unsqueeze(1))\n",
    "xs_c2 = nn.Conv2d(\n",
    "    in_channels=num_hidden_units // 16,\n",
    "    out_channels=num_hidden_units // 8,\n",
    "    kernel_size=kernel_size,\n",
    "    stride=stride,\n",
    ")(xs_c1)\n",
    "xs_c3 = nn.Conv2d(\n",
    "    in_channels=num_hidden_units // 8,\n",
    "    out_channels=num_hidden_units // 4,\n",
    "    kernel_size=kernel_size,\n",
    "    stride=stride,\n",
    ")(xs_c2)\n",
    "xs_c4 = nn.Conv2d(\n",
    "    in_channels=num_hidden_units // 4,\n",
    "    out_channels=num_hidden_units // 1,\n",
    "    kernel_size=(4, 1),\n",
    "    stride=stride,\n",
    ")(xs_c3)\n",
    "xs_c1.shape, xs_c2.shape, xs_c3.shape, xs_c4.shape\n"
   ]
  },
  {
   "cell_type": "code",
   "execution_count": 26,
   "metadata": {},
   "outputs": [
    {
     "data": {
      "text/plain": [
       "tensor(-0.0030, grad_fn=<MeanBackward0>)"
      ]
     },
     "execution_count": 26,
     "metadata": {},
     "output_type": "execute_result"
    }
   ],
   "source": [
    "xs_c4.mean()\n"
   ]
  },
  {
   "cell_type": "code",
   "execution_count": null,
   "metadata": {},
   "outputs": [],
   "source": []
  },
  {
   "cell_type": "code",
   "execution_count": 27,
   "metadata": {},
   "outputs": [],
   "source": [
    "# | export\n",
    "\n",
    "# encoder\n",
    "# l_win to 24, the model would consider each 24-hour period as one sequence.\n",
    "# pad: if your array is [1, 2, 3] and you symmetrically pad it with 1 unit, the result would be [2, 1, 2, 3, 2].\n",
    "# xavier_initializer()\n",
    "# conv 1: num_hidden_units / 16\n",
    "# conv 2: num_hidden_units / 8\n",
    "# conv 3: num_hidden_units / 4\n",
    "# conv 4: num_hidden_units / 1, kernel = 4, 1\n",
    "# padding : same\n",
    "\n",
    "\n",
    "class Encoder(nn.Module):\n",
    "    def __init__(\n",
    "        self,\n",
    "        latent_dim=20,\n",
    "        num_hidden_units=512,\n",
    "        kernel_size=(3, 1),\n",
    "        stride=(2, 1),\n",
    "        act=F.mish,\n",
    "    ):\n",
    "        super().__init__()\n",
    "        self.flatten = nn.Flatten()\n",
    "        self.conv1 = nn.Conv2d(\n",
    "            in_channels=1,\n",
    "            out_channels=num_hidden_units // 16,\n",
    "            kernel_size=kernel_size,\n",
    "            stride=stride,\n",
    "        )\n",
    "        self.conv2 = nn.Conv2d(\n",
    "            in_channels=num_hidden_units // 16,\n",
    "            out_channels=num_hidden_units // 8,\n",
    "            kernel_size=kernel_size,\n",
    "            stride=stride,\n",
    "        )\n",
    "        self.conv3 = nn.Conv2d(\n",
    "            in_channels=num_hidden_units // 8,\n",
    "            out_channels=num_hidden_units // 4,\n",
    "            kernel_size=kernel_size,\n",
    "            stride=stride,\n",
    "        )\n",
    "        self.conv4 = nn.Conv2d(\n",
    "            in_channels=num_hidden_units // 4,\n",
    "            out_channels=num_hidden_units,\n",
    "            kernel_size=(4, 1),\n",
    "            stride=stride,\n",
    "        )\n",
    "        self.linear = nn.Linear(\n",
    "            in_features=num_hidden_units, out_features=num_hidden_units, bias=True\n",
    "        )\n",
    "        self.linear_mean = nn.Linear(\n",
    "            in_features=num_hidden_units, out_features=latent_dim, bias=True\n",
    "        )\n",
    "        self.linear_var = nn.Linear(\n",
    "            in_features=num_hidden_units, out_features=latent_dim, bias=True\n",
    "        )\n",
    "        self.act = act\n",
    "        self.init_weights()\n",
    "\n",
    "    def forward(self, x):\n",
    "        x = x.unsqueeze(1)  # 100, 1, 48, 1\n",
    "        x = self.act(self.conv1(x))  # 100, 32, 23, 1\n",
    "        x = self.act(self.conv2(x))  # 100, 64, 11, 1\n",
    "        x = self.act(self.conv3(x))  # 100, 128, 5, 1\n",
    "        x = self.act(self.conv4(x))  # 100, 512, 1, 1\n",
    "        x = self.flatten(x)  # 100, 512\n",
    "        x = self.act(self.linear(x))  # 100, 512\n",
    "        z_mean = self.linear_mean(x)\n",
    "        z_log_var = self.linear_var(x)\n",
    "        return z_mean, z_log_var\n",
    "\n",
    "    def init_weights(self):\n",
    "        for m in self.modules():\n",
    "            if isinstance(m, nn.Linear):\n",
    "                torch.nn.init.xavier_normal_(m.weight)\n",
    "                m.bias.data.fill_(0)\n",
    "            elif isinstance(m, nn.Conv2d):\n",
    "                torch.nn.init.xavier_normal_(m.weight)\n",
    "                m.bias.data.fill_(0)\n"
   ]
  },
  {
   "cell_type": "code",
   "execution_count": 28,
   "metadata": {},
   "outputs": [
    {
     "data": {
      "text/plain": [
       "(torch.Size([32, 20]), torch.Size([32, 20]))"
      ]
     },
     "execution_count": 28,
     "metadata": {},
     "output_type": "execute_result"
    }
   ],
   "source": [
    "emb_mean, emb_var = Encoder(latent_dim=20)(xs)\n",
    "emb_mean.shape, emb_var.shape\n"
   ]
  },
  {
   "cell_type": "code",
   "execution_count": 29,
   "metadata": {},
   "outputs": [
    {
     "data": {
      "text/plain": [
       "(tensor(-0.0007, grad_fn=<MeanBackward0>),\n",
       " tensor(0.0010, grad_fn=<MeanBackward0>))"
      ]
     },
     "execution_count": 29,
     "metadata": {},
     "output_type": "execute_result"
    }
   ],
   "source": [
    "emb_mean.mean(), emb_var.mean()"
   ]
  },
  {
   "cell_type": "code",
   "execution_count": null,
   "metadata": {},
   "outputs": [],
   "source": []
  },
  {
   "cell_type": "code",
   "execution_count": 30,
   "metadata": {},
   "outputs": [],
   "source": [
    "# | export\n",
    "\n",
    "\n",
    "class StochasticSampler(nn.Module):\n",
    "    def __init__(self):\n",
    "        super().__init__()\n",
    "        self.sampler = torch.distributions.Normal(loc=0, scale=1)\n",
    "\n",
    "    def forward(self, z_mean, z_log_var):\n",
    "        # z_mean and z_log_var are mean and log-var estimates of the latent space\n",
    "        # under the assumption that the latent space is a gaussian normal\n",
    "        device = z_mean.device\n",
    "        eps = self.sampler.sample(z_mean.shape).squeeze().to(device)\n",
    "        # print(eps.shape, z_log_var.shape, z_mean.shape)\n",
    "        return z_mean + torch.exp(0.5 * z_log_var) * eps"
   ]
  },
  {
   "cell_type": "code",
   "execution_count": 31,
   "metadata": {},
   "outputs": [
    {
     "data": {
      "text/plain": [
       "(torch.Size([32, 20]), True)"
      ]
     },
     "execution_count": 31,
     "metadata": {},
     "output_type": "execute_result"
    }
   ],
   "source": [
    "sampler = StochasticSampler()\n",
    "emb = sampler(emb_mean, emb_var)\n",
    "emb.shape, emb.requires_grad\n"
   ]
  },
  {
   "cell_type": "code",
   "execution_count": null,
   "metadata": {},
   "outputs": [],
   "source": []
  },
  {
   "cell_type": "code",
   "execution_count": 32,
   "metadata": {},
   "outputs": [
    {
     "data": {
      "text/plain": [
       "(torch.Size([32, 512, 1, 1]),\n",
       " torch.Size([32, 128, 4, 1]),\n",
       " torch.Size([32, 64, 6, 1]),\n",
       " torch.Size([32, 32, 8, 1]),\n",
       " torch.Size([32, 16, 10, 1]),\n",
       " torch.Size([32, 96]),\n",
       " torch.Size([32, 48]))"
      ]
     },
     "execution_count": 32,
     "metadata": {},
     "output_type": "execute_result"
    }
   ],
   "source": [
    "kernel_size = (3, 1)\n",
    "stride = 1\n",
    "xs_c1 = nn.Linear(in_features=20, out_features=num_hidden_units, bias=True)(emb)\n",
    "xs_c1 = xs_c1[:, :, None, None]\n",
    "xs_c2 = nn.ConvTranspose2d(\n",
    "    in_channels=num_hidden_units,\n",
    "    out_channels=num_hidden_units // 4,\n",
    "    kernel_size=(4, 1),\n",
    "    stride=stride,\n",
    ")(xs_c1)\n",
    "xs_c3 = nn.ConvTranspose2d(\n",
    "    in_channels=num_hidden_units // 4,\n",
    "    out_channels=num_hidden_units // 8,\n",
    "    kernel_size=kernel_size,\n",
    "    stride=stride,\n",
    ")(xs_c2)\n",
    "xs_c4 = nn.ConvTranspose2d(\n",
    "    in_channels=num_hidden_units // 8,\n",
    "    out_channels=num_hidden_units // 16,\n",
    "    kernel_size=kernel_size,\n",
    "    stride=stride,\n",
    ")(xs_c3)\n",
    "xs_c5 = nn.ConvTranspose2d(\n",
    "    in_channels=num_hidden_units // 16,\n",
    "    out_channels=num_hidden_units // 32,\n",
    "    kernel_size=kernel_size,\n",
    "    stride=stride,\n",
    ")(xs_c4)\n",
    "xs_c6 = nn.ConvTranspose2d(\n",
    "    in_channels=num_hidden_units // 32,\n",
    "    out_channels=num_hidden_units // 64,\n",
    "    kernel_size=kernel_size,\n",
    "    stride=stride,\n",
    ")(xs_c5)\n",
    "xs_c6 = nn.Flatten()(xs_c6)\n",
    "xs_c7 = nn.Linear(in_features=96, out_features=48, bias=True)(xs_c6)\n",
    "xs_c1.shape, xs_c2.shape, xs_c3.shape, xs_c4.shape, xs_c5.shape, xs_c6.shape, xs_c7.shape"
   ]
  },
  {
   "cell_type": "code",
   "execution_count": null,
   "metadata": {},
   "outputs": [],
   "source": []
  },
  {
   "cell_type": "code",
   "execution_count": 33,
   "metadata": {},
   "outputs": [],
   "source": [
    "# decoder\n",
    "\n",
    "\n",
    "# l_win to 24, the model would consider each 24-hour period as one sequence.\n",
    "# pad: if your array is [1, 2, 3] and you symmetrically pad it with 1 unit, the result would be [2, 1, 2, 3, 2].\n",
    "# xavier_initializer()\n",
    "# dense 1: num_hidden_units\n",
    "# reshape: (bs, 1, 1, num_hidden_units)  -> this is tensorflow notation, channel at end so actually (bs, num_hidden_units, 1, 1)\n",
    "\n",
    "# conv 2: num_hidden_units, kernel = 1\n",
    "# reshape: (bs, 4, 1, num_hidden_units / 4)\n",
    "\n",
    "# conv 3: num_hidden_units / 4, kernel = 3, 1, stride = 1\n",
    "# permute depth to spatial tf\n",
    "# reshape: (bs, 8, 1, num_hidden_units / 8),\n",
    "\n",
    "# conv 4: num_hidden_units / 8,  kernel = 3, 1, stride = 1\n",
    "# permute depth to spatial tf\n",
    "# reshape: (bs, 16, 1, num_hidden_units / 16)\n",
    "\n",
    "# conv 5: num_hidden_units / 16, kernel = 3, 1, stride = 1\n",
    "# permute depth to spatial tf\n",
    "# reshape: (bs, num_hidden_units /16, 1,  16)\n",
    "\n",
    "# conv 6: num_channel, kernel = 9, 1, stride = 1\n",
    "# reshape: (bs, l_win, num_channel)\n",
    "\n",
    "# | export\n",
    "\n",
    "\n",
    "class Decoder(nn.Module):\n",
    "    def __init__(\n",
    "        self,\n",
    "        latent_dim=20,\n",
    "        num_hidden_units=512,\n",
    "        output_shape=(window_size, 1),\n",
    "        kernel_size=(3, 1),\n",
    "        stride=1,\n",
    "        act=F.mish,\n",
    "    ):\n",
    "        super().__init__()\n",
    "        self.output_shape = output_shape\n",
    "        self.linear = nn.Linear(\n",
    "            in_features=latent_dim, out_features=num_hidden_units, bias=True\n",
    "        )\n",
    "        self.dconv1 = nn.ConvTranspose2d(\n",
    "            in_channels=num_hidden_units,\n",
    "            out_channels=num_hidden_units // 4,\n",
    "            kernel_size=(4, 1),\n",
    "            stride=stride,\n",
    "        )\n",
    "        self.dconv2 = nn.ConvTranspose2d(\n",
    "            in_channels=num_hidden_units // 4,\n",
    "            out_channels=num_hidden_units // 8,\n",
    "            kernel_size=kernel_size,\n",
    "            stride=stride,\n",
    "        )\n",
    "        self.dconv3 = nn.ConvTranspose2d(\n",
    "            in_channels=num_hidden_units // 8,\n",
    "            out_channels=num_hidden_units // 16,\n",
    "            kernel_size=kernel_size,\n",
    "            stride=stride,\n",
    "        )\n",
    "        self.dconv4 = nn.ConvTranspose2d(\n",
    "            in_channels=num_hidden_units // 16,\n",
    "            out_channels=num_hidden_units // 32,\n",
    "            kernel_size=kernel_size,\n",
    "            stride=stride,\n",
    "        )\n",
    "        self.dconv5 = nn.ConvTranspose2d(\n",
    "            in_channels=num_hidden_units // 32,\n",
    "            out_channels=num_hidden_units // 64,\n",
    "            kernel_size=kernel_size,\n",
    "            stride=stride,\n",
    "        )\n",
    "        self.flatten = nn.Flatten()\n",
    "        self.linear_out = nn.Linear(\n",
    "            in_features=96, out_features=math.prod(output_shape), bias=True\n",
    "        )\n",
    "\n",
    "        self.act = act\n",
    "\n",
    "        self.init_weights()\n",
    "\n",
    "    def forward(self, x):\n",
    "        x = self.linear(x)\n",
    "        x = x[:, :, None, None]\n",
    "        x = self.act(self.dconv1(x))\n",
    "        x = self.act(self.dconv2(x))\n",
    "        x = self.act(self.dconv3(x))\n",
    "        x = self.act(self.dconv4(x))\n",
    "        x = self.act(self.dconv5(x))\n",
    "        x = self.flatten(x)\n",
    "        x = self.act(self.linear_out(x))\n",
    "        return self.reshape_to_output(x)\n",
    "\n",
    "    def reshape_to_output(self, x):\n",
    "        bs = x.shape[0]\n",
    "        return x.reshape(bs, *self.output_shape)\n",
    "\n",
    "    def init_weights(self):\n",
    "        for m in self.modules():\n",
    "            if isinstance(m, nn.Linear):\n",
    "                torch.nn.init.xavier_normal_(m.weight)\n",
    "                m.bias.data.fill_(0)\n",
    "            elif isinstance(m, nn.Conv2d):\n",
    "                torch.nn.init.xavier_normal_(m.weight)\n",
    "                m.bias.data.fill_(0)\n"
   ]
  },
  {
   "cell_type": "code",
   "execution_count": 34,
   "metadata": {},
   "outputs": [
    {
     "data": {
      "text/plain": [
       "torch.Size([32, 48, 1])"
      ]
     },
     "execution_count": 34,
     "metadata": {},
     "output_type": "execute_result"
    }
   ],
   "source": [
    "Decoder(output_shape=(window_size, n_features))(emb).shape\n"
   ]
  },
  {
   "cell_type": "code",
   "execution_count": 35,
   "metadata": {},
   "outputs": [
    {
     "data": {
      "text/plain": [
       "torch.Size([32, 48, 1])"
      ]
     },
     "execution_count": 35,
     "metadata": {},
     "output_type": "execute_result"
    }
   ],
   "source": [
    "xs.shape\n"
   ]
  },
  {
   "cell_type": "code",
   "execution_count": 36,
   "metadata": {},
   "outputs": [],
   "source": [
    "# | export\n",
    "class VAE(nn.Module):\n",
    "    def __init__(self, latent_dim=20, input_shape=(window_size, 1), act=F.leaky_relu):\n",
    "        super().__init__()\n",
    "        self.encoder = Encoder(latent_dim=latent_dim, act=act)\n",
    "        self.decoder = Decoder(latent_dim=latent_dim, output_shape=input_shape, act=act)\n",
    "        self.latent_sampler = StochasticSampler()\n",
    "        self.act = act\n",
    "\n",
    "    def forward(self, x):\n",
    "        z_mean, z_log_var = self.encoder(x)\n",
    "        z = self.latent_sampler(z_mean, z_log_var)\n",
    "        out = self.decoder(z)\n",
    "        # loss to enforce all possible values are sampled from latent space\n",
    "        # should be of the size of the batch\n",
    "        loss_kl = -0.5 * torch.sum(\n",
    "            1 + z_log_var - z_mean.pow(2) - z_log_var.exp(), dim=-1\n",
    "        )\n",
    "        return out, loss_kl"
   ]
  },
  {
   "cell_type": "code",
   "execution_count": 37,
   "metadata": {},
   "outputs": [],
   "source": [
    "xs_pred, loss_kl = VAE(latent_dim=128, input_shape=(window_size, n_features))(xs)"
   ]
  },
  {
   "cell_type": "code",
   "execution_count": 38,
   "metadata": {},
   "outputs": [
    {
     "data": {
      "text/plain": [
       "(torch.Size([32, 48, 1]), torch.Size([32]))"
      ]
     },
     "execution_count": 38,
     "metadata": {},
     "output_type": "execute_result"
    }
   ],
   "source": [
    "xs_pred.shape, loss_kl.shape\n"
   ]
  },
  {
   "cell_type": "code",
   "execution_count": 63,
   "metadata": {},
   "outputs": [],
   "source": [
    "# | export\n",
    "\n",
    "\n",
    "def calculate_smape(predicted, actual):\n",
    "    with torch.no_grad():\n",
    "        absolute_percentage_errors = (\n",
    "            torch.abs(predicted - actual) / (torch.abs(predicted) + torch.abs(actual))\n",
    "        ) * 100\n",
    "        return absolute_percentage_errors.mean()\n"
   ]
  },
  {
   "cell_type": "code",
   "execution_count": 64,
   "metadata": {},
   "outputs": [],
   "source": [
    "# | export\n",
    "model = None\n",
    "\n",
    "\n",
    "def loss_func(inputs, targets, loss_kl, beta=0.5):\n",
    "    # targets = torch.where(targets >= 0, 1., 0.)\n",
    "    bs = inputs.shape[0]\n",
    "    # loss_kl = loss_kl.unsqueeze(-1)  # add loss_kl per time step.\n",
    "    loss_reconstruct_numerical = F.huber_loss(\n",
    "        inputs,\n",
    "        targets,\n",
    "        delta=3,\n",
    "        reduction=\"sum\",\n",
    "    )\n",
    "    # loss only for the signal\n",
    "    # loss_reconstruct = calculate_smape(inputs, targets).mean((1, 2))\n",
    "    # should be of the size of the batch to add losses correctly\n",
    "    # loss_kl of shape bs,\n",
    "    # loss_reconstruct of shape bs,\n",
    "    \"\"\"print(\n",
    "        loss_kl.shape,\n",
    "        loss_reconstruct_numerical,\n",
    "        # loss_reconstruct_categorical.shape,\n",
    "    )\"\"\"\n",
    "    return torch.mean(loss_reconstruct_numerical + loss_kl)\n"
   ]
  },
  {
   "cell_type": "code",
   "execution_count": 65,
   "metadata": {},
   "outputs": [
    {
     "data": {
      "text/plain": [
       "tensor(800.2178, grad_fn=<MeanBackward0>)"
      ]
     },
     "execution_count": 65,
     "metadata": {},
     "output_type": "execute_result"
    }
   ],
   "source": [
    "loss_func(xs_pred.to(\"cpu\"), xs.to(\"cpu\"), loss_kl.to(\"cpu\"), beta=0.5)"
   ]
  },
  {
   "cell_type": "code",
   "execution_count": 66,
   "metadata": {},
   "outputs": [],
   "source": [
    "def get_similarity(inputs, targets):\n",
    "    func = F.mse_loss\n",
    "    with torch.no_grad():\n",
    "        loss_num = func(inputs.flatten(), targets.flatten())\n",
    "        return loss_num\n"
   ]
  },
  {
   "cell_type": "code",
   "execution_count": 67,
   "metadata": {},
   "outputs": [
    {
     "data": {
      "text/plain": [
       "tensor(1.0182)"
      ]
     },
     "execution_count": 67,
     "metadata": {},
     "output_type": "execute_result"
    }
   ],
   "source": [
    "get_similarity(\n",
    "    xs_pred.to(\"cpu\"),\n",
    "    xs.to(\"cpu\"),\n",
    ")"
   ]
  },
  {
   "cell_type": "code",
   "execution_count": 68,
   "metadata": {},
   "outputs": [
    {
     "data": {
      "text/plain": [
       "tensor(95.3661)"
      ]
     },
     "execution_count": 68,
     "metadata": {},
     "output_type": "execute_result"
    }
   ],
   "source": [
    "calculate_smape(\n",
    "    xs_pred.to(\"cpu\"),\n",
    "    xs.to(\"cpu\"),\n",
    ")\n"
   ]
  },
  {
   "cell_type": "markdown",
   "metadata": {},
   "source": [
    "# Training loop"
   ]
  },
  {
   "cell_type": "code",
   "execution_count": 69,
   "metadata": {},
   "outputs": [
    {
     "data": {
      "text/plain": [
       "'cuda'"
      ]
     },
     "execution_count": 69,
     "metadata": {},
     "output_type": "execute_result"
    }
   ],
   "source": [
    "device = \"cuda\" if torch.cuda.is_available() else \"cpu\"\n",
    "device\n"
   ]
  },
  {
   "cell_type": "code",
   "execution_count": 74,
   "metadata": {},
   "outputs": [],
   "source": [
    "def validate_epoch(dls, criterion, scorer):\n",
    "    model.eval()\n",
    "    running_loss = 0.0\n",
    "    running_score = 0.0\n",
    "    with torch.no_grad():\n",
    "        for batch_idx, xs in enumerate(dls):\n",
    "            # move to device\n",
    "            xs = xs.to(device)\n",
    "\n",
    "            # Forward pass\n",
    "            xs_gen, loss_kl = model(xs)\n",
    "\n",
    "            loss = loss_func(xs_gen, targets=xs, loss_kl=loss_kl)\n",
    "            # print(loss - loss_kl, loss_kl)\n",
    "            # calc score\n",
    "            score = scorer(xs_gen, xs)\n",
    "\n",
    "            running_loss += loss.item()\n",
    "            running_score += score.item()\n",
    "    return running_loss, running_score"
   ]
  },
  {
   "cell_type": "code",
   "execution_count": 75,
   "metadata": {},
   "outputs": [],
   "source": [
    "from fastcore.xtras import partial\n"
   ]
  },
  {
   "cell_type": "code",
   "execution_count": 81,
   "metadata": {},
   "outputs": [],
   "source": [
    "activation = partial(F.hardtanh, min_val=-3, max_val=3)"
   ]
  },
  {
   "cell_type": "code",
   "execution_count": 82,
   "metadata": {},
   "outputs": [
    {
     "name": "stdout",
     "output_type": "stream",
     "text": [
      "Epoch [1/50], Batch [153/153], Trn Loss: 165.096390, Trn Score: 33.945094, Val Loss: 99.331411, Val Score: 28.416493\n",
      "Epoch [2/50], Batch [153/153], Trn Loss: 86.260736, Trn Score: 25.881296, Val Loss: 74.850159, Val Score: 23.376109\n",
      "Epoch [3/50], Batch [153/153], Trn Loss: 71.866172, Trn Score: 23.599640, Val Loss: 64.267717, Val Score: 22.071498\n",
      "Epoch [4/50], Batch [153/153], Trn Loss: 64.032672, Trn Score: 22.135967, Val Loss: 62.691337, Val Score: 21.618313\n",
      "Epoch [5/50], Batch [153/153], Trn Loss: 60.747779, Trn Score: 21.456994, Val Loss: 56.938059, Val Score: 20.446360\n",
      "Epoch [6/50], Batch [153/153], Trn Loss: 56.097737, Trn Score: 20.684008, Val Loss: 57.105193, Val Score: 20.333913\n",
      "Epoch [7/50], Batch [153/153], Trn Loss: 55.103332, Trn Score: 20.568625, Val Loss: 51.588960, Val Score: 19.336009\n",
      "Epoch [8/50], Batch [153/153], Trn Loss: 52.598908, Trn Score: 20.024364, Val Loss: 53.610769, Val Score: 20.250080\n",
      "Epoch [9/50], Batch [153/153], Trn Loss: 52.961054, Trn Score: 20.281459, Val Loss: 51.385352, Val Score: 19.075989\n",
      "Epoch [10/50], Batch [153/153], Trn Loss: 49.705026, Trn Score: 19.545203, Val Loss: 51.234976, Val Score: 19.164530\n",
      "Epoch [11/50], Batch [153/153], Trn Loss: 50.594862, Trn Score: 19.738754, Val Loss: 49.686457, Val Score: 19.519960\n",
      "Epoch [12/50], Batch [153/153], Trn Loss: 49.836260, Trn Score: 19.583855, Val Loss: 56.410317, Val Score: 19.801546\n",
      "Epoch [13/50], Batch [153/153], Trn Loss: 48.010647, Trn Score: 19.253056, Val Loss: 51.094490, Val Score: 19.253281\n",
      "Epoch [14/50], Batch [153/153], Trn Loss: 47.590460, Trn Score: 19.168139, Val Loss: 47.296278, Val Score: 18.449297\n",
      "Epoch [15/50], Batch [153/153], Trn Loss: 48.074177, Trn Score: 19.317376, Val Loss: 46.301241, Val Score: 18.335112\n",
      "Epoch [16/50], Batch [153/153], Trn Loss: 45.361559, Trn Score: 18.684722, Val Loss: 45.810313, Val Score: 18.488898\n",
      "Epoch [17/50], Batch [153/153], Trn Loss: 44.867536, Trn Score: 18.576837, Val Loss: 47.274117, Val Score: 19.817770\n",
      "Epoch [18/50], Batch [153/153], Trn Loss: 44.536435, Trn Score: 18.537065, Val Loss: 45.454869, Val Score: 18.470692\n",
      "Epoch [19/50], Batch [153/153], Trn Loss: 44.179925, Trn Score: 18.463202, Val Loss: 42.933690, Val Score: 18.235893\n",
      "Epoch [20/50], Batch [153/153], Trn Loss: 44.572678, Trn Score: 18.538744, Val Loss: 44.569662, Val Score: 18.701058\n",
      "Epoch [21/50], Batch [153/153], Trn Loss: 44.288995, Trn Score: 18.590852, Val Loss: 44.301767, Val Score: 18.524256\n",
      "Epoch [22/50], Batch [153/153], Trn Loss: 44.309912, Trn Score: 18.714719, Val Loss: 42.633314, Val Score: 17.849636\n",
      "Epoch [23/50], Batch [153/153], Trn Loss: 43.399643, Trn Score: 18.270166, Val Loss: 43.150990, Val Score: 18.656722\n",
      "Epoch [24/50], Batch [153/153], Trn Loss: 43.544332, Trn Score: 18.491282, Val Loss: 43.942454, Val Score: 17.975950\n",
      "Epoch [25/50], Batch [153/153], Trn Loss: 42.129565, Trn Score: 18.119725, Val Loss: 42.064703, Val Score: 18.416884\n",
      "Epoch [26/50], Batch [153/153], Trn Loss: 43.072237, Trn Score: 18.402093, Val Loss: 41.845577, Val Score: 17.936610\n",
      "Epoch [27/50], Batch [153/153], Trn Loss: 41.700724, Trn Score: 18.023798, Val Loss: 41.979305, Val Score: 18.227668\n",
      "Epoch [28/50], Batch [153/153], Trn Loss: 42.661961, Trn Score: 18.267417, Val Loss: 41.813275, Val Score: 18.268145\n",
      "Epoch [29/50], Batch [153/153], Trn Loss: 42.075519, Trn Score: 18.060390, Val Loss: 39.942996, Val Score: 17.240775\n",
      "Epoch [30/50], Batch [153/153], Trn Loss: 40.925180, Trn Score: 17.876921, Val Loss: 40.022007, Val Score: 17.192296\n",
      "Epoch [31/50], Batch [153/153], Trn Loss: 41.061543, Trn Score: 17.928190, Val Loss: 42.823831, Val Score: 18.139744\n",
      "Epoch [32/50], Batch [153/153], Trn Loss: 41.688077, Trn Score: 18.083933, Val Loss: 39.058861, Val Score: 17.577735\n",
      "Epoch [33/50], Batch [153/153], Trn Loss: 40.560312, Trn Score: 17.888217, Val Loss: 39.045867, Val Score: 17.385790\n",
      "Epoch [34/50], Batch [153/153], Trn Loss: 40.948101, Trn Score: 17.909847, Val Loss: 42.136341, Val Score: 18.138464\n",
      "Epoch [35/50], Batch [153/153], Trn Loss: 39.845380, Trn Score: 17.723812, Val Loss: 40.826318, Val Score: 17.452815\n",
      "Epoch [36/50], Batch [153/153], Trn Loss: 40.321657, Trn Score: 17.726679, Val Loss: 37.650676, Val Score: 17.208568\n",
      "Epoch [37/50], Batch [153/153], Trn Loss: 40.506254, Trn Score: 17.864631, Val Loss: 39.368556, Val Score: 17.663609\n",
      "Epoch [38/50], Batch [153/153], Trn Loss: 41.437884, Trn Score: 18.167795, Val Loss: 38.635646, Val Score: 17.482798\n",
      "Epoch [39/50], Batch [153/153], Trn Loss: 39.289126, Trn Score: 17.609156, Val Loss: 40.145277, Val Score: 17.515322\n",
      "Epoch [40/50], Batch [153/153], Trn Loss: 39.763763, Trn Score: 17.647043, Val Loss: 39.597575, Val Score: 17.728618\n",
      "Epoch [41/50], Batch [153/153], Trn Loss: 39.371054, Trn Score: 17.596863, Val Loss: 40.713412, Val Score: 17.805485\n",
      "Epoch [42/50], Batch [153/153], Trn Loss: 38.965776, Trn Score: 17.500880, Val Loss: 39.825932, Val Score: 17.490037\n",
      "Epoch [43/50], Batch [153/153], Trn Loss: 40.299371, Trn Score: 17.765769, Val Loss: 42.681241, Val Score: 18.307629\n",
      "Epoch [44/50], Batch [153/153], Trn Loss: 39.587328, Trn Score: 17.708442, Val Loss: 41.807819, Val Score: 18.429321\n",
      "Epoch [45/50], Batch [153/153], Trn Loss: 39.509476, Trn Score: 17.652755, Val Loss: 37.975222, Val Score: 17.279367\n",
      "Epoch [46/50], Batch [153/153], Trn Loss: 38.607308, Trn Score: 17.479038, Val Loss: 37.123133, Val Score: 16.986448\n",
      "Epoch [47/50], Batch [153/153], Trn Loss: 38.275474, Trn Score: 17.422891, Val Loss: 38.170324, Val Score: 16.877815\n",
      "Epoch [48/50], Batch [153/153], Trn Loss: 38.816104, Trn Score: 17.563950, Val Loss: 38.583116, Val Score: 17.694993\n",
      "Epoch [49/50], Batch [153/153], Trn Loss: 38.194824, Trn Score: 17.457243, Val Loss: 37.759677, Val Score: 16.925786\n",
      "Epoch [50/50], Batch [153/153], Trn Loss: 37.251186, Trn Score: 17.188341, Val Loss: 36.399002, Val Score: 16.588853\n"
     ]
    }
   ],
   "source": [
    "train_dataloader = dl_trn\n",
    "valid_dataloader = dl_val\n",
    "model = VAE(latent_dim=20, input_shape=(window_size, n_features), act=activation).to(\n",
    "    device\n",
    ")  # to make visualization easier, 2 latent dims\n",
    "\n",
    "learning_rate = 1e-3\n",
    "criterion = loss_func\n",
    "optimizer = torch.optim.Adam(model.parameters(), lr=learning_rate, weight_decay=1e-6)\n",
    "scorer = calculate_smape\n",
    "# Training loop\n",
    "num_epochs = 50\n",
    "print_every = len(train_dataloader)\n",
    "\n",
    "# Define LR scheduler\n",
    "scheduler = torch.optim.lr_scheduler.ReduceLROnPlateau(\n",
    "    optimizer, factor=0.9, patience=10, min_lr=1e-8, verbose=True\n",
    ")\n",
    "\n",
    "# Training loop\n",
    "for epoch in range(num_epochs):\n",
    "    model.train()\n",
    "    running_loss = 0.0\n",
    "    running_score = 0.0\n",
    "    for batch_idx, xs in enumerate(train_dataloader):\n",
    "        model.train()\n",
    "        optimizer.zero_grad()\n",
    "\n",
    "        # move to device\n",
    "        xs = xs.to(device)\n",
    "\n",
    "        # Forward pass\n",
    "        xs_gen, loss_kl = model(xs)\n",
    "\n",
    "        loss = loss_func(xs_gen, targets=xs, loss_kl=loss_kl)\n",
    "        # calc score\n",
    "        score = scorer(xs_gen, xs)\n",
    "\n",
    "        loss.backward()\n",
    "        optimizer.step()\n",
    "\n",
    "        running_loss += loss.item()\n",
    "        running_score += score.item()\n",
    "        if (batch_idx + 1) % print_every == 0:\n",
    "            val_loss, val_score = validate_epoch(valid_dataloader, criterion, scorer)\n",
    "            print(\n",
    "                f\"Epoch [{epoch + 1}/{num_epochs}], Batch [{batch_idx + 1}/{len(train_dataloader)}], Trn Loss: {(running_loss / print_every):.6f}, Trn Score: {(running_score / print_every):.6f}, Val Loss: {(val_loss/len(valid_dataloader)):.6f}, Val Score: {(val_score/len(valid_dataloader)):.6f}\"\n",
    "            )\n",
    "            running_loss = 0.0\n",
    "            running_score = 0.0\n",
    "    # Step the LR scheduler\n",
    "    scheduler.step(val_loss)  # min the running_loss"
   ]
  },
  {
   "cell_type": "markdown",
   "metadata": {},
   "source": [
    "# Inference"
   ]
  },
  {
   "cell_type": "code",
   "execution_count": 90,
   "metadata": {},
   "outputs": [],
   "source": [
    "with torch.no_grad():\n",
    "    xs_val = next(iter(valid_dataloader))\n",
    "    xs_val_gen, loss_kl = model(xs_val.to(device))"
   ]
  },
  {
   "cell_type": "code",
   "execution_count": 89,
   "metadata": {},
   "outputs": [
    {
     "data": {
      "text/plain": [
       "<Axes: >"
      ]
     },
     "execution_count": 89,
     "metadata": {},
     "output_type": "execute_result"
    },
    {
     "data": {
      "image/png": "[encoded data removed]",
      "text/plain": [
       "<Figure size 640x480 with 1 Axes>"
      ]
     },
     "metadata": {},
     "output_type": "display_data"
    }
   ],
   "source": [
    "idx = 12\n",
    "idx_feature = 0\n",
    "decoded_example, actual_example = (\n",
    "    xs_val_gen[idx].detach().cpu(),\n",
    "    xs_val[idx].detach().cpu(),\n",
    ")\n",
    "sns.lineplot(actual_example[:, idx_feature].numpy(), label=\"true\", alpha=0.5)\n",
    "sns.lineplot(decoded_example[:, idx_feature].numpy(), label=\"vae\")\n"
   ]
  },
  {
   "cell_type": "markdown",
   "metadata": {},
   "source": [
    "# Display embedding"
   ]
  },
  {
   "cell_type": "code",
   "execution_count": 85,
   "metadata": {},
   "outputs": [],
   "source": [
    "with torch.no_grad():\n",
    "    xs_val = next(iter(valid_dataloader))\n",
    "    emb_mean_val, emb_std_val = model.encoder(xs_val.to(device))\n",
    "    emb_val = model.latent_sampler(emb_mean_val, emb_std_val)"
   ]
  },
  {
   "cell_type": "code",
   "execution_count": 86,
   "metadata": {},
   "outputs": [
    {
     "data": {
      "text/plain": [
       "(32, 20)"
      ]
     },
     "execution_count": 86,
     "metadata": {},
     "output_type": "execute_result"
    }
   ],
   "source": [
    "emb_val.cpu().numpy().shape"
   ]
  },
  {
   "cell_type": "code",
   "execution_count": 87,
   "metadata": {},
   "outputs": [
    {
     "data": {
      "text/plain": [
       "<Axes: xlabel='None', ylabel='None'>"
      ]
     },
     "execution_count": 87,
     "metadata": {},
     "output_type": "execute_result"
    },
    {
     "data": {
      "image/png": "[encoded data removed]",
      "text/plain": [
       "<Figure size 640x480 with 1 Axes>"
      ]
     },
     "metadata": {},
     "output_type": "display_data"
    }
   ],
   "source": [
    "sns.scatterplot(x=emb_val[:, 0].cpu(), y=emb_val[:, 1].cpu())"
   ]
  },
  {
   "cell_type": "code",
   "execution_count": 88,
   "metadata": {},
   "outputs": [],
   "source": [
    "# | hide\n",
    "import nbdev\n",
    "\n",
    "nbdev.nbdev_export()"
   ]
  },
  {
   "cell_type": "code",
   "execution_count": null,
   "metadata": {},
   "outputs": [],
   "source": []
  }
 ],
 "metadata": {
  "kernelspec": {
   "display_name": "vae-lstm-kernel",
   "language": "python",
   "name": "vae-lstm-kernel"
  },
  "language_info": {
   "codemirror_mode": {
    "name": "ipython",
    "version": 3
   },
   "file_extension": ".py",
   "mimetype": "text/x-python",
   "name": "python",
   "nbconvert_exporter": "python",
   "pygments_lexer": "ipython3",
   "version": "3.9.17"
  }
 },
 "nbformat": 4,
 "nbformat_minor": 4
}
