{
 "cells": [
  {
   "cell_type": "markdown",
   "metadata": {},
   "source": [
    "# core\n",
    "\n",
    "> Fill in a module description here"
   ]
  },
  {
   "cell_type": "code",
   "execution_count": 3,
   "metadata": {},
   "outputs": [],
   "source": [
    "# | default_exp vae"
   ]
  },
  {
   "cell_type": "code",
   "execution_count": 4,
   "metadata": {},
   "outputs": [],
   "source": [
    "# | hide\n",
    "from nbdev.showdoc import *"
   ]
  },
  {
   "cell_type": "code",
   "execution_count": 5,
   "metadata": {},
   "outputs": [],
   "source": [
    "# | export\n",
    "import pandas as pd\n",
    "import numpy as np\n",
    "import matplotlib.pyplot as plt\n",
    "import seaborn as sns\n",
    "from datetime import datetime as dt\n",
    "from ts_vae_lstm.concepts import get_window\n",
    "from scipy import signal\n",
    "import os\n",
    "import math"
   ]
  },
  {
   "cell_type": "code",
   "execution_count": 6,
   "metadata": {},
   "outputs": [
    {
     "data": {
      "text/plain": [
       "4"
      ]
     },
     "execution_count": 6,
     "metadata": {},
     "output_type": "execute_result"
    }
   ],
   "source": [
    "# | export\n",
    "\n",
    "num_workers = os.cpu_count()\n",
    "num_workers"
   ]
  },
  {
   "cell_type": "markdown",
   "metadata": {},
   "source": [
    "Train a VAE with no anomalies in the time series.\n",
    "\n",
    "```--> Anomalies occur at:\n",
    "  timestamp #0: 2014-11-01 19:00:00\n",
    "  timestamp #1: 2014-11-27 15:30:00\n",
    "  timestamp #2: 2014-12-25 15:00:00\n",
    "  timestamp #3: 2015-01-01 01:00:00\n",
    "  timestamp #4: 2015-01-27 00:00:00\n",
    "\n",
    "Original csv file contains (10320,) timestamps.\n",
    "Processed time series contain (10320,) readings.\n",
    "Anomaly indices are [5943, 7184, 8527, 8835, 10081]\n",
    "\n",
    "Training set mean is 14855.115757575757\n",
    "Training set std is 6556.134705703313\n",
    "Anomaly indices in the test set are [2643 3884 5227 5535 6781]```"
   ]
  },
  {
   "cell_type": "code",
   "execution_count": 7,
   "metadata": {},
   "outputs": [
    {
     "name": "stdout",
     "output_type": "stream",
     "text": [
      "t\n",
      "t_unit\n",
      "readings\n",
      "idx_anomaly\n",
      "idx_split\n",
      "training\n",
      "test\n",
      "train_m\n",
      "train_std\n",
      "t_train\n",
      "t_test\n",
      "idx_anomaly_test\n"
     ]
    }
   ],
   "source": [
    "# | export\n",
    "\n",
    "data = np.load(\"../sample_data/nyc_taxi.npz\")\n",
    "for k in data.keys():\n",
    "    print(k)"
   ]
  },
  {
   "cell_type": "markdown",
   "metadata": {},
   "source": [
    "# NYC Taxi dataset:\n",
    "- Data is in npz format, ie compressed numpy\n",
    "- The entries are per 30 minutures\n",
    "- Therefore, 1 hour is 2 entries, 24hrs is 48 entries"
   ]
  },
  {
   "cell_type": "code",
   "execution_count": 8,
   "metadata": {},
   "outputs": [
    {
     "data": {
      "text/plain": [
       "NpzFile '../sample_data/nyc_taxi.npz' with keys: t, t_unit, readings, idx_anomaly, idx_split..."
      ]
     },
     "execution_count": 8,
     "metadata": {},
     "output_type": "execute_result"
    }
   ],
   "source": [
    "data"
   ]
  },
  {
   "cell_type": "code",
   "execution_count": 9,
   "metadata": {},
   "outputs": [
    {
     "data": {
      "text/plain": [
       "array([    1,     2,     3, ..., 10318, 10319, 10320])"
      ]
     },
     "execution_count": 9,
     "metadata": {},
     "output_type": "execute_result"
    }
   ],
   "source": [
    "# read the key 't' from data\n",
    "data[\"t\"]"
   ]
  },
  {
   "cell_type": "code",
   "execution_count": 10,
   "metadata": {},
   "outputs": [
    {
     "data": {
      "text/plain": [
       "(array('30 min', dtype='<U6'),\n",
       " array([10844.,  8127.,  6210., ..., 27309., 26591., 26288.]),\n",
       " array([ 5943,  7184,  8527,  8835, 10081]),\n",
       " array([   0, 5500]),\n",
       " array([ 443, 1684, 3027, 3335, 4581]))"
      ]
     },
     "execution_count": 10,
     "metadata": {},
     "output_type": "execute_result"
    }
   ],
   "source": [
    "(\n",
    "    data[\"t_unit\"],\n",
    "    data[\"readings\"],  # what is this referring to?\n",
    "    data[\"idx_anomaly\"],\n",
    "    data[\"idx_split\"],\n",
    "    data[\"idx_anomaly_test\"],\n",
    ")"
   ]
  },
  {
   "cell_type": "markdown",
   "metadata": {},
   "source": [
    "As anomaly begins at 5943 index, the points upto 5500 are taken as training and everything after is test."
   ]
  },
  {
   "cell_type": "code",
   "execution_count": 11,
   "metadata": {},
   "outputs": [
    {
     "data": {
      "text/plain": [
       "(array([   1,    2,    3, ..., 5498, 5499, 5500]),\n",
       " array([   1,    2,    3, ..., 4818, 4819, 4820]))"
      ]
     },
     "execution_count": 11,
     "metadata": {},
     "output_type": "execute_result"
    }
   ],
   "source": [
    "data[\"t_train\"], data[\"t_test\"]"
   ]
  },
  {
   "cell_type": "code",
   "execution_count": 12,
   "metadata": {},
   "outputs": [
    {
     "data": {
      "text/plain": [
       "(5500,)"
      ]
     },
     "execution_count": 12,
     "metadata": {},
     "output_type": "execute_result"
    }
   ],
   "source": [
    "data[\"training\"].shape"
   ]
  },
  {
   "cell_type": "code",
   "execution_count": 13,
   "metadata": {},
   "outputs": [
    {
     "data": {
      "text/html": [
       "<div>\n",
       "<style scoped>\n",
       "    .dataframe tbody tr th:only-of-type {\n",
       "        vertical-align: middle;\n",
       "    }\n",
       "\n",
       "    .dataframe tbody tr th {\n",
       "        vertical-align: top;\n",
       "    }\n",
       "\n",
       "    .dataframe thead th {\n",
       "        text-align: right;\n",
       "    }\n",
       "</style>\n",
       "<table border=\"1\" class=\"dataframe\">\n",
       "  <thead>\n",
       "    <tr style=\"text-align: right;\">\n",
       "      <th></th>\n",
       "      <th>value</th>\n",
       "    </tr>\n",
       "  </thead>\n",
       "  <tbody>\n",
       "    <tr>\n",
       "      <th>1</th>\n",
       "      <td>-0.647416</td>\n",
       "    </tr>\n",
       "    <tr>\n",
       "      <th>2</th>\n",
       "      <td>-1.048144</td>\n",
       "    </tr>\n",
       "  </tbody>\n",
       "</table>\n",
       "</div>"
      ],
      "text/plain": [
       "      value\n",
       "1 -0.647416\n",
       "2 -1.048144"
      ]
     },
     "execution_count": 13,
     "metadata": {},
     "output_type": "execute_result"
    }
   ],
   "source": [
    "# | export\n",
    "df = pd.DataFrame(data[\"training\"], index=data[\"t_train\"], columns=[\"value\"])\n",
    "df.head(2)"
   ]
  },
  {
   "cell_type": "code",
   "execution_count": 14,
   "metadata": {},
   "outputs": [
    {
     "data": {
      "text/plain": [
       "<Axes: xlabel='index', ylabel='value'>"
      ]
     },
     "execution_count": 14,
     "metadata": {},
     "output_type": "execute_result"
    },
    {
     "data": {
      "image/png": "[encoded data removed]",
      "text/plain": [
       "<Figure size 640x480 with 1 Axes>"
      ]
     },
     "metadata": {},
     "output_type": "display_data"
    }
   ],
   "source": [
    "start_step = 0\n",
    "p = 48  # for one full day\n",
    "n_windows = 3\n",
    "sns.lineplot(\n",
    "    data=df.reset_index().iloc[start_step : 1 + start_step + (p * n_windows)],\n",
    "    x=\"index\",  # possible since we reset_index to add \"index\" column\n",
    "    y=\"value\",\n",
    ")"
   ]
  },
  {
   "cell_type": "markdown",
   "metadata": {},
   "source": [
    "Looks like this is already standardized and nicely distributed with some periodic behaviors."
   ]
  },
  {
   "cell_type": "markdown",
   "metadata": {},
   "source": [
    "# Gather data into structure"
   ]
  },
  {
   "cell_type": "code",
   "execution_count": 15,
   "metadata": {},
   "outputs": [
    {
     "data": {
      "text/html": [
       "<div>\n",
       "<style scoped>\n",
       "    .dataframe tbody tr th:only-of-type {\n",
       "        vertical-align: middle;\n",
       "    }\n",
       "\n",
       "    .dataframe tbody tr th {\n",
       "        vertical-align: top;\n",
       "    }\n",
       "\n",
       "    .dataframe thead th {\n",
       "        text-align: right;\n",
       "    }\n",
       "</style>\n",
       "<table border=\"1\" class=\"dataframe\">\n",
       "  <thead>\n",
       "    <tr style=\"text-align: right;\">\n",
       "      <th></th>\n",
       "      <th>value</th>\n",
       "    </tr>\n",
       "  </thead>\n",
       "  <tbody>\n",
       "    <tr>\n",
       "      <th>1</th>\n",
       "      <td>-0.647416</td>\n",
       "    </tr>\n",
       "    <tr>\n",
       "      <th>2</th>\n",
       "      <td>-1.048144</td>\n",
       "    </tr>\n",
       "  </tbody>\n",
       "</table>\n",
       "</div>"
      ],
      "text/plain": [
       "      value\n",
       "1 -0.647416\n",
       "2 -1.048144"
      ]
     },
     "execution_count": 15,
     "metadata": {},
     "output_type": "execute_result"
    }
   ],
   "source": [
    "a = df.head(10)\n",
    "a.iloc[:2]"
   ]
  },
  {
   "cell_type": "code",
   "execution_count": 16,
   "metadata": {},
   "outputs": [
    {
     "data": {
      "text/plain": [
       "(5452, [48, 49, 50], [5497, 5498, 5499])"
      ]
     },
     "execution_count": 16,
     "metadata": {},
     "output_type": "execute_result"
    }
   ],
   "source": [
    "# | export\n",
    "p = 48  # past sequences at time t. 48 steps = a day\n",
    "end_steps = [es for es in range(p, len(df), 1)]\n",
    "# step is one since we want overlapping windows for VAE training\n",
    "len(end_steps), end_steps[:3], end_steps[-3:]"
   ]
  },
  {
   "cell_type": "code",
   "execution_count": 17,
   "metadata": {},
   "outputs": [],
   "source": [
    "# | export\n",
    "\n",
    "data_windowed = [\n",
    "    {\n",
    "        \"subset\": get_window(\n",
    "            df.values,\n",
    "            window_size=p,\n",
    "            end_step=t,\n",
    "            indices=list(df.index),\n",
    "            return_indices=False,\n",
    "        ),\n",
    "        \"end_step\": t,  # the time we want to predict for. For vae, we reconstruct the window.\n",
    "        \"start_step\": t - p,\n",
    "    }\n",
    "    for t in end_steps\n",
    "]"
   ]
  },
  {
   "cell_type": "code",
   "execution_count": 18,
   "metadata": {},
   "outputs": [
    {
     "data": {
      "text/plain": [
       "(5452,\n",
       " {'subset': array([[-1.04814359],\n",
       "         [-1.33087987],\n",
       "         [-1.56007767],\n",
       "         [-1.68337841],\n",
       "         [-1.82305043],\n",
       "         [-1.89738485],\n",
       "         [-1.94236897],\n",
       "         [-1.91921321],\n",
       "         [-1.92850501],\n",
       "         [-1.87585146],\n",
       "         [-1.60314443],\n",
       "         [-1.28427337],\n",
       "         [-0.61865583],\n",
       "         [-0.20303203],\n",
       "         [ 0.09312574],\n",
       "         [ 0.39621549],\n",
       "         [ 0.75402364],\n",
       "         [ 0.63500007],\n",
       "         [ 0.71877378],\n",
       "         [ 0.55314371],\n",
       "         [ 0.36671771],\n",
       "         [ 0.29725042],\n",
       "         [ 0.47630198],\n",
       "         [ 0.54193456],\n",
       "         [ 0.5386898 ],\n",
       "         [ 0.43426764],\n",
       "         [ 0.62320096],\n",
       "         [ 0.63603249],\n",
       "         [ 0.79015842],\n",
       "         [ 0.61154933],\n",
       "         [ 0.48824859],\n",
       "         [ 0.14666422],\n",
       "         [-0.03253482],\n",
       "         [ 0.29046593],\n",
       "         [ 0.63293523],\n",
       "         [ 1.14044463],\n",
       "         [ 1.82361335],\n",
       "         [ 1.70989939],\n",
       "         [ 1.42627818],\n",
       "         [ 1.12702314],\n",
       "         [ 0.76110311],\n",
       "         [ 1.20460232],\n",
       "         [ 1.35769582],\n",
       "         [ 1.19236073],\n",
       "         [ 0.95859078],\n",
       "         [ 0.71833132],\n",
       "         [ 0.12940802],\n",
       "         [-0.27485914]]),\n",
       "  'end_step': 48,\n",
       "  'start_step': 0})"
      ]
     },
     "execution_count": 18,
     "metadata": {},
     "output_type": "execute_result"
    }
   ],
   "source": [
    "len(data_windowed), data_windowed[0]"
   ]
  },
  {
   "cell_type": "markdown",
   "metadata": {},
   "source": [
    "Preseve 10% of the dataset from this for validation set."
   ]
  },
  {
   "cell_type": "code",
   "execution_count": 19,
   "metadata": {},
   "outputs": [
    {
     "data": {
      "text/plain": [
       "(1090, 4362)"
      ]
     },
     "execution_count": 19,
     "metadata": {},
     "output_type": "execute_result"
    }
   ],
   "source": [
    "# | export\n",
    "split_ratio = 0.2\n",
    "val_data_idxs = np.random.choice(\n",
    "    range(len(data_windowed)), size=int(split_ratio * len(data_windowed)), replace=False\n",
    ")\n",
    "trn_data_idxs = [idx for idx in range(len(data_windowed)) if idx not in val_data_idxs]\n",
    "len(val_data_idxs), len(trn_data_idxs)"
   ]
  },
  {
   "cell_type": "code",
   "execution_count": 20,
   "metadata": {},
   "outputs": [],
   "source": [
    "# | export\n",
    "\n",
    "from torch import nn\n",
    "import torch.nn.functional as F\n",
    "import torch\n",
    "from torch.utils.data import Dataset, DataLoader\n",
    "from sklearn.metrics import roc_auc_score, accuracy_score"
   ]
  },
  {
   "cell_type": "code",
   "execution_count": 21,
   "metadata": {},
   "outputs": [],
   "source": [
    "# | export\n",
    "\n",
    "val_data = [data_windowed[idx] for idx in val_data_idxs]\n",
    "trn_data = [data_windowed[idx] for idx in trn_data_idxs]"
   ]
  },
  {
   "cell_type": "markdown",
   "metadata": {},
   "source": [
    "Calculate stats over training data."
   ]
  },
  {
   "cell_type": "code",
   "execution_count": 22,
   "metadata": {},
   "outputs": [
    {
     "data": {
      "text/plain": [
       "(48, 1)"
      ]
     },
     "execution_count": 22,
     "metadata": {},
     "output_type": "execute_result"
    }
   ],
   "source": [
    "trn_data[0][\"subset\"].shape"
   ]
  },
  {
   "cell_type": "code",
   "execution_count": 23,
   "metadata": {},
   "outputs": [
    {
     "data": {
      "text/plain": [
       "1"
      ]
     },
     "execution_count": 23,
     "metadata": {},
     "output_type": "execute_result"
    }
   ],
   "source": [
    "# | export\n",
    "\n",
    "n_features = trn_data[0][\"subset\"].shape[1]  # - 1\n",
    "n_features"
   ]
  },
  {
   "cell_type": "code",
   "execution_count": null,
   "metadata": {},
   "outputs": [],
   "source": []
  },
  {
   "cell_type": "code",
   "execution_count": 24,
   "metadata": {},
   "outputs": [
    {
     "data": {
      "text/plain": [
       "(array([0.]), array([0.]))"
      ]
     },
     "execution_count": 24,
     "metadata": {},
     "output_type": "execute_result"
    }
   ],
   "source": [
    "# | export\n",
    "\n",
    "means = np.zeros((len(trn_data), n_features))  # ((len(trn_data), 4))\n",
    "stds = np.zeros((len(trn_data), n_features))  # ((len(trn_data), 4))\n",
    "slice_from = n_features - 1\n",
    "\"\"\"\n",
    "for i, _trn_data in enumerate(trn_data):\n",
    "    means[i] = (np.mean(_trn_data[\"subset\"][:, slice_from:], axis=0)).astype(np.float32)\n",
    "    stds[i] = (np.var(_trn_data[\"subset\"][:, slice_from:], axis=0) ** 0.5).astype(\n",
    "        np.float32\n",
    "    )\n",
    "\"\"\"\n",
    "means = means.mean(0)\n",
    "stds = stds.mean(0)\n",
    "\n",
    "means, stds"
   ]
  },
  {
   "cell_type": "markdown",
   "metadata": {},
   "source": [
    "only first feature is numeric, so remove mean and std from the rest."
   ]
  },
  {
   "cell_type": "code",
   "execution_count": 25,
   "metadata": {},
   "outputs": [
    {
     "data": {
      "text/plain": [
       "(array([0.]), array([1.]))"
      ]
     },
     "execution_count": 25,
     "metadata": {},
     "output_type": "execute_result"
    }
   ],
   "source": [
    "means[slice_from:] = 0\n",
    "stds[slice_from:] = 1\n",
    "means, stds"
   ]
  },
  {
   "cell_type": "code",
   "execution_count": 26,
   "metadata": {},
   "outputs": [],
   "source": [
    "# | export\n",
    "\n",
    "\n",
    "class TSDataset(Dataset):\n",
    "    def __init__(self, data, mean, std):\n",
    "        self.data = data\n",
    "        self.mean = mean\n",
    "        self.std = std\n",
    "\n",
    "    def __getitem__(self, idx):\n",
    "        # output[channel] = (input[channel] - mean[channel]) / std[channel]\n",
    "        # ignore the timestamp column\n",
    "        x = self.data[idx][\"subset\"][:, slice_from:]  # 1024, 4\n",
    "        normed_X = ((x - self.mean) / (self.std + 1e-8)).astype(np.float32)\n",
    "        return torch.as_tensor(normed_X)\n",
    "\n",
    "    def __len__(self):\n",
    "        return len(self.data)"
   ]
  },
  {
   "cell_type": "code",
   "execution_count": 27,
   "metadata": {},
   "outputs": [],
   "source": [
    "# | export\n",
    "\n",
    "dset_trn = TSDataset(trn_data, mean=means, std=stds)\n",
    "dset_val = TSDataset(val_data, mean=means, std=stds)\n",
    "# use same stats from training data"
   ]
  },
  {
   "cell_type": "code",
   "execution_count": 28,
   "metadata": {},
   "outputs": [
    {
     "data": {
      "text/plain": [
       "torch.Size([48, 1])"
      ]
     },
     "execution_count": 28,
     "metadata": {},
     "output_type": "execute_result"
    }
   ],
   "source": [
    "dset_trn[0].shape"
   ]
  },
  {
   "cell_type": "code",
   "execution_count": 29,
   "metadata": {},
   "outputs": [
    {
     "data": {
      "text/plain": [
       "4362"
      ]
     },
     "execution_count": 29,
     "metadata": {},
     "output_type": "execute_result"
    }
   ],
   "source": [
    "len(dset_trn)"
   ]
  },
  {
   "cell_type": "code",
   "execution_count": 30,
   "metadata": {},
   "outputs": [],
   "source": [
    "# | export\n",
    "\n",
    "batch_size = 8"
   ]
  },
  {
   "cell_type": "code",
   "execution_count": 31,
   "metadata": {},
   "outputs": [],
   "source": [
    "# | export\n",
    "\n",
    "dl_trn = DataLoader(\n",
    "    dataset=dset_trn,\n",
    "    batch_size=batch_size,\n",
    "    drop_last=True,\n",
    "    shuffle=True,\n",
    "    num_workers=num_workers,\n",
    ")\n",
    "dl_val = DataLoader(\n",
    "    dataset=dset_val,\n",
    "    batch_size=batch_size,\n",
    "    drop_last=True,\n",
    "    shuffle=False,\n",
    "    num_workers=num_workers,\n",
    ")"
   ]
  },
  {
   "cell_type": "code",
   "execution_count": 32,
   "metadata": {},
   "outputs": [
    {
     "data": {
      "text/plain": [
       "torch.Size([8, 48, 1])"
      ]
     },
     "execution_count": 32,
     "metadata": {},
     "output_type": "execute_result"
    }
   ],
   "source": [
    "xs = next(iter(dl_trn))\n",
    "xs.shape"
   ]
  },
  {
   "cell_type": "code",
   "execution_count": 33,
   "metadata": {},
   "outputs": [
    {
     "data": {
      "text/plain": [
       "torch.Size([8, 48, 1])"
      ]
     },
     "execution_count": 33,
     "metadata": {},
     "output_type": "execute_result"
    }
   ],
   "source": [
    "xs.shape"
   ]
  },
  {
   "cell_type": "markdown",
   "metadata": {},
   "source": [
    "## Defining Decoder"
   ]
  },
  {
   "cell_type": "code",
   "execution_count": 44,
   "metadata": {},
   "outputs": [
    {
     "data": {
      "text/plain": [
       "(torch.Size([8, 64, 22, 1]), torch.Size([8, 512, 9, 1]))"
      ]
     },
     "execution_count": 44,
     "metadata": {},
     "output_type": "execute_result"
    }
   ],
   "source": [
    "num_hidden_units = 512\n",
    "kernel_size = (5, 1)\n",
    "stride = (2, 1)\n",
    "xs_c1 = nn.Conv2d(\n",
    "    in_channels=1,\n",
    "    out_channels=num_hidden_units // 8,\n",
    "    kernel_size=kernel_size,\n",
    "    stride=stride,\n",
    ")(xs.unsqueeze(1))\n",
    "xs_c2 = nn.Conv2d(\n",
    "    in_channels=num_hidden_units // 8,\n",
    "    out_channels=num_hidden_units,\n",
    "    kernel_size=kernel_size,\n",
    "    stride=stride,\n",
    ")(xs_c1)\n",
    "xs_c1.shape, xs_c2.shape  # , xs_c3.shape, xs_c4.shape"
   ]
  },
  {
   "cell_type": "code",
   "execution_count": null,
   "metadata": {},
   "outputs": [],
   "source": []
  },
  {
   "cell_type": "code",
   "execution_count": 69,
   "metadata": {},
   "outputs": [],
   "source": [
    "# | export\n",
    "\n",
    "# encoder\n",
    "# l_win to 24, the model would consider each 24-hour period as one sequence.\n",
    "# pad: if your array is [1, 2, 3] and you symmetrically pad it with 1 unit, the result would be [2, 1, 2, 3, 2].\n",
    "# xavier_initializer()\n",
    "# conv 1: num_hidden_units / 16\n",
    "# conv 2: num_hidden_units / 8\n",
    "# conv 3: num_hidden_units / 4\n",
    "# conv 4: num_hidden_units / 1, kernel = 4, 1\n",
    "# padding : same\n",
    "\n",
    "\n",
    "class Encoder(nn.Module):\n",
    "    def __init__(\n",
    "        self,\n",
    "        latent_dim=20,\n",
    "        num_hidden_units=512,\n",
    "        kernel_size=(5, 1),\n",
    "        stride=(2, 1),\n",
    "        act=F.mish,\n",
    "    ):\n",
    "        super().__init__()\n",
    "        self.flatten = nn.Flatten()\n",
    "        self.conv1 = nn.Conv2d(\n",
    "            in_channels=1,\n",
    "            out_channels=num_hidden_units // 8,\n",
    "            kernel_size=kernel_size,\n",
    "            stride=stride,\n",
    "        )\n",
    "        self.conv2 = nn.Conv2d(\n",
    "            in_channels=num_hidden_units // 8,\n",
    "            out_channels=num_hidden_units,\n",
    "            kernel_size=kernel_size,\n",
    "            stride=stride,\n",
    "        )\n",
    "        self.bn1 = nn.BatchNorm2d(num_hidden_units // 8)\n",
    "        self.bn2 = nn.BatchNorm2d(num_hidden_units)\n",
    "\n",
    "        self.linear = nn.LazyLinear(\n",
    "            out_features=num_hidden_units,\n",
    "            bias=False,\n",
    "        )\n",
    "        self.linear_mean = nn.LazyLinear(\n",
    "            out_features=latent_dim,\n",
    "            bias=False,\n",
    "        )\n",
    "        self.linear_var = nn.LazyLinear(\n",
    "            out_features=latent_dim,\n",
    "            bias=False,\n",
    "        )\n",
    "        self.act = act\n",
    "        self.init_weights()\n",
    "\n",
    "    def forward(self, x):\n",
    "        x = x.unsqueeze(1)  # 100, 1, 48, 1\n",
    "        x = self.act(self.bn1(self.conv1(x)))  # 100, 32, 23, 1\n",
    "        x = self.act(self.bn2(self.conv2(x)))  # 100, 64, 11, 1\n",
    "        x = self.flatten(x)  # 100, 512\n",
    "        x = self.act(self.linear(x))  # 100, 512\n",
    "        z_mean = self.linear_mean(x)\n",
    "        z_log_var = self.linear_var(x)\n",
    "        return z_mean, z_log_var\n",
    "\n",
    "    def init_weights(self):\n",
    "        for m in self.modules():\n",
    "            if isinstance(m, nn.Conv2d):\n",
    "                torch.nn.init.xavier_normal_(m.weight)\n",
    "                m.bias.data.fill_(0)"
   ]
  },
  {
   "cell_type": "code",
   "execution_count": 70,
   "metadata": {},
   "outputs": [
    {
     "data": {
      "text/plain": [
       "(torch.Size([8, 20]), torch.Size([8, 20]))"
      ]
     },
     "execution_count": 70,
     "metadata": {},
     "output_type": "execute_result"
    }
   ],
   "source": [
    "emb_mean, emb_var = Encoder(latent_dim=20)(xs)\n",
    "emb_mean.shape, emb_var.shape"
   ]
  },
  {
   "cell_type": "code",
   "execution_count": 71,
   "metadata": {},
   "outputs": [
    {
     "data": {
      "text/plain": [
       "(tensor(0.0120, grad_fn=<MeanBackward0>),\n",
       " tensor(-0.0143, grad_fn=<MeanBackward0>))"
      ]
     },
     "execution_count": 71,
     "metadata": {},
     "output_type": "execute_result"
    }
   ],
   "source": [
    "emb_mean.mean(), emb_var.mean()"
   ]
  },
  {
   "cell_type": "markdown",
   "metadata": {},
   "source": [
    "## Defining Sampler "
   ]
  },
  {
   "cell_type": "code",
   "execution_count": 72,
   "metadata": {},
   "outputs": [],
   "source": [
    "# | export\n",
    "\n",
    "\n",
    "class StochasticSampler(nn.Module):\n",
    "    \"\"\"We basically want to parametrize the sampling from the latent space\"\"\"\n",
    "\n",
    "    def __init__(self, deterministic=False):\n",
    "        super().__init__()\n",
    "        self.sampler = torch.distributions.Normal(loc=0, scale=1)\n",
    "        self.deterministic = deterministic\n",
    "\n",
    "    def forward(self, z_mean, z_log_var):\n",
    "        \"\"\"Return a normal sample value Z from the latent space given a mean and variance\"\"\"\n",
    "        # z_mean and z_log_var are mean and log-var estimates of the latent space\n",
    "        # under the assumption that the latent space is a gaussian normal\n",
    "        device = z_mean.device\n",
    "        # Scales and shifts the sampled values using the reparameterization trick\n",
    "        eps = self.sampler.sample(z_mean.shape).squeeze().to(device)\n",
    "        # print(eps.shape, z_log_var.shape, z_mean.shape)\n",
    "        return (\n",
    "            z_mean\n",
    "            if self.deterministic\n",
    "            else (z_mean + torch.exp(0.5 * z_log_var) * eps)\n",
    "        )"
   ]
  },
  {
   "cell_type": "code",
   "execution_count": 73,
   "metadata": {},
   "outputs": [
    {
     "data": {
      "text/plain": [
       "(torch.Size([8, 20]),\n",
       " True,\n",
       " tensor([ 0.9800, -0.1911, -0.2044,  1.0092,  1.7592,  2.0398, -0.0357,  0.8182,\n",
       "          0.9618,  0.0250, -0.2737,  0.3818, -0.3433, -0.8896, -2.0611,  0.7298,\n",
       "          1.2541,  0.8044, -0.6347,  0.6433], grad_fn=<SelectBackward0>))"
      ]
     },
     "execution_count": 73,
     "metadata": {},
     "output_type": "execute_result"
    }
   ],
   "source": [
    "sampler = StochasticSampler(deterministic=False)\n",
    "emb = sampler(emb_mean, emb_var)\n",
    "emb.shape, emb.requires_grad, emb[0]"
   ]
  },
  {
   "cell_type": "markdown",
   "metadata": {},
   "source": [
    "It's called the reparameterization trick because it reparameterizes the sampling process into a deterministic function that can be used for backpropagation. The core idea is to introduce an epsilon term drawn from a standard normal distribution and combine it with the mean and log variance of the latent distribution in a specific way. This allows the model to learn the parameters of the latent distribution (mean and variance) while still maintaining the stochastic nature of sampling during training."
   ]
  },
  {
   "cell_type": "markdown",
   "metadata": {},
   "source": [
    "## Defining Decoder part"
   ]
  },
  {
   "cell_type": "code",
   "execution_count": 74,
   "metadata": {},
   "outputs": [
    {
     "data": {
      "text/plain": [
       "(torch.Size([8, 512, 1, 1]),\n",
       " torch.Size([8, 512, 5, 1]),\n",
       " torch.Size([8, 2560]),\n",
       " torch.Size([8, 48]))"
      ]
     },
     "execution_count": 74,
     "metadata": {},
     "output_type": "execute_result"
    }
   ],
   "source": [
    "kernel_size = (5, 1)\n",
    "stride = 2\n",
    "xs_c1 = nn.Linear(in_features=20, out_features=num_hidden_units, bias=False)(emb)\n",
    "xs_c1 = xs_c1[:, :, None, None]\n",
    "xs_c2 = nn.ConvTranspose2d(\n",
    "    in_channels=num_hidden_units,\n",
    "    out_channels=num_hidden_units,\n",
    "    kernel_size=kernel_size,\n",
    "    stride=stride,\n",
    ")(xs_c1)\n",
    "xs_c3 = nn.ConvTranspose2d(\n",
    "    in_channels=num_hidden_units,\n",
    "    out_channels=num_hidden_units // 8,\n",
    "    kernel_size=kernel_size,\n",
    "    stride=stride,\n",
    ")(xs_c2)\n",
    "xs_c3 = nn.Flatten()(xs_c2)\n",
    "xs_c4 = nn.LazyLinear(out_features=p, bias=False)(xs_c3)\n",
    "(\n",
    "    xs_c1.shape,\n",
    "    xs_c2.shape,\n",
    "    xs_c3.shape,\n",
    "    xs_c4.shape,\n",
    ")"
   ]
  },
  {
   "cell_type": "code",
   "execution_count": null,
   "metadata": {},
   "outputs": [],
   "source": []
  },
  {
   "cell_type": "code",
   "execution_count": 75,
   "metadata": {},
   "outputs": [],
   "source": [
    "# | export\n",
    "\n",
    "\n",
    "# l_win to 24, the model would consider each 24-hour period as one sequence.\n",
    "# pad: if your array is [1, 2, 3] and you symmetrically pad it with 1 unit, the result would be [2, 1, 2, 3, 2].\n",
    "# xavier_initializer()\n",
    "# dense 1: num_hidden_units\n",
    "# reshape: (bs, 1, 1, num_hidden_units)  -> this is tensorflow notation, channel at end so actually (bs, num_hidden_units, 1, 1)\n",
    "\n",
    "# conv 2: num_hidden_units, kernel = 1\n",
    "# reshape: (bs, 4, 1, num_hidden_units / 4)\n",
    "\n",
    "# conv 3: num_hidden_units / 4, kernel = 3, 1, stride = 1\n",
    "# permute depth to spatial tf\n",
    "# reshape: (bs, 8, 1, num_hidden_units / 8),\n",
    "\n",
    "# conv 4: num_hidden_units / 8,  kernel = 3, 1, stride = 1\n",
    "# permute depth to spatial tf\n",
    "# reshape: (bs, 16, 1, num_hidden_units / 16)\n",
    "\n",
    "# conv 5: num_hidden_units / 16, kernel = 3, 1, stride = 1\n",
    "# permute depth to spatial tf\n",
    "# reshape: (bs, num_hidden_units /16, 1,  16)\n",
    "\n",
    "# conv 6: num_channel, kernel = 9, 1, stride = 1\n",
    "# reshape: (bs, l_win, num_channel)\n",
    "\n",
    "\n",
    "class Decoder(nn.Module):\n",
    "    def __init__(\n",
    "        self,\n",
    "        output_shape,\n",
    "        latent_dim=20,\n",
    "        num_hidden_units=512,\n",
    "        kernel_size=(5, 1),\n",
    "        stride=2,\n",
    "        act=F.mish,\n",
    "    ):\n",
    "        super().__init__()\n",
    "        self.output_shape = output_shape\n",
    "        self.linear = nn.Linear(\n",
    "            in_features=latent_dim, out_features=num_hidden_units, bias=False\n",
    "        )\n",
    "        self.dconv1 = nn.ConvTranspose2d(\n",
    "            in_channels=num_hidden_units,\n",
    "            out_channels=num_hidden_units,\n",
    "            kernel_size=kernel_size,\n",
    "            stride=stride,\n",
    "        )\n",
    "        self.dconv2 = nn.ConvTranspose2d(\n",
    "            in_channels=num_hidden_units,\n",
    "            out_channels=num_hidden_units // 8,\n",
    "            kernel_size=kernel_size,\n",
    "            stride=stride,\n",
    "        )\n",
    "\n",
    "        self.bn1 = nn.BatchNorm2d(num_hidden_units)\n",
    "        self.bn2 = nn.BatchNorm2d(num_hidden_units // 8)\n",
    "\n",
    "        self.flatten = nn.Flatten()\n",
    "        self.linear_out = nn.LazyLinear(\n",
    "            out_features=math.prod(output_shape),\n",
    "            bias=False,\n",
    "        )\n",
    "\n",
    "        self.act = act\n",
    "\n",
    "        self.init_weights()\n",
    "\n",
    "    def forward(self, x):\n",
    "        x = self.linear(x)\n",
    "        x = x[:, :, None, None]\n",
    "        x = self.act(self.bn1(self.dconv1(x)))\n",
    "        x = self.act(self.bn2(self.dconv2(x)))\n",
    "        x = self.flatten(x)\n",
    "        # no act for last layer\n",
    "        x = self.linear_out(x)\n",
    "        return self.reshape_to_output(x)\n",
    "\n",
    "    def reshape_to_output(self, x):\n",
    "        bs = x.shape[0]\n",
    "        return x.reshape(bs, *self.output_shape)\n",
    "\n",
    "    def init_weights(self):\n",
    "        for m in self.modules():\n",
    "            if isinstance(m, nn.Conv2d):\n",
    "                torch.nn.init.xavier_normal_(m.weight)\n",
    "                m.bias.data.fill_(0)"
   ]
  },
  {
   "cell_type": "code",
   "execution_count": 76,
   "metadata": {},
   "outputs": [
    {
     "name": "stderr",
     "output_type": "stream",
     "text": [
      "/home/gg/.local/share/virtualenvs/ts_vae-lstm-hz-Oy2CQ/lib/python3.9/site-packages/torch/nn/modules/lazy.py:180: UserWarning: Lazy modules are a new feature under heavy development so changes to the API or functionality can happen at any moment.\n",
      "  warnings.warn('Lazy modules are a new feature under heavy development '\n"
     ]
    },
    {
     "data": {
      "text/plain": [
       "torch.Size([8, 48, 1])"
      ]
     },
     "execution_count": 76,
     "metadata": {},
     "output_type": "execute_result"
    }
   ],
   "source": [
    "Decoder(output_shape=(p, n_features))(emb).shape"
   ]
  },
  {
   "cell_type": "code",
   "execution_count": 77,
   "metadata": {},
   "outputs": [
    {
     "data": {
      "text/plain": [
       "torch.Size([8, 48, 1])"
      ]
     },
     "execution_count": 77,
     "metadata": {},
     "output_type": "execute_result"
    }
   ],
   "source": [
    "xs.shape"
   ]
  },
  {
   "cell_type": "code",
   "execution_count": 78,
   "metadata": {},
   "outputs": [],
   "source": [
    "# | export\n",
    "from torch.distributions import kl_divergence"
   ]
  },
  {
   "cell_type": "code",
   "execution_count": 79,
   "metadata": {},
   "outputs": [
    {
     "data": {
      "text/plain": [
       "48"
      ]
     },
     "execution_count": 79,
     "metadata": {},
     "output_type": "execute_result"
    }
   ],
   "source": [
    "xs.size(1)"
   ]
  },
  {
   "cell_type": "code",
   "execution_count": 95,
   "metadata": {},
   "outputs": [],
   "source": [
    "# | export\n",
    "class VAE(nn.Module):\n",
    "    def __init__(\n",
    "        self, input_shape, latent_dim=20, act=F.leaky_relu, deterministic=False\n",
    "    ):\n",
    "        super().__init__()\n",
    "        self.encoder = Encoder(latent_dim=latent_dim, act=act)\n",
    "        self.decoder = Decoder(output_shape=input_shape, latent_dim=latent_dim, act=act)\n",
    "        self.latent_sampler = StochasticSampler(deterministic=deterministic)\n",
    "        self.act = act\n",
    "\n",
    "    def forward(self, x):\n",
    "        # x shape: [batch_size, sequence_length, num_features]\n",
    "        z_mean, z_log_var = self.encoder(x)\n",
    "        z = self.latent_sampler(z_mean, z_log_var)\n",
    "        reconstructed_x = self.decoder(z)\n",
    "        # loss to enforce all possible values are sampled from latent space\n",
    "        # should be of the size of the batch\n",
    "\n",
    "        # Reconstruction Loss (Mean Squared Error)\n",
    "        reconstruction_loss = F.mse_loss(reconstructed_x, x, reduction=\"mean\")\n",
    "        loss_kl = -0.5 * torch.mean(1 + z_log_var - z_mean.pow(2) - z_log_var.exp())\n",
    "        # / x.size(1)\n",
    "        # average the KL divergence across the batch dimension\n",
    "        # In the VAE-LSTM paper, they mention normalizing the KL divergence term by the number of features in the input.\n",
    "        vae_loss = reconstruction_loss + loss_kl\n",
    "        return reconstructed_x, vae_loss"
   ]
  },
  {
   "cell_type": "code",
   "execution_count": 96,
   "metadata": {},
   "outputs": [
    {
     "data": {
      "text/plain": [
       "torch.Size([8, 48, 1])"
      ]
     },
     "execution_count": 96,
     "metadata": {},
     "output_type": "execute_result"
    }
   ],
   "source": [
    "xs.shape"
   ]
  },
  {
   "cell_type": "code",
   "execution_count": 98,
   "metadata": {},
   "outputs": [
    {
     "name": "stderr",
     "output_type": "stream",
     "text": [
      "/home/gg/.local/share/virtualenvs/ts_vae-lstm-hz-Oy2CQ/lib/python3.9/site-packages/torch/nn/modules/lazy.py:180: UserWarning: Lazy modules are a new feature under heavy development so changes to the API or functionality can happen at any moment.\n",
      "  warnings.warn('Lazy modules are a new feature under heavy development '\n"
     ]
    },
    {
     "data": {
      "text/plain": [
       "tensor(1.1495, grad_fn=<AddBackward0>)"
      ]
     },
     "execution_count": 98,
     "metadata": {},
     "output_type": "execute_result"
    }
   ],
   "source": [
    "xs_pred, loss = VAE(latent_dim=128, input_shape=(p, n_features))(xs)\n",
    "loss"
   ]
  },
  {
   "cell_type": "code",
   "execution_count": 100,
   "metadata": {},
   "outputs": [
    {
     "data": {
      "text/plain": [
       "(torch.Size([8, 48, 1]), tensor(1.1495, grad_fn=<AddBackward0>))"
      ]
     },
     "execution_count": 100,
     "metadata": {},
     "output_type": "execute_result"
    }
   ],
   "source": [
    "xs_pred.shape, loss"
   ]
  },
  {
   "cell_type": "markdown",
   "metadata": {},
   "source": [
    "\n",
    "def loss_func(inputs, targets, loss_kl):\n",
    "    # targets = torch.where(targets >= 0, 1., 0.)\n",
    "    # loss_kl = loss_kl.unsqueeze(-1)  # add loss_kl per time step.\n",
    "    loss_reconstruct_numerical = F.huber_loss(\n",
    "        inputs,\n",
    "        targets,\n",
    "        delta=3,\n",
    "        reduction=\"none\",\n",
    "    ).sum((1, 2))\n",
    "    return (loss_reconstruct_numerical + loss_kl).sum()"
   ]
  },
  {
   "cell_type": "code",
   "execution_count": 152,
   "metadata": {},
   "outputs": [],
   "source": [
    "# | export\n",
    "\n",
    "\n",
    "@torch.no_grad()\n",
    "def evaluate_reconstruction(original_signal, reconstructed_signal):\n",
    "    \"\"\"\n",
    "    Evaluates the quality of the reconstructed signal compared to the original signal.\n",
    "\n",
    "    Args:\n",
    "        original_signal (torch.Tensor): Original time series signal.\n",
    "        reconstructed_signal (torch.Tensor): Reconstructed signal from the VAE.\n",
    "\n",
    "    Returns:\n",
    "        dict: Dictionary containing the evaluation metrics:\n",
    "            - mse: Mean Squared Error\n",
    "            - mae: Mean Absolute Error\n",
    "            - dtw: Dynamic Time Warping distance\n",
    "    \"\"\"\n",
    "\n",
    "    # Ensure tensors are on the CPU and numpy arrays\n",
    "    original_signal = original_signal.cpu().numpy()\n",
    "    reconstructed_signal = reconstructed_signal.cpu().numpy()\n",
    "\n",
    "    # Mean Squared Error\n",
    "    mse = nn.MSELoss()(\n",
    "        torch.from_numpy(original_signal), torch.from_numpy(reconstructed_signal)\n",
    "    ).item()\n",
    "\n",
    "    # Mean Absolute Error\n",
    "    mae = nn.L1Loss()(\n",
    "        torch.from_numpy(original_signal), torch.from_numpy(reconstructed_signal)\n",
    "    ).item()\n",
    "\n",
    "    return {\n",
    "        \"mse\": mse,\n",
    "        \"mae\": mae,\n",
    "    }"
   ]
  },
  {
   "cell_type": "markdown",
   "metadata": {},
   "source": [
    "# Training loop"
   ]
  },
  {
   "cell_type": "code",
   "execution_count": 153,
   "metadata": {},
   "outputs": [
    {
     "data": {
      "text/plain": [
       "'cuda'"
      ]
     },
     "execution_count": 153,
     "metadata": {},
     "output_type": "execute_result"
    }
   ],
   "source": [
    "# | export\n",
    "\n",
    "device = \"cuda\" if torch.cuda.is_available() else \"cpu\"\n",
    "device"
   ]
  },
  {
   "cell_type": "code",
   "execution_count": 154,
   "metadata": {},
   "outputs": [],
   "source": [
    "# | export\n",
    "\n",
    "\n",
    "def validate_epoch(dls, scorer):\n",
    "    \"\"\"For the full dataloader, calculate the running loss and score\"\"\"\n",
    "    model.eval()\n",
    "    running_loss = 0.0\n",
    "    running_score = 0.0\n",
    "    with torch.no_grad():\n",
    "        for batch_idx, xs in enumerate(dls):\n",
    "            # move to device\n",
    "            xs = xs.to(device)\n",
    "\n",
    "            # Forward pass\n",
    "            xs_gen, loss = model(xs)\n",
    "            # calc score\n",
    "            score = scorer(xs, xs_gen)[\"mse\"]\n",
    "\n",
    "            running_loss += loss.item()\n",
    "            running_score += score\n",
    "    return running_loss / len(dls), running_score / len(dls)"
   ]
  },
  {
   "cell_type": "code",
   "execution_count": 155,
   "metadata": {},
   "outputs": [],
   "source": [
    "# | export\n",
    "\n",
    "from fastcore.xtras import partial"
   ]
  },
  {
   "cell_type": "code",
   "execution_count": null,
   "metadata": {},
   "outputs": [],
   "source": []
  },
  {
   "cell_type": "code",
   "execution_count": 156,
   "metadata": {},
   "outputs": [
    {
     "name": "stdout",
     "output_type": "stream",
     "text": [
      "latent_dim is 24\n"
     ]
    },
    {
     "name": "stdout",
     "output_type": "stream",
     "text": [
      "Epoch [1/100], Batch [545/545], Loss: [0.528, 0.424], Score: [0.316, 0.255]\n",
      "Epoch [2/100], Batch [545/545], Loss: [0.394, 0.374], Score: [0.214, 0.218]\n",
      "Epoch [3/100], Batch [545/545], Loss: [0.367, 0.355], Score: [0.191, 0.181]\n",
      "Epoch [4/100], Batch [545/545], Loss: [0.351, 0.341], Score: [0.177, 0.183]\n",
      "Epoch [5/100], Batch [545/545], Loss: [0.347, 0.355], Score: [0.175, 0.202]\n",
      "Epoch [6/100], Batch [545/545], Loss: [0.342, 0.324], Score: [0.167, 0.172]\n",
      "Epoch [7/100], Batch [545/545], Loss: [0.340, 0.333], Score: [0.164, 0.169]\n",
      "Epoch [8/100], Batch [545/545], Loss: [0.332, 0.332], Score: [0.160, 0.161]\n",
      "Epoch [9/100], Batch [545/545], Loss: [0.346, 0.323], Score: [0.167, 0.168]\n",
      "Epoch [10/100], Batch [545/545], Loss: [0.325, 0.329], Score: [0.156, 0.174]\n",
      "Epoch [11/100], Batch [545/545], Loss: [0.327, 0.335], Score: [0.155, 0.177]\n",
      "Epoch [12/100], Batch [545/545], Loss: [0.321, 0.314], Score: [0.151, 0.150]\n",
      "Epoch [13/100], Batch [545/545], Loss: [0.332, 0.326], Score: [0.155, 0.142]\n",
      "Epoch [14/100], Batch [545/545], Loss: [0.315, 0.310], Score: [0.147, 0.144]\n",
      "Epoch [15/100], Batch [545/545], Loss: [0.322, 0.316], Score: [0.148, 0.147]\n",
      "Epoch [16/100], Batch [545/545], Loss: [0.315, 0.327], Score: [0.147, 0.155]\n",
      "Epoch [17/100], Batch [545/545], Loss: [0.315, 0.307], Score: [0.145, 0.128]\n",
      "Epoch [18/100], Batch [545/545], Loss: [0.311, 0.307], Score: [0.142, 0.130]\n",
      "Epoch [19/100], Batch [545/545], Loss: [0.316, 0.315], Score: [0.144, 0.142]\n",
      "Epoch [20/100], Batch [545/545], Loss: [0.307, 0.303], Score: [0.140, 0.124]\n",
      "Epoch [21/100], Batch [545/545], Loss: [0.303, 0.303], Score: [0.139, 0.151]\n",
      "Epoch [22/100], Batch [545/545], Loss: [0.316, 0.289], Score: [0.143, 0.136]\n",
      "Epoch [23/100], Batch [545/545], Loss: [0.301, 0.291], Score: [0.136, 0.132]\n",
      "Epoch [24/100], Batch [545/545], Loss: [0.303, 0.295], Score: [0.139, 0.134]\n",
      "Epoch [25/100], Batch [545/545], Loss: [0.304, 0.297], Score: [0.137, 0.137]\n",
      "Epoch [26/100], Batch [545/545], Loss: [0.299, 0.312], Score: [0.136, 0.134]\n",
      "Epoch [27/100], Batch [545/545], Loss: [0.298, 0.300], Score: [0.134, 0.130]\n",
      "Epoch [28/100], Batch [545/545], Loss: [0.300, 0.297], Score: [0.136, 0.133]\n",
      "Epoch [29/100], Batch [545/545], Loss: [0.293, 0.283], Score: [0.132, 0.118]\n",
      "Epoch [30/100], Batch [545/545], Loss: [0.294, 0.290], Score: [0.132, 0.128]\n",
      "Epoch [31/100], Batch [545/545], Loss: [0.295, 0.288], Score: [0.131, 0.111]\n",
      "Epoch [32/100], Batch [545/545], Loss: [0.292, 0.287], Score: [0.131, 0.132]\n",
      "Epoch [33/100], Batch [545/545], Loss: [0.292, 0.294], Score: [0.133, 0.129]\n",
      "Epoch [34/100], Batch [545/545], Loss: [0.289, 0.290], Score: [0.130, 0.149]\n",
      "Epoch [35/100], Batch [545/545], Loss: [0.287, 0.277], Score: [0.130, 0.117]\n",
      "Epoch [36/100], Batch [545/545], Loss: [0.285, 0.280], Score: [0.131, 0.117]\n",
      "Epoch [37/100], Batch [545/545], Loss: [0.282, 0.275], Score: [0.130, 0.132]\n",
      "Epoch [38/100], Batch [545/545], Loss: [0.279, 0.275], Score: [0.129, 0.131]\n",
      "Epoch [39/100], Batch [545/545], Loss: [0.279, 0.276], Score: [0.128, 0.125]\n",
      "Epoch [40/100], Batch [545/545], Loss: [0.277, 0.267], Score: [0.126, 0.114]\n",
      "Epoch [41/100], Batch [545/545], Loss: [0.276, 0.269], Score: [0.126, 0.118]\n",
      "Epoch [42/100], Batch [545/545], Loss: [0.276, 0.271], Score: [0.127, 0.113]\n",
      "Epoch [43/100], Batch [545/545], Loss: [0.275, 0.273], Score: [0.123, 0.127]\n",
      "Epoch [44/100], Batch [545/545], Loss: [0.273, 0.269], Score: [0.123, 0.108]\n",
      "Epoch [45/100], Batch [545/545], Loss: [0.274, 0.279], Score: [0.123, 0.131]\n",
      "Epoch [46/100], Batch [545/545], Loss: [0.274, 0.268], Score: [0.124, 0.116]\n",
      "Epoch [47/100], Batch [545/545], Loss: [0.274, 0.262], Score: [0.123, 0.107]\n",
      "Epoch [48/100], Batch [545/545], Loss: [0.274, 0.269], Score: [0.123, 0.124]\n",
      "Epoch [49/100], Batch [545/545], Loss: [0.273, 0.265], Score: [0.122, 0.111]\n",
      "Epoch [50/100], Batch [545/545], Loss: [0.272, 0.270], Score: [0.122, 0.116]\n",
      "Epoch [51/100], Batch [545/545], Loss: [0.273, 0.270], Score: [0.123, 0.111]\n",
      "Epoch [52/100], Batch [545/545], Loss: [0.271, 0.265], Score: [0.120, 0.109]\n",
      "Epoch [53/100], Batch [545/545], Loss: [0.269, 0.270], Score: [0.120, 0.121]\n",
      "Epoch [54/100], Batch [545/545], Loss: [0.270, 0.268], Score: [0.120, 0.121]\n",
      "Epoch [55/100], Batch [545/545], Loss: [0.272, 0.268], Score: [0.122, 0.116]\n",
      "Epoch [56/100], Batch [545/545], Loss: [0.270, 0.272], Score: [0.118, 0.122]\n",
      "Epoch [57/100], Batch [545/545], Loss: [0.269, 0.265], Score: [0.120, 0.112]\n",
      "Epoch [58/100], Batch [545/545], Loss: [0.269, 0.265], Score: [0.119, 0.120]\n",
      "Epoch 00058: reducing learning rate of group 0 to 9.0000e-04.\n",
      "Epoch [59/100], Batch [545/545], Loss: [0.269, 0.273], Score: [0.118, 0.134]\n",
      "Epoch [60/100], Batch [545/545], Loss: [0.270, 0.278], Score: [0.118, 0.136]\n",
      "Epoch [61/100], Batch [545/545], Loss: [0.268, 0.268], Score: [0.117, 0.118]\n",
      "Epoch [62/100], Batch [545/545], Loss: [0.266, 0.262], Score: [0.117, 0.111]\n",
      "Epoch [63/100], Batch [545/545], Loss: [0.268, 0.267], Score: [0.116, 0.111]\n",
      "Epoch [64/100], Batch [545/545], Loss: [0.268, 0.268], Score: [0.117, 0.113]\n",
      "Epoch [65/100], Batch [545/545], Loss: [0.266, 0.266], Score: [0.115, 0.114]\n",
      "Epoch [66/100], Batch [545/545], Loss: [0.266, 0.261], Score: [0.116, 0.104]\n",
      "Epoch [67/100], Batch [545/545], Loss: [0.267, 0.263], Score: [0.116, 0.106]\n",
      "Epoch [68/100], Batch [545/545], Loss: [0.267, 0.261], Score: [0.116, 0.113]\n",
      "Epoch [69/100], Batch [545/545], Loss: [0.266, 0.265], Score: [0.115, 0.114]\n",
      "Epoch [70/100], Batch [545/545], Loss: [0.266, 0.257], Score: [0.115, 0.104]\n",
      "Epoch [71/100], Batch [545/545], Loss: [0.267, 0.257], Score: [0.114, 0.100]\n",
      "Epoch [72/100], Batch [545/545], Loss: [0.263, 0.259], Score: [0.114, 0.112]\n",
      "Epoch [73/100], Batch [545/545], Loss: [0.266, 0.272], Score: [0.115, 0.113]\n",
      "Epoch [74/100], Batch [545/545], Loss: [0.265, 0.261], Score: [0.114, 0.106]\n",
      "Epoch [75/100], Batch [545/545], Loss: [0.264, 0.262], Score: [0.114, 0.105]\n",
      "Epoch [76/100], Batch [545/545], Loss: [0.266, 0.267], Score: [0.114, 0.110]\n",
      "Epoch [77/100], Batch [545/545], Loss: [0.267, 0.266], Score: [0.116, 0.116]\n",
      "Epoch [78/100], Batch [545/545], Loss: [0.267, 0.261], Score: [0.115, 0.105]\n",
      "Epoch [79/100], Batch [545/545], Loss: [0.267, 0.259], Score: [0.115, 0.108]\n",
      "Epoch [80/100], Batch [545/545], Loss: [0.265, 0.259], Score: [0.114, 0.113]\n",
      "Epoch [81/100], Batch [545/545], Loss: [0.264, 0.259], Score: [0.114, 0.104]\n",
      "Epoch 00081: reducing learning rate of group 0 to 8.1000e-04.\n",
      "Epoch [82/100], Batch [545/545], Loss: [0.263, 0.260], Score: [0.112, 0.103]\n",
      "Epoch [83/100], Batch [545/545], Loss: [0.265, 0.259], Score: [0.114, 0.108]\n",
      "Epoch [84/100], Batch [545/545], Loss: [0.265, 0.259], Score: [0.115, 0.103]\n",
      "Epoch [85/100], Batch [545/545], Loss: [0.264, 0.259], Score: [0.113, 0.106]\n",
      "Epoch [86/100], Batch [545/545], Loss: [0.264, 0.259], Score: [0.113, 0.113]\n",
      "Epoch [87/100], Batch [545/545], Loss: [0.264, 0.263], Score: [0.114, 0.108]\n",
      "Epoch [88/100], Batch [545/545], Loss: [0.262, 0.262], Score: [0.112, 0.112]\n",
      "Epoch [89/100], Batch [545/545], Loss: [0.265, 0.259], Score: [0.113, 0.108]\n",
      "Epoch [90/100], Batch [545/545], Loss: [0.263, 0.259], Score: [0.111, 0.118]\n",
      "Epoch [91/100], Batch [545/545], Loss: [0.264, 0.262], Score: [0.112, 0.114]\n",
      "Epoch [92/100], Batch [545/545], Loss: [0.263, 0.255], Score: [0.112, 0.102]\n",
      "Epoch [93/100], Batch [545/545], Loss: [0.264, 0.259], Score: [0.112, 0.113]\n",
      "Epoch [94/100], Batch [545/545], Loss: [0.263, 0.255], Score: [0.111, 0.104]\n",
      "Epoch [95/100], Batch [545/545], Loss: [0.262, 0.259], Score: [0.112, 0.096]\n",
      "Epoch [96/100], Batch [545/545], Loss: [0.263, 0.257], Score: [0.112, 0.100]\n",
      "Epoch [97/100], Batch [545/545], Loss: [0.263, 0.257], Score: [0.113, 0.110]\n",
      "Epoch [98/100], Batch [545/545], Loss: [0.265, 0.259], Score: [0.113, 0.104]\n",
      "Epoch [99/100], Batch [545/545], Loss: [0.263, 0.259], Score: [0.111, 0.105]\n",
      "Epoch [100/100], Batch [545/545], Loss: [0.262, 0.259], Score: [0.111, 0.112]\n"
     ]
    }
   ],
   "source": [
    "train = True\n",
    "batch_size = 8\n",
    "\n",
    "dset_trn = TSDataset(trn_data, mean=means, std=stds)\n",
    "dset_val = TSDataset(val_data, mean=means, std=stds)\n",
    "dl_trn = DataLoader(\n",
    "    dataset=dset_trn,\n",
    "    batch_size=batch_size,\n",
    "    drop_last=True,\n",
    "    shuffle=train,\n",
    "    num_workers=num_workers,\n",
    ")\n",
    "dl_val = DataLoader(\n",
    "    dataset=dset_val,\n",
    "    batch_size=batch_size,\n",
    "    drop_last=False,\n",
    "    shuffle=False,\n",
    "    num_workers=num_workers,\n",
    ")\n",
    "\n",
    "#\n",
    "train_dataloader = dl_trn\n",
    "valid_dataloader = dl_val\n",
    "\n",
    "# range_of_vals = 3.5  # output values will be in the range -3 to 3\n",
    "activation = (\n",
    "    F.mish\n",
    ")  # partial(F.hardtanh, min_val=-range_of_vals, max_val=range_of_vals)\n",
    "latent_dim = int(p * n_features // 2)\n",
    "print(f\"latent_dim is {latent_dim}\")\n",
    "model = VAE(latent_dim=latent_dim, input_shape=(p, n_features), act=activation).to(\n",
    "    device\n",
    ")  # to make visualization easier, 2 latent dims\n",
    "\n",
    "learning_rate = 1e-3\n",
    "optimizer = torch.optim.Adam(model.parameters(), lr=learning_rate, weight_decay=1e-6)\n",
    "scorer = evaluate_reconstruction  # calculate_smape\n",
    "# Training loop\n",
    "num_epochs = 100\n",
    "print_every = len(train_dataloader)  # epoch number to print at\n",
    "\n",
    "# Define LR scheduler\n",
    "scheduler = torch.optim.lr_scheduler.ReduceLROnPlateau(\n",
    "    optimizer, factor=0.9, patience=10, min_lr=1e-8, verbose=True\n",
    ")\n",
    "\n",
    "# Training loop\n",
    "for epoch in range(num_epochs):\n",
    "    model.train()\n",
    "    running_loss = 0.0\n",
    "    running_score = 0.0\n",
    "    for batch_idx, xs in enumerate(train_dataloader):\n",
    "        model.train()\n",
    "        optimizer.zero_grad()\n",
    "\n",
    "        # move to device\n",
    "        xs = xs.to(device)\n",
    "\n",
    "        # Forward pass\n",
    "        xs_gen, loss = model(xs)\n",
    "        # calc score\n",
    "        score = scorer(xs_gen, xs)[\"mse\"]\n",
    "\n",
    "        loss.backward()\n",
    "        optimizer.step()\n",
    "\n",
    "        running_loss += loss.item()\n",
    "        running_score += score\n",
    "\n",
    "    if (batch_idx + 1) % print_every == 0:\n",
    "        # calculate loss for valid_dataloader\n",
    "        n_dls = len(train_dataloader)\n",
    "        val_loss, val_score = validate_epoch(valid_dataloader, scorer)\n",
    "        print(\n",
    "            \"Epoch [{}/{}], Batch [{}/{}], Loss: [{:.3f}, {:.3f}], Score: [{:.3f}, {:.3f}]\".format(\n",
    "                epoch + 1,\n",
    "                num_epochs,\n",
    "                batch_idx + 1,\n",
    "                n_dls,\n",
    "                running_loss / n_dls,\n",
    "                val_loss,\n",
    "                running_score / n_dls,\n",
    "                val_score,\n",
    "            )\n",
    "        )\n",
    "    # reset at end of epoch\n",
    "    running_loss = 0.0\n",
    "    running_score = 0.0\n",
    "    # Step the LR scheduler\n",
    "    scheduler.step(val_loss)  # min the running_loss"
   ]
  },
  {
   "cell_type": "code",
   "execution_count": 158,
   "metadata": {},
   "outputs": [
    {
     "data": {
      "text/plain": [
       "'../models/vae_100_z24.pth'"
      ]
     },
     "execution_count": 158,
     "metadata": {},
     "output_type": "execute_result"
    }
   ],
   "source": [
    "model_pth = f\"../models/vae_{num_epochs}_z{latent_dim}.pth\"\n",
    "model_pth"
   ]
  },
  {
   "cell_type": "code",
   "execution_count": 159,
   "metadata": {},
   "outputs": [],
   "source": [
    "# save to path\n",
    "torch.save(model, model_pth)"
   ]
  },
  {
   "cell_type": "markdown",
   "metadata": {},
   "source": [
    "# Inference"
   ]
  },
  {
   "cell_type": "code",
   "execution_count": 160,
   "metadata": {},
   "outputs": [
    {
     "data": {
      "image/png": "[encoded data removed]",
      "text/plain": [
       "<Figure size 640x480 with 8 Axes>"
      ]
     },
     "metadata": {},
     "output_type": "display_data"
    }
   ],
   "source": [
    "model = torch.load(model_pth)\n",
    "with torch.no_grad():\n",
    "    xs_val = next(iter(dl_val))\n",
    "    xs_val_gen, loss_kl = model(xs_val.to(device))\n",
    "\n",
    "for idx in range(batch_size):\n",
    "    if idx >= 10:\n",
    "        break\n",
    "    plt.subplot(5, 2, idx + 1)\n",
    "    idx_feature = 0\n",
    "    decoded_example, actual_example = (\n",
    "        xs_val_gen[idx].detach().cpu(),\n",
    "        xs_val[idx].detach().cpu(),\n",
    "    )\n",
    "    sns.lineplot(\n",
    "        actual_example[:, idx_feature].numpy(),\n",
    "        alpha=0.5,\n",
    "        label=\"true\",\n",
    "    )\n",
    "    sns.lineplot(decoded_example[:, idx_feature].numpy())  # , label=\"vae\")\n",
    "plt.tight_layout()"
   ]
  },
  {
   "cell_type": "markdown",
   "metadata": {},
   "source": [
    "# Display embedding"
   ]
  },
  {
   "cell_type": "code",
   "execution_count": 161,
   "metadata": {},
   "outputs": [],
   "source": [
    "with torch.no_grad():\n",
    "    xs_val = next(iter(dl_val))\n",
    "    emb_mean_val, emb_std_val = model.encoder(xs_val.to(device))\n",
    "    emb_val = model.latent_sampler(emb_mean_val, emb_std_val)"
   ]
  },
  {
   "cell_type": "code",
   "execution_count": 162,
   "metadata": {},
   "outputs": [
    {
     "data": {
      "text/plain": [
       "(8, 24)"
      ]
     },
     "execution_count": 162,
     "metadata": {},
     "output_type": "execute_result"
    }
   ],
   "source": [
    "emb_val.cpu().numpy().shape"
   ]
  },
  {
   "cell_type": "code",
   "execution_count": 164,
   "metadata": {},
   "outputs": [
    {
     "data": {
      "text/plain": [
       "<Axes: xlabel='None', ylabel='None'>"
      ]
     },
     "execution_count": 164,
     "metadata": {},
     "output_type": "execute_result"
    },
    {
     "data": {
      "image/png": "[encoded data removed]",
      "text/plain": [
       "<Figure size 640x480 with 1 Axes>"
      ]
     },
     "metadata": {},
     "output_type": "display_data"
    }
   ],
   "source": [
    "sns.scatterplot(x=emb_val[:, 0].cpu(), y=emb_val[:, 2].cpu())"
   ]
  },
  {
   "cell_type": "markdown",
   "metadata": {},
   "source": [
    "# Benchmark VAE model anomaly detection \n",
    "\n",
    "#TODO: Without using the LSTM, check if an anomaly threshold for MSE can be calculated which can then predict for unseen data the deviations from expected behaviour. "
   ]
  },
  {
   "cell_type": "markdown",
   "metadata": {},
   "source": []
  },
  {
   "cell_type": "code",
   "execution_count": 166,
   "metadata": {},
   "outputs": [],
   "source": [
    "# | hide\n",
    "import nbdev\n",
    "\n",
    "nbdev.nbdev_export()"
   ]
  },
  {
   "cell_type": "code",
   "execution_count": null,
   "metadata": {},
   "outputs": [],
   "source": []
  },
  {
   "cell_type": "code",
   "execution_count": null,
   "metadata": {},
   "outputs": [],
   "source": []
  }
 ],
 "metadata": {
  "kernelspec": {
   "display_name": "ts_vae-lstm",
   "language": "python",
   "name": "ts_vae-lstm"
  },
  "language_info": {
   "codemirror_mode": {
    "name": "ipython",
    "version": 3
   },
   "file_extension": ".py",
   "mimetype": "text/x-python",
   "name": "python",
   "nbconvert_exporter": "python",
   "pygments_lexer": "ipython3",
   "version": "3.9.18"
  }
 },
 "nbformat": 4,
 "nbformat_minor": 4
}
