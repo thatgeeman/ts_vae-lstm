{
 "cells": [
  {
   "cell_type": "markdown",
   "metadata": {},
   "source": [
    "# core\n",
    "\n",
    "> Fill in a module description here"
   ]
  },
  {
   "cell_type": "code",
   "execution_count": 1,
   "metadata": {},
   "outputs": [],
   "source": [
    "#| default_exp vae"
   ]
  },
  {
   "cell_type": "code",
   "execution_count": 2,
   "metadata": {},
   "outputs": [],
   "source": [
    "#| hide\n",
    "from nbdev.showdoc import *"
   ]
  },
  {
   "cell_type": "code",
   "execution_count": 3,
   "metadata": {},
   "outputs": [],
   "source": [
    "#| export\n",
    "import pandas as pd\n",
    "import numpy as np\n",
    "import matplotlib.pyplot as plt\n",
    "import seaborn as sns\n",
    "from datetime import datetime as dt\n",
    "from ts_vae_lstm.concepts import get_window\n",
    "import os"
   ]
  },
  {
   "cell_type": "code",
   "execution_count": 4,
   "metadata": {},
   "outputs": [
    {
     "data": {
      "text/plain": [
       "8"
      ]
     },
     "execution_count": 4,
     "metadata": {},
     "output_type": "execute_result"
    }
   ],
   "source": [
    "num_workers = os.cpu_count()\n",
    "num_workers"
   ]
  },
  {
   "cell_type": "markdown",
   "metadata": {},
   "source": [
    "Train a VAE with no anomalies in the time series."
   ]
  },
  {
   "cell_type": "code",
   "execution_count": 47,
   "metadata": {},
   "outputs": [
    {
     "data": {
      "text/plain": [
       "Index(['timestamp', 'value'], dtype='object')"
      ]
     },
     "execution_count": 47,
     "metadata": {},
     "output_type": "execute_result"
    }
   ],
   "source": [
    "df = pd.read_csv('../sample_data/artificialNoAnomaly/artificialNoAnomaly/art_noisy.csv')\n",
    "df.timestamp = pd.to_datetime(df.timestamp)\n",
    "df.columns"
   ]
  },
  {
   "cell_type": "code",
   "execution_count": 48,
   "metadata": {},
   "outputs": [],
   "source": [
    "df[\"weekday\"] = df.timestamp.apply(lambda x: dt.weekday(x))\n",
    "df[\"hour\"] = df.timestamp.apply(lambda x: x.hour)\n",
    "df[\"week\"] = df.timestamp.apply(lambda x: x.week)"
   ]
  },
  {
   "cell_type": "code",
   "execution_count": 49,
   "metadata": {},
   "outputs": [
    {
     "data": {
      "text/html": [
       "<div>\n",
       "<style scoped>\n",
       "    .dataframe tbody tr th:only-of-type {\n",
       "        vertical-align: middle;\n",
       "    }\n",
       "\n",
       "    .dataframe tbody tr th {\n",
       "        vertical-align: top;\n",
       "    }\n",
       "\n",
       "    .dataframe thead th {\n",
       "        text-align: right;\n",
       "    }\n",
       "</style>\n",
       "<table border=\"1\" class=\"dataframe\">\n",
       "  <thead>\n",
       "    <tr style=\"text-align: right;\">\n",
       "      <th></th>\n",
       "      <th>timestamp</th>\n",
       "      <th>value</th>\n",
       "      <th>weekday</th>\n",
       "      <th>hour</th>\n",
       "      <th>week</th>\n",
       "    </tr>\n",
       "  </thead>\n",
       "  <tbody>\n",
       "    <tr>\n",
       "      <th>4022</th>\n",
       "      <td>2014-04-14 23:10:00</td>\n",
       "      <td>14.901829</td>\n",
       "      <td>0</td>\n",
       "      <td>23</td>\n",
       "      <td>16</td>\n",
       "    </tr>\n",
       "    <tr>\n",
       "      <th>4023</th>\n",
       "      <td>2014-04-14 23:15:00</td>\n",
       "      <td>14.228046</td>\n",
       "      <td>0</td>\n",
       "      <td>23</td>\n",
       "      <td>16</td>\n",
       "    </tr>\n",
       "    <tr>\n",
       "      <th>4024</th>\n",
       "      <td>2014-04-14 23:20:00</td>\n",
       "      <td>14.733648</td>\n",
       "      <td>0</td>\n",
       "      <td>23</td>\n",
       "      <td>16</td>\n",
       "    </tr>\n",
       "    <tr>\n",
       "      <th>4025</th>\n",
       "      <td>2014-04-14 23:25:00</td>\n",
       "      <td>14.041764</td>\n",
       "      <td>0</td>\n",
       "      <td>23</td>\n",
       "      <td>16</td>\n",
       "    </tr>\n",
       "    <tr>\n",
       "      <th>4026</th>\n",
       "      <td>2014-04-14 23:30:00</td>\n",
       "      <td>11.003317</td>\n",
       "      <td>0</td>\n",
       "      <td>23</td>\n",
       "      <td>16</td>\n",
       "    </tr>\n",
       "    <tr>\n",
       "      <th>4027</th>\n",
       "      <td>2014-04-14 23:35:00</td>\n",
       "      <td>10.689582</td>\n",
       "      <td>0</td>\n",
       "      <td>23</td>\n",
       "      <td>16</td>\n",
       "    </tr>\n",
       "    <tr>\n",
       "      <th>4028</th>\n",
       "      <td>2014-04-14 23:40:00</td>\n",
       "      <td>9.507657</td>\n",
       "      <td>0</td>\n",
       "      <td>23</td>\n",
       "      <td>16</td>\n",
       "    </tr>\n",
       "    <tr>\n",
       "      <th>4029</th>\n",
       "      <td>2014-04-14 23:45:00</td>\n",
       "      <td>17.339780</td>\n",
       "      <td>0</td>\n",
       "      <td>23</td>\n",
       "      <td>16</td>\n",
       "    </tr>\n",
       "    <tr>\n",
       "      <th>4030</th>\n",
       "      <td>2014-04-14 23:50:00</td>\n",
       "      <td>14.781273</td>\n",
       "      <td>0</td>\n",
       "      <td>23</td>\n",
       "      <td>16</td>\n",
       "    </tr>\n",
       "    <tr>\n",
       "      <th>4031</th>\n",
       "      <td>2014-04-14 23:55:00</td>\n",
       "      <td>10.051621</td>\n",
       "      <td>0</td>\n",
       "      <td>23</td>\n",
       "      <td>16</td>\n",
       "    </tr>\n",
       "  </tbody>\n",
       "</table>\n",
       "</div>"
      ],
      "text/plain": [
       "               timestamp      value  weekday  hour  week\n",
       "4022 2014-04-14 23:10:00  14.901829        0    23    16\n",
       "4023 2014-04-14 23:15:00  14.228046        0    23    16\n",
       "4024 2014-04-14 23:20:00  14.733648        0    23    16\n",
       "4025 2014-04-14 23:25:00  14.041764        0    23    16\n",
       "4026 2014-04-14 23:30:00  11.003317        0    23    16\n",
       "4027 2014-04-14 23:35:00  10.689582        0    23    16\n",
       "4028 2014-04-14 23:40:00   9.507657        0    23    16\n",
       "4029 2014-04-14 23:45:00  17.339780        0    23    16\n",
       "4030 2014-04-14 23:50:00  14.781273        0    23    16\n",
       "4031 2014-04-14 23:55:00  10.051621        0    23    16"
      ]
     },
     "execution_count": 49,
     "metadata": {},
     "output_type": "execute_result"
    }
   ],
   "source": [
    "df.tail(10)"
   ]
  },
  {
   "cell_type": "code",
   "execution_count": 50,
   "metadata": {},
   "outputs": [],
   "source": [
    "from scipy import signal"
   ]
  },
  {
   "cell_type": "markdown",
   "metadata": {},
   "source": [
    "Smooth the signal as the noise is making it difficult to learn. Smooth over a window of 1 hour."
   ]
  },
  {
   "cell_type": "code",
   "execution_count": 51,
   "metadata": {},
   "outputs": [],
   "source": [
    "window_length_day = int(60/5)"
   ]
  },
  {
   "cell_type": "code",
   "execution_count": 52,
   "metadata": {},
   "outputs": [
    {
     "data": {
      "text/plain": [
       "0       13.085107\n",
       "1       13.188385\n",
       "2       13.291662\n",
       "3       13.394940\n",
       "4       13.498218\n",
       "          ...    \n",
       "4027    12.733610\n",
       "4028    12.818560\n",
       "4029    12.903511\n",
       "4030    12.988461\n",
       "4031    13.073411\n",
       "Name: value, Length: 4032, dtype: float64"
      ]
     },
     "execution_count": 52,
     "metadata": {},
     "output_type": "execute_result"
    }
   ],
   "source": [
    "df[\"value_original\"] = df.value\n",
    "df[\"value\"] = signal.savgol_filter(df.value_original, window_length=window_length_day, polyorder=1)\n",
    "df.value"
   ]
  },
  {
   "cell_type": "code",
   "execution_count": 53,
   "metadata": {},
   "outputs": [
    {
     "data": {
      "text/plain": [
       "<Axes: >"
      ]
     },
     "execution_count": 53,
     "metadata": {},
     "output_type": "execute_result"
    },
    {
     "data": {
      "image/png": "[encoded data removed]",
      "text/plain": [
       "<Figure size 640x480 with 1 Axes>"
      ]
     },
     "metadata": {},
     "output_type": "display_data"
    }
   ],
   "source": [
    "sns.lineplot(df.value.values[:288])\n",
    "sns.lineplot(df.value_original.values[:288])"
   ]
  },
  {
   "cell_type": "code",
   "execution_count": 54,
   "metadata": {},
   "outputs": [],
   "source": [
    "df.drop(columns=['value_original'], inplace=True)"
   ]
  },
  {
   "cell_type": "code",
   "execution_count": 55,
   "metadata": {},
   "outputs": [
    {
     "data": {
      "text/plain": [
       "Index(['timestamp', 'value', 'weekday', 'hour', 'week'], dtype='object')"
      ]
     },
     "execution_count": 55,
     "metadata": {},
     "output_type": "execute_result"
    }
   ],
   "source": [
    "df.columns"
   ]
  },
  {
   "cell_type": "markdown",
   "metadata": {},
   "source": [
    "Prepare rolling windows of datasets, overlap is ok.\n",
    "\n",
    "One time step delta is 5min"
   ]
  },
  {
   "cell_type": "code",
   "execution_count": 56,
   "metadata": {},
   "outputs": [
    {
     "data": {
      "text/plain": [
       "24.0"
      ]
     },
     "execution_count": 56,
     "metadata": {},
     "output_type": "execute_result"
    }
   ],
   "source": [
    "(288*5)/60"
   ]
  },
  {
   "cell_type": "code",
   "execution_count": 57,
   "metadata": {},
   "outputs": [],
   "source": [
    "window_size = 288  # so that one window is one day\n",
    "\n",
    "data = [{\n",
    "    \"subset\": get_window(df.values, \n",
    "                         window_size=window_size, \n",
    "                         end_step=end_step, \n",
    "                         indices=list(df.index), \n",
    "                         return_indices=False),\n",
    "    \"end_step\": end_step,\n",
    "    \"start_step\": end_step-window_size,\n",
    "} for end_step in range(window_size, len(df))]\n"
   ]
  },
  {
   "cell_type": "code",
   "execution_count": 58,
   "metadata": {},
   "outputs": [
    {
     "data": {
      "text/plain": [
       "3744"
      ]
     },
     "execution_count": 58,
     "metadata": {},
     "output_type": "execute_result"
    }
   ],
   "source": [
    "# Number of datapoints\n",
    "len(df)-window_size "
   ]
  },
  {
   "cell_type": "markdown",
   "metadata": {},
   "source": [
    "Preseve 10% of the dataset from this for validation set."
   ]
  },
  {
   "cell_type": "code",
   "execution_count": 59,
   "metadata": {},
   "outputs": [
    {
     "data": {
      "text/plain": [
       "(374, 3370)"
      ]
     },
     "execution_count": 59,
     "metadata": {},
     "output_type": "execute_result"
    }
   ],
   "source": [
    "val_data_idxs = np.random.choice(range(len(data)), size=int(0.1 * len(data)), replace=False)\n",
    "trn_data_idxs = [idx for idx in range(len(data)) if idx not in val_data_idxs]\n",
    "len(val_data_idxs), len(trn_data_idxs)"
   ]
  },
  {
   "cell_type": "code",
   "execution_count": 60,
   "metadata": {},
   "outputs": [],
   "source": [
    "#| export\n",
    "from torch.utils.data import Dataset, DataLoader\n",
    "from torch import nn\n",
    "import torch.nn.functional as F\n",
    "import torch"
   ]
  },
  {
   "cell_type": "code",
   "execution_count": 61,
   "metadata": {},
   "outputs": [],
   "source": [
    "val_data = [data[idx] for idx in val_data_idxs]\n",
    "trn_data = [data[idx] for idx in trn_data_idxs]"
   ]
  },
  {
   "cell_type": "markdown",
   "metadata": {},
   "source": [
    "Calculate stats over training data."
   ]
  },
  {
   "cell_type": "code",
   "execution_count": 62,
   "metadata": {},
   "outputs": [
    {
     "data": {
      "text/plain": [
       "(288, 5)"
      ]
     },
     "execution_count": 62,
     "metadata": {},
     "output_type": "execute_result"
    }
   ],
   "source": [
    "trn_data[0]['subset'].shape"
   ]
  },
  {
   "cell_type": "code",
   "execution_count": 63,
   "metadata": {},
   "outputs": [
    {
     "data": {
      "text/plain": [
       "(array([13.49265649,  3.19205201, 11.5       , 14.61575791]),\n",
       " array([0.8906086 , 0.69736836, 6.92218637, 0.06091425]))"
      ]
     },
     "execution_count": 63,
     "metadata": {},
     "output_type": "execute_result"
    }
   ],
   "source": [
    "means = np.zeros((len(trn_data), 4))\n",
    "stds = np.zeros((len(trn_data), 4)) \n",
    "for i, _trn_data in enumerate(trn_data):\n",
    "    means[i] = (np.mean(_trn_data['subset'][:, 1:], axis=0)).astype(np.float32) \n",
    "    stds[i] = (np.var(_trn_data['subset'][:, 1:], axis=0)**0.5).astype(np.float32)  \n",
    "means = means.mean(0)\n",
    "stds = stds.mean(0)\n",
    "means, stds"
   ]
  },
  {
   "cell_type": "code",
   "execution_count": 64,
   "metadata": {},
   "outputs": [],
   "source": [
    "class TSDataset(Dataset):\n",
    "    def __init__(self, data, mean, std):\n",
    "        self.data = data \n",
    "        self.mean = mean\n",
    "        self.std = std\n",
    "    \n",
    "    def __getitem__(self, idx):\n",
    "        # output[channel] = (input[channel] - mean[channel]) / std[channel]\n",
    "        x = self.data[idx]['subset'][:, 1:] # 1024, 4 \n",
    "        normed_X = ((x - self.mean) / (self.std+1e-8)).astype(np.float32)\n",
    "        return torch.as_tensor(normed_X)\n",
    "    \n",
    "    def __len__(self):\n",
    "        return len(self.data)"
   ]
  },
  {
   "cell_type": "code",
   "execution_count": 65,
   "metadata": {},
   "outputs": [],
   "source": [
    "dset_trn = TSDataset(trn_data, mean=means, std=stds)\n",
    "dset_val = TSDataset(val_data, mean=means, std=stds)  # use same stats from training data "
   ]
  },
  {
   "cell_type": "code",
   "execution_count": 66,
   "metadata": {},
   "outputs": [
    {
     "data": {
      "text/plain": [
       "torch.Size([288, 4])"
      ]
     },
     "execution_count": 66,
     "metadata": {},
     "output_type": "execute_result"
    }
   ],
   "source": [
    "dset_trn[0].shape"
   ]
  },
  {
   "cell_type": "code",
   "execution_count": 67,
   "metadata": {},
   "outputs": [],
   "source": [
    "dl_trn = DataLoader(dataset=dset_trn, batch_size=100, drop_last=True, shuffle=True, num_workers=num_workers)\n",
    "dl_val = DataLoader(dataset=dset_val, batch_size=100, drop_last=True, shuffle=False, num_workers=num_workers)"
   ]
  },
  {
   "cell_type": "code",
   "execution_count": 68,
   "metadata": {},
   "outputs": [
    {
     "data": {
      "text/plain": [
       "torch.Size([100, 288, 4])"
      ]
     },
     "execution_count": 68,
     "metadata": {},
     "output_type": "execute_result"
    }
   ],
   "source": [
    "xs = next(iter(dl_trn))\n",
    "xs.shape"
   ]
  },
  {
   "cell_type": "code",
   "execution_count": 69,
   "metadata": {},
   "outputs": [],
   "source": [
    "#| export\n",
    "\n",
    "class StochasticSampler(nn.Module):\n",
    "    def __init__(self, ):\n",
    "        super().__init__()\n",
    "        self.z_space_distr = torch.distributions.Normal(loc=0, scale=1)\n",
    "        \n",
    "    def forward(self, z_mean, z_log_var): \n",
    "        # z_mean and z_log_var are mean and log-var estimates of the latent space\n",
    "        # under the assumption that the latent space is a gaussian normal\n",
    "        device = z_mean.device\n",
    "        eps = self.z_space_distr.sample(z_mean.shape).to(device)\n",
    "        return z_mean + torch.exp(0.5 * z_log_var) * eps"
   ]
  },
  {
   "cell_type": "code",
   "execution_count": 151,
   "metadata": {},
   "outputs": [
    {
     "data": {
      "text/plain": [
       "(torch.Size([100, 288, 4]), torch.Size([100, 1, 1152]))"
      ]
     },
     "execution_count": 151,
     "metadata": {},
     "output_type": "execute_result"
    }
   ],
   "source": [
    "xs.shape, xs.reshape(100, -1).unsqueeze(1).shape"
   ]
  },
  {
   "cell_type": "code",
   "execution_count": 171,
   "metadata": {},
   "outputs": [
    {
     "data": {
      "text/plain": [
       "(torch.Size([100, 3, 286, 4]),\n",
       " torch.Size([100, 64, 142, 4]),\n",
       " torch.Size([100, 128, 70, 4]),\n",
       " torch.Size([100, 128, 14, 4]),\n",
       " torch.Size([100, 128, 2, 4]))"
      ]
     },
     "execution_count": 171,
     "metadata": {},
     "output_type": "execute_result"
    }
   ],
   "source": [
    "xs_c1 = nn.Conv2d(in_channels=1, out_channels=3, kernel_size=(3, 1))(xs.unsqueeze(1)) \n",
    "xs_c2 = nn.Conv2d(in_channels=3, out_channels=64, kernel_size=(3, 1), stride=(2, 1))(xs_c1)\n",
    "xs_c3 = nn.Conv2d(in_channels=64, out_channels=128, kernel_size=(3, 1), stride=(2, 1))(xs_c2)\n",
    "xs_c4 = nn.Conv2d(in_channels=128, out_channels=128, kernel_size=(3, 1), stride=(5, 1))(xs_c3)\n",
    "xs_c5 = nn.Conv2d(in_channels=128, out_channels=128, kernel_size=(3, 1), stride=(7, 1))(xs_c4)\n",
    "xs_c1.shape, xs_c2.shape, xs_c3.shape, xs_c4.shape, xs_c5.shape"
   ]
  },
  {
   "cell_type": "code",
   "execution_count": 172,
   "metadata": {},
   "outputs": [
    {
     "data": {
      "text/plain": [
       "1024"
      ]
     },
     "execution_count": 172,
     "metadata": {},
     "output_type": "execute_result"
    }
   ],
   "source": [
    "128*2*4"
   ]
  },
  {
   "cell_type": "code",
   "execution_count": 175,
   "metadata": {},
   "outputs": [],
   "source": [
    "#| export\n",
    "\n",
    "class Encoder(nn.Module):\n",
    "    def __init__(self, latent_dim=20):\n",
    "        super().__init__()\n",
    "        self.flatten = nn.Flatten()\n",
    "        self.conv1 = nn.Conv2d(in_channels=1, out_channels=3, kernel_size=(3, 1)) \n",
    "        self.conv2 = nn.Conv2d(in_channels=3, out_channels=64, kernel_size=(3, 1), stride=(2, 1)) \n",
    "        self.conv3 = nn.Conv2d(in_channels=64, out_channels=128, kernel_size=(3, 1), stride=(2, 1))\n",
    "        self.conv4 = nn.Conv2d(in_channels=128, out_channels=128, kernel_size=(3, 1), stride=(5, 1))\n",
    "        self.conv5 = nn.Conv2d(in_channels=128, out_channels=128, kernel_size=(3, 1), stride=(7, 1))\n",
    "        # nn.Linear(in_features=window_size*4, out_features=512, bias=True)\n",
    "        self.linear_mean = nn.Linear(in_features=1024, out_features=latent_dim, bias=True)\n",
    "        self.linear_var = nn.Linear(in_features=1024, out_features=latent_dim, bias=True)\n",
    "    \n",
    "    def forward(self, x):\n",
    "        x = x.unsqueeze(1) # 100, 1, 288, 4\n",
    "        x = F.leaky_relu(self.conv1(x)) # 100, 3, 286, 4\n",
    "        x = F.leaky_relu(self.conv2(x)) # 100, 64, 142, 4\n",
    "        x = F.leaky_relu(self.conv3(x)) # 100, 128, 70, 4\n",
    "        x = F.leaky_relu(self.conv4(x)) # 100, 128, 14, 4\n",
    "        x = F.leaky_relu(self.conv5(x)) # 100, 128, 2, 4\n",
    "        x = self.flatten(x) # 100, 1024\n",
    "        z_mean = self.linear_mean(x)\n",
    "        z_log_var = self.linear_var(x)\n",
    "        return z_mean, z_log_var \n"
   ]
  },
  {
   "cell_type": "code",
   "execution_count": 179,
   "metadata": {},
   "outputs": [
    {
     "data": {
      "text/plain": [
       "(torch.Size([100, 20]), torch.Size([100, 20]), torch.Size([100, 1, 20]))"
      ]
     },
     "execution_count": 179,
     "metadata": {},
     "output_type": "execute_result"
    }
   ],
   "source": [
    "emb_mean, emb_var = Encoder()(xs)\n",
    "emb = StochasticSampler()(emb_mean, emb_var)\n",
    "emb_mean.shape, emb_var.shape, emb.unsqueeze(1).shape\n"
   ]
  },
  {
   "cell_type": "code",
   "execution_count": 199,
   "metadata": {},
   "outputs": [
    {
     "data": {
      "text/plain": [
       "(torch.Size([100, 128, 22, 4]),\n",
       " torch.Size([100, 128, 45, 4]),\n",
       " torch.Size([100, 64, 91, 4]),\n",
       " torch.Size([100, 3, 183, 4]),\n",
       " torch.Size([100, 1, 367, 4]))"
      ]
     },
     "execution_count": 199,
     "metadata": {},
     "output_type": "execute_result"
    }
   ],
   "source": [
    "xs_c1 = nn.ConvTranspose2d(in_channels=1, out_channels=128, kernel_size=(3, 4))(emb.unsqueeze(1).unsqueeze(-1)) \n",
    "xs_c2 = nn.ConvTranspose2d(in_channels=128, out_channels=128, kernel_size=(3, 1), stride=(2, 1))(xs_c1)\n",
    "xs_c3 = nn.ConvTranspose2d(in_channels=128, out_channels=64, kernel_size=(3, 1), stride=(2, 1))(xs_c2)\n",
    "xs_c4 = nn.ConvTranspose2d(in_channels=64, out_channels=3, kernel_size=(3, 1), stride=(2, 1))(xs_c3)\n",
    "xs_c5 = nn.ConvTranspose2d(in_channels=3, out_channels=1, kernel_size=(3, 1), stride=(2, 1))(xs_c4)\n",
    "xs_c1.shape, xs_c2.shape, xs_c3.shape, xs_c4.shape, xs_c5.shape"
   ]
  },
  {
   "cell_type": "code",
   "execution_count": 202,
   "metadata": {},
   "outputs": [],
   "source": [
    "#| export\n",
    "\n",
    "class Decoder(nn.Module):\n",
    "    def __init__(self, latent_dim=20, output_shape=(window_size, 4)):\n",
    "        super().__init__() \n",
    "        self.dconv1 = nn.ConvTranspose2d(in_channels=1, out_channels=128, kernel_size=(3, 4))  \n",
    "        self.dconv2 = nn.ConvTranspose2d(in_channels=128, out_channels=128, kernel_size=(3, 1), stride=(2, 1)) \n",
    "        self.dconv3 = nn.ConvTranspose2d(in_channels=128, out_channels=64, kernel_size=(3, 1), stride=(2, 1)) \n",
    "        self.dconv4 = nn.ConvTranspose2d(in_channels=64, out_channels=3, kernel_size=(3, 1), stride=(2, 1)) \n",
    "        self.dconv5 = nn.ConvTranspose2d(in_channels=3, out_channels=1, kernel_size=(3, 1), stride=(2, 1)) \n",
    "        #self.linear1 = nn.Linear(in_features=latent_dim, out_features=512, bias=True)\n",
    "        self.flatten = nn.Flatten()\n",
    "        self.linear = nn.Linear(in_features=367*4, out_features=window_size*4, bias=True) \n",
    "        self.output_shape = output_shape\n",
    "        \n",
    "    def forward(self, x):\n",
    "        x = x.unsqueeze(1).unsqueeze(-1)\n",
    "        x = F.leaky_relu(self.dconv1(x)) \n",
    "        x = F.leaky_relu(self.dconv2(x)) \n",
    "        x = F.leaky_relu(self.dconv3(x)) \n",
    "        x = F.leaky_relu(self.dconv4(x)) \n",
    "        x = F.leaky_relu(self.dconv5(x)) \n",
    "        x = self.flatten(x)\n",
    "        x = self.linear(x) \n",
    "        return self.reshape_to_output(x)\n",
    "    \n",
    "    def reshape_to_output(self, x):\n",
    "        return x.reshape(-1, *self.output_shape)\n",
    "    \n",
    "    \n"
   ]
  },
  {
   "cell_type": "code",
   "execution_count": 205,
   "metadata": {},
   "outputs": [
    {
     "data": {
      "text/plain": [
       "torch.Size([100, 288, 4])"
      ]
     },
     "execution_count": 205,
     "metadata": {},
     "output_type": "execute_result"
    }
   ],
   "source": [
    "Decoder()(emb).shape"
   ]
  },
  {
   "cell_type": "code",
   "execution_count": 206,
   "metadata": {},
   "outputs": [],
   "source": [
    "# | export\n",
    "class VAE(nn.Module):\n",
    "    def __init__(self, latent_dim=20, input_shape=(window_size, 4)):\n",
    "        super().__init__() \n",
    "        self.encoder = Encoder(latent_dim=latent_dim)\n",
    "        self.decoder = Decoder(latent_dim=latent_dim, output_shape=input_shape)\n",
    "        self.latent_sampler = StochasticSampler()\n",
    "        \n",
    "    def forward(self, x):\n",
    "        z_mean, z_log_var = self.encoder(x)\n",
    "        z = self.latent_sampler(z_mean, z_log_var)\n",
    "        out = self.decoder(z)\n",
    "        # loss to enforce all possible values are sampled from latent space\n",
    "        # should be of the size of the batch\n",
    "        loss_kl = -0.5 * torch.sum(1 + z_log_var - z_mean.pow(2) - z_log_var.exp(), dim=1)\n",
    "        return out, loss_kl"
   ]
  },
  {
   "cell_type": "code",
   "execution_count": 207,
   "metadata": {},
   "outputs": [],
   "source": [
    "xs_pred, loss_kl = VAE()(xs)"
   ]
  },
  {
   "cell_type": "code",
   "execution_count": 208,
   "metadata": {},
   "outputs": [],
   "source": [
    "#| export\n",
    "\n",
    "def snr_loss(predicted_signal, target_signal):\n",
    "    # Calculate the power of the target signal\n",
    "    target_power = torch.mean(target_signal**2, dim=(1, 2))\n",
    "    \n",
    "    # Calculate the power of the noise (difference between predicted and target signals)\n",
    "    noise_power = torch.mean((predicted_signal - target_signal)**2, dim=(1, 2))\n",
    "    \n",
    "    # Calculate SNR in dB (decibels)\n",
    "    snr = 10 * torch.log10(target_power / noise_power)\n",
    "    \n",
    "    # The goal is to maximize SNR, so we negate it to create a loss function\n",
    "    loss = -snr\n",
    "    \n",
    "    return loss\n"
   ]
  },
  {
   "cell_type": "code",
   "execution_count": 209,
   "metadata": {},
   "outputs": [],
   "source": [
    "#| export \n",
    "\n",
    "def calculate_smape(predicted, actual):\n",
    "    absolute_percentage_errors = (torch.abs(predicted - actual) / (torch.abs(predicted) + torch.abs(actual))) * 100\n",
    "    smape = absolute_percentage_errors\n",
    "    return smape\n"
   ]
  },
  {
   "cell_type": "code",
   "execution_count": 210,
   "metadata": {},
   "outputs": [],
   "source": [
    "# | export\n",
    "\n",
    "def loss_func(inputs, targets, loss_kl):\n",
    "    # targets = torch.where(targets >= 0, 1., 0.)\n",
    "    bs = inputs.shape[0]\n",
    "    loss_reconstruct = F.huber_loss(inputs, targets, reduction='none').mean((1,2)) # loss only for the signal\n",
    "    #loss_reconstruct = calculate_smape(inputs, targets).mean((1, 2))\n",
    "    # should be of the size of the batch to add losses correctly\n",
    "    # loss_kl of shape bs,\n",
    "    # loss_reconstruct of shape bs,\n",
    "    # print(loss_reconstruct.shape, loss_kl.shape)\n",
    "    return torch.mean(loss_reconstruct + loss_kl)"
   ]
  },
  {
   "cell_type": "code",
   "execution_count": 211,
   "metadata": {},
   "outputs": [
    {
     "data": {
      "text/plain": [
       "tensor(2.7674, grad_fn=<MeanBackward0>)"
      ]
     },
     "execution_count": 211,
     "metadata": {},
     "output_type": "execute_result"
    }
   ],
   "source": [
    "loss_func(xs, xs_pred, loss_kl)"
   ]
  },
  {
   "cell_type": "code",
   "execution_count": 212,
   "metadata": {},
   "outputs": [],
   "source": [
    "def get_similarity(inputs, targets):\n",
    "    func = F.mse_loss\n",
    "    with torch.no_grad(): \n",
    "        return func(inputs.flatten(), targets.flatten()) "
   ]
  },
  {
   "cell_type": "code",
   "execution_count": 213,
   "metadata": {},
   "outputs": [
    {
     "data": {
      "text/plain": [
       "tensor(24.0607)"
      ]
     },
     "execution_count": 213,
     "metadata": {},
     "output_type": "execute_result"
    }
   ],
   "source": [
    "get_similarity(xs, xs_pred)"
   ]
  },
  {
   "cell_type": "markdown",
   "metadata": {},
   "source": [
    "# Training loop"
   ]
  },
  {
   "cell_type": "code",
   "execution_count": 214,
   "metadata": {},
   "outputs": [
    {
     "data": {
      "text/plain": [
       "'cpu'"
      ]
     },
     "execution_count": 214,
     "metadata": {},
     "output_type": "execute_result"
    }
   ],
   "source": [
    "device = 'cuda' if torch.cuda.is_available() else 'cpu'\n",
    "device"
   ]
  },
  {
   "cell_type": "code",
   "execution_count": 215,
   "metadata": {},
   "outputs": [],
   "source": [
    "def validate_epoch(dls, criterion, scorer): \n",
    "    model.eval()\n",
    "    running_loss = 0.0\n",
    "    running_score = 0.0\n",
    "    with torch.no_grad():\n",
    "        for batch_idx, xs in enumerate(dls):\n",
    "            # move to device\n",
    "            xs = xs.to(device) \n",
    "            \n",
    "            # Forward pass\n",
    "            xs_gen, loss_kl = model(xs)\n",
    "\n",
    "            loss = loss_func(xs_gen, targets=xs, loss_kl=loss_kl)\n",
    "            # calc score\n",
    "            score = scorer(xs_gen, targets=xs)\n",
    "\n",
    "            running_loss += loss.item()\n",
    "            running_score += score.item()\n",
    "    return running_loss, running_score"
   ]
  },
  {
   "cell_type": "code",
   "execution_count": 217,
   "metadata": {},
   "outputs": [
    {
     "name": "stdout",
     "output_type": "stream",
     "text": [
      "Epoch [1/100], Batch [33/33], Trn Loss: 2.602401, Trn Score: 26.138780, Val Loss: 2.558086, Val Score: 31.605245\n",
      "Epoch [2/100], Batch [33/33], Trn Loss: 2.519227, Trn Score: 31.220679, Val Loss: 2.550120, Val Score: 31.964788\n",
      "Epoch [3/100], Batch [33/33], Trn Loss: 2.507706, Trn Score: 31.305590, Val Loss: 2.551598, Val Score: 31.996539\n",
      "Epoch [4/100], Batch [33/33], Trn Loss: 2.518461, Trn Score: 31.414013, Val Loss: 2.549885, Val Score: 31.429936\n",
      "Epoch [5/100], Batch [33/33], Trn Loss: 2.516722, Trn Score: 31.437253, Val Loss: 2.551597, Val Score: 31.942389\n",
      "Epoch [6/100], Batch [33/33], Trn Loss: 2.519548, Trn Score: 31.420870, Val Loss: 2.549851, Val Score: 31.393286\n",
      "Epoch [7/100], Batch [33/33], Trn Loss: 2.518013, Trn Score: 31.473394, Val Loss: 2.548187, Val Score: 32.115779\n"
     ]
    },
    {
     "ename": "KeyboardInterrupt",
     "evalue": "",
     "output_type": "error",
     "traceback": [
      "\u001b[0;31m---------------------------------------------------------------------------\u001b[0m",
      "\u001b[0;31mKeyboardInterrupt\u001b[0m                         Traceback (most recent call last)",
      "\u001b[1;32m/Users/gg/Projects/ts_vae-lstm/nbs/01_vae.ipynb Cell 53\u001b[0m line \u001b[0;36m3\n\u001b[1;32m     <a href='vscode-notebook-cell:/Users/gg/Projects/ts_vae-lstm/nbs/01_vae.ipynb#X35sZmlsZQ%3D%3D?line=26'>27</a>\u001b[0m xs \u001b[39m=\u001b[39m xs\u001b[39m.\u001b[39mto(device) \n\u001b[1;32m     <a href='vscode-notebook-cell:/Users/gg/Projects/ts_vae-lstm/nbs/01_vae.ipynb#X35sZmlsZQ%3D%3D?line=28'>29</a>\u001b[0m \u001b[39m# Forward pass\u001b[39;00m\n\u001b[0;32m---> <a href='vscode-notebook-cell:/Users/gg/Projects/ts_vae-lstm/nbs/01_vae.ipynb#X35sZmlsZQ%3D%3D?line=29'>30</a>\u001b[0m xs_gen, loss_kl \u001b[39m=\u001b[39m model(xs)\n\u001b[1;32m     <a href='vscode-notebook-cell:/Users/gg/Projects/ts_vae-lstm/nbs/01_vae.ipynb#X35sZmlsZQ%3D%3D?line=31'>32</a>\u001b[0m loss \u001b[39m=\u001b[39m loss_func(xs_gen, targets\u001b[39m=\u001b[39mxs, loss_kl\u001b[39m=\u001b[39mloss_kl)\n\u001b[1;32m     <a href='vscode-notebook-cell:/Users/gg/Projects/ts_vae-lstm/nbs/01_vae.ipynb#X35sZmlsZQ%3D%3D?line=32'>33</a>\u001b[0m \u001b[39m# calc score\u001b[39;00m\n",
      "File \u001b[0;32m~/Projects/ts_vae-lstm/.venv/lib/python3.9/site-packages/torch/nn/modules/module.py:1518\u001b[0m, in \u001b[0;36mModule._wrapped_call_impl\u001b[0;34m(self, *args, **kwargs)\u001b[0m\n\u001b[1;32m   1516\u001b[0m     \u001b[39mreturn\u001b[39;00m \u001b[39mself\u001b[39m\u001b[39m.\u001b[39m_compiled_call_impl(\u001b[39m*\u001b[39margs, \u001b[39m*\u001b[39m\u001b[39m*\u001b[39mkwargs)  \u001b[39m# type: ignore[misc]\u001b[39;00m\n\u001b[1;32m   1517\u001b[0m \u001b[39melse\u001b[39;00m:\n\u001b[0;32m-> 1518\u001b[0m     \u001b[39mreturn\u001b[39;00m \u001b[39mself\u001b[39;49m\u001b[39m.\u001b[39;49m_call_impl(\u001b[39m*\u001b[39;49margs, \u001b[39m*\u001b[39;49m\u001b[39m*\u001b[39;49mkwargs)\n",
      "File \u001b[0;32m~/Projects/ts_vae-lstm/.venv/lib/python3.9/site-packages/torch/nn/modules/module.py:1527\u001b[0m, in \u001b[0;36mModule._call_impl\u001b[0;34m(self, *args, **kwargs)\u001b[0m\n\u001b[1;32m   1522\u001b[0m \u001b[39m# If we don't have any hooks, we want to skip the rest of the logic in\u001b[39;00m\n\u001b[1;32m   1523\u001b[0m \u001b[39m# this function, and just call forward.\u001b[39;00m\n\u001b[1;32m   1524\u001b[0m \u001b[39mif\u001b[39;00m \u001b[39mnot\u001b[39;00m (\u001b[39mself\u001b[39m\u001b[39m.\u001b[39m_backward_hooks \u001b[39mor\u001b[39;00m \u001b[39mself\u001b[39m\u001b[39m.\u001b[39m_backward_pre_hooks \u001b[39mor\u001b[39;00m \u001b[39mself\u001b[39m\u001b[39m.\u001b[39m_forward_hooks \u001b[39mor\u001b[39;00m \u001b[39mself\u001b[39m\u001b[39m.\u001b[39m_forward_pre_hooks\n\u001b[1;32m   1525\u001b[0m         \u001b[39mor\u001b[39;00m _global_backward_pre_hooks \u001b[39mor\u001b[39;00m _global_backward_hooks\n\u001b[1;32m   1526\u001b[0m         \u001b[39mor\u001b[39;00m _global_forward_hooks \u001b[39mor\u001b[39;00m _global_forward_pre_hooks):\n\u001b[0;32m-> 1527\u001b[0m     \u001b[39mreturn\u001b[39;00m forward_call(\u001b[39m*\u001b[39;49margs, \u001b[39m*\u001b[39;49m\u001b[39m*\u001b[39;49mkwargs)\n\u001b[1;32m   1529\u001b[0m \u001b[39mtry\u001b[39;00m:\n\u001b[1;32m   1530\u001b[0m     result \u001b[39m=\u001b[39m \u001b[39mNone\u001b[39;00m\n",
      "\u001b[1;32m/Users/gg/Projects/ts_vae-lstm/nbs/01_vae.ipynb Cell 53\u001b[0m line \u001b[0;36m1\n\u001b[1;32m     <a href='vscode-notebook-cell:/Users/gg/Projects/ts_vae-lstm/nbs/01_vae.ipynb#X35sZmlsZQ%3D%3D?line=9'>10</a>\u001b[0m z_mean, z_log_var \u001b[39m=\u001b[39m \u001b[39mself\u001b[39m\u001b[39m.\u001b[39mencoder(x)\n\u001b[1;32m     <a href='vscode-notebook-cell:/Users/gg/Projects/ts_vae-lstm/nbs/01_vae.ipynb#X35sZmlsZQ%3D%3D?line=10'>11</a>\u001b[0m z \u001b[39m=\u001b[39m \u001b[39mself\u001b[39m\u001b[39m.\u001b[39mlatent_sampler(z_mean, z_log_var)\n\u001b[0;32m---> <a href='vscode-notebook-cell:/Users/gg/Projects/ts_vae-lstm/nbs/01_vae.ipynb#X35sZmlsZQ%3D%3D?line=11'>12</a>\u001b[0m out \u001b[39m=\u001b[39m \u001b[39mself\u001b[39;49m\u001b[39m.\u001b[39;49mdecoder(z)\n\u001b[1;32m     <a href='vscode-notebook-cell:/Users/gg/Projects/ts_vae-lstm/nbs/01_vae.ipynb#X35sZmlsZQ%3D%3D?line=12'>13</a>\u001b[0m \u001b[39m# loss to enforce all possible values are sampled from latent space\u001b[39;00m\n\u001b[1;32m     <a href='vscode-notebook-cell:/Users/gg/Projects/ts_vae-lstm/nbs/01_vae.ipynb#X35sZmlsZQ%3D%3D?line=13'>14</a>\u001b[0m \u001b[39m# should be of the size of the batch\u001b[39;00m\n\u001b[1;32m     <a href='vscode-notebook-cell:/Users/gg/Projects/ts_vae-lstm/nbs/01_vae.ipynb#X35sZmlsZQ%3D%3D?line=14'>15</a>\u001b[0m loss_kl \u001b[39m=\u001b[39m \u001b[39m-\u001b[39m\u001b[39m0.5\u001b[39m \u001b[39m*\u001b[39m torch\u001b[39m.\u001b[39msum(\u001b[39m1\u001b[39m \u001b[39m+\u001b[39m z_log_var \u001b[39m-\u001b[39m z_mean\u001b[39m.\u001b[39mpow(\u001b[39m2\u001b[39m) \u001b[39m-\u001b[39m z_log_var\u001b[39m.\u001b[39mexp(), dim\u001b[39m=\u001b[39m\u001b[39m1\u001b[39m)\n",
      "File \u001b[0;32m~/Projects/ts_vae-lstm/.venv/lib/python3.9/site-packages/torch/nn/modules/module.py:1518\u001b[0m, in \u001b[0;36mModule._wrapped_call_impl\u001b[0;34m(self, *args, **kwargs)\u001b[0m\n\u001b[1;32m   1516\u001b[0m     \u001b[39mreturn\u001b[39;00m \u001b[39mself\u001b[39m\u001b[39m.\u001b[39m_compiled_call_impl(\u001b[39m*\u001b[39margs, \u001b[39m*\u001b[39m\u001b[39m*\u001b[39mkwargs)  \u001b[39m# type: ignore[misc]\u001b[39;00m\n\u001b[1;32m   1517\u001b[0m \u001b[39melse\u001b[39;00m:\n\u001b[0;32m-> 1518\u001b[0m     \u001b[39mreturn\u001b[39;00m \u001b[39mself\u001b[39;49m\u001b[39m.\u001b[39;49m_call_impl(\u001b[39m*\u001b[39;49margs, \u001b[39m*\u001b[39;49m\u001b[39m*\u001b[39;49mkwargs)\n",
      "File \u001b[0;32m~/Projects/ts_vae-lstm/.venv/lib/python3.9/site-packages/torch/nn/modules/module.py:1527\u001b[0m, in \u001b[0;36mModule._call_impl\u001b[0;34m(self, *args, **kwargs)\u001b[0m\n\u001b[1;32m   1522\u001b[0m \u001b[39m# If we don't have any hooks, we want to skip the rest of the logic in\u001b[39;00m\n\u001b[1;32m   1523\u001b[0m \u001b[39m# this function, and just call forward.\u001b[39;00m\n\u001b[1;32m   1524\u001b[0m \u001b[39mif\u001b[39;00m \u001b[39mnot\u001b[39;00m (\u001b[39mself\u001b[39m\u001b[39m.\u001b[39m_backward_hooks \u001b[39mor\u001b[39;00m \u001b[39mself\u001b[39m\u001b[39m.\u001b[39m_backward_pre_hooks \u001b[39mor\u001b[39;00m \u001b[39mself\u001b[39m\u001b[39m.\u001b[39m_forward_hooks \u001b[39mor\u001b[39;00m \u001b[39mself\u001b[39m\u001b[39m.\u001b[39m_forward_pre_hooks\n\u001b[1;32m   1525\u001b[0m         \u001b[39mor\u001b[39;00m _global_backward_pre_hooks \u001b[39mor\u001b[39;00m _global_backward_hooks\n\u001b[1;32m   1526\u001b[0m         \u001b[39mor\u001b[39;00m _global_forward_hooks \u001b[39mor\u001b[39;00m _global_forward_pre_hooks):\n\u001b[0;32m-> 1527\u001b[0m     \u001b[39mreturn\u001b[39;00m forward_call(\u001b[39m*\u001b[39;49margs, \u001b[39m*\u001b[39;49m\u001b[39m*\u001b[39;49mkwargs)\n\u001b[1;32m   1529\u001b[0m \u001b[39mtry\u001b[39;00m:\n\u001b[1;32m   1530\u001b[0m     result \u001b[39m=\u001b[39m \u001b[39mNone\u001b[39;00m\n",
      "\u001b[1;32m/Users/gg/Projects/ts_vae-lstm/nbs/01_vae.ipynb Cell 53\u001b[0m line \u001b[0;36m1\n\u001b[1;32m     <a href='vscode-notebook-cell:/Users/gg/Projects/ts_vae-lstm/nbs/01_vae.ipynb#X35sZmlsZQ%3D%3D?line=15'>16</a>\u001b[0m \u001b[39mdef\u001b[39;00m \u001b[39mforward\u001b[39m(\u001b[39mself\u001b[39m, x):\n\u001b[1;32m     <a href='vscode-notebook-cell:/Users/gg/Projects/ts_vae-lstm/nbs/01_vae.ipynb#X35sZmlsZQ%3D%3D?line=16'>17</a>\u001b[0m     x \u001b[39m=\u001b[39m x\u001b[39m.\u001b[39munsqueeze(\u001b[39m1\u001b[39m)\u001b[39m.\u001b[39munsqueeze(\u001b[39m-\u001b[39m\u001b[39m1\u001b[39m)\n\u001b[0;32m---> <a href='vscode-notebook-cell:/Users/gg/Projects/ts_vae-lstm/nbs/01_vae.ipynb#X35sZmlsZQ%3D%3D?line=17'>18</a>\u001b[0m     x \u001b[39m=\u001b[39m F\u001b[39m.\u001b[39;49mleaky_relu(\u001b[39mself\u001b[39;49m\u001b[39m.\u001b[39;49mdconv1(x)) \n\u001b[1;32m     <a href='vscode-notebook-cell:/Users/gg/Projects/ts_vae-lstm/nbs/01_vae.ipynb#X35sZmlsZQ%3D%3D?line=18'>19</a>\u001b[0m     x \u001b[39m=\u001b[39m F\u001b[39m.\u001b[39mleaky_relu(\u001b[39mself\u001b[39m\u001b[39m.\u001b[39mdconv2(x)) \n\u001b[1;32m     <a href='vscode-notebook-cell:/Users/gg/Projects/ts_vae-lstm/nbs/01_vae.ipynb#X35sZmlsZQ%3D%3D?line=19'>20</a>\u001b[0m     x \u001b[39m=\u001b[39m F\u001b[39m.\u001b[39mleaky_relu(\u001b[39mself\u001b[39m\u001b[39m.\u001b[39mdconv3(x)) \n",
      "File \u001b[0;32m~/Projects/ts_vae-lstm/.venv/lib/python3.9/site-packages/torch/nn/functional.py:1646\u001b[0m, in \u001b[0;36mleaky_relu\u001b[0;34m(input, negative_slope, inplace)\u001b[0m\n\u001b[1;32m   1644\u001b[0m     result \u001b[39m=\u001b[39m torch\u001b[39m.\u001b[39m_C\u001b[39m.\u001b[39m_nn\u001b[39m.\u001b[39mleaky_relu_(\u001b[39minput\u001b[39m, negative_slope)\n\u001b[1;32m   1645\u001b[0m \u001b[39melse\u001b[39;00m:\n\u001b[0;32m-> 1646\u001b[0m     result \u001b[39m=\u001b[39m torch\u001b[39m.\u001b[39;49m_C\u001b[39m.\u001b[39;49m_nn\u001b[39m.\u001b[39;49mleaky_relu(\u001b[39minput\u001b[39;49m, negative_slope)\n\u001b[1;32m   1647\u001b[0m \u001b[39mreturn\u001b[39;00m result\n",
      "\u001b[0;31mKeyboardInterrupt\u001b[0m: "
     ]
    }
   ],
   "source": [
    "train_dataloader = dl_trn\n",
    "valid_dataloader = dl_val\n",
    "model = VAE(latent_dim=20).to(device) # to make visualization easier, 2 latent dims\n",
    "\n",
    "learning_rate = 1e-3\n",
    "criterion = loss_func\n",
    "optimizer = torch.optim.Adam(model.parameters(), lr=learning_rate, weight_decay=1e-5) \n",
    "scorer = get_similarity\n",
    "# Training loop\n",
    "num_epochs = 100\n",
    "print_every = len(train_dataloader)\n",
    "\n",
    "# Define LR scheduler \n",
    "scheduler = torch.optim.lr_scheduler.ReduceLROnPlateau(optimizer, \n",
    "                                                       factor=0.9, patience=10, \n",
    "                                                       min_lr=1e-8, verbose=True)\n",
    "\n",
    "# Training loop\n",
    "for epoch in range(num_epochs):\n",
    "    model.train()\n",
    "    running_loss = 0.0\n",
    "    running_score = 0.0\n",
    "    for batch_idx, xs in enumerate(train_dataloader):\n",
    "        optimizer.zero_grad()\n",
    "        \n",
    "        # move to device\n",
    "        xs = xs.to(device) \n",
    "        \n",
    "        # Forward pass\n",
    "        xs_gen, loss_kl = model(xs)\n",
    "        \n",
    "        loss = loss_func(xs_gen, targets=xs, loss_kl=loss_kl)\n",
    "        # calc score\n",
    "        score = scorer(xs_gen, targets=xs)\n",
    "        \n",
    "        loss.backward()\n",
    "        optimizer.step()\n",
    "        \n",
    "        running_loss += loss.item()\n",
    "        running_score += score.item()\n",
    "        if (batch_idx + 1) % print_every == 0:\n",
    "            val_loss, val_score = validate_epoch(valid_dataloader, criterion, scorer)\n",
    "            print(f'Epoch [{epoch + 1}/{num_epochs}], Batch [{batch_idx + 1}/{len(train_dataloader)}], Trn Loss: {(running_loss / print_every):.6f}, Trn Score: {(running_score / print_every):.6f}, Val Loss: {(val_loss/len(valid_dataloader)):.6f}, Val Score: {(val_score/len(valid_dataloader)):.6f}')\n",
    "            running_loss = 0.0\n",
    "            running_score = 0.0\n",
    "    # Step the LR scheduler\n",
    "    scheduler.step(val_loss) # min the running_loss\n"
   ]
  },
  {
   "cell_type": "markdown",
   "metadata": {},
   "source": [
    "# Inference"
   ]
  },
  {
   "cell_type": "code",
   "execution_count": 218,
   "metadata": {},
   "outputs": [],
   "source": [
    "with torch.no_grad():\n",
    "    xs_val = next(iter(valid_dataloader))\n",
    "    xs_val_gen, loss_kl = model(xs_val)"
   ]
  },
  {
   "cell_type": "code",
   "execution_count": 219,
   "metadata": {},
   "outputs": [
    {
     "data": {
      "text/plain": [
       "(tensor([[-0.0287,  0.1769,  0.1151,  5.5932],\n",
       "         [-0.0904,  0.1668,  0.1126,  5.5953],\n",
       "         [-0.0517,  0.1711,  0.0946,  5.5975],\n",
       "         ...,\n",
       "         [-0.0240,  0.0943,  0.0993,  5.7753],\n",
       "         [-0.0391,  0.0836,  0.0856,  5.7744],\n",
       "         [ 0.0886,  0.0700,  0.0992,  5.7723]]),\n",
       " tensor([[  0.7697,  -1.7094,  -0.3612, -10.1086],\n",
       "         [  0.0115,  -1.7094,  -0.3612, -10.1086],\n",
       "         [ -0.0380,  -1.7094,  -0.3612, -10.1086],\n",
       "         ...,\n",
       "         [ -2.3156,  -0.2754,  -0.3612, -10.1086],\n",
       "         [ -1.4915,  -0.2754,  -0.3612, -10.1086],\n",
       "         [ -1.7859,  -0.2754,  -0.3612, -10.1086]]))"
      ]
     },
     "execution_count": 219,
     "metadata": {},
     "output_type": "execute_result"
    }
   ],
   "source": [
    "xs_val_gen[1], xs_val[1]"
   ]
  },
  {
   "cell_type": "code",
   "execution_count": 226,
   "metadata": {},
   "outputs": [
    {
     "data": {
      "text/plain": [
       "<Axes: >"
      ]
     },
     "execution_count": 226,
     "metadata": {},
     "output_type": "execute_result"
    },
    {
     "data": {
      "image/png": "[encoded data removed]",
      "text/plain": [
       "<Figure size 640x480 with 1 Axes>"
      ]
     },
     "metadata": {},
     "output_type": "display_data"
    }
   ],
   "source": [
    "idx = 3\n",
    "idx_feature = 0 \n",
    "decoded_example, actual_example = xs_val_gen[idx], xs_val[idx] \n",
    "sns.lineplot(actual_example[:, idx_feature].numpy(), label='true', alpha=0.5)\n",
    "sns.lineplot(decoded_example[:, idx_feature].numpy(), label='vae')"
   ]
  },
  {
   "cell_type": "markdown",
   "metadata": {},
   "source": [
    "# Display embedding"
   ]
  },
  {
   "cell_type": "code",
   "execution_count": 227,
   "metadata": {},
   "outputs": [],
   "source": [
    "with torch.no_grad():\n",
    "    xs_val = next(iter(valid_dataloader))\n",
    "    emb_mean_val, emb_std_val = model.encoder(xs_val)\n",
    "    emb_val = model.latent_sampler(emb_mean_val, emb_std_val)"
   ]
  },
  {
   "cell_type": "code",
   "execution_count": 228,
   "metadata": {},
   "outputs": [
    {
     "data": {
      "text/plain": [
       "(100, 20)"
      ]
     },
     "execution_count": 228,
     "metadata": {},
     "output_type": "execute_result"
    }
   ],
   "source": [
    "emb_val.numpy().shape"
   ]
  },
  {
   "cell_type": "code",
   "execution_count": 229,
   "metadata": {},
   "outputs": [
    {
     "data": {
      "text/plain": [
       "<Axes: xlabel='None', ylabel='None'>"
      ]
     },
     "execution_count": 229,
     "metadata": {},
     "output_type": "execute_result"
    },
    {
     "data": {
      "image/png": "[encoded data removed]",
      "text/plain": [
       "<Figure size 640x480 with 1 Axes>"
      ]
     },
     "metadata": {},
     "output_type": "display_data"
    }
   ],
   "source": [
    "sns.scatterplot(x=emb_val[:, 0], y=emb_val[:, 1])"
   ]
  },
  {
   "cell_type": "code",
   "execution_count": 479,
   "metadata": {},
   "outputs": [],
   "source": [
    "#| hide\n",
    "import nbdev; nbdev.nbdev_export()"
   ]
  },
  {
   "cell_type": "code",
   "execution_count": null,
   "metadata": {},
   "outputs": [],
   "source": []
  }
 ],
 "metadata": {
  "kernelspec": {
   "display_name": "python3",
   "language": "python",
   "name": "python3"
  },
  "language_info": {
   "codemirror_mode": {
    "name": "ipython",
    "version": 3
   },
   "file_extension": ".py",
   "mimetype": "text/x-python",
   "name": "python",
   "nbconvert_exporter": "python",
   "pygments_lexer": "ipython3",
   "version": "3.9.7"
  }
 },
 "nbformat": 4,
 "nbformat_minor": 4
}
