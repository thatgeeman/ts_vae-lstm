{
 "cells": [
  {
   "cell_type": "markdown",
   "metadata": {},
   "source": [
    "# core\n",
    "\n",
    "> Fill in a module description here"
   ]
  },
  {
   "cell_type": "code",
   "execution_count": 1,
   "metadata": {},
   "outputs": [],
   "source": [
    "# | default_exp vae\n"
   ]
  },
  {
   "cell_type": "code",
   "execution_count": 2,
   "metadata": {},
   "outputs": [],
   "source": [
    "# | hide\n",
    "from nbdev.showdoc import *"
   ]
  },
  {
   "cell_type": "code",
   "execution_count": 3,
   "metadata": {},
   "outputs": [],
   "source": [
    "# | export\n",
    "import pandas as pd\n",
    "import numpy as np\n",
    "import matplotlib.pyplot as plt\n",
    "import seaborn as sns\n",
    "from datetime import datetime as dt\n",
    "from ts_vae_lstm.concepts import get_window\n",
    "from scipy import signal\n",
    "import os\n",
    "import math"
   ]
  },
  {
   "cell_type": "code",
   "execution_count": 4,
   "metadata": {},
   "outputs": [
    {
     "data": {
      "text/plain": [
       "4"
      ]
     },
     "execution_count": 4,
     "metadata": {},
     "output_type": "execute_result"
    }
   ],
   "source": [
    "# | export\n",
    "\n",
    "num_workers = os.cpu_count()\n",
    "num_workers"
   ]
  },
  {
   "cell_type": "markdown",
   "metadata": {},
   "source": [
    "Train a VAE with no anomalies in the time series.\n",
    "\n",
    "```--> Anomalies occur at:\n",
    "  timestamp #0: 2014-11-01 19:00:00\n",
    "  timestamp #1: 2014-11-27 15:30:00\n",
    "  timestamp #2: 2014-12-25 15:00:00\n",
    "  timestamp #3: 2015-01-01 01:00:00\n",
    "  timestamp #4: 2015-01-27 00:00:00\n",
    "\n",
    "Original csv file contains (10320,) timestamps.\n",
    "Processed time series contain (10320,) readings.\n",
    "Anomaly indices are [5943, 7184, 8527, 8835, 10081]\n",
    "\n",
    "Training set mean is 14855.115757575757\n",
    "Training set std is 6556.134705703313\n",
    "Anomaly indices in the test set are [2643 3884 5227 5535 6781]```"
   ]
  },
  {
   "cell_type": "code",
   "execution_count": 5,
   "metadata": {},
   "outputs": [
    {
     "name": "stdout",
     "output_type": "stream",
     "text": [
      "t\n",
      "t_unit\n",
      "readings\n",
      "idx_anomaly\n",
      "idx_split\n",
      "training\n",
      "test\n",
      "train_m\n",
      "train_std\n",
      "t_train\n",
      "t_test\n",
      "idx_anomaly_test\n"
     ]
    }
   ],
   "source": [
    "# | export\n",
    "\n",
    "data = np.load(\"../sample_data/nyc_taxi.npz\")\n",
    "for k in data.keys():\n",
    "    print(k)\n"
   ]
  },
  {
   "cell_type": "markdown",
   "metadata": {},
   "source": [
    "# NYC Taxi dataset:\n",
    "- Data is in npz format, ie compressed numpy\n",
    "- The entries are per 30 minutures\n",
    "- Therefore, 1 hour is 2 entries, 24hrs is 48 entries"
   ]
  },
  {
   "cell_type": "code",
   "execution_count": 6,
   "metadata": {},
   "outputs": [
    {
     "data": {
      "text/plain": [
       "NpzFile '../sample_data/nyc_taxi.npz' with keys: t, t_unit, readings, idx_anomaly, idx_split..."
      ]
     },
     "execution_count": 6,
     "metadata": {},
     "output_type": "execute_result"
    }
   ],
   "source": [
    "data"
   ]
  },
  {
   "cell_type": "code",
   "execution_count": 7,
   "metadata": {},
   "outputs": [
    {
     "data": {
      "text/plain": [
       "array([    1,     2,     3, ..., 10318, 10319, 10320])"
      ]
     },
     "execution_count": 7,
     "metadata": {},
     "output_type": "execute_result"
    }
   ],
   "source": [
    "# read the key 't' from data\n",
    "data[\"t\"]"
   ]
  },
  {
   "cell_type": "code",
   "execution_count": 8,
   "metadata": {},
   "outputs": [
    {
     "data": {
      "text/plain": [
       "(array('30 min', dtype='<U6'),\n",
       " array([10844.,  8127.,  6210., ..., 27309., 26591., 26288.]),\n",
       " array([ 5943,  7184,  8527,  8835, 10081]),\n",
       " array([   0, 5500]),\n",
       " array([ 443, 1684, 3027, 3335, 4581]))"
      ]
     },
     "execution_count": 8,
     "metadata": {},
     "output_type": "execute_result"
    }
   ],
   "source": [
    "(\n",
    "    data[\"t_unit\"],\n",
    "    data[\"readings\"],  # what is this referring to?\n",
    "    data[\"idx_anomaly\"],\n",
    "    data[\"idx_split\"],\n",
    "    data[\"idx_anomaly_test\"],\n",
    ")\n"
   ]
  },
  {
   "cell_type": "markdown",
   "metadata": {},
   "source": [
    "As anomaly begins at 5943 index, the points upto 5500 are taken as training and everything after is test."
   ]
  },
  {
   "cell_type": "code",
   "execution_count": 9,
   "metadata": {},
   "outputs": [
    {
     "data": {
      "text/plain": [
       "(array([   1,    2,    3, ..., 5498, 5499, 5500]),\n",
       " array([   1,    2,    3, ..., 4818, 4819, 4820]))"
      ]
     },
     "execution_count": 9,
     "metadata": {},
     "output_type": "execute_result"
    }
   ],
   "source": [
    "data[\"t_train\"], data[\"t_test\"]"
   ]
  },
  {
   "cell_type": "code",
   "execution_count": 10,
   "metadata": {},
   "outputs": [
    {
     "data": {
      "text/plain": [
       "(5500,)"
      ]
     },
     "execution_count": 10,
     "metadata": {},
     "output_type": "execute_result"
    }
   ],
   "source": [
    "data[\"training\"].shape"
   ]
  },
  {
   "cell_type": "code",
   "execution_count": 11,
   "metadata": {},
   "outputs": [
    {
     "data": {
      "text/html": [
       "<div>\n",
       "<style scoped>\n",
       "    .dataframe tbody tr th:only-of-type {\n",
       "        vertical-align: middle;\n",
       "    }\n",
       "\n",
       "    .dataframe tbody tr th {\n",
       "        vertical-align: top;\n",
       "    }\n",
       "\n",
       "    .dataframe thead th {\n",
       "        text-align: right;\n",
       "    }\n",
       "</style>\n",
       "<table border=\"1\" class=\"dataframe\">\n",
       "  <thead>\n",
       "    <tr style=\"text-align: right;\">\n",
       "      <th></th>\n",
       "      <th>value</th>\n",
       "    </tr>\n",
       "  </thead>\n",
       "  <tbody>\n",
       "    <tr>\n",
       "      <th>1</th>\n",
       "      <td>-0.647416</td>\n",
       "    </tr>\n",
       "    <tr>\n",
       "      <th>2</th>\n",
       "      <td>-1.048144</td>\n",
       "    </tr>\n",
       "  </tbody>\n",
       "</table>\n",
       "</div>"
      ],
      "text/plain": [
       "      value\n",
       "1 -0.647416\n",
       "2 -1.048144"
      ]
     },
     "execution_count": 11,
     "metadata": {},
     "output_type": "execute_result"
    }
   ],
   "source": [
    "# | export\n",
    "df = pd.DataFrame(data[\"training\"], index=data[\"t_train\"], columns=[\"value\"])\n",
    "df.head(2)"
   ]
  },
  {
   "cell_type": "code",
   "execution_count": 12,
   "metadata": {},
   "outputs": [
    {
     "data": {
      "text/plain": [
       "<Axes: xlabel='index', ylabel='value'>"
      ]
     },
     "execution_count": 12,
     "metadata": {},
     "output_type": "execute_result"
    },
    {
     "data": {
      "image/png": "[encoded data removed]",
      "text/plain": [
       "<Figure size 640x480 with 1 Axes>"
      ]
     },
     "metadata": {},
     "output_type": "display_data"
    }
   ],
   "source": [
    "start_step = 0\n",
    "window_size = 48  # for one full day\n",
    "n_windows = 3\n",
    "sns.lineplot(\n",
    "    data=df.reset_index().iloc[start_step : 1 + start_step + (window_size * n_windows)],\n",
    "    x=\"index\",  # possible since we reset_index to add \"index\" column\n",
    "    y=\"value\",\n",
    ")"
   ]
  },
  {
   "cell_type": "markdown",
   "metadata": {},
   "source": [
    "Looks like this is already standardized and nicely distributed with some periodic behaviors."
   ]
  },
  {
   "cell_type": "markdown",
   "metadata": {},
   "source": [
    "# Gather data into structure"
   ]
  },
  {
   "cell_type": "code",
   "execution_count": 13,
   "metadata": {},
   "outputs": [
    {
     "data": {
      "text/html": [
       "<div>\n",
       "<style scoped>\n",
       "    .dataframe tbody tr th:only-of-type {\n",
       "        vertical-align: middle;\n",
       "    }\n",
       "\n",
       "    .dataframe tbody tr th {\n",
       "        vertical-align: top;\n",
       "    }\n",
       "\n",
       "    .dataframe thead th {\n",
       "        text-align: right;\n",
       "    }\n",
       "</style>\n",
       "<table border=\"1\" class=\"dataframe\">\n",
       "  <thead>\n",
       "    <tr style=\"text-align: right;\">\n",
       "      <th></th>\n",
       "      <th>value</th>\n",
       "    </tr>\n",
       "  </thead>\n",
       "  <tbody>\n",
       "    <tr>\n",
       "      <th>1</th>\n",
       "      <td>-0.647416</td>\n",
       "    </tr>\n",
       "    <tr>\n",
       "      <th>2</th>\n",
       "      <td>-1.048144</td>\n",
       "    </tr>\n",
       "  </tbody>\n",
       "</table>\n",
       "</div>"
      ],
      "text/plain": [
       "      value\n",
       "1 -0.647416\n",
       "2 -1.048144"
      ]
     },
     "execution_count": 13,
     "metadata": {},
     "output_type": "execute_result"
    }
   ],
   "source": [
    "a = df.head(10)\n",
    "a.iloc[:2]\n"
   ]
  },
  {
   "cell_type": "code",
   "execution_count": 14,
   "metadata": {},
   "outputs": [
    {
     "data": {
      "text/plain": [
       "(114, [48, 96, 144])"
      ]
     },
     "execution_count": 14,
     "metadata": {},
     "output_type": "execute_result"
    }
   ],
   "source": [
    "# | export\n",
    "window_size = 48  # one window is a day\n",
    "end_steps = [es for es in range(window_size, len(df), window_size)]\n",
    "len(end_steps), end_steps[:3]\n"
   ]
  },
  {
   "cell_type": "code",
   "execution_count": 15,
   "metadata": {},
   "outputs": [],
   "source": [
    "# | export\n",
    "\n",
    "data_windowed = [\n",
    "    {\n",
    "        \"subset\": get_window(\n",
    "            df.values,\n",
    "            window_size=window_size,\n",
    "            end_step=end_step,\n",
    "            indices=list(df.index),\n",
    "            return_indices=False,\n",
    "        ),\n",
    "        \"end_step\": end_step,\n",
    "        \"start_step\": end_step - window_size,\n",
    "    }\n",
    "    for end_step in end_steps\n",
    "]"
   ]
  },
  {
   "cell_type": "code",
   "execution_count": 16,
   "metadata": {},
   "outputs": [
    {
     "data": {
      "text/plain": [
       "5452"
      ]
     },
     "execution_count": 16,
     "metadata": {},
     "output_type": "execute_result"
    }
   ],
   "source": [
    "# Number of datapoints\n",
    "len(df) - window_size\n"
   ]
  },
  {
   "cell_type": "markdown",
   "metadata": {},
   "source": [
    "Preseve 10% of the dataset from this for validation set."
   ]
  },
  {
   "cell_type": "code",
   "execution_count": 17,
   "metadata": {},
   "outputs": [
    {
     "data": {
      "text/plain": [
       "(22, 92)"
      ]
     },
     "execution_count": 17,
     "metadata": {},
     "output_type": "execute_result"
    }
   ],
   "source": [
    "# | export\n",
    "split_ratio = 0.2\n",
    "val_data_idxs = np.random.choice(\n",
    "    range(len(data_windowed)), size=int(split_ratio * len(data_windowed)), replace=False\n",
    ")\n",
    "trn_data_idxs = [idx for idx in range(len(data_windowed)) if idx not in val_data_idxs]\n",
    "len(val_data_idxs), len(trn_data_idxs)"
   ]
  },
  {
   "cell_type": "code",
   "execution_count": 18,
   "metadata": {},
   "outputs": [],
   "source": [
    "# | export\n",
    "\n",
    "from torch import nn\n",
    "import torch.nn.functional as F\n",
    "import torch\n",
    "from torch.utils.data import Dataset, DataLoader\n",
    "from sklearn.metrics import roc_auc_score, accuracy_score"
   ]
  },
  {
   "cell_type": "code",
   "execution_count": 19,
   "metadata": {},
   "outputs": [],
   "source": [
    "# | export\n",
    "\n",
    "val_data = [data_windowed[idx] for idx in val_data_idxs]\n",
    "trn_data = [data_windowed[idx] for idx in trn_data_idxs]\n"
   ]
  },
  {
   "cell_type": "markdown",
   "metadata": {},
   "source": [
    "Calculate stats over training data."
   ]
  },
  {
   "cell_type": "code",
   "execution_count": 20,
   "metadata": {},
   "outputs": [
    {
     "data": {
      "text/plain": [
       "(48, 1)"
      ]
     },
     "execution_count": 20,
     "metadata": {},
     "output_type": "execute_result"
    }
   ],
   "source": [
    "trn_data[0][\"subset\"].shape"
   ]
  },
  {
   "cell_type": "code",
   "execution_count": 21,
   "metadata": {},
   "outputs": [
    {
     "data": {
      "text/plain": [
       "1"
      ]
     },
     "execution_count": 21,
     "metadata": {},
     "output_type": "execute_result"
    }
   ],
   "source": [
    "# | export\n",
    "\n",
    "n_features = trn_data[0][\"subset\"].shape[1]  # - 1\n",
    "n_features"
   ]
  },
  {
   "cell_type": "code",
   "execution_count": null,
   "metadata": {},
   "outputs": [],
   "source": []
  },
  {
   "cell_type": "code",
   "execution_count": 22,
   "metadata": {},
   "outputs": [
    {
     "data": {
      "text/plain": [
       "(array([0.]), array([0.]))"
      ]
     },
     "execution_count": 22,
     "metadata": {},
     "output_type": "execute_result"
    }
   ],
   "source": [
    "# | export\n",
    "\n",
    "means = np.zeros((len(trn_data), n_features))  # ((len(trn_data), 4))\n",
    "stds = np.zeros((len(trn_data), n_features))  # ((len(trn_data), 4))\n",
    "slice_from = n_features - 1\n",
    "\"\"\"\n",
    "for i, _trn_data in enumerate(trn_data):\n",
    "    means[i] = (np.mean(_trn_data[\"subset\"][:, slice_from:], axis=0)).astype(np.float32)\n",
    "    stds[i] = (np.var(_trn_data[\"subset\"][:, slice_from:], axis=0) ** 0.5).astype(\n",
    "        np.float32\n",
    "    )\n",
    "\"\"\"\n",
    "means = means.mean(0)\n",
    "stds = stds.mean(0)\n",
    "\n",
    "means, stds"
   ]
  },
  {
   "cell_type": "markdown",
   "metadata": {},
   "source": [
    "only first feature is numeric, so remove mean and std from the rest."
   ]
  },
  {
   "cell_type": "code",
   "execution_count": 23,
   "metadata": {},
   "outputs": [
    {
     "data": {
      "text/plain": [
       "(array([0.]), array([1.]))"
      ]
     },
     "execution_count": 23,
     "metadata": {},
     "output_type": "execute_result"
    }
   ],
   "source": [
    "means[slice_from:] = 0\n",
    "stds[slice_from:] = 1\n",
    "means, stds\n"
   ]
  },
  {
   "cell_type": "code",
   "execution_count": 24,
   "metadata": {},
   "outputs": [],
   "source": [
    "# | export\n",
    "\n",
    "\n",
    "class TSDataset(Dataset):\n",
    "    def __init__(self, data, mean, std):\n",
    "        self.data = data\n",
    "        self.mean = mean\n",
    "        self.std = std\n",
    "\n",
    "    def __getitem__(self, idx):\n",
    "        # output[channel] = (input[channel] - mean[channel]) / std[channel]\n",
    "        # ignore the timestamp column\n",
    "        x = self.data[idx][\"subset\"][:, slice_from:]  # 1024, 4\n",
    "        normed_X = ((x - self.mean) / (self.std + 1e-8)).astype(np.float32)\n",
    "        return torch.as_tensor(normed_X)\n",
    "\n",
    "    def __len__(self):\n",
    "        return len(self.data)\n"
   ]
  },
  {
   "cell_type": "code",
   "execution_count": 25,
   "metadata": {},
   "outputs": [],
   "source": [
    "# | export\n",
    "\n",
    "dset_trn = TSDataset(trn_data, mean=means, std=stds)\n",
    "dset_val = TSDataset(val_data, mean=means, std=stds)\n",
    "# use same stats from training data"
   ]
  },
  {
   "cell_type": "code",
   "execution_count": 26,
   "metadata": {},
   "outputs": [
    {
     "data": {
      "text/plain": [
       "torch.Size([48, 1])"
      ]
     },
     "execution_count": 26,
     "metadata": {},
     "output_type": "execute_result"
    }
   ],
   "source": [
    "dset_trn[0].shape\n"
   ]
  },
  {
   "cell_type": "code",
   "execution_count": 27,
   "metadata": {},
   "outputs": [
    {
     "data": {
      "text/plain": [
       "92"
      ]
     },
     "execution_count": 27,
     "metadata": {},
     "output_type": "execute_result"
    }
   ],
   "source": [
    "len(dset_trn)"
   ]
  },
  {
   "cell_type": "code",
   "execution_count": 28,
   "metadata": {},
   "outputs": [],
   "source": [
    "# | export\n",
    "\n",
    "batch_size = 8"
   ]
  },
  {
   "cell_type": "code",
   "execution_count": 29,
   "metadata": {},
   "outputs": [],
   "source": [
    "# | export\n",
    "\n",
    "dl_trn = DataLoader(\n",
    "    dataset=dset_trn,\n",
    "    batch_size=batch_size,\n",
    "    drop_last=True,\n",
    "    shuffle=True,\n",
    "    num_workers=num_workers,\n",
    ")\n",
    "dl_val = DataLoader(\n",
    "    dataset=dset_val,\n",
    "    batch_size=batch_size,\n",
    "    drop_last=True,\n",
    "    shuffle=False,\n",
    "    num_workers=num_workers,\n",
    ")"
   ]
  },
  {
   "cell_type": "code",
   "execution_count": 30,
   "metadata": {},
   "outputs": [
    {
     "data": {
      "text/plain": [
       "torch.Size([8, 48, 1])"
      ]
     },
     "execution_count": 30,
     "metadata": {},
     "output_type": "execute_result"
    }
   ],
   "source": [
    "xs = next(iter(dl_trn))\n",
    "xs.shape\n"
   ]
  },
  {
   "cell_type": "code",
   "execution_count": 31,
   "metadata": {},
   "outputs": [
    {
     "data": {
      "text/plain": [
       "torch.Size([8, 48, 1])"
      ]
     },
     "execution_count": 31,
     "metadata": {},
     "output_type": "execute_result"
    }
   ],
   "source": [
    "xs.shape\n"
   ]
  },
  {
   "cell_type": "code",
   "execution_count": 32,
   "metadata": {},
   "outputs": [
    {
     "data": {
      "text/plain": [
       "(torch.Size([8, 32, 23, 1]),\n",
       " torch.Size([8, 64, 11, 1]),\n",
       " torch.Size([8, 128, 5, 1]),\n",
       " torch.Size([8, 512, 1, 1]))"
      ]
     },
     "execution_count": 32,
     "metadata": {},
     "output_type": "execute_result"
    }
   ],
   "source": [
    "num_hidden_units = 512\n",
    "kernel_size = (3, 1)\n",
    "stride = (2, 1)\n",
    "xs_c1 = nn.Conv2d(\n",
    "    in_channels=1,\n",
    "    out_channels=num_hidden_units // 16,\n",
    "    kernel_size=kernel_size,\n",
    "    stride=stride,\n",
    ")(xs.unsqueeze(1))\n",
    "xs_c2 = nn.Conv2d(\n",
    "    in_channels=num_hidden_units // 16,\n",
    "    out_channels=num_hidden_units // 8,\n",
    "    kernel_size=kernel_size,\n",
    "    stride=stride,\n",
    ")(xs_c1)\n",
    "xs_c3 = nn.Conv2d(\n",
    "    in_channels=num_hidden_units // 8,\n",
    "    out_channels=num_hidden_units // 4,\n",
    "    kernel_size=kernel_size,\n",
    "    stride=stride,\n",
    ")(xs_c2)\n",
    "xs_c4 = nn.Conv2d(\n",
    "    in_channels=num_hidden_units // 4,\n",
    "    out_channels=num_hidden_units // 1,\n",
    "    kernel_size=(4, 1),\n",
    "    stride=stride,\n",
    ")(xs_c3)\n",
    "xs_c1.shape, xs_c2.shape, xs_c3.shape, xs_c4.shape"
   ]
  },
  {
   "cell_type": "code",
   "execution_count": 33,
   "metadata": {},
   "outputs": [
    {
     "data": {
      "text/plain": [
       "tensor(0.0143, grad_fn=<MeanBackward0>)"
      ]
     },
     "execution_count": 33,
     "metadata": {},
     "output_type": "execute_result"
    }
   ],
   "source": [
    "xs_c4.mean()"
   ]
  },
  {
   "cell_type": "code",
   "execution_count": null,
   "metadata": {},
   "outputs": [],
   "source": []
  },
  {
   "cell_type": "code",
   "execution_count": 34,
   "metadata": {},
   "outputs": [],
   "source": [
    "# | export\n",
    "\n",
    "# encoder\n",
    "# l_win to 24, the model would consider each 24-hour period as one sequence.\n",
    "# pad: if your array is [1, 2, 3] and you symmetrically pad it with 1 unit, the result would be [2, 1, 2, 3, 2].\n",
    "# xavier_initializer()\n",
    "# conv 1: num_hidden_units / 16\n",
    "# conv 2: num_hidden_units / 8\n",
    "# conv 3: num_hidden_units / 4\n",
    "# conv 4: num_hidden_units / 1, kernel = 4, 1\n",
    "# padding : same\n",
    "\n",
    "\n",
    "class Encoder(nn.Module):\n",
    "    def __init__(\n",
    "        self,\n",
    "        latent_dim=20,\n",
    "        num_hidden_units=512,\n",
    "        kernel_size=(3, 1),\n",
    "        stride=(2, 1),\n",
    "        act=F.mish,\n",
    "    ):\n",
    "        super().__init__()\n",
    "        self.flatten = nn.Flatten()\n",
    "        self.conv1 = nn.Conv2d(\n",
    "            in_channels=1,\n",
    "            out_channels=num_hidden_units // 16,\n",
    "            kernel_size=kernel_size,\n",
    "            stride=stride,\n",
    "        )\n",
    "        self.conv2 = nn.Conv2d(\n",
    "            in_channels=num_hidden_units // 16,\n",
    "            out_channels=num_hidden_units // 8,\n",
    "            kernel_size=kernel_size,\n",
    "            stride=stride,\n",
    "        )\n",
    "        self.conv3 = nn.Conv2d(\n",
    "            in_channels=num_hidden_units // 8,\n",
    "            out_channels=num_hidden_units // 4,\n",
    "            kernel_size=kernel_size,\n",
    "            stride=stride,\n",
    "        )\n",
    "        self.conv4 = nn.Conv2d(\n",
    "            in_channels=num_hidden_units // 4,\n",
    "            out_channels=num_hidden_units,\n",
    "            kernel_size=(4, 1),\n",
    "            stride=stride,\n",
    "        )\n",
    "        self.linear = nn.Linear(\n",
    "            in_features=num_hidden_units, out_features=num_hidden_units, bias=True\n",
    "        )\n",
    "        self.linear_mean = nn.Linear(\n",
    "            in_features=num_hidden_units, out_features=latent_dim, bias=True\n",
    "        )\n",
    "        self.linear_var = nn.Linear(\n",
    "            in_features=num_hidden_units, out_features=latent_dim, bias=True\n",
    "        )\n",
    "        self.act = act\n",
    "        self.init_weights()\n",
    "\n",
    "    def forward(self, x):\n",
    "        x = x.unsqueeze(1)  # 100, 1, 48, 1\n",
    "        x = self.act(self.conv1(x))  # 100, 32, 23, 1\n",
    "        x = self.act(self.conv2(x))  # 100, 64, 11, 1\n",
    "        x = self.act(self.conv3(x))  # 100, 128, 5, 1\n",
    "        x = self.act(self.conv4(x))  # 100, 512, 1, 1\n",
    "        x = self.flatten(x)  # 100, 512\n",
    "        x = self.act(self.linear(x))  # 100, 512\n",
    "        z_mean = self.linear_mean(x)\n",
    "        z_log_var = self.linear_var(x)\n",
    "        return z_mean, z_log_var\n",
    "\n",
    "    def init_weights(self):\n",
    "        for m in self.modules():\n",
    "            if isinstance(m, nn.Linear):\n",
    "                torch.nn.init.xavier_normal_(m.weight)\n",
    "                m.bias.data.fill_(0)\n",
    "            elif isinstance(m, nn.Conv2d):\n",
    "                torch.nn.init.xavier_normal_(m.weight)\n",
    "                m.bias.data.fill_(0)"
   ]
  },
  {
   "cell_type": "code",
   "execution_count": 35,
   "metadata": {},
   "outputs": [
    {
     "data": {
      "text/plain": [
       "(torch.Size([8, 20]), torch.Size([8, 20]))"
      ]
     },
     "execution_count": 35,
     "metadata": {},
     "output_type": "execute_result"
    }
   ],
   "source": [
    "emb_mean, emb_var = Encoder(latent_dim=20)(xs)\n",
    "emb_mean.shape, emb_var.shape"
   ]
  },
  {
   "cell_type": "code",
   "execution_count": 36,
   "metadata": {},
   "outputs": [
    {
     "data": {
      "text/plain": [
       "(tensor(-0.0053, grad_fn=<MeanBackward0>),\n",
       " tensor(-0.0006, grad_fn=<MeanBackward0>))"
      ]
     },
     "execution_count": 36,
     "metadata": {},
     "output_type": "execute_result"
    }
   ],
   "source": [
    "emb_mean.mean(), emb_var.mean()\n"
   ]
  },
  {
   "cell_type": "code",
   "execution_count": null,
   "metadata": {},
   "outputs": [],
   "source": []
  },
  {
   "cell_type": "code",
   "execution_count": 37,
   "metadata": {},
   "outputs": [],
   "source": [
    "# | export\n",
    "\n",
    "\n",
    "class StochasticSampler(nn.Module):\n",
    "    def __init__(self):\n",
    "        super().__init__()\n",
    "        self.sampler = torch.distributions.Normal(loc=0, scale=1)\n",
    "\n",
    "    def forward(self, z_mean, z_log_var):\n",
    "        \"\"\"Return a normal sample value Z from the latent space given a mean and variance\"\"\"\n",
    "        # z_mean and z_log_var are mean and log-var estimates of the latent space\n",
    "        # under the assumption that the latent space is a gaussian normal\n",
    "        device = z_mean.device\n",
    "        eps = self.sampler.sample(z_mean.shape).squeeze().to(device)\n",
    "        # print(eps.shape, z_log_var.shape, z_mean.shape)\n",
    "        return z_mean + torch.exp(0.5 * z_log_var) * eps"
   ]
  },
  {
   "cell_type": "code",
   "execution_count": 38,
   "metadata": {},
   "outputs": [
    {
     "data": {
      "text/plain": [
       "(torch.Size([8, 20]), True)"
      ]
     },
     "execution_count": 38,
     "metadata": {},
     "output_type": "execute_result"
    }
   ],
   "source": [
    "sampler = StochasticSampler()\n",
    "emb = sampler(emb_mean, emb_var)\n",
    "emb.shape, emb.requires_grad"
   ]
  },
  {
   "cell_type": "code",
   "execution_count": null,
   "metadata": {},
   "outputs": [],
   "source": []
  },
  {
   "cell_type": "code",
   "execution_count": 39,
   "metadata": {},
   "outputs": [
    {
     "data": {
      "text/plain": [
       "(torch.Size([8, 512, 1, 1]),\n",
       " torch.Size([8, 128, 4, 1]),\n",
       " torch.Size([8, 64, 6, 1]),\n",
       " torch.Size([8, 32, 8, 1]),\n",
       " torch.Size([8, 16, 10, 1]),\n",
       " torch.Size([8, 96]),\n",
       " torch.Size([8, 48]))"
      ]
     },
     "execution_count": 39,
     "metadata": {},
     "output_type": "execute_result"
    }
   ],
   "source": [
    "kernel_size = (3, 1)\n",
    "stride = 1\n",
    "xs_c1 = nn.Linear(in_features=20, out_features=num_hidden_units, bias=True)(emb)\n",
    "xs_c1 = xs_c1[:, :, None, None]\n",
    "xs_c2 = nn.ConvTranspose2d(\n",
    "    in_channels=num_hidden_units,\n",
    "    out_channels=num_hidden_units // 4,\n",
    "    kernel_size=(4, 1),\n",
    "    stride=stride,\n",
    ")(xs_c1)\n",
    "xs_c3 = nn.ConvTranspose2d(\n",
    "    in_channels=num_hidden_units // 4,\n",
    "    out_channels=num_hidden_units // 8,\n",
    "    kernel_size=kernel_size,\n",
    "    stride=stride,\n",
    ")(xs_c2)\n",
    "xs_c4 = nn.ConvTranspose2d(\n",
    "    in_channels=num_hidden_units // 8,\n",
    "    out_channels=num_hidden_units // 16,\n",
    "    kernel_size=kernel_size,\n",
    "    stride=stride,\n",
    ")(xs_c3)\n",
    "xs_c5 = nn.ConvTranspose2d(\n",
    "    in_channels=num_hidden_units // 16,\n",
    "    out_channels=num_hidden_units // 32,\n",
    "    kernel_size=kernel_size,\n",
    "    stride=stride,\n",
    ")(xs_c4)\n",
    "xs_c6 = nn.ConvTranspose2d(\n",
    "    in_channels=num_hidden_units // 32,\n",
    "    out_channels=num_hidden_units // 64,\n",
    "    kernel_size=kernel_size,\n",
    "    stride=stride,\n",
    ")(xs_c5)\n",
    "xs_c6 = nn.Flatten()(xs_c6)\n",
    "xs_c7 = nn.Linear(in_features=96, out_features=48, bias=True)(xs_c6)\n",
    "(\n",
    "    xs_c1.shape,\n",
    "    xs_c2.shape,\n",
    "    xs_c3.shape,\n",
    "    xs_c4.shape,\n",
    "    xs_c5.shape,\n",
    "    xs_c6.shape,\n",
    "    xs_c7.shape,\n",
    ")\n"
   ]
  },
  {
   "cell_type": "code",
   "execution_count": null,
   "metadata": {},
   "outputs": [],
   "source": []
  },
  {
   "cell_type": "code",
   "execution_count": 40,
   "metadata": {},
   "outputs": [],
   "source": [
    "# | export\n",
    "\n",
    "\n",
    "# l_win to 24, the model would consider each 24-hour period as one sequence.\n",
    "# pad: if your array is [1, 2, 3] and you symmetrically pad it with 1 unit, the result would be [2, 1, 2, 3, 2].\n",
    "# xavier_initializer()\n",
    "# dense 1: num_hidden_units\n",
    "# reshape: (bs, 1, 1, num_hidden_units)  -> this is tensorflow notation, channel at end so actually (bs, num_hidden_units, 1, 1)\n",
    "\n",
    "# conv 2: num_hidden_units, kernel = 1\n",
    "# reshape: (bs, 4, 1, num_hidden_units / 4)\n",
    "\n",
    "# conv 3: num_hidden_units / 4, kernel = 3, 1, stride = 1\n",
    "# permute depth to spatial tf\n",
    "# reshape: (bs, 8, 1, num_hidden_units / 8),\n",
    "\n",
    "# conv 4: num_hidden_units / 8,  kernel = 3, 1, stride = 1\n",
    "# permute depth to spatial tf\n",
    "# reshape: (bs, 16, 1, num_hidden_units / 16)\n",
    "\n",
    "# conv 5: num_hidden_units / 16, kernel = 3, 1, stride = 1\n",
    "# permute depth to spatial tf\n",
    "# reshape: (bs, num_hidden_units /16, 1,  16)\n",
    "\n",
    "# conv 6: num_channel, kernel = 9, 1, stride = 1\n",
    "# reshape: (bs, l_win, num_channel)\n",
    "\n",
    "\n",
    "class Decoder(nn.Module):\n",
    "    def __init__(\n",
    "        self,\n",
    "        output_shape,\n",
    "        latent_dim=20,\n",
    "        num_hidden_units=512,\n",
    "        kernel_size=(3, 1),\n",
    "        stride=1,\n",
    "        act=F.mish,\n",
    "    ):\n",
    "        super().__init__()\n",
    "        self.output_shape = output_shape\n",
    "        self.linear = nn.Linear(\n",
    "            in_features=latent_dim, out_features=num_hidden_units, bias=True\n",
    "        )\n",
    "        self.dconv1 = nn.ConvTranspose2d(\n",
    "            in_channels=num_hidden_units,\n",
    "            out_channels=num_hidden_units // 4,\n",
    "            kernel_size=(4, 1),\n",
    "            stride=stride,\n",
    "        )\n",
    "        self.dconv2 = nn.ConvTranspose2d(\n",
    "            in_channels=num_hidden_units // 4,\n",
    "            out_channels=num_hidden_units // 8,\n",
    "            kernel_size=kernel_size,\n",
    "            stride=stride,\n",
    "        )\n",
    "        self.dconv3 = nn.ConvTranspose2d(\n",
    "            in_channels=num_hidden_units // 8,\n",
    "            out_channels=num_hidden_units // 16,\n",
    "            kernel_size=kernel_size,\n",
    "            stride=stride,\n",
    "        )\n",
    "        self.dconv4 = nn.ConvTranspose2d(\n",
    "            in_channels=num_hidden_units // 16,\n",
    "            out_channels=num_hidden_units // 32,\n",
    "            kernel_size=kernel_size,\n",
    "            stride=stride,\n",
    "        )\n",
    "        self.dconv5 = nn.ConvTranspose2d(\n",
    "            in_channels=num_hidden_units // 32,\n",
    "            out_channels=num_hidden_units // 64,\n",
    "            kernel_size=kernel_size,\n",
    "            stride=stride,\n",
    "        )\n",
    "        self.flatten = nn.Flatten()\n",
    "        self.linear_out = nn.Linear(\n",
    "            in_features=96, out_features=math.prod(output_shape), bias=True\n",
    "        )\n",
    "\n",
    "        self.act = act\n",
    "\n",
    "        self.init_weights()\n",
    "\n",
    "    def forward(self, x):\n",
    "        x = self.linear(x)\n",
    "        x = x[:, :, None, None]\n",
    "        x = self.act(self.dconv1(x))\n",
    "        x = self.act(self.dconv2(x))\n",
    "        x = self.act(self.dconv3(x))\n",
    "        x = self.act(self.dconv4(x))\n",
    "        x = self.act(self.dconv5(x))\n",
    "        x = self.flatten(x)\n",
    "        x = self.act(self.linear_out(x))\n",
    "        return self.reshape_to_output(x)\n",
    "\n",
    "    def reshape_to_output(self, x):\n",
    "        bs = x.shape[0]\n",
    "        return x.reshape(bs, *self.output_shape)\n",
    "\n",
    "    def init_weights(self):\n",
    "        for m in self.modules():\n",
    "            if isinstance(m, nn.Linear):\n",
    "                torch.nn.init.xavier_normal_(m.weight)\n",
    "                m.bias.data.fill_(0)\n",
    "            elif isinstance(m, nn.Conv2d):\n",
    "                torch.nn.init.xavier_normal_(m.weight)\n",
    "                m.bias.data.fill_(0)"
   ]
  },
  {
   "cell_type": "code",
   "execution_count": 41,
   "metadata": {},
   "outputs": [
    {
     "data": {
      "text/plain": [
       "torch.Size([8, 48, 1])"
      ]
     },
     "execution_count": 41,
     "metadata": {},
     "output_type": "execute_result"
    }
   ],
   "source": [
    "Decoder(output_shape=(window_size, n_features))(emb).shape"
   ]
  },
  {
   "cell_type": "code",
   "execution_count": 42,
   "metadata": {},
   "outputs": [
    {
     "data": {
      "text/plain": [
       "torch.Size([8, 48, 1])"
      ]
     },
     "execution_count": 42,
     "metadata": {},
     "output_type": "execute_result"
    }
   ],
   "source": [
    "xs.shape"
   ]
  },
  {
   "cell_type": "code",
   "execution_count": 43,
   "metadata": {},
   "outputs": [],
   "source": [
    "# | export\n",
    "from torch.distributions import kl_divergence"
   ]
  },
  {
   "cell_type": "code",
   "execution_count": 44,
   "metadata": {},
   "outputs": [],
   "source": [
    "# | export\n",
    "class VAE(nn.Module):\n",
    "    def __init__(self, input_shape, latent_dim=20, act=F.leaky_relu):\n",
    "        super().__init__()\n",
    "        self.encoder = Encoder(latent_dim=latent_dim, act=act)\n",
    "        self.decoder = Decoder(output_shape=input_shape, latent_dim=latent_dim, act=act)\n",
    "        self.latent_sampler = StochasticSampler()\n",
    "        self.act = act\n",
    "\n",
    "    def forward(self, x):\n",
    "        z_mean, z_log_var = self.encoder(x)\n",
    "        z = self.latent_sampler(z_mean, z_log_var)\n",
    "        out = self.decoder(z)\n",
    "        # loss to enforce all possible values are sampled from latent space\n",
    "        # should be of the size of the batch\n",
    "        loss_kl = -0.5 * torch.sum(\n",
    "            1 + z_log_var - z_mean.pow(2) - z_log_var.exp(), dim=-1\n",
    "        )\n",
    "        return out, loss_kl"
   ]
  },
  {
   "cell_type": "code",
   "execution_count": 45,
   "metadata": {},
   "outputs": [],
   "source": [
    "xs_pred, loss_kl = VAE(latent_dim=128, input_shape=(window_size, n_features))(xs)"
   ]
  },
  {
   "cell_type": "code",
   "execution_count": 46,
   "metadata": {},
   "outputs": [
    {
     "data": {
      "text/plain": [
       "(torch.Size([8, 48, 1]), torch.Size([8]))"
      ]
     },
     "execution_count": 46,
     "metadata": {},
     "output_type": "execute_result"
    }
   ],
   "source": [
    "xs_pred.shape, loss_kl.shape"
   ]
  },
  {
   "cell_type": "code",
   "execution_count": 47,
   "metadata": {},
   "outputs": [],
   "source": [
    "# | export\n",
    "\n",
    "\n",
    "def calculate_smape(predicted, actual):\n",
    "    with torch.no_grad():\n",
    "        absolute_percentage_errors = (\n",
    "            torch.abs(predicted - actual) / (torch.abs(predicted) + torch.abs(actual))\n",
    "        ) * 100\n",
    "        return absolute_percentage_errors.mean()\n"
   ]
  },
  {
   "cell_type": "code",
   "execution_count": 48,
   "metadata": {},
   "outputs": [],
   "source": [
    "# | export\n",
    "\n",
    "\n",
    "def loss_func(inputs, targets, loss_kl):\n",
    "    # targets = torch.where(targets >= 0, 1., 0.)\n",
    "    # loss_kl = loss_kl.unsqueeze(-1)  # add loss_kl per time step.\n",
    "    loss_reconstruct_numerical = F.huber_loss(\n",
    "        inputs,\n",
    "        targets,\n",
    "        delta=3,\n",
    "        reduction=\"none\",\n",
    "    ).sum((1, 2))\n",
    "    return (loss_reconstruct_numerical + loss_kl).sum()"
   ]
  },
  {
   "cell_type": "code",
   "execution_count": 49,
   "metadata": {},
   "outputs": [
    {
     "data": {
      "text/plain": [
       "tensor(196.9177, grad_fn=<SumBackward0>)"
      ]
     },
     "execution_count": 49,
     "metadata": {},
     "output_type": "execute_result"
    }
   ],
   "source": [
    "loss_func(xs_pred.to(\"cpu\"), xs.to(\"cpu\"), loss_kl.to(\"cpu\"))"
   ]
  },
  {
   "cell_type": "code",
   "execution_count": null,
   "metadata": {},
   "outputs": [],
   "source": []
  },
  {
   "cell_type": "code",
   "execution_count": 50,
   "metadata": {},
   "outputs": [],
   "source": [
    "# | export\n",
    "\n",
    "\n",
    "def get_similarity(inputs, targets):\n",
    "    func = F.mse_loss\n",
    "    with torch.no_grad():\n",
    "        loss_num = func(inputs.flatten(), targets.flatten())\n",
    "        return loss_num"
   ]
  },
  {
   "cell_type": "code",
   "execution_count": 51,
   "metadata": {},
   "outputs": [
    {
     "data": {
      "text/plain": [
       "tensor(1.0234)"
      ]
     },
     "execution_count": 51,
     "metadata": {},
     "output_type": "execute_result"
    }
   ],
   "source": [
    "get_similarity(\n",
    "    xs_pred.to(\"cpu\"),\n",
    "    xs.to(\"cpu\"),\n",
    ")"
   ]
  },
  {
   "cell_type": "code",
   "execution_count": 52,
   "metadata": {},
   "outputs": [
    {
     "data": {
      "text/plain": [
       "tensor(91.9968)"
      ]
     },
     "execution_count": 52,
     "metadata": {},
     "output_type": "execute_result"
    }
   ],
   "source": [
    "calculate_smape(\n",
    "    xs_pred.to(\"cpu\"),\n",
    "    xs.to(\"cpu\"),\n",
    ")\n"
   ]
  },
  {
   "cell_type": "markdown",
   "metadata": {},
   "source": [
    "# Training loop"
   ]
  },
  {
   "cell_type": "code",
   "execution_count": 53,
   "metadata": {},
   "outputs": [
    {
     "data": {
      "text/plain": [
       "'cuda'"
      ]
     },
     "execution_count": 53,
     "metadata": {},
     "output_type": "execute_result"
    }
   ],
   "source": [
    "# | export\n",
    "\n",
    "device = \"cuda\" if torch.cuda.is_available() else \"cpu\"\n",
    "device\n"
   ]
  },
  {
   "cell_type": "code",
   "execution_count": 54,
   "metadata": {},
   "outputs": [],
   "source": [
    "# | export\n",
    "\n",
    "\n",
    "def validate_epoch(dls, criterion, scorer):\n",
    "    \"\"\"For the full dataloader, calculate the running loss and score\"\"\"\n",
    "    model.eval()\n",
    "    running_loss = 0.0\n",
    "    running_score = 0.0\n",
    "    with torch.no_grad():\n",
    "        for batch_idx, xs in enumerate(dls):\n",
    "            # move to device\n",
    "            xs = xs.to(device)\n",
    "\n",
    "            # Forward pass\n",
    "            xs_gen, loss_kl = model(xs)\n",
    "\n",
    "            loss = criterion(xs_gen, targets=xs, loss_kl=loss_kl)\n",
    "            # print(loss - loss_kl, loss_kl)\n",
    "            # calc score\n",
    "            score = scorer(xs_gen, xs)\n",
    "\n",
    "            running_loss += loss.item()\n",
    "            running_score += score.item()\n",
    "    return running_loss / len(dls), running_score / len(dls)\n"
   ]
  },
  {
   "cell_type": "code",
   "execution_count": 55,
   "metadata": {},
   "outputs": [],
   "source": [
    "# | export\n",
    "\n",
    "from fastcore.xtras import partial"
   ]
  },
  {
   "cell_type": "code",
   "execution_count": 56,
   "metadata": {},
   "outputs": [
    {
     "data": {
      "text/plain": [
       "tensor([0.0575, 0.0485, 0.0491, 0.0515, 0.0565, 0.0378, 0.0519, 0.0717],\n",
       "       grad_fn=<MulBackward0>)"
      ]
     },
     "execution_count": 56,
     "metadata": {},
     "output_type": "execute_result"
    }
   ],
   "source": [
    "loss_kl\n"
   ]
  },
  {
   "cell_type": "code",
   "execution_count": 66,
   "metadata": {},
   "outputs": [
    {
     "name": "stdout",
     "output_type": "stream",
     "text": [
      "Epoch [1/500], Batch [23/23], Loss: [62.793, 36.581], Score: [0.567, 0.361]\n",
      "Epoch [2/500], Batch [23/23], Loss: [41.246, 24.190], Score: [0.350, 0.208]\n",
      "Epoch [3/500], Batch [23/23], Loss: [30.380, 21.343], Score: [0.254, 0.205]\n",
      "Epoch [4/500], Batch [23/23], Loss: [25.047, 17.592], Score: [0.212, 0.152]\n",
      "Epoch [5/500], Batch [23/23], Loss: [21.528, 16.843], Score: [0.183, 0.135]\n",
      "Epoch [6/500], Batch [23/23], Loss: [22.765, 16.932], Score: [0.195, 0.162]\n",
      "Epoch [7/500], Batch [23/23], Loss: [21.935, 14.875], Score: [0.187, 0.133]\n",
      "Epoch [8/500], Batch [23/23], Loss: [21.905, 19.990], Score: [0.177, 0.192]\n",
      "Epoch [9/500], Batch [23/23], Loss: [21.973, 17.127], Score: [0.190, 0.176]\n",
      "Epoch [10/500], Batch [23/23], Loss: [21.709, 15.915], Score: [0.181, 0.149]\n",
      "Epoch [11/500], Batch [23/23], Loss: [21.034, 18.041], Score: [0.174, 0.160]\n",
      "Epoch [12/500], Batch [23/23], Loss: [19.505, 17.517], Score: [0.154, 0.167]\n",
      "Epoch [13/500], Batch [23/23], Loss: [21.657, 19.081], Score: [0.176, 0.154]\n",
      "Epoch [14/500], Batch [23/23], Loss: [23.260, 15.578], Score: [0.180, 0.137]\n",
      "Epoch [15/500], Batch [23/23], Loss: [23.867, 16.546], Score: [0.194, 0.163]\n",
      "Epoch [16/500], Batch [23/23], Loss: [20.159, 17.908], Score: [0.166, 0.167]\n",
      "Epoch [17/500], Batch [23/23], Loss: [19.622, 17.242], Score: [0.163, 0.140]\n",
      "Epoch [18/500], Batch [23/23], Loss: [18.842, 17.863], Score: [0.147, 0.178]\n",
      "Epoch 00018: reducing learning rate of group 0 to 9.0000e-04.\n",
      "Epoch [19/500], Batch [23/23], Loss: [22.527, 14.790], Score: [0.178, 0.105]\n",
      "Epoch [20/500], Batch [23/23], Loss: [19.045, 20.261], Score: [0.142, 0.182]\n",
      "Epoch [21/500], Batch [23/23], Loss: [17.746, 15.669], Score: [0.131, 0.134]\n",
      "Epoch [22/500], Batch [23/23], Loss: [18.013, 16.264], Score: [0.130, 0.150]\n",
      "Epoch [23/500], Batch [23/23], Loss: [19.511, 18.428], Score: [0.137, 0.119]\n",
      "Epoch [24/500], Batch [23/23], Loss: [20.372, 26.004], Score: [0.146, 0.296]\n",
      "Epoch [25/500], Batch [23/23], Loss: [20.008, 16.676], Score: [0.159, 0.136]\n",
      "Epoch [26/500], Batch [23/23], Loss: [20.542, 21.194], Score: [0.144, 0.122]\n",
      "Epoch [27/500], Batch [23/23], Loss: [20.475, 15.080], Score: [0.128, 0.121]\n",
      "Epoch [28/500], Batch [23/23], Loss: [17.879, 15.703], Score: [0.127, 0.124]\n",
      "Epoch [29/500], Batch [23/23], Loss: [18.972, 17.350], Score: [0.130, 0.141]\n",
      "Epoch [30/500], Batch [23/23], Loss: [16.808, 13.054], Score: [0.120, 0.103]\n",
      "Epoch [31/500], Batch [23/23], Loss: [17.356, 18.516], Score: [0.126, 0.201]\n",
      "Epoch [32/500], Batch [23/23], Loss: [20.187, 17.577], Score: [0.141, 0.151]\n",
      "Epoch [33/500], Batch [23/23], Loss: [21.195, 16.049], Score: [0.149, 0.106]\n",
      "Epoch [34/500], Batch [23/23], Loss: [18.361, 14.933], Score: [0.134, 0.116]\n",
      "Epoch [35/500], Batch [23/23], Loss: [16.598, 17.213], Score: [0.115, 0.133]\n",
      "Epoch [36/500], Batch [23/23], Loss: [17.747, 15.459], Score: [0.117, 0.129]\n",
      "Epoch [37/500], Batch [23/23], Loss: [18.966, 15.799], Score: [0.137, 0.103]\n",
      "Epoch [38/500], Batch [23/23], Loss: [15.716, 13.088], Score: [0.106, 0.106]\n",
      "Epoch [39/500], Batch [23/23], Loss: [17.417, 13.785], Score: [0.125, 0.089]\n",
      "Epoch [40/500], Batch [23/23], Loss: [15.934, 15.165], Score: [0.111, 0.093]\n",
      "Epoch [41/500], Batch [23/23], Loss: [16.869, 17.299], Score: [0.118, 0.121]\n",
      "Epoch 00041: reducing learning rate of group 0 to 8.1000e-04.\n",
      "Epoch [42/500], Batch [23/23], Loss: [17.797, 15.827], Score: [0.123, 0.143]\n",
      "Epoch [43/500], Batch [23/23], Loss: [17.726, 15.867], Score: [0.134, 0.136]\n",
      "Epoch [44/500], Batch [23/23], Loss: [16.377, 18.671], Score: [0.116, 0.173]\n",
      "Epoch [45/500], Batch [23/23], Loss: [16.808, 12.905], Score: [0.120, 0.094]\n",
      "Epoch [46/500], Batch [23/23], Loss: [15.761, 14.912], Score: [0.111, 0.105]\n",
      "Epoch [47/500], Batch [23/23], Loss: [14.243, 16.205], Score: [0.096, 0.145]\n",
      "Epoch [48/500], Batch [23/23], Loss: [15.501, 17.565], Score: [0.113, 0.145]\n",
      "Epoch [49/500], Batch [23/23], Loss: [16.412, 15.352], Score: [0.111, 0.114]\n",
      "Epoch [50/500], Batch [23/23], Loss: [17.760, 14.928], Score: [0.125, 0.115]\n",
      "Epoch [51/500], Batch [23/23], Loss: [15.663, 14.404], Score: [0.113, 0.108]\n",
      "Epoch [52/500], Batch [23/23], Loss: [17.808, 17.495], Score: [0.130, 0.113]\n",
      "Epoch [53/500], Batch [23/23], Loss: [24.162, 16.529], Score: [0.149, 0.112]\n",
      "Epoch [54/500], Batch [23/23], Loss: [18.280, 15.230], Score: [0.129, 0.134]\n",
      "Epoch [55/500], Batch [23/23], Loss: [16.744, 15.911], Score: [0.119, 0.136]\n",
      "Epoch [56/500], Batch [23/23], Loss: [16.953, 17.850], Score: [0.117, 0.170]\n",
      "Epoch 00056: reducing learning rate of group 0 to 7.2900e-04.\n",
      "Epoch [57/500], Batch [23/23], Loss: [16.483, 13.897], Score: [0.118, 0.109]\n",
      "Epoch [58/500], Batch [23/23], Loss: [16.274, 13.550], Score: [0.120, 0.094]\n",
      "Epoch [59/500], Batch [23/23], Loss: [14.787, 15.935], Score: [0.097, 0.144]\n",
      "Epoch [60/500], Batch [23/23], Loss: [17.179, 12.990], Score: [0.106, 0.093]\n",
      "Epoch [61/500], Batch [23/23], Loss: [15.730, 13.757], Score: [0.106, 0.095]\n",
      "Epoch [62/500], Batch [23/23], Loss: [17.310, 17.004], Score: [0.118, 0.136]\n",
      "Epoch [63/500], Batch [23/23], Loss: [15.422, 11.731], Score: [0.108, 0.084]\n",
      "Epoch [64/500], Batch [23/23], Loss: [15.795, 15.310], Score: [0.106, 0.125]\n",
      "Epoch [65/500], Batch [23/23], Loss: [15.732, 14.346], Score: [0.111, 0.104]\n",
      "Epoch [66/500], Batch [23/23], Loss: [17.214, 14.366], Score: [0.113, 0.086]\n",
      "Epoch [67/500], Batch [23/23], Loss: [14.847, 17.531], Score: [0.099, 0.167]\n",
      "Epoch [68/500], Batch [23/23], Loss: [14.882, 12.709], Score: [0.098, 0.098]\n",
      "Epoch [69/500], Batch [23/23], Loss: [15.780, 14.915], Score: [0.114, 0.124]\n",
      "Epoch [70/500], Batch [23/23], Loss: [15.312, 15.320], Score: [0.101, 0.121]\n",
      "Epoch [71/500], Batch [23/23], Loss: [15.334, 13.472], Score: [0.107, 0.094]\n",
      "Epoch [72/500], Batch [23/23], Loss: [16.732, 15.277], Score: [0.099, 0.092]\n",
      "Epoch [73/500], Batch [23/23], Loss: [17.476, 19.742], Score: [0.118, 0.152]\n",
      "Epoch [74/500], Batch [23/23], Loss: [15.616, 15.910], Score: [0.105, 0.135]\n",
      "Epoch 00074: reducing learning rate of group 0 to 6.5610e-04.\n",
      "Epoch [75/500], Batch [23/23], Loss: [14.146, 12.171], Score: [0.095, 0.084]\n",
      "Epoch [76/500], Batch [23/23], Loss: [15.404, 14.067], Score: [0.102, 0.098]\n",
      "Epoch [77/500], Batch [23/23], Loss: [15.178, 11.604], Score: [0.100, 0.086]\n",
      "Epoch [78/500], Batch [23/23], Loss: [14.913, 14.438], Score: [0.097, 0.110]\n",
      "Epoch [79/500], Batch [23/23], Loss: [15.190, 11.461], Score: [0.100, 0.088]\n",
      "Epoch [80/500], Batch [23/23], Loss: [14.496, 14.759], Score: [0.094, 0.109]\n",
      "Epoch [81/500], Batch [23/23], Loss: [14.675, 11.702], Score: [0.093, 0.086]\n",
      "Epoch [82/500], Batch [23/23], Loss: [14.793, 13.236], Score: [0.105, 0.099]\n",
      "Epoch [83/500], Batch [23/23], Loss: [14.683, 15.468], Score: [0.091, 0.125]\n",
      "Epoch [84/500], Batch [23/23], Loss: [15.189, 14.239], Score: [0.088, 0.108]\n",
      "Epoch [85/500], Batch [23/23], Loss: [15.565, 12.809], Score: [0.112, 0.089]\n",
      "Epoch [86/500], Batch [23/23], Loss: [14.740, 13.324], Score: [0.099, 0.095]\n",
      "Epoch [87/500], Batch [23/23], Loss: [16.541, 14.081], Score: [0.105, 0.104]\n",
      "Epoch [88/500], Batch [23/23], Loss: [14.561, 12.600], Score: [0.097, 0.090]\n",
      "Epoch [89/500], Batch [23/23], Loss: [14.663, 11.294], Score: [0.100, 0.074]\n",
      "Epoch [90/500], Batch [23/23], Loss: [17.157, 14.707], Score: [0.112, 0.097]\n",
      "Epoch [91/500], Batch [23/23], Loss: [14.824, 12.063], Score: [0.096, 0.102]\n",
      "Epoch [92/500], Batch [23/23], Loss: [14.431, 13.235], Score: [0.090, 0.093]\n",
      "Epoch [93/500], Batch [23/23], Loss: [13.527, 11.644], Score: [0.087, 0.072]\n",
      "Epoch [94/500], Batch [23/23], Loss: [15.790, 13.657], Score: [0.105, 0.094]\n",
      "Epoch [95/500], Batch [23/23], Loss: [14.600, 13.423], Score: [0.086, 0.107]\n",
      "Epoch [96/500], Batch [23/23], Loss: [15.356, 12.636], Score: [0.104, 0.075]\n",
      "Epoch [97/500], Batch [23/23], Loss: [14.051, 15.944], Score: [0.084, 0.125]\n",
      "Epoch [98/500], Batch [23/23], Loss: [14.003, 14.949], Score: [0.089, 0.110]\n",
      "Epoch [99/500], Batch [23/23], Loss: [14.203, 14.625], Score: [0.096, 0.115]\n",
      "Epoch [100/500], Batch [23/23], Loss: [14.627, 14.437], Score: [0.099, 0.080]\n",
      "Epoch 00100: reducing learning rate of group 0 to 5.9049e-04.\n",
      "Epoch [101/500], Batch [23/23], Loss: [14.654, 16.941], Score: [0.084, 0.135]\n",
      "Epoch [102/500], Batch [23/23], Loss: [15.932, 16.546], Score: [0.116, 0.157]\n",
      "Epoch [103/500], Batch [23/23], Loss: [16.372, 12.802], Score: [0.106, 0.084]\n",
      "Epoch [104/500], Batch [23/23], Loss: [15.113, 13.302], Score: [0.087, 0.092]\n",
      "Epoch [105/500], Batch [23/23], Loss: [14.966, 11.949], Score: [0.094, 0.075]\n",
      "Epoch [106/500], Batch [23/23], Loss: [14.653, 12.475], Score: [0.085, 0.083]\n",
      "Epoch [107/500], Batch [23/23], Loss: [15.435, 12.739], Score: [0.102, 0.088]\n",
      "Epoch [108/500], Batch [23/23], Loss: [12.897, 11.856], Score: [0.071, 0.078]\n",
      "Epoch [109/500], Batch [23/23], Loss: [12.805, 12.344], Score: [0.084, 0.091]\n",
      "Epoch [110/500], Batch [23/23], Loss: [15.486, 12.565], Score: [0.096, 0.084]\n",
      "Epoch [111/500], Batch [23/23], Loss: [14.246, 18.883], Score: [0.097, 0.151]\n",
      "Epoch 00111: reducing learning rate of group 0 to 5.3144e-04.\n",
      "Epoch [112/500], Batch [23/23], Loss: [13.664, 13.891], Score: [0.079, 0.103]\n",
      "Epoch [113/500], Batch [23/23], Loss: [14.052, 10.408], Score: [0.087, 0.062]\n",
      "Epoch [114/500], Batch [23/23], Loss: [14.186, 13.420], Score: [0.080, 0.099]\n",
      "Epoch [115/500], Batch [23/23], Loss: [14.456, 14.505], Score: [0.093, 0.092]\n",
      "Epoch [116/500], Batch [23/23], Loss: [14.319, 10.371], Score: [0.073, 0.054]\n",
      "Epoch [117/500], Batch [23/23], Loss: [14.062, 12.510], Score: [0.090, 0.081]\n",
      "Epoch [118/500], Batch [23/23], Loss: [13.538, 12.368], Score: [0.079, 0.087]\n",
      "Epoch [119/500], Batch [23/23], Loss: [14.104, 12.001], Score: [0.083, 0.081]\n",
      "Epoch [120/500], Batch [23/23], Loss: [13.759, 13.923], Score: [0.090, 0.105]\n",
      "Epoch [121/500], Batch [23/23], Loss: [13.057, 19.760], Score: [0.077, 0.164]\n",
      "Epoch [122/500], Batch [23/23], Loss: [14.697, 13.075], Score: [0.096, 0.103]\n",
      "Epoch [123/500], Batch [23/23], Loss: [13.780, 13.105], Score: [0.082, 0.083]\n",
      "Epoch [124/500], Batch [23/23], Loss: [14.240, 11.373], Score: [0.082, 0.067]\n",
      "Epoch [125/500], Batch [23/23], Loss: [14.620, 15.269], Score: [0.093, 0.133]\n",
      "Epoch [126/500], Batch [23/23], Loss: [13.202, 11.887], Score: [0.077, 0.079]\n",
      "Epoch [127/500], Batch [23/23], Loss: [12.377, 13.420], Score: [0.073, 0.115]\n",
      "Epoch 00127: reducing learning rate of group 0 to 4.7830e-04.\n",
      "Epoch [128/500], Batch [23/23], Loss: [14.700, 11.976], Score: [0.099, 0.082]\n",
      "Epoch [129/500], Batch [23/23], Loss: [12.765, 15.300], Score: [0.074, 0.119]\n",
      "Epoch [130/500], Batch [23/23], Loss: [13.128, 11.123], Score: [0.081, 0.063]\n",
      "Epoch [131/500], Batch [23/23], Loss: [14.433, 17.995], Score: [0.082, 0.132]\n",
      "Epoch [132/500], Batch [23/23], Loss: [13.788, 17.490], Score: [0.076, 0.181]\n",
      "Epoch [133/500], Batch [23/23], Loss: [13.613, 13.057], Score: [0.079, 0.077]\n",
      "Epoch [134/500], Batch [23/23], Loss: [12.497, 11.293], Score: [0.066, 0.078]\n",
      "Epoch [135/500], Batch [23/23], Loss: [13.843, 12.003], Score: [0.092, 0.087]\n",
      "Epoch [136/500], Batch [23/23], Loss: [14.717, 11.946], Score: [0.094, 0.079]\n",
      "Epoch [137/500], Batch [23/23], Loss: [13.542, 17.669], Score: [0.078, 0.165]\n",
      "Epoch [138/500], Batch [23/23], Loss: [12.278, 14.481], Score: [0.073, 0.111]\n",
      "Epoch 00138: reducing learning rate of group 0 to 4.3047e-04.\n",
      "Epoch [139/500], Batch [23/23], Loss: [12.578, 13.506], Score: [0.074, 0.104]\n",
      "Epoch [140/500], Batch [23/23], Loss: [13.747, 12.348], Score: [0.083, 0.073]\n",
      "Epoch [141/500], Batch [23/23], Loss: [14.722, 10.272], Score: [0.086, 0.057]\n",
      "Epoch [142/500], Batch [23/23], Loss: [12.927, 10.004], Score: [0.066, 0.059]\n",
      "Epoch [143/500], Batch [23/23], Loss: [14.155, 12.242], Score: [0.083, 0.079]\n",
      "Epoch [144/500], Batch [23/23], Loss: [13.353, 12.137], Score: [0.076, 0.080]\n",
      "Epoch [145/500], Batch [23/23], Loss: [12.609, 12.167], Score: [0.067, 0.080]\n",
      "Epoch [146/500], Batch [23/23], Loss: [13.131, 10.641], Score: [0.078, 0.072]\n",
      "Epoch [147/500], Batch [23/23], Loss: [13.356, 10.978], Score: [0.077, 0.059]\n",
      "Epoch [148/500], Batch [23/23], Loss: [13.254, 11.700], Score: [0.076, 0.076]\n",
      "Epoch [149/500], Batch [23/23], Loss: [13.178, 12.242], Score: [0.076, 0.090]\n",
      "Epoch [150/500], Batch [23/23], Loss: [12.781, 15.460], Score: [0.076, 0.117]\n",
      "Epoch [151/500], Batch [23/23], Loss: [13.402, 11.899], Score: [0.074, 0.070]\n",
      "Epoch [152/500], Batch [23/23], Loss: [14.490, 12.289], Score: [0.083, 0.079]\n",
      "Epoch [153/500], Batch [23/23], Loss: [12.347, 16.167], Score: [0.072, 0.135]\n",
      "Epoch 00153: reducing learning rate of group 0 to 3.8742e-04.\n",
      "Epoch [154/500], Batch [23/23], Loss: [13.143, 12.577], Score: [0.082, 0.081]\n",
      "Epoch [155/500], Batch [23/23], Loss: [14.549, 11.153], Score: [0.086, 0.064]\n",
      "Epoch [156/500], Batch [23/23], Loss: [13.706, 11.535], Score: [0.075, 0.070]\n",
      "Epoch [157/500], Batch [23/23], Loss: [13.257, 12.574], Score: [0.078, 0.093]\n",
      "Epoch [158/500], Batch [23/23], Loss: [13.887, 11.922], Score: [0.082, 0.074]\n",
      "Epoch [159/500], Batch [23/23], Loss: [13.308, 12.868], Score: [0.071, 0.090]\n",
      "Epoch [160/500], Batch [23/23], Loss: [12.863, 13.558], Score: [0.070, 0.097]\n",
      "Epoch [161/500], Batch [23/23], Loss: [13.373, 13.606], Score: [0.075, 0.096]\n",
      "Epoch [162/500], Batch [23/23], Loss: [13.014, 14.024], Score: [0.072, 0.099]\n",
      "Epoch [163/500], Batch [23/23], Loss: [12.860, 11.390], Score: [0.076, 0.071]\n",
      "Epoch [164/500], Batch [23/23], Loss: [13.256, 11.778], Score: [0.076, 0.073]\n",
      "Epoch 00164: reducing learning rate of group 0 to 3.4868e-04.\n",
      "Epoch [165/500], Batch [23/23], Loss: [11.885, 10.312], Score: [0.063, 0.065]\n",
      "Epoch [166/500], Batch [23/23], Loss: [13.763, 14.612], Score: [0.086, 0.102]\n",
      "Epoch [167/500], Batch [23/23], Loss: [13.588, 11.067], Score: [0.082, 0.067]\n",
      "Epoch [168/500], Batch [23/23], Loss: [11.808, 11.760], Score: [0.064, 0.075]\n",
      "Epoch [169/500], Batch [23/23], Loss: [12.454, 10.760], Score: [0.065, 0.064]\n",
      "Epoch [170/500], Batch [23/23], Loss: [13.265, 11.481], Score: [0.076, 0.066]\n",
      "Epoch [171/500], Batch [23/23], Loss: [13.667, 11.489], Score: [0.070, 0.063]\n",
      "Epoch [172/500], Batch [23/23], Loss: [13.105, 14.512], Score: [0.071, 0.104]\n",
      "Epoch [173/500], Batch [23/23], Loss: [11.738, 13.098], Score: [0.062, 0.101]\n",
      "Epoch [174/500], Batch [23/23], Loss: [13.643, 12.429], Score: [0.087, 0.075]\n",
      "Epoch [175/500], Batch [23/23], Loss: [14.443, 16.722], Score: [0.071, 0.126]\n",
      "Epoch 00175: reducing learning rate of group 0 to 3.1381e-04.\n",
      "Epoch [176/500], Batch [23/23], Loss: [13.326, 12.027], Score: [0.077, 0.077]\n",
      "Epoch [177/500], Batch [23/23], Loss: [13.017, 9.805], Score: [0.072, 0.050]\n",
      "Epoch [178/500], Batch [23/23], Loss: [12.971, 13.202], Score: [0.072, 0.089]\n",
      "Epoch [179/500], Batch [23/23], Loss: [12.183, 11.075], Score: [0.066, 0.073]\n",
      "Epoch [180/500], Batch [23/23], Loss: [12.948, 10.844], Score: [0.075, 0.067]\n",
      "Epoch [181/500], Batch [23/23], Loss: [13.338, 10.932], Score: [0.082, 0.075]\n",
      "Epoch [182/500], Batch [23/23], Loss: [12.046, 10.430], Score: [0.067, 0.065]\n",
      "Epoch [183/500], Batch [23/23], Loss: [14.348, 11.572], Score: [0.088, 0.069]\n",
      "Epoch [184/500], Batch [23/23], Loss: [12.946, 13.321], Score: [0.069, 0.093]\n",
      "Epoch [185/500], Batch [23/23], Loss: [12.741, 11.240], Score: [0.068, 0.068]\n",
      "Epoch [186/500], Batch [23/23], Loss: [12.469, 14.038], Score: [0.070, 0.103]\n",
      "Epoch [187/500], Batch [23/23], Loss: [12.540, 11.178], Score: [0.071, 0.067]\n",
      "Epoch [188/500], Batch [23/23], Loss: [12.468, 11.075], Score: [0.068, 0.067]\n",
      "Epoch 00188: reducing learning rate of group 0 to 2.8243e-04.\n",
      "Epoch [189/500], Batch [23/23], Loss: [14.959, 11.206], Score: [0.085, 0.058]\n",
      "Epoch [190/500], Batch [23/23], Loss: [13.012, 16.273], Score: [0.067, 0.138]\n",
      "Epoch [191/500], Batch [23/23], Loss: [13.561, 13.206], Score: [0.082, 0.093]\n",
      "Epoch [192/500], Batch [23/23], Loss: [12.545, 11.314], Score: [0.067, 0.066]\n",
      "Epoch [193/500], Batch [23/23], Loss: [12.451, 11.954], Score: [0.066, 0.082]\n",
      "Epoch [194/500], Batch [23/23], Loss: [12.055, 14.601], Score: [0.068, 0.112]\n",
      "Epoch [195/500], Batch [23/23], Loss: [15.233, 12.188], Score: [0.092, 0.067]\n",
      "Epoch [196/500], Batch [23/23], Loss: [13.255, 12.552], Score: [0.069, 0.080]\n",
      "Epoch [197/500], Batch [23/23], Loss: [13.546, 10.773], Score: [0.073, 0.061]\n",
      "Epoch [198/500], Batch [23/23], Loss: [13.376, 9.741], Score: [0.073, 0.052]\n",
      "Epoch [199/500], Batch [23/23], Loss: [12.544, 14.475], Score: [0.069, 0.105]\n",
      "Epoch [200/500], Batch [23/23], Loss: [13.156, 13.560], Score: [0.072, 0.090]\n",
      "Epoch [201/500], Batch [23/23], Loss: [12.784, 11.134], Score: [0.067, 0.063]\n",
      "Epoch [202/500], Batch [23/23], Loss: [12.408, 10.305], Score: [0.061, 0.060]\n",
      "Epoch [203/500], Batch [23/23], Loss: [12.835, 12.997], Score: [0.068, 0.083]\n",
      "Epoch [204/500], Batch [23/23], Loss: [13.074, 9.766], Score: [0.071, 0.052]\n",
      "Epoch [205/500], Batch [23/23], Loss: [12.818, 10.258], Score: [0.064, 0.054]\n",
      "Epoch [206/500], Batch [23/23], Loss: [13.847, 13.249], Score: [0.081, 0.115]\n",
      "Epoch [207/500], Batch [23/23], Loss: [12.008, 12.079], Score: [0.060, 0.076]\n",
      "Epoch [208/500], Batch [23/23], Loss: [12.614, 12.166], Score: [0.068, 0.079]\n",
      "Epoch [209/500], Batch [23/23], Loss: [12.258, 14.965], Score: [0.064, 0.105]\n",
      "Epoch 00209: reducing learning rate of group 0 to 2.5419e-04.\n",
      "Epoch [210/500], Batch [23/23], Loss: [12.091, 9.389], Score: [0.062, 0.049]\n",
      "Epoch [211/500], Batch [23/23], Loss: [11.508, 13.021], Score: [0.061, 0.090]\n",
      "Epoch [212/500], Batch [23/23], Loss: [12.314, 12.577], Score: [0.068, 0.087]\n",
      "Epoch [213/500], Batch [23/23], Loss: [12.768, 11.433], Score: [0.072, 0.071]\n",
      "Epoch [214/500], Batch [23/23], Loss: [15.112, 12.925], Score: [0.090, 0.082]\n",
      "Epoch [215/500], Batch [23/23], Loss: [12.903, 12.293], Score: [0.068, 0.076]\n",
      "Epoch [216/500], Batch [23/23], Loss: [11.867, 11.644], Score: [0.058, 0.071]\n",
      "Epoch [217/500], Batch [23/23], Loss: [12.399, 10.975], Score: [0.068, 0.067]\n",
      "Epoch [218/500], Batch [23/23], Loss: [12.591, 10.854], Score: [0.065, 0.061]\n",
      "Epoch [219/500], Batch [23/23], Loss: [11.967, 9.539], Score: [0.059, 0.051]\n",
      "Epoch [220/500], Batch [23/23], Loss: [13.299, 12.351], Score: [0.074, 0.081]\n",
      "Epoch [221/500], Batch [23/23], Loss: [11.936, 11.677], Score: [0.061, 0.075]\n",
      "Epoch 00221: reducing learning rate of group 0 to 2.2877e-04.\n",
      "Epoch [222/500], Batch [23/23], Loss: [12.138, 10.182], Score: [0.063, 0.058]\n",
      "Epoch [223/500], Batch [23/23], Loss: [13.844, 10.716], Score: [0.079, 0.061]\n",
      "Epoch [224/500], Batch [23/23], Loss: [12.273, 13.548], Score: [0.061, 0.089]\n",
      "Epoch [225/500], Batch [23/23], Loss: [12.781, 11.656], Score: [0.068, 0.069]\n",
      "Epoch [226/500], Batch [23/23], Loss: [11.897, 12.471], Score: [0.053, 0.080]\n",
      "Epoch [227/500], Batch [23/23], Loss: [11.990, 13.999], Score: [0.062, 0.099]\n",
      "Epoch [228/500], Batch [23/23], Loss: [12.075, 10.490], Score: [0.066, 0.059]\n",
      "Epoch [229/500], Batch [23/23], Loss: [12.491, 11.213], Score: [0.066, 0.072]\n",
      "Epoch [230/500], Batch [23/23], Loss: [11.617, 13.864], Score: [0.060, 0.100]\n",
      "Epoch [231/500], Batch [23/23], Loss: [12.374, 14.526], Score: [0.067, 0.108]\n",
      "Epoch [232/500], Batch [23/23], Loss: [11.309, 14.191], Score: [0.057, 0.101]\n",
      "Epoch 00232: reducing learning rate of group 0 to 2.0589e-04.\n",
      "Epoch [233/500], Batch [23/23], Loss: [11.568, 10.728], Score: [0.059, 0.065]\n",
      "Epoch [234/500], Batch [23/23], Loss: [11.494, 10.525], Score: [0.059, 0.065]\n",
      "Epoch [235/500], Batch [23/23], Loss: [12.356, 9.882], Score: [0.070, 0.054]\n",
      "Epoch [236/500], Batch [23/23], Loss: [11.340, 11.127], Score: [0.054, 0.073]\n",
      "Epoch [237/500], Batch [23/23], Loss: [12.829, 11.292], Score: [0.072, 0.070]\n",
      "Epoch [238/500], Batch [23/23], Loss: [11.836, 10.639], Score: [0.059, 0.070]\n",
      "Epoch [239/500], Batch [23/23], Loss: [13.559, 11.072], Score: [0.078, 0.065]\n",
      "Epoch [240/500], Batch [23/23], Loss: [12.090, 11.234], Score: [0.062, 0.073]\n",
      "Epoch [241/500], Batch [23/23], Loss: [12.535, 11.583], Score: [0.073, 0.076]\n",
      "Epoch [242/500], Batch [23/23], Loss: [11.010, 11.768], Score: [0.053, 0.086]\n",
      "Epoch [243/500], Batch [23/23], Loss: [11.763, 10.604], Score: [0.063, 0.068]\n",
      "Epoch 00243: reducing learning rate of group 0 to 1.8530e-04.\n",
      "Epoch [244/500], Batch [23/23], Loss: [10.786, 11.264], Score: [0.055, 0.089]\n",
      "Epoch [245/500], Batch [23/23], Loss: [11.607, 10.371], Score: [0.063, 0.066]\n",
      "Epoch [246/500], Batch [23/23], Loss: [11.129, 11.162], Score: [0.058, 0.072]\n",
      "Epoch [247/500], Batch [23/23], Loss: [12.972, 10.489], Score: [0.072, 0.065]\n",
      "Epoch [248/500], Batch [23/23], Loss: [12.084, 9.903], Score: [0.064, 0.058]\n",
      "Epoch [249/500], Batch [23/23], Loss: [12.632, 11.567], Score: [0.072, 0.072]\n",
      "Epoch [250/500], Batch [23/23], Loss: [11.799, 12.778], Score: [0.059, 0.085]\n",
      "Epoch [251/500], Batch [23/23], Loss: [11.485, 12.240], Score: [0.058, 0.083]\n",
      "Epoch [252/500], Batch [23/23], Loss: [12.055, 12.350], Score: [0.062, 0.081]\n",
      "Epoch [253/500], Batch [23/23], Loss: [12.369, 10.762], Score: [0.063, 0.064]\n",
      "Epoch [254/500], Batch [23/23], Loss: [11.688, 10.913], Score: [0.060, 0.068]\n",
      "Epoch 00254: reducing learning rate of group 0 to 1.6677e-04.\n",
      "Epoch [255/500], Batch [23/23], Loss: [12.509, 10.094], Score: [0.070, 0.058]\n",
      "Epoch [256/500], Batch [23/23], Loss: [12.417, 11.215], Score: [0.065, 0.067]\n",
      "Epoch [257/500], Batch [23/23], Loss: [11.546, 11.655], Score: [0.055, 0.074]\n",
      "Epoch [258/500], Batch [23/23], Loss: [11.958, 11.002], Score: [0.064, 0.073]\n",
      "Epoch [259/500], Batch [23/23], Loss: [12.678, 9.927], Score: [0.073, 0.055]\n",
      "Epoch [260/500], Batch [23/23], Loss: [10.990, 10.238], Score: [0.050, 0.059]\n",
      "Epoch [261/500], Batch [23/23], Loss: [12.217, 11.546], Score: [0.065, 0.076]\n",
      "Epoch [262/500], Batch [23/23], Loss: [11.860, 10.788], Score: [0.062, 0.067]\n",
      "Epoch [263/500], Batch [23/23], Loss: [12.676, 13.523], Score: [0.070, 0.093]\n",
      "Epoch [264/500], Batch [23/23], Loss: [11.730, 10.674], Score: [0.060, 0.062]\n",
      "Epoch [265/500], Batch [23/23], Loss: [11.230, 10.975], Score: [0.054, 0.070]\n",
      "Epoch 00265: reducing learning rate of group 0 to 1.5009e-04.\n",
      "Epoch [266/500], Batch [23/23], Loss: [12.665, 12.237], Score: [0.068, 0.080]\n",
      "Epoch [267/500], Batch [23/23], Loss: [12.415, 10.947], Score: [0.064, 0.067]\n",
      "Epoch [268/500], Batch [23/23], Loss: [11.035, 10.170], Score: [0.052, 0.058]\n",
      "Epoch [269/500], Batch [23/23], Loss: [11.799, 10.562], Score: [0.061, 0.062]\n",
      "Epoch [270/500], Batch [23/23], Loss: [11.192, 9.057], Score: [0.055, 0.050]\n",
      "Epoch [271/500], Batch [23/23], Loss: [11.869, 12.456], Score: [0.063, 0.085]\n",
      "Epoch [272/500], Batch [23/23], Loss: [12.860, 10.252], Score: [0.071, 0.059]\n",
      "Epoch [273/500], Batch [23/23], Loss: [12.922, 12.099], Score: [0.070, 0.077]\n",
      "Epoch [274/500], Batch [23/23], Loss: [12.414, 10.450], Score: [0.065, 0.060]\n",
      "Epoch [275/500], Batch [23/23], Loss: [12.071, 11.673], Score: [0.061, 0.072]\n",
      "Epoch [276/500], Batch [23/23], Loss: [12.755, 11.341], Score: [0.067, 0.065]\n",
      "Epoch [277/500], Batch [23/23], Loss: [11.597, 14.043], Score: [0.054, 0.101]\n",
      "Epoch [278/500], Batch [23/23], Loss: [11.356, 11.134], Score: [0.055, 0.070]\n",
      "Epoch [279/500], Batch [23/23], Loss: [12.337, 10.852], Score: [0.068, 0.068]\n",
      "Epoch [280/500], Batch [23/23], Loss: [11.970, 11.054], Score: [0.063, 0.066]\n",
      "Epoch [281/500], Batch [23/23], Loss: [11.965, 10.314], Score: [0.061, 0.058]\n",
      "Epoch 00281: reducing learning rate of group 0 to 1.3509e-04.\n",
      "Epoch [282/500], Batch [23/23], Loss: [11.296, 10.188], Score: [0.053, 0.059]\n",
      "Epoch [283/500], Batch [23/23], Loss: [11.460, 12.302], Score: [0.057, 0.080]\n",
      "Epoch [284/500], Batch [23/23], Loss: [11.953, 10.412], Score: [0.062, 0.063]\n",
      "Epoch [285/500], Batch [23/23], Loss: [11.183, 11.412], Score: [0.056, 0.073]\n",
      "Epoch [286/500], Batch [23/23], Loss: [11.917, 9.447], Score: [0.062, 0.050]\n",
      "Epoch [287/500], Batch [23/23], Loss: [11.600, 10.827], Score: [0.059, 0.066]\n",
      "Epoch [288/500], Batch [23/23], Loss: [12.744, 13.380], Score: [0.071, 0.091]\n",
      "Epoch [289/500], Batch [23/23], Loss: [11.096, 12.234], Score: [0.052, 0.081]\n",
      "Epoch [290/500], Batch [23/23], Loss: [14.044, 9.921], Score: [0.085, 0.058]\n",
      "Epoch [291/500], Batch [23/23], Loss: [12.210, 10.649], Score: [0.060, 0.066]\n",
      "Epoch [292/500], Batch [23/23], Loss: [11.136, 10.438], Score: [0.051, 0.059]\n",
      "Epoch 00292: reducing learning rate of group 0 to 1.2158e-04.\n",
      "Epoch [293/500], Batch [23/23], Loss: [11.750, 10.129], Score: [0.059, 0.057]\n",
      "Epoch [294/500], Batch [23/23], Loss: [10.915, 10.590], Score: [0.051, 0.064]\n",
      "Epoch [295/500], Batch [23/23], Loss: [11.773, 11.108], Score: [0.060, 0.072]\n",
      "Epoch [296/500], Batch [23/23], Loss: [11.714, 11.328], Score: [0.059, 0.069]\n",
      "Epoch [297/500], Batch [23/23], Loss: [12.258, 10.085], Score: [0.064, 0.055]\n",
      "Epoch [298/500], Batch [23/23], Loss: [11.894, 11.694], Score: [0.057, 0.071]\n",
      "Epoch [299/500], Batch [23/23], Loss: [11.640, 10.678], Score: [0.052, 0.060]\n",
      "Epoch [300/500], Batch [23/23], Loss: [12.003, 12.200], Score: [0.057, 0.078]\n",
      "Epoch [301/500], Batch [23/23], Loss: [11.856, 11.191], Score: [0.057, 0.069]\n",
      "Epoch [302/500], Batch [23/23], Loss: [12.583, 11.360], Score: [0.064, 0.068]\n",
      "Epoch [303/500], Batch [23/23], Loss: [11.411, 15.784], Score: [0.049, 0.111]\n",
      "Epoch 00303: reducing learning rate of group 0 to 1.0942e-04.\n",
      "Epoch [304/500], Batch [23/23], Loss: [11.584, 12.813], Score: [0.054, 0.086]\n",
      "Epoch [305/500], Batch [23/23], Loss: [12.736, 11.332], Score: [0.065, 0.065]\n",
      "Epoch [306/500], Batch [23/23], Loss: [11.966, 12.415], Score: [0.053, 0.074]\n",
      "Epoch [307/500], Batch [23/23], Loss: [12.644, 10.023], Score: [0.062, 0.049]\n",
      "Epoch [308/500], Batch [23/23], Loss: [11.544, 10.600], Score: [0.049, 0.059]\n",
      "Epoch [309/500], Batch [23/23], Loss: [12.682, 11.503], Score: [0.065, 0.067]\n",
      "Epoch [310/500], Batch [23/23], Loss: [10.904, 10.888], Score: [0.047, 0.063]\n",
      "Epoch [311/500], Batch [23/23], Loss: [11.377, 14.882], Score: [0.054, 0.105]\n",
      "Epoch [312/500], Batch [23/23], Loss: [11.111, 9.564], Score: [0.053, 0.053]\n",
      "Epoch [313/500], Batch [23/23], Loss: [11.393, 10.644], Score: [0.056, 0.063]\n",
      "Epoch [314/500], Batch [23/23], Loss: [12.083, 10.691], Score: [0.062, 0.062]\n",
      "Epoch 00314: reducing learning rate of group 0 to 9.8477e-05.\n",
      "Epoch [315/500], Batch [23/23], Loss: [11.742, 11.146], Score: [0.055, 0.067]\n",
      "Epoch [316/500], Batch [23/23], Loss: [11.798, 12.260], Score: [0.055, 0.076]\n",
      "Epoch [317/500], Batch [23/23], Loss: [11.992, 11.204], Score: [0.056, 0.064]\n",
      "Epoch [318/500], Batch [23/23], Loss: [11.207, 11.865], Score: [0.049, 0.075]\n",
      "Epoch [319/500], Batch [23/23], Loss: [11.848, 11.000], Score: [0.058, 0.066]\n",
      "Epoch [320/500], Batch [23/23], Loss: [12.917, 10.708], Score: [0.068, 0.059]\n",
      "Epoch [321/500], Batch [23/23], Loss: [11.383, 10.717], Score: [0.049, 0.061]\n",
      "Epoch [322/500], Batch [23/23], Loss: [12.326, 12.540], Score: [0.062, 0.080]\n",
      "Epoch [323/500], Batch [23/23], Loss: [12.284, 10.603], Score: [0.063, 0.063]\n",
      "Epoch [324/500], Batch [23/23], Loss: [12.094, 12.331], Score: [0.060, 0.077]\n",
      "Epoch [325/500], Batch [23/23], Loss: [12.243, 11.296], Score: [0.062, 0.068]\n",
      "Epoch 00325: reducing learning rate of group 0 to 8.8629e-05.\n",
      "Epoch [326/500], Batch [23/23], Loss: [12.787, 10.790], Score: [0.066, 0.061]\n",
      "Epoch [327/500], Batch [23/23], Loss: [12.109, 11.138], Score: [0.057, 0.063]\n",
      "Epoch [328/500], Batch [23/23], Loss: [11.917, 9.817], Score: [0.055, 0.051]\n",
      "Epoch [329/500], Batch [23/23], Loss: [11.545, 10.431], Score: [0.052, 0.057]\n",
      "Epoch [330/500], Batch [23/23], Loss: [11.148, 11.361], Score: [0.050, 0.069]\n",
      "Epoch [331/500], Batch [23/23], Loss: [11.294, 13.649], Score: [0.054, 0.095]\n",
      "Epoch [332/500], Batch [23/23], Loss: [12.130, 13.923], Score: [0.062, 0.095]\n",
      "Epoch [333/500], Batch [23/23], Loss: [11.803, 8.925], Score: [0.058, 0.045]\n",
      "Epoch [334/500], Batch [23/23], Loss: [11.719, 11.172], Score: [0.058, 0.068]\n",
      "Epoch [335/500], Batch [23/23], Loss: [11.972, 15.923], Score: [0.062, 0.117]\n",
      "Epoch [336/500], Batch [23/23], Loss: [11.611, 10.267], Score: [0.058, 0.057]\n",
      "Epoch [337/500], Batch [23/23], Loss: [12.156, 13.057], Score: [0.058, 0.086]\n",
      "Epoch [338/500], Batch [23/23], Loss: [11.974, 10.985], Score: [0.057, 0.064]\n",
      "Epoch [339/500], Batch [23/23], Loss: [11.370, 10.547], Score: [0.053, 0.061]\n",
      "Epoch [340/500], Batch [23/23], Loss: [11.250, 12.500], Score: [0.053, 0.083]\n",
      "Epoch [341/500], Batch [23/23], Loss: [12.070, 11.559], Score: [0.062, 0.086]\n",
      "Epoch [342/500], Batch [23/23], Loss: [11.356, 10.349], Score: [0.054, 0.057]\n",
      "Epoch [343/500], Batch [23/23], Loss: [12.102, 10.933], Score: [0.062, 0.065]\n",
      "Epoch [344/500], Batch [23/23], Loss: [12.707, 12.266], Score: [0.067, 0.077]\n",
      "Epoch 00344: reducing learning rate of group 0 to 7.9766e-05.\n",
      "Epoch [345/500], Batch [23/23], Loss: [11.228, 10.541], Score: [0.050, 0.061]\n",
      "Epoch [346/500], Batch [23/23], Loss: [11.594, 10.469], Score: [0.055, 0.058]\n",
      "Epoch [347/500], Batch [23/23], Loss: [11.868, 10.377], Score: [0.057, 0.055]\n",
      "Epoch [348/500], Batch [23/23], Loss: [11.014, 11.645], Score: [0.049, 0.074]\n",
      "Epoch [349/500], Batch [23/23], Loss: [12.093, 10.797], Score: [0.060, 0.063]\n",
      "Epoch [350/500], Batch [23/23], Loss: [12.108, 11.654], Score: [0.061, 0.086]\n",
      "Epoch [351/500], Batch [23/23], Loss: [12.397, 10.847], Score: [0.064, 0.065]\n",
      "Epoch [352/500], Batch [23/23], Loss: [12.345, 10.499], Score: [0.064, 0.059]\n",
      "Epoch [353/500], Batch [23/23], Loss: [11.648, 14.746], Score: [0.057, 0.107]\n",
      "Epoch [354/500], Batch [23/23], Loss: [11.498, 11.684], Score: [0.057, 0.072]\n",
      "Epoch [355/500], Batch [23/23], Loss: [11.925, 11.149], Score: [0.059, 0.065]\n",
      "Epoch 00355: reducing learning rate of group 0 to 7.1790e-05.\n",
      "Epoch [356/500], Batch [23/23], Loss: [12.180, 12.377], Score: [0.058, 0.073]\n",
      "Epoch [357/500], Batch [23/23], Loss: [11.939, 10.532], Score: [0.054, 0.058]\n",
      "Epoch [358/500], Batch [23/23], Loss: [11.772, 10.550], Score: [0.054, 0.058]\n",
      "Epoch [359/500], Batch [23/23], Loss: [11.196, 10.755], Score: [0.049, 0.061]\n",
      "Epoch [360/500], Batch [23/23], Loss: [10.885, 14.720], Score: [0.047, 0.105]\n",
      "Epoch [361/500], Batch [23/23], Loss: [10.779, 9.742], Score: [0.046, 0.051]\n",
      "Epoch [362/500], Batch [23/23], Loss: [11.803, 17.112], Score: [0.058, 0.132]\n",
      "Epoch [363/500], Batch [23/23], Loss: [10.980, 12.862], Score: [0.052, 0.087]\n",
      "Epoch [364/500], Batch [23/23], Loss: [11.824, 11.241], Score: [0.061, 0.069]\n",
      "Epoch [365/500], Batch [23/23], Loss: [11.967, 10.489], Score: [0.061, 0.062]\n",
      "Epoch [366/500], Batch [23/23], Loss: [11.395, 10.896], Score: [0.056, 0.068]\n",
      "Epoch 00366: reducing learning rate of group 0 to 6.4611e-05.\n",
      "Epoch [367/500], Batch [23/23], Loss: [11.967, 12.010], Score: [0.061, 0.077]\n",
      "Epoch [368/500], Batch [23/23], Loss: [12.363, 9.604], Score: [0.063, 0.050]\n",
      "Epoch [369/500], Batch [23/23], Loss: [11.266, 10.209], Score: [0.053, 0.058]\n",
      "Epoch [370/500], Batch [23/23], Loss: [10.981, 12.430], Score: [0.050, 0.079]\n",
      "Epoch [371/500], Batch [23/23], Loss: [10.763, 10.196], Score: [0.047, 0.056]\n",
      "Epoch [372/500], Batch [23/23], Loss: [11.640, 10.687], Score: [0.057, 0.062]\n",
      "Epoch [373/500], Batch [23/23], Loss: [12.385, 10.855], Score: [0.065, 0.063]\n",
      "Epoch [374/500], Batch [23/23], Loss: [11.528, 11.301], Score: [0.055, 0.069]\n",
      "Epoch [375/500], Batch [23/23], Loss: [11.191, 10.427], Score: [0.052, 0.059]\n",
      "Epoch [376/500], Batch [23/23], Loss: [11.092, 10.405], Score: [0.050, 0.061]\n",
      "Epoch [377/500], Batch [23/23], Loss: [11.051, 15.009], Score: [0.051, 0.106]\n",
      "Epoch 00377: reducing learning rate of group 0 to 5.8150e-05.\n",
      "Epoch [378/500], Batch [23/23], Loss: [11.138, 11.342], Score: [0.050, 0.071]\n",
      "Epoch [379/500], Batch [23/23], Loss: [11.892, 11.294], Score: [0.058, 0.067]\n",
      "Epoch [380/500], Batch [23/23], Loss: [12.023, 10.709], Score: [0.057, 0.063]\n",
      "Epoch [381/500], Batch [23/23], Loss: [10.986, 10.905], Score: [0.048, 0.063]\n",
      "Epoch [382/500], Batch [23/23], Loss: [10.554, 10.815], Score: [0.045, 0.064]\n",
      "Epoch [383/500], Batch [23/23], Loss: [11.658, 10.299], Score: [0.058, 0.060]\n",
      "Epoch [384/500], Batch [23/23], Loss: [11.285, 10.870], Score: [0.054, 0.066]\n",
      "Epoch [385/500], Batch [23/23], Loss: [11.539, 13.509], Score: [0.057, 0.095]\n",
      "Epoch [386/500], Batch [23/23], Loss: [12.806, 12.299], Score: [0.070, 0.093]\n",
      "Epoch [387/500], Batch [23/23], Loss: [11.758, 11.440], Score: [0.059, 0.073]\n",
      "Epoch [388/500], Batch [23/23], Loss: [10.758, 10.420], Score: [0.048, 0.060]\n",
      "Epoch 00388: reducing learning rate of group 0 to 5.2335e-05.\n",
      "Epoch [389/500], Batch [23/23], Loss: [12.451, 12.136], Score: [0.065, 0.077]\n",
      "Epoch [390/500], Batch [23/23], Loss: [11.057, 10.417], Score: [0.049, 0.058]\n",
      "Epoch [391/500], Batch [23/23], Loss: [12.114, 9.196], Score: [0.059, 0.044]\n",
      "Epoch [392/500], Batch [23/23], Loss: [12.644, 12.274], Score: [0.063, 0.077]\n",
      "Epoch [393/500], Batch [23/23], Loss: [11.296, 10.048], Score: [0.047, 0.051]\n",
      "Epoch [394/500], Batch [23/23], Loss: [12.205, 10.474], Score: [0.058, 0.059]\n",
      "Epoch [395/500], Batch [23/23], Loss: [10.729, 9.614], Score: [0.044, 0.050]\n",
      "Epoch [396/500], Batch [23/23], Loss: [11.370, 9.786], Score: [0.054, 0.056]\n",
      "Epoch [397/500], Batch [23/23], Loss: [11.193, 11.146], Score: [0.053, 0.068]\n",
      "Epoch [398/500], Batch [23/23], Loss: [12.601, 10.927], Score: [0.067, 0.064]\n",
      "Epoch [399/500], Batch [23/23], Loss: [13.835, 11.573], Score: [0.077, 0.070]\n",
      "Epoch 00399: reducing learning rate of group 0 to 4.7101e-05.\n",
      "Epoch [400/500], Batch [23/23], Loss: [11.444, 11.909], Score: [0.052, 0.073]\n",
      "Epoch [401/500], Batch [23/23], Loss: [11.464, 10.880], Score: [0.053, 0.062]\n",
      "Epoch [402/500], Batch [23/23], Loss: [10.897, 9.907], Score: [0.047, 0.053]\n",
      "Epoch [403/500], Batch [23/23], Loss: [10.659, 9.985], Score: [0.045, 0.055]\n",
      "Epoch [404/500], Batch [23/23], Loss: [10.845, 9.450], Score: [0.048, 0.052]\n",
      "Epoch [405/500], Batch [23/23], Loss: [12.067, 9.786], Score: [0.062, 0.054]\n",
      "Epoch [406/500], Batch [23/23], Loss: [11.647, 10.872], Score: [0.057, 0.064]\n",
      "Epoch [407/500], Batch [23/23], Loss: [11.225, 11.935], Score: [0.053, 0.074]\n",
      "Epoch [408/500], Batch [23/23], Loss: [10.662, 9.934], Score: [0.047, 0.053]\n",
      "Epoch [409/500], Batch [23/23], Loss: [11.384, 10.332], Score: [0.054, 0.058]\n",
      "Epoch [410/500], Batch [23/23], Loss: [11.016, 11.355], Score: [0.049, 0.072]\n",
      "Epoch 00410: reducing learning rate of group 0 to 4.2391e-05.\n",
      "Epoch [411/500], Batch [23/23], Loss: [11.728, 10.332], Score: [0.056, 0.057]\n",
      "Epoch [412/500], Batch [23/23], Loss: [11.012, 11.214], Score: [0.049, 0.076]\n",
      "Epoch [413/500], Batch [23/23], Loss: [11.056, 9.919], Score: [0.050, 0.055]\n",
      "Epoch [414/500], Batch [23/23], Loss: [11.516, 11.220], Score: [0.055, 0.068]\n",
      "Epoch [415/500], Batch [23/23], Loss: [10.738, 10.801], Score: [0.046, 0.063]\n",
      "Epoch [416/500], Batch [23/23], Loss: [10.600, 11.212], Score: [0.045, 0.069]\n",
      "Epoch [417/500], Batch [23/23], Loss: [12.605, 11.482], Score: [0.066, 0.069]\n",
      "Epoch [418/500], Batch [23/23], Loss: [13.059, 11.146], Score: [0.069, 0.065]\n",
      "Epoch [419/500], Batch [23/23], Loss: [11.320, 12.554], Score: [0.050, 0.093]\n",
      "Epoch [420/500], Batch [23/23], Loss: [12.311, 11.830], Score: [0.061, 0.072]\n",
      "Epoch [421/500], Batch [23/23], Loss: [11.420, 10.742], Score: [0.052, 0.063]\n",
      "Epoch 00421: reducing learning rate of group 0 to 3.8152e-05.\n",
      "Epoch [422/500], Batch [23/23], Loss: [11.262, 10.555], Score: [0.051, 0.060]\n",
      "Epoch [423/500], Batch [23/23], Loss: [12.491, 14.557], Score: [0.064, 0.106]\n",
      "Epoch [424/500], Batch [23/23], Loss: [11.890, 11.802], Score: [0.059, 0.072]\n",
      "Epoch [425/500], Batch [23/23], Loss: [11.337, 10.793], Score: [0.051, 0.062]\n",
      "Epoch [426/500], Batch [23/23], Loss: [11.366, 12.080], Score: [0.050, 0.073]\n",
      "Epoch [427/500], Batch [23/23], Loss: [11.605, 9.752], Score: [0.053, 0.050]\n",
      "Epoch [428/500], Batch [23/23], Loss: [11.118, 10.941], Score: [0.049, 0.064]\n",
      "Epoch [429/500], Batch [23/23], Loss: [12.042, 10.232], Score: [0.059, 0.056]\n",
      "Epoch [430/500], Batch [23/23], Loss: [11.299, 10.271], Score: [0.050, 0.056]\n",
      "Epoch [431/500], Batch [23/23], Loss: [11.410, 10.182], Score: [0.052, 0.056]\n",
      "Epoch [432/500], Batch [23/23], Loss: [11.400, 10.021], Score: [0.052, 0.054]\n",
      "Epoch 00432: reducing learning rate of group 0 to 3.4337e-05.\n",
      "Epoch [433/500], Batch [23/23], Loss: [11.905, 10.500], Score: [0.058, 0.059]\n",
      "Epoch [434/500], Batch [23/23], Loss: [11.193, 9.376], Score: [0.050, 0.047]\n",
      "Epoch [435/500], Batch [23/23], Loss: [11.046, 10.522], Score: [0.049, 0.061]\n",
      "Epoch [436/500], Batch [23/23], Loss: [11.420, 11.251], Score: [0.052, 0.067]\n",
      "Epoch [437/500], Batch [23/23], Loss: [11.186, 10.734], Score: [0.050, 0.063]\n",
      "Epoch [438/500], Batch [23/23], Loss: [11.259, 12.303], Score: [0.052, 0.079]\n",
      "Epoch [439/500], Batch [23/23], Loss: [10.924, 11.511], Score: [0.049, 0.075]\n",
      "Epoch [440/500], Batch [23/23], Loss: [12.009, 11.712], Score: [0.061, 0.077]\n",
      "Epoch [441/500], Batch [23/23], Loss: [11.188, 11.262], Score: [0.052, 0.068]\n",
      "Epoch [442/500], Batch [23/23], Loss: [10.384, 15.540], Score: [0.043, 0.113]\n",
      "Epoch [443/500], Batch [23/23], Loss: [10.722, 9.811], Score: [0.048, 0.055]\n",
      "Epoch 00443: reducing learning rate of group 0 to 3.0903e-05.\n",
      "Epoch [444/500], Batch [23/23], Loss: [11.468, 10.787], Score: [0.056, 0.064]\n",
      "Epoch [445/500], Batch [23/23], Loss: [10.357, 10.307], Score: [0.044, 0.059]\n",
      "Epoch [446/500], Batch [23/23], Loss: [11.340, 11.198], Score: [0.055, 0.068]\n",
      "Epoch [447/500], Batch [23/23], Loss: [11.773, 9.939], Score: [0.060, 0.056]\n",
      "Epoch [448/500], Batch [23/23], Loss: [10.953, 11.569], Score: [0.051, 0.072]\n",
      "Epoch [449/500], Batch [23/23], Loss: [13.218, 11.316], Score: [0.074, 0.070]\n",
      "Epoch [450/500], Batch [23/23], Loss: [10.895, 11.643], Score: [0.048, 0.074]\n",
      "Epoch [451/500], Batch [23/23], Loss: [10.634, 11.261], Score: [0.046, 0.068]\n",
      "Epoch [452/500], Batch [23/23], Loss: [11.683, 9.127], Score: [0.057, 0.045]\n",
      "Epoch [453/500], Batch [23/23], Loss: [10.467, 10.954], Score: [0.045, 0.066]\n",
      "Epoch [454/500], Batch [23/23], Loss: [11.481, 11.478], Score: [0.057, 0.073]\n",
      "Epoch 00454: reducing learning rate of group 0 to 2.7813e-05.\n",
      "Epoch [455/500], Batch [23/23], Loss: [10.816, 10.073], Score: [0.049, 0.057]\n",
      "Epoch [456/500], Batch [23/23], Loss: [11.968, 10.987], Score: [0.062, 0.067]\n",
      "Epoch [457/500], Batch [23/23], Loss: [11.316, 9.688], Score: [0.054, 0.052]\n",
      "Epoch [458/500], Batch [23/23], Loss: [12.107, 10.746], Score: [0.062, 0.065]\n",
      "Epoch [459/500], Batch [23/23], Loss: [11.859, 12.028], Score: [0.058, 0.075]\n",
      "Epoch [460/500], Batch [23/23], Loss: [12.130, 10.296], Score: [0.061, 0.057]\n",
      "Epoch [461/500], Batch [23/23], Loss: [11.503, 10.769], Score: [0.054, 0.063]\n",
      "Epoch [462/500], Batch [23/23], Loss: [10.968, 10.914], Score: [0.049, 0.064]\n",
      "Epoch [463/500], Batch [23/23], Loss: [10.733, 10.407], Score: [0.047, 0.059]\n",
      "Epoch [464/500], Batch [23/23], Loss: [11.942, 10.842], Score: [0.060, 0.066]\n",
      "Epoch [465/500], Batch [23/23], Loss: [10.797, 10.734], Score: [0.047, 0.063]\n",
      "Epoch 00465: reducing learning rate of group 0 to 2.5032e-05.\n",
      "Epoch [466/500], Batch [23/23], Loss: [11.683, 11.174], Score: [0.057, 0.067]\n",
      "Epoch [467/500], Batch [23/23], Loss: [10.749, 11.897], Score: [0.047, 0.074]\n",
      "Epoch [468/500], Batch [23/23], Loss: [10.571, 10.137], Score: [0.046, 0.059]\n",
      "Epoch [469/500], Batch [23/23], Loss: [10.542, 11.152], Score: [0.046, 0.069]\n",
      "Epoch [470/500], Batch [23/23], Loss: [10.050, 10.902], Score: [0.041, 0.065]\n",
      "Epoch [471/500], Batch [23/23], Loss: [11.911, 12.732], Score: [0.062, 0.092]\n",
      "Epoch [472/500], Batch [23/23], Loss: [11.901, 10.504], Score: [0.061, 0.060]\n",
      "Epoch [473/500], Batch [23/23], Loss: [11.457, 10.242], Score: [0.055, 0.058]\n",
      "Epoch [474/500], Batch [23/23], Loss: [11.582, 12.244], Score: [0.056, 0.079]\n",
      "Epoch [475/500], Batch [23/23], Loss: [11.195, 12.772], Score: [0.052, 0.085]\n",
      "Epoch [476/500], Batch [23/23], Loss: [10.600, 11.064], Score: [0.046, 0.067]\n",
      "Epoch 00476: reducing learning rate of group 0 to 2.2528e-05.\n",
      "Epoch [477/500], Batch [23/23], Loss: [10.795, 11.008], Score: [0.049, 0.069]\n",
      "Epoch [478/500], Batch [23/23], Loss: [11.251, 11.102], Score: [0.054, 0.068]\n",
      "Epoch [479/500], Batch [23/23], Loss: [11.713, 11.900], Score: [0.058, 0.075]\n",
      "Epoch [480/500], Batch [23/23], Loss: [12.333, 11.175], Score: [0.064, 0.066]\n",
      "Epoch [481/500], Batch [23/23], Loss: [10.917, 15.228], Score: [0.048, 0.107]\n",
      "Epoch [482/500], Batch [23/23], Loss: [10.596, 11.549], Score: [0.045, 0.070]\n",
      "Epoch [483/500], Batch [23/23], Loss: [10.559, 10.629], Score: [0.045, 0.062]\n",
      "Epoch [484/500], Batch [23/23], Loss: [11.692, 11.110], Score: [0.057, 0.067]\n",
      "Epoch [485/500], Batch [23/23], Loss: [11.278, 9.871], Score: [0.053, 0.054]\n",
      "Epoch [486/500], Batch [23/23], Loss: [11.025, 12.691], Score: [0.050, 0.084]\n",
      "Epoch [487/500], Batch [23/23], Loss: [11.047, 10.987], Score: [0.050, 0.067]\n",
      "Epoch 00487: reducing learning rate of group 0 to 2.0276e-05.\n",
      "Epoch [488/500], Batch [23/23], Loss: [11.532, 10.246], Score: [0.055, 0.059]\n",
      "Epoch [489/500], Batch [23/23], Loss: [10.844, 11.363], Score: [0.048, 0.070]\n",
      "Epoch [490/500], Batch [23/23], Loss: [10.090, 10.506], Score: [0.041, 0.062]\n",
      "Epoch [491/500], Batch [23/23], Loss: [12.013, 10.521], Score: [0.061, 0.059]\n",
      "Epoch [492/500], Batch [23/23], Loss: [11.329, 12.177], Score: [0.053, 0.081]\n",
      "Epoch [493/500], Batch [23/23], Loss: [10.863, 11.997], Score: [0.047, 0.074]\n",
      "Epoch [494/500], Batch [23/23], Loss: [11.517, 12.627], Score: [0.054, 0.085]\n",
      "Epoch [495/500], Batch [23/23], Loss: [11.858, 9.357], Score: [0.057, 0.046]\n",
      "Epoch [496/500], Batch [23/23], Loss: [11.940, 10.580], Score: [0.057, 0.063]\n",
      "Epoch [497/500], Batch [23/23], Loss: [12.011, 10.306], Score: [0.058, 0.055]\n",
      "Epoch [498/500], Batch [23/23], Loss: [12.800, 10.912], Score: [0.065, 0.063]\n",
      "Epoch 00498: reducing learning rate of group 0 to 1.8248e-05.\n",
      "Epoch [499/500], Batch [23/23], Loss: [11.648, 11.955], Score: [0.053, 0.074]\n",
      "Epoch [500/500], Batch [23/23], Loss: [10.854, 11.291], Score: [0.045, 0.065]\n"
     ]
    }
   ],
   "source": [
    "train = True\n",
    "batch_size = 4\n",
    "\n",
    "dset_trn = TSDataset(trn_data, mean=means, std=stds)\n",
    "dset_val = TSDataset(val_data, mean=means, std=stds)\n",
    "dl_trn = DataLoader(\n",
    "    dataset=dset_trn,\n",
    "    batch_size=batch_size,\n",
    "    drop_last=True,\n",
    "    shuffle=train,\n",
    "    num_workers=num_workers,\n",
    ")\n",
    "dl_val = DataLoader(\n",
    "    dataset=dset_val,\n",
    "    batch_size=batch_size,\n",
    "    drop_last=False,\n",
    "    shuffle=False,\n",
    "    num_workers=num_workers,\n",
    ")\n",
    "\n",
    "#\n",
    "train_dataloader = dl_trn\n",
    "valid_dataloader = dl_val\n",
    "\n",
    "range_of_vals = 3.5  # output values will be in the range -3 to 3\n",
    "activation = partial(F.hardtanh, min_val=-range_of_vals, max_val=range_of_vals)\n",
    "model = VAE(latent_dim=32, input_shape=(window_size, n_features), act=activation).to(\n",
    "    device\n",
    ")  # to make visualization easier, 2 latent dims\n",
    "\n",
    "learning_rate = 1e-3\n",
    "criterion = loss_func\n",
    "optimizer = torch.optim.Adam(model.parameters(), lr=learning_rate, weight_decay=1e-6)\n",
    "scorer = get_similarity  # calculate_smape\n",
    "# Training loop\n",
    "num_epochs = 500\n",
    "print_every = len(train_dataloader)  # epoch number to print at\n",
    "\n",
    "# Define LR scheduler\n",
    "scheduler = torch.optim.lr_scheduler.ReduceLROnPlateau(\n",
    "    optimizer, factor=0.9, patience=10, min_lr=1e-8, verbose=True\n",
    ")\n",
    "\n",
    "# Training loop\n",
    "for epoch in range(num_epochs):\n",
    "    model.train()\n",
    "    running_loss = 0.0\n",
    "    running_score = 0.0\n",
    "    for batch_idx, xs in enumerate(train_dataloader):\n",
    "        model.train()\n",
    "        optimizer.zero_grad()\n",
    "\n",
    "        # move to device\n",
    "        xs = xs.to(device)\n",
    "\n",
    "        # Forward pass\n",
    "        xs_gen, loss_kl = model(xs)\n",
    "\n",
    "        loss = criterion(xs_gen, targets=xs, loss_kl=loss_kl)\n",
    "        # calc score\n",
    "        score = scorer(xs_gen, xs)\n",
    "\n",
    "        loss.backward()\n",
    "        optimizer.step()\n",
    "\n",
    "        running_loss += loss.item()\n",
    "        running_score += score.item()\n",
    "\n",
    "    if (batch_idx + 1) % print_every == 0:\n",
    "        # calculate loss for valid_dataloader\n",
    "        n_dls = len(train_dataloader)\n",
    "        val_loss, val_score = validate_epoch(valid_dataloader, criterion, scorer)\n",
    "        print(\n",
    "            \"Epoch [{}/{}], Batch [{}/{}], Loss: [{:.3f}, {:.3f}], Score: [{:.3f}, {:.3f}]\".format(\n",
    "                epoch + 1,\n",
    "                num_epochs,\n",
    "                batch_idx + 1,\n",
    "                n_dls,\n",
    "                running_loss / n_dls,\n",
    "                val_loss,\n",
    "                running_score / n_dls,\n",
    "                val_score,\n",
    "            )\n",
    "        )\n",
    "\n",
    "        running_loss = 0.0\n",
    "        running_score = 0.0\n",
    "    # Step the LR scheduler\n",
    "    scheduler.step(val_loss)  # min the running_loss\n"
   ]
  },
  {
   "cell_type": "code",
   "execution_count": null,
   "metadata": {},
   "outputs": [],
   "source": []
  },
  {
   "cell_type": "code",
   "execution_count": 67,
   "metadata": {},
   "outputs": [
    {
     "data": {
      "text/plain": [
       "'../models/vae_500.pth'"
      ]
     },
     "execution_count": 67,
     "metadata": {},
     "output_type": "execute_result"
    }
   ],
   "source": [
    "torch.save(model, f\"../models/vae_{num_epochs}.pth\")\n",
    "f\"../models/vae_{num_epochs}.pth\"\n"
   ]
  },
  {
   "cell_type": "markdown",
   "metadata": {},
   "source": [
    "# Inference"
   ]
  },
  {
   "cell_type": "code",
   "execution_count": 89,
   "metadata": {},
   "outputs": [
    {
     "data": {
      "image/png": "[encoded data removed]",
      "text/plain": [
       "<Figure size 640x480 with 4 Axes>"
      ]
     },
     "metadata": {},
     "output_type": "display_data"
    }
   ],
   "source": [
    "model = torch.load(f\"../models/vae_{num_epochs}.pth\")\n",
    "with torch.no_grad():\n",
    "    xs_val = next(iter(dl_val))\n",
    "    xs_val_gen, loss_kl = model(xs_val.to(device))\n",
    "\n",
    "for idx in range(batch_size):\n",
    "    plt.subplot(5, 2, idx + 1)\n",
    "    idx_feature = 0\n",
    "    decoded_example, actual_example = (\n",
    "        xs_val_gen[idx].detach().cpu(),\n",
    "        xs_val[idx].detach().cpu(),\n",
    "    )\n",
    "    sns.lineplot(\n",
    "        actual_example[:, idx_feature].numpy(),\n",
    "        alpha=0.5,\n",
    "        label=\"true\",\n",
    "    )\n",
    "    sns.lineplot(decoded_example[:, idx_feature].numpy())  # , label=\"vae\")\n",
    "plt.tight_layout()\n"
   ]
  },
  {
   "cell_type": "markdown",
   "metadata": {},
   "source": [
    "# Display embedding"
   ]
  },
  {
   "cell_type": "code",
   "execution_count": 72,
   "metadata": {},
   "outputs": [],
   "source": [
    "with torch.no_grad():\n",
    "    xs_val = next(iter(dl_val))\n",
    "    emb_mean_val, emb_std_val = model.encoder(xs_val.to(device))\n",
    "    emb_val = model.latent_sampler(emb_mean_val, emb_std_val)"
   ]
  },
  {
   "cell_type": "code",
   "execution_count": 71,
   "metadata": {},
   "outputs": [
    {
     "data": {
      "text/plain": [
       "(4, 32)"
      ]
     },
     "execution_count": 71,
     "metadata": {},
     "output_type": "execute_result"
    }
   ],
   "source": [
    "emb_val.cpu().numpy().shape\n"
   ]
  },
  {
   "cell_type": "code",
   "execution_count": 73,
   "metadata": {},
   "outputs": [
    {
     "data": {
      "text/plain": [
       "<Axes: xlabel='None', ylabel='None'>"
      ]
     },
     "execution_count": 73,
     "metadata": {},
     "output_type": "execute_result"
    },
    {
     "data": {
      "image/png": "[encoded data removed]",
      "text/plain": [
       "<Figure size 640x480 with 1 Axes>"
      ]
     },
     "metadata": {},
     "output_type": "display_data"
    }
   ],
   "source": [
    "sns.scatterplot(x=emb_val[:, 0].cpu(), y=emb_val[:, 1].cpu())\n"
   ]
  },
  {
   "cell_type": "code",
   "execution_count": 74,
   "metadata": {},
   "outputs": [],
   "source": [
    "# | hide\n",
    "import nbdev\n",
    "\n",
    "nbdev.nbdev_export()\n"
   ]
  },
  {
   "cell_type": "code",
   "execution_count": null,
   "metadata": {},
   "outputs": [],
   "source": []
  },
  {
   "cell_type": "code",
   "execution_count": null,
   "metadata": {},
   "outputs": [],
   "source": []
  }
 ],
 "metadata": {
  "kernelspec": {
   "display_name": "vae-lstm-kernel",
   "language": "python",
   "name": "vae-lstm-kernel"
  },
  "language_info": {
   "codemirror_mode": {
    "name": "ipython",
    "version": 3
   },
   "file_extension": ".py",
   "mimetype": "text/x-python",
   "name": "python",
   "nbconvert_exporter": "python",
   "pygments_lexer": "ipython3",
   "version": "3.9.17"
  }
 },
 "nbformat": 4,
 "nbformat_minor": 4
}
