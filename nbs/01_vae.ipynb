{
 "cells": [
  {
   "cell_type": "markdown",
   "metadata": {},
   "source": [
    "# VAE\n",
    "\n",
    "> Train a VAE to encode embeddings of normal behavior in the time series."
   ]
  },
  {
   "cell_type": "markdown",
   "metadata": {},
   "source": [
    "Train a VAE with no anomalies in the time series.\n",
    "\n",
    "```--> Anomalies occur at:\n",
    "  timestamp #0: 2014-11-01 19:00:00\n",
    "  timestamp #1: 2014-11-27 15:30:00\n",
    "  timestamp #2: 2014-12-25 15:00:00\n",
    "  timestamp #3: 2015-01-01 01:00:00\n",
    "  timestamp #4: 2015-01-27 00:00:00\n",
    "\n",
    "Original csv file contains (10320,) timestamps.\n",
    "Processed time series contain (10320,) readings.\n",
    "Anomaly indices are [5943, 7184, 8527, 8835, 10081]\n",
    "\n",
    "Training set mean is 14855.115757575757\n",
    "Training set std is 6556.134705703313\n",
    "Anomaly indices in the test set are [2643 3884 5227 5535 6781]```"
   ]
  },
  {
   "cell_type": "code",
   "execution_count": 1,
   "metadata": {},
   "outputs": [],
   "source": [
    "# | default_exp vae"
   ]
  },
  {
   "cell_type": "code",
   "execution_count": 2,
   "metadata": {},
   "outputs": [],
   "source": [
    "# | export\n",
    "\n",
    "# for configs\n",
    "from hydra import compose, initialize\n",
    "from omegaconf import OmegaConf\n",
    "from fastcore.xtras import Path\n",
    "import os"
   ]
  },
  {
   "cell_type": "code",
   "execution_count": 3,
   "metadata": {},
   "outputs": [],
   "source": [
    "# run only once\n",
    "try:\n",
    "    initialize(config_path=\"../config\", version_base=\"1.2\")\n",
    "    cfg = compose(config_name=\"config.yaml\")\n",
    "    cfg = OmegaConf.to_object(cfg)  # perform interpolation of the variables also\n",
    "    cfg = OmegaConf.create(cfg)  # so that dot-notation works?\n",
    "except Exception as e:\n",
    "    print(f\"Got Exception while reading config:\\n{e}\")"
   ]
  },
  {
   "cell_type": "code",
   "execution_count": 4,
   "metadata": {},
   "outputs": [
    {
     "name": "stdout",
     "output_type": "stream",
     "text": [
      "Base directory: /run/media/data2/ts_vae-lstm\n",
      "Model directory: /run/media/data2/ts_vae-lstm/models\n",
      "Dataset is /run/media/data2/ts_vae-lstm/sample_data/nyc_taxi.npz\n"
     ]
    }
   ],
   "source": [
    "# | export\n",
    "\n",
    "BASEDIR = Path(cfg.base_dir).resolve()\n",
    "MODELDIR = Path(cfg.model_dir).resolve()\n",
    "DATAPATH = Path(cfg.dataset.path).resolve()\n",
    "\n",
    "print(f\"Base directory: {BASEDIR}\")\n",
    "print(f\"Model directory: {MODELDIR}\")\n",
    "print(f\"Dataset is {DATAPATH}\")"
   ]
  },
  {
   "cell_type": "code",
   "execution_count": 5,
   "metadata": {},
   "outputs": [
    {
     "name": "stdout",
     "output_type": "stream",
     "text": [
      "Number of workers: 4\n"
     ]
    }
   ],
   "source": [
    "# | export\n",
    "num_workers = cfg.num_workers if cfg.get(\"num_workers\", None) else os.cpu_count()\n",
    "print(f\"Number of workers: {num_workers}\")"
   ]
  },
  {
   "cell_type": "code",
   "execution_count": 6,
   "metadata": {},
   "outputs": [
    {
     "data": {
      "text/plain": [
       "'cuda'"
      ]
     },
     "execution_count": 6,
     "metadata": {},
     "output_type": "execute_result"
    }
   ],
   "source": [
    "# | export\n",
    "\n",
    "device = cfg.device if cfg.device else (\"cuda\" if torch.cuda.is_available() else \"cpu\")\n",
    "device"
   ]
  },
  {
   "cell_type": "code",
   "execution_count": 7,
   "metadata": {},
   "outputs": [],
   "source": [
    "# | hide\n",
    "from nbdev.showdoc import *"
   ]
  },
  {
   "cell_type": "code",
   "execution_count": 8,
   "metadata": {},
   "outputs": [],
   "source": [
    "# | export\n",
    "\n",
    "from dotenv import load_dotenv\n",
    "import pandas as pd\n",
    "import numpy as np\n",
    "import matplotlib.pyplot as plt\n",
    "import seaborn as sns\n",
    "from datetime import datetime as dt\n",
    "from ts_vae_lstm.concepts import get_window\n",
    "from scipy import signal\n",
    "import math"
   ]
  },
  {
   "cell_type": "markdown",
   "metadata": {},
   "source": [
    "The program expects a <font color='#ff0000'>univariate time series</font> in a single file."
   ]
  },
  {
   "cell_type": "code",
   "execution_count": 9,
   "metadata": {},
   "outputs": [
    {
     "name": "stdout",
     "output_type": "stream",
     "text": [
      "Reading /run/media/data2/ts_vae-lstm/sample_data/nyc_taxi.npz\n",
      "KeysView(NpzFile '/run/media/data2/ts_vae-lstm/sample_data/nyc_taxi.npz' with keys: t, t_unit, readings, idx_anomaly, idx_split...)\n"
     ]
    }
   ],
   "source": [
    "# | export\n",
    "\n",
    "print(f\"Reading {DATAPATH}\")\n",
    "if DATAPATH.name.endswith(\".npz\"):\n",
    "    data = np.load(DATAPATH)\n",
    "    print(data.keys())\n",
    "elif DATAPATH.name.endswith(\".csv\"):\n",
    "    data = pd.read_csv(DATAPATH)\n",
    "    print(data.columns)\n",
    "elif DATAPATH.name.endswith(\".parquet\"):\n",
    "    data = pd.read_parquet(DATAPATH)\n",
    "    print(data.columns)\n",
    "else:\n",
    "    raise NotImplementedError(\n",
    "        f\"Cannot read {DATAPATH}. Please raise an issue: thatgeeman/ts_vae-lstm\"\n",
    "    )"
   ]
  },
  {
   "cell_type": "markdown",
   "metadata": {},
   "source": [
    "Mean and standard deviations of training set."
   ]
  },
  {
   "cell_type": "code",
   "execution_count": 10,
   "metadata": {},
   "outputs": [],
   "source": [
    "# | export\n",
    "TIMECOL = cfg.dataset.time_col\n",
    "SIGNALCOL = cfg.dataset.signal\n",
    "idx_split = cfg.dataset.idx_split"
   ]
  },
  {
   "cell_type": "markdown",
   "metadata": {},
   "source": [
    "Read the anomaly indices:\n",
    "- Used to validate the split of the data (thereby avoiding training on anomalous behaviour).\n",
    "- Also used for visualization."
   ]
  },
  {
   "cell_type": "code",
   "execution_count": 11,
   "metadata": {},
   "outputs": [],
   "source": [
    "# | export\n",
    "anomaly_idxs = cfg.dataset.get(\"idx_anomaly\", None)\n",
    "if anomaly_idxs is not None:\n",
    "    assert (\n",
    "        anomaly_idxs[0] > idx_split\n",
    "    ), \"Expected training set to contain only non-anomalous data\"\n",
    "else:\n",
    "    print(\"No idx_anomaly set in config\")"
   ]
  },
  {
   "cell_type": "markdown",
   "metadata": {},
   "source": [
    "Read the columns defined in the config file and make train-test splits. Independent of the file format, the indexing should normally work."
   ]
  },
  {
   "cell_type": "code",
   "execution_count": 12,
   "metadata": {},
   "outputs": [],
   "source": [
    "# | export\n",
    "\n",
    "data_train, data_test = data[SIGNALCOL][:idx_split], data[SIGNALCOL][idx_split:]"
   ]
  },
  {
   "cell_type": "code",
   "execution_count": 13,
   "metadata": {},
   "outputs": [
    {
     "data": {
      "text/plain": [
       "((5500,), (4820,))"
      ]
     },
     "execution_count": 13,
     "metadata": {},
     "output_type": "execute_result"
    }
   ],
   "source": [
    "# | export\n",
    "\n",
    "data_train.shape, data_test.shape"
   ]
  },
  {
   "cell_type": "code",
   "execution_count": 14,
   "metadata": {},
   "outputs": [
    {
     "data": {
      "text/plain": [
       "(15233.591636363637, 6780.169900027516)"
      ]
     },
     "execution_count": 14,
     "metadata": {},
     "output_type": "execute_result"
    }
   ],
   "source": [
    "# | export\n",
    "train_m, train_std = data_train.mean(), data_train.std()\n",
    "train_m, train_std"
   ]
  },
  {
   "cell_type": "markdown",
   "metadata": {},
   "source": [
    "Standardize the test dataset with the train mean and standard deviation.\n",
    "The train fold will still be split later, so not standardizing it now.|"
   ]
  },
  {
   "cell_type": "code",
   "execution_count": 15,
   "metadata": {},
   "outputs": [],
   "source": [
    "# | export\n",
    "\n",
    "data_test_norm = (data_test - train_m) / (train_std + 1e-10)"
   ]
  },
  {
   "cell_type": "code",
   "execution_count": 16,
   "metadata": {},
   "outputs": [],
   "source": [
    "# | export\n",
    "\n",
    "\n",
    "def as_df(data):\n",
    "    \"\"\"Returns data as dataframe with the column named `value`.\"\"\"\n",
    "    return pd.DataFrame(data=data, columns=[\"value\"])"
   ]
  },
  {
   "cell_type": "code",
   "execution_count": 17,
   "metadata": {},
   "outputs": [
    {
     "data": {
      "text/html": [
       "<div>\n",
       "<style scoped>\n",
       "    .dataframe tbody tr th:only-of-type {\n",
       "        vertical-align: middle;\n",
       "    }\n",
       "\n",
       "    .dataframe tbody tr th {\n",
       "        vertical-align: top;\n",
       "    }\n",
       "\n",
       "    .dataframe thead th {\n",
       "        text-align: right;\n",
       "    }\n",
       "</style>\n",
       "<table border=\"1\" class=\"dataframe\">\n",
       "  <thead>\n",
       "    <tr style=\"text-align: right;\">\n",
       "      <th></th>\n",
       "      <th>value</th>\n",
       "    </tr>\n",
       "  </thead>\n",
       "  <tbody>\n",
       "    <tr>\n",
       "      <th>0</th>\n",
       "      <td>10844.0</td>\n",
       "    </tr>\n",
       "    <tr>\n",
       "      <th>1</th>\n",
       "      <td>8127.0</td>\n",
       "    </tr>\n",
       "    <tr>\n",
       "      <th>2</th>\n",
       "      <td>6210.0</td>\n",
       "    </tr>\n",
       "    <tr>\n",
       "      <th>3</th>\n",
       "      <td>4656.0</td>\n",
       "    </tr>\n",
       "    <tr>\n",
       "      <th>4</th>\n",
       "      <td>3820.0</td>\n",
       "    </tr>\n",
       "    <tr>\n",
       "      <th>...</th>\n",
       "      <td>...</td>\n",
       "    </tr>\n",
       "    <tr>\n",
       "      <th>5495</th>\n",
       "      <td>19645.0</td>\n",
       "    </tr>\n",
       "    <tr>\n",
       "      <th>5496</th>\n",
       "      <td>20453.0</td>\n",
       "    </tr>\n",
       "    <tr>\n",
       "      <th>5497</th>\n",
       "      <td>19400.0</td>\n",
       "    </tr>\n",
       "    <tr>\n",
       "      <th>5498</th>\n",
       "      <td>18448.0</td>\n",
       "    </tr>\n",
       "    <tr>\n",
       "      <th>5499</th>\n",
       "      <td>18199.0</td>\n",
       "    </tr>\n",
       "  </tbody>\n",
       "</table>\n",
       "<p>5500 rows × 1 columns</p>\n",
       "</div>"
      ],
      "text/plain": [
       "        value\n",
       "0     10844.0\n",
       "1      8127.0\n",
       "2      6210.0\n",
       "3      4656.0\n",
       "4      3820.0\n",
       "...       ...\n",
       "5495  19645.0\n",
       "5496  20453.0\n",
       "5497  19400.0\n",
       "5498  18448.0\n",
       "5499  18199.0\n",
       "\n",
       "[5500 rows x 1 columns]"
      ]
     },
     "execution_count": 17,
     "metadata": {},
     "output_type": "execute_result"
    }
   ],
   "source": [
    "as_df(data_train)"
   ]
  },
  {
   "cell_type": "markdown",
   "metadata": {},
   "source": [
    "Check if the windows and number of steps look fine visually."
   ]
  },
  {
   "cell_type": "code",
   "execution_count": 18,
   "metadata": {},
   "outputs": [
    {
     "data": {
      "text/plain": [
       "<Axes: xlabel='index', ylabel='value'>"
      ]
     },
     "execution_count": 18,
     "metadata": {},
     "output_type": "execute_result"
    },
    {
     "data": {
      "image/png": "[encoded data removed]",
      "text/plain": [
       "<Figure size 640x480 with 1 Axes>"
      ]
     },
     "metadata": {},
     "output_type": "display_data"
    }
   ],
   "source": [
    "start_step = 0\n",
    "p = 48  # for one full day\n",
    "n_windows = 3\n",
    "sns.lineplot(\n",
    "    data=as_df(data_train[start_step : 1 + start_step + (p * n_windows)]).reset_index(),\n",
    "    x=\"index\",  # possible since we reset_index to add \"index\" column\n",
    "    y=\"value\",\n",
    ")"
   ]
  },
  {
   "cell_type": "markdown",
   "metadata": {},
   "source": [
    "# Gather data into structure"
   ]
  },
  {
   "cell_type": "code",
   "execution_count": 19,
   "metadata": {},
   "outputs": [
    {
     "data": {
      "text/plain": [
       "(5452, [48, 49, 50], [5497, 5498, 5499])"
      ]
     },
     "execution_count": 19,
     "metadata": {},
     "output_type": "execute_result"
    }
   ],
   "source": [
    "# | export\n",
    "\n",
    "p = cfg.n_lag  # past sequences at time t. 48 steps = a day\n",
    "end_steps = [es for es in range(p, len(data_train), 1)]\n",
    "# step is one since we want overlapping windows for VAE training\n",
    "len(end_steps), end_steps[:3], end_steps[-3:]"
   ]
  },
  {
   "cell_type": "code",
   "execution_count": 20,
   "metadata": {},
   "outputs": [],
   "source": [
    "# | export\n",
    "\n",
    "data_windowed = [\n",
    "    {\n",
    "        \"subset\": get_window(\n",
    "            data_train,\n",
    "            window_size=p,\n",
    "            end_step=t,\n",
    "            return_indices=False,\n",
    "        ),\n",
    "        \"end_step\": t,  # the time we want to predict for. For vae, we reconstruct the window.\n",
    "        \"start_step\": t - p,\n",
    "    }\n",
    "    for t in end_steps\n",
    "]"
   ]
  },
  {
   "cell_type": "code",
   "execution_count": 21,
   "metadata": {},
   "outputs": [
    {
     "data": {
      "text/plain": [
       "(5452,\n",
       " {'subset': array([[ 4656.],\n",
       "         [ 3820.],\n",
       "         [ 2873.],\n",
       "         [ 2369.],\n",
       "         [ 2064.],\n",
       "         [ 2221.],\n",
       "         [ 2158.],\n",
       "         [ 2515.],\n",
       "         [ 4364.],\n",
       "         [ 6526.],\n",
       "         [11039.],\n",
       "         [13857.],\n",
       "         [15865.],\n",
       "         [17920.],\n",
       "         [20346.],\n",
       "         [19539.],\n",
       "         [20107.],\n",
       "         [18984.],\n",
       "         [17720.],\n",
       "         [17249.],\n",
       "         [18463.],\n",
       "         [18908.],\n",
       "         [18886.],\n",
       "         [18178.],\n",
       "         [19459.],\n",
       "         [19546.],\n",
       "         [20591.],\n",
       "         [19380.],\n",
       "         [18544.],\n",
       "         [16228.],\n",
       "         [15013.],\n",
       "         [17203.],\n",
       "         [19525.],\n",
       "         [22966.],\n",
       "         [27598.],\n",
       "         [26827.],\n",
       "         [24904.],\n",
       "         [22875.],\n",
       "         [20394.],\n",
       "         [23401.],\n",
       "         [24439.],\n",
       "         [23318.],\n",
       "         [21733.],\n",
       "         [20104.],\n",
       "         [16111.],\n",
       "         [13370.],\n",
       "         [ 9945.],\n",
       "         [ 7571.]]),\n",
       "  'end_step': 51,\n",
       "  'start_step': 3})"
      ]
     },
     "execution_count": 21,
     "metadata": {},
     "output_type": "execute_result"
    }
   ],
   "source": [
    "len(data_windowed), data_windowed[3]"
   ]
  },
  {
   "cell_type": "markdown",
   "metadata": {},
   "source": [
    "Preseve 10% of the dataset from this for validation set."
   ]
  },
  {
   "cell_type": "code",
   "execution_count": 22,
   "metadata": {},
   "outputs": [
    {
     "data": {
      "text/plain": [
       "(1090, 4362)"
      ]
     },
     "execution_count": 22,
     "metadata": {},
     "output_type": "execute_result"
    }
   ],
   "source": [
    "# | export\n",
    "split_ratio = cfg.test_split\n",
    "val_data_idxs = np.random.choice(\n",
    "    range(len(data_windowed)), size=int(split_ratio * len(data_windowed)), replace=False\n",
    ")\n",
    "trn_data_idxs = [idx for idx in range(len(data_windowed)) if idx not in val_data_idxs]\n",
    "len(val_data_idxs), len(trn_data_idxs)"
   ]
  },
  {
   "cell_type": "code",
   "execution_count": 23,
   "metadata": {},
   "outputs": [],
   "source": [
    "# | export\n",
    "\n",
    "from torch import nn\n",
    "import torch.nn.functional as F\n",
    "import torch\n",
    "from torch.utils.data import Dataset, DataLoader\n",
    "from sklearn.metrics import roc_auc_score, accuracy_score"
   ]
  },
  {
   "cell_type": "code",
   "execution_count": 24,
   "metadata": {},
   "outputs": [],
   "source": [
    "# | export\n",
    "\n",
    "val_data = [data_windowed[idx] for idx in val_data_idxs]\n",
    "trn_data = [data_windowed[idx] for idx in trn_data_idxs]"
   ]
  },
  {
   "cell_type": "markdown",
   "metadata": {},
   "source": [
    "Calculate stats over training data."
   ]
  },
  {
   "cell_type": "code",
   "execution_count": 25,
   "metadata": {},
   "outputs": [
    {
     "data": {
      "text/plain": [
       "(48, 1)"
      ]
     },
     "execution_count": 25,
     "metadata": {},
     "output_type": "execute_result"
    }
   ],
   "source": [
    "trn_data[0][\"subset\"].shape"
   ]
  },
  {
   "cell_type": "code",
   "execution_count": 26,
   "metadata": {},
   "outputs": [
    {
     "data": {
      "text/plain": [
       "{'subset': array([[10844.],\n",
       "        [ 8127.],\n",
       "        [ 6210.],\n",
       "        [ 4656.],\n",
       "        [ 3820.],\n",
       "        [ 2873.],\n",
       "        [ 2369.],\n",
       "        [ 2064.],\n",
       "        [ 2221.],\n",
       "        [ 2158.],\n",
       "        [ 2515.],\n",
       "        [ 4364.],\n",
       "        [ 6526.],\n",
       "        [11039.],\n",
       "        [13857.],\n",
       "        [15865.],\n",
       "        [17920.],\n",
       "        [20346.],\n",
       "        [19539.],\n",
       "        [20107.],\n",
       "        [18984.],\n",
       "        [17720.],\n",
       "        [17249.],\n",
       "        [18463.],\n",
       "        [18908.],\n",
       "        [18886.],\n",
       "        [18178.],\n",
       "        [19459.],\n",
       "        [19546.],\n",
       "        [20591.],\n",
       "        [19380.],\n",
       "        [18544.],\n",
       "        [16228.],\n",
       "        [15013.],\n",
       "        [17203.],\n",
       "        [19525.],\n",
       "        [22966.],\n",
       "        [27598.],\n",
       "        [26827.],\n",
       "        [24904.],\n",
       "        [22875.],\n",
       "        [20394.],\n",
       "        [23401.],\n",
       "        [24439.],\n",
       "        [23318.],\n",
       "        [21733.],\n",
       "        [20104.],\n",
       "        [16111.]]),\n",
       " 'end_step': 48,\n",
       " 'start_step': 0}"
      ]
     },
     "execution_count": 26,
     "metadata": {},
     "output_type": "execute_result"
    }
   ],
   "source": [
    "trn_data[0]"
   ]
  },
  {
   "cell_type": "code",
   "execution_count": 27,
   "metadata": {},
   "outputs": [
    {
     "data": {
      "text/plain": [
       "1"
      ]
     },
     "execution_count": 27,
     "metadata": {},
     "output_type": "execute_result"
    }
   ],
   "source": [
    "# | export\n",
    "\n",
    "n_features = cfg.n_signals  # = 1, Since we have univariate time series.\n",
    "n_features"
   ]
  },
  {
   "cell_type": "code",
   "execution_count": 28,
   "metadata": {},
   "outputs": [],
   "source": [
    "# | export\n",
    "\n",
    "assert (\n",
    "    n_features == trn_data[0][\"subset\"].shape[1]\n",
    "), f\"Got {n_features} in config but {trn_data[0]['subset'].shape[1]} features in data!\""
   ]
  },
  {
   "cell_type": "markdown",
   "metadata": {},
   "source": [
    "Find the train data mean and apply it to the validation data."
   ]
  },
  {
   "cell_type": "code",
   "execution_count": 29,
   "metadata": {},
   "outputs": [
    {
     "data": {
      "text/plain": [
       "(array([15251.47511601]), array([6525.82856157]))"
      ]
     },
     "execution_count": 29,
     "metadata": {},
     "output_type": "execute_result"
    }
   ],
   "source": [
    "# | export\n",
    "\n",
    "means = np.zeros((len(trn_data), n_features))  # ((len(trn_data), 4))\n",
    "stds = np.zeros((len(trn_data), n_features))  # ((len(trn_data), 4))\n",
    "slice_from = n_features - 1\n",
    "for i, _trn_data in enumerate(trn_data):\n",
    "    means[i] = (np.mean(_trn_data[\"subset\"][:, slice_from:], axis=0)).astype(np.float32)\n",
    "    stds[i] = (np.var(_trn_data[\"subset\"][:, slice_from:], axis=0) ** 0.5).astype(\n",
    "        np.float32\n",
    "    )\n",
    "means = means.mean(0)\n",
    "stds = stds.mean(0)\n",
    "\n",
    "means, stds"
   ]
  },
  {
   "cell_type": "code",
   "execution_count": 30,
   "metadata": {},
   "outputs": [],
   "source": [
    "# | export\n",
    "\n",
    "\n",
    "class TSDataset(Dataset):\n",
    "    def __init__(self, data, mean, std):\n",
    "        self.data = data\n",
    "        self.mean = mean\n",
    "        self.std = std\n",
    "\n",
    "    def __getitem__(self, idx):\n",
    "        # output[channel] = (input[channel] - mean[channel]) / std[channel]\n",
    "        # ignore the timestamp column\n",
    "        x = self.data[idx][\"subset\"][:, slice_from:]  # 1024, 4\n",
    "        normed_X = ((x - self.mean) / (self.std + 1e-10)).astype(np.float32)\n",
    "        return torch.as_tensor(normed_X)\n",
    "\n",
    "    def __len__(self):\n",
    "        return len(self.data)"
   ]
  },
  {
   "cell_type": "code",
   "execution_count": 31,
   "metadata": {},
   "outputs": [],
   "source": [
    "# | export\n",
    "\n",
    "dset_trn = TSDataset(trn_data, mean=means, std=stds)\n",
    "dset_val = TSDataset(val_data, mean=means, std=stds)\n",
    "# use same stats from training data"
   ]
  },
  {
   "cell_type": "code",
   "execution_count": 32,
   "metadata": {},
   "outputs": [
    {
     "data": {
      "text/plain": [
       "torch.Size([48, 1])"
      ]
     },
     "execution_count": 32,
     "metadata": {},
     "output_type": "execute_result"
    }
   ],
   "source": [
    "dset_trn[0].shape"
   ]
  },
  {
   "cell_type": "code",
   "execution_count": 33,
   "metadata": {},
   "outputs": [
    {
     "data": {
      "text/plain": [
       "4362"
      ]
     },
     "execution_count": 33,
     "metadata": {},
     "output_type": "execute_result"
    }
   ],
   "source": [
    "len(dset_trn)"
   ]
  },
  {
   "cell_type": "code",
   "execution_count": 34,
   "metadata": {},
   "outputs": [],
   "source": [
    "# | export\n",
    "\n",
    "batch_size = cfg.batch_sz\n",
    "drop_last = cfg.drop_last"
   ]
  },
  {
   "cell_type": "code",
   "execution_count": 35,
   "metadata": {},
   "outputs": [],
   "source": [
    "# | export\n",
    "\n",
    "dl_trn = DataLoader(\n",
    "    dataset=dset_trn,\n",
    "    batch_size=batch_size,\n",
    "    drop_last=drop_last,\n",
    "    shuffle=True,\n",
    "    num_workers=num_workers,\n",
    ")\n",
    "dl_val = DataLoader(\n",
    "    dataset=dset_val,\n",
    "    batch_size=batch_size,\n",
    "    drop_last=drop_last,\n",
    "    shuffle=False,\n",
    "    num_workers=num_workers,\n",
    ")"
   ]
  },
  {
   "cell_type": "code",
   "execution_count": 36,
   "metadata": {},
   "outputs": [
    {
     "data": {
      "text/plain": [
       "torch.Size([8, 48, 1])"
      ]
     },
     "execution_count": 36,
     "metadata": {},
     "output_type": "execute_result"
    }
   ],
   "source": [
    "xs = next(iter(dl_trn))\n",
    "xs.shape"
   ]
  },
  {
   "cell_type": "code",
   "execution_count": 37,
   "metadata": {},
   "outputs": [
    {
     "data": {
      "text/plain": [
       "torch.Size([8, 48, 1])"
      ]
     },
     "execution_count": 37,
     "metadata": {},
     "output_type": "execute_result"
    }
   ],
   "source": [
    "xs.shape"
   ]
  },
  {
   "cell_type": "markdown",
   "metadata": {},
   "source": [
    "## Defining Encoder"
   ]
  },
  {
   "cell_type": "code",
   "execution_count": 38,
   "metadata": {},
   "outputs": [
    {
     "data": {
      "text/plain": [
       "((5, 1), (2, 1))"
      ]
     },
     "execution_count": 38,
     "metadata": {},
     "output_type": "execute_result"
    }
   ],
   "source": [
    "num_hidden_units = cfg.num_hidden_units\n",
    "kernel_size = cfg.kernel_size, n_features\n",
    "stride = cfg.stride, n_features\n",
    "latent_dim = cfg.latent_dim\n",
    "kernel_size, stride"
   ]
  },
  {
   "cell_type": "code",
   "execution_count": 39,
   "metadata": {},
   "outputs": [
    {
     "data": {
      "text/plain": [
       "(torch.Size([8, 64, 22, 1]), torch.Size([8, 512, 9, 1]))"
      ]
     },
     "execution_count": 39,
     "metadata": {},
     "output_type": "execute_result"
    }
   ],
   "source": [
    "xs_c1 = nn.Conv2d(\n",
    "    in_channels=n_features,\n",
    "    out_channels=num_hidden_units // 8,\n",
    "    kernel_size=kernel_size,\n",
    "    stride=stride,\n",
    ")(xs.unsqueeze(1))\n",
    "xs_c2 = nn.Conv2d(\n",
    "    in_channels=num_hidden_units // 8,\n",
    "    out_channels=num_hidden_units,\n",
    "    kernel_size=kernel_size,\n",
    "    stride=stride,\n",
    ")(xs_c1)\n",
    "xs_c1.shape, xs_c2.shape  # , xs_c3.shape, xs_c4.shape"
   ]
  },
  {
   "cell_type": "code",
   "execution_count": null,
   "metadata": {},
   "outputs": [],
   "source": []
  },
  {
   "cell_type": "code",
   "execution_count": 40,
   "metadata": {},
   "outputs": [],
   "source": [
    "# | export\n",
    "\n",
    "# encoder\n",
    "# l_win to 24, the model would consider each 24-hour period as one sequence.\n",
    "# pad: if your array is [1, 2, 3] and you symmetrically pad it with 1 unit, the result would be [2, 1, 2, 3, 2].\n",
    "# xavier_initializer()\n",
    "# conv 1: num_hidden_units / 16\n",
    "# conv 2: num_hidden_units / 8\n",
    "# conv 3: num_hidden_units / 4\n",
    "# conv 4: num_hidden_units / 1, kernel = 4, 1\n",
    "# padding : same\n",
    "\n",
    "\n",
    "class Encoder(nn.Module):\n",
    "    def __init__(\n",
    "        self,\n",
    "        latent_dim=20,\n",
    "        num_hidden_units=512,\n",
    "        kernel_size=5,\n",
    "        stride=2,\n",
    "        act=F.mish,\n",
    "    ):\n",
    "        super().__init__()\n",
    "        self.flatten = nn.Flatten()\n",
    "        self.conv1 = nn.Conv2d(\n",
    "            in_channels=n_features,\n",
    "            out_channels=num_hidden_units // 8,\n",
    "            kernel_size=kernel_size,\n",
    "            stride=stride,\n",
    "        )\n",
    "        self.conv2 = nn.Conv2d(\n",
    "            in_channels=num_hidden_units // 8,\n",
    "            out_channels=num_hidden_units,\n",
    "            kernel_size=kernel_size,\n",
    "            stride=stride,\n",
    "        )\n",
    "        self.bn1 = nn.BatchNorm2d(num_hidden_units // 8)\n",
    "        self.bn2 = nn.BatchNorm2d(num_hidden_units)\n",
    "\n",
    "        self.linear = nn.LazyLinear(\n",
    "            out_features=num_hidden_units,\n",
    "            bias=False,\n",
    "        )\n",
    "        self.linear_mean = nn.LazyLinear(\n",
    "            out_features=latent_dim,\n",
    "            bias=False,\n",
    "        )\n",
    "        self.linear_var = nn.LazyLinear(\n",
    "            out_features=latent_dim,\n",
    "            bias=False,\n",
    "        )\n",
    "        self.act = act\n",
    "        self.init_weights()\n",
    "\n",
    "    def forward(self, x):\n",
    "        x = x.unsqueeze(1)  # 100, 1, 48, 1\n",
    "        x = self.act(self.bn1(self.conv1(x)))  # 100, 32, 23, 1\n",
    "        x = self.act(self.bn2(self.conv2(x)))  # 100, 64, 11, 1\n",
    "        x = self.flatten(x)  # 100, 512\n",
    "        x = self.act(self.linear(x))  # 100, 512\n",
    "        z_mean = self.linear_mean(x)\n",
    "        z_log_var = self.linear_var(x)\n",
    "        return z_mean, z_log_var\n",
    "\n",
    "    def init_weights(self):\n",
    "        for m in self.modules():\n",
    "            if isinstance(m, nn.Conv2d):\n",
    "                torch.nn.init.xavier_normal_(m.weight)\n",
    "                m.bias.data.fill_(0)"
   ]
  },
  {
   "cell_type": "code",
   "execution_count": 41,
   "metadata": {},
   "outputs": [
    {
     "name": "stderr",
     "output_type": "stream",
     "text": [
      "/home/gg/.local/share/virtualenvs/ts_vae-lstm-hz-Oy2CQ/lib/python3.9/site-packages/torch/nn/modules/lazy.py:180: UserWarning: Lazy modules are a new feature under heavy development so changes to the API or functionality can happen at any moment.\n",
      "  warnings.warn('Lazy modules are a new feature under heavy development '\n"
     ]
    },
    {
     "data": {
      "text/plain": [
       "(torch.Size([8, 24]), torch.Size([8, 24]))"
      ]
     },
     "execution_count": 41,
     "metadata": {},
     "output_type": "execute_result"
    }
   ],
   "source": [
    "emb_mean, emb_var = Encoder(\n",
    "    latent_dim=latent_dim,\n",
    "    num_hidden_units=num_hidden_units,\n",
    "    kernel_size=kernel_size,\n",
    "    stride=stride,\n",
    ")(xs)\n",
    "emb_mean.shape, emb_var.shape"
   ]
  },
  {
   "cell_type": "code",
   "execution_count": 42,
   "metadata": {},
   "outputs": [
    {
     "data": {
      "text/plain": [
       "(tensor(0.0138, grad_fn=<MeanBackward0>),\n",
       " tensor(0.0112, grad_fn=<MeanBackward0>))"
      ]
     },
     "execution_count": 42,
     "metadata": {},
     "output_type": "execute_result"
    }
   ],
   "source": [
    "emb_mean.mean(), emb_var.mean()"
   ]
  },
  {
   "cell_type": "markdown",
   "metadata": {},
   "source": [
    "## Defining Sampler "
   ]
  },
  {
   "cell_type": "code",
   "execution_count": null,
   "metadata": {},
   "outputs": [],
   "source": []
  },
  {
   "cell_type": "code",
   "execution_count": 43,
   "metadata": {},
   "outputs": [],
   "source": [
    "# | export\n",
    "\n",
    "\n",
    "class StochasticSampler(nn.Module):\n",
    "    \"\"\"We basically want to parametrize the sampling from the latent space\"\"\"\n",
    "\n",
    "    def __init__(self, deterministic=False):\n",
    "        super().__init__()\n",
    "        self.sampler = torch.distributions.Normal(loc=0, scale=1)\n",
    "        self.deterministic = deterministic\n",
    "\n",
    "    def forward(self, z_mean, z_log_var):\n",
    "        \"\"\"Return a normal sample value Z from the latent space given a mean and variance\"\"\"\n",
    "        # z_mean and z_log_var are mean and log-var estimates of the latent space\n",
    "        # under the assumption that the latent space is a gaussian normal\n",
    "        device = z_mean.device\n",
    "        # Scales and shifts the sampled values using the reparameterization trick\n",
    "        eps = self.sampler.sample(z_mean.shape).squeeze().to(device)\n",
    "        # print(eps.shape, z_log_var.shape, z_mean.shape)\n",
    "        return (\n",
    "            z_mean\n",
    "            if self.deterministic\n",
    "            else (z_mean + torch.exp(0.5 * z_log_var) * eps)\n",
    "        )"
   ]
  },
  {
   "cell_type": "code",
   "execution_count": 44,
   "metadata": {},
   "outputs": [
    {
     "data": {
      "text/plain": [
       "(torch.Size([8, 24]),\n",
       " True,\n",
       " tensor([-0.4913, -1.6761,  0.4892,  1.0128,  0.5840,  0.4927,  0.4548, -1.3511,\n",
       "          1.7965,  1.5238,  0.6137, -1.2988,  0.9737,  1.3290,  0.0090,  1.2912,\n",
       "          1.1622,  2.2085, -0.5597, -0.3004,  0.4010,  1.3658, -0.1288, -0.0282],\n",
       "        grad_fn=<SelectBackward0>))"
      ]
     },
     "execution_count": 44,
     "metadata": {},
     "output_type": "execute_result"
    }
   ],
   "source": [
    "sampler = StochasticSampler(deterministic=False)\n",
    "emb = sampler(emb_mean, emb_var)\n",
    "emb.shape, emb.requires_grad, emb[0]"
   ]
  },
  {
   "cell_type": "markdown",
   "metadata": {},
   "source": [
    "It's called the reparameterization trick because it reparameterizes the sampling process into a deterministic function that can be used for backpropagation. The core idea is to introduce an epsilon term drawn from a standard normal distribution and combine it with the mean and log variance of the latent distribution in a specific way. This allows the model to learn the parameters of the latent distribution (mean and variance) while still maintaining the stochastic nature of sampling during training."
   ]
  },
  {
   "cell_type": "markdown",
   "metadata": {},
   "source": [
    "## Defining Decoder part"
   ]
  },
  {
   "cell_type": "code",
   "execution_count": 45,
   "metadata": {},
   "outputs": [
    {
     "data": {
      "text/plain": [
       "(torch.Size([8, 512, 1, 1]),\n",
       " torch.Size([8, 512, 5, 1]),\n",
       " torch.Size([8, 2560]),\n",
       " torch.Size([8, 48]))"
      ]
     },
     "execution_count": 45,
     "metadata": {},
     "output_type": "execute_result"
    }
   ],
   "source": [
    "xs_c1 = nn.Linear(in_features=latent_dim, out_features=num_hidden_units, bias=False)(\n",
    "    emb\n",
    ")\n",
    "xs_c1 = xs_c1[:, :, None, None]\n",
    "xs_c2 = nn.ConvTranspose2d(\n",
    "    in_channels=num_hidden_units,\n",
    "    out_channels=num_hidden_units,\n",
    "    kernel_size=kernel_size,\n",
    "    stride=stride,\n",
    ")(xs_c1)\n",
    "xs_c3 = nn.ConvTranspose2d(\n",
    "    in_channels=num_hidden_units,\n",
    "    out_channels=num_hidden_units // 8,\n",
    "    kernel_size=kernel_size,\n",
    "    stride=stride,\n",
    ")(xs_c2)\n",
    "xs_c3 = nn.Flatten()(xs_c2)\n",
    "xs_c4 = nn.LazyLinear(out_features=p, bias=False)(xs_c3)\n",
    "(\n",
    "    xs_c1.shape,\n",
    "    xs_c2.shape,\n",
    "    xs_c3.shape,\n",
    "    xs_c4.shape,\n",
    ")"
   ]
  },
  {
   "cell_type": "code",
   "execution_count": null,
   "metadata": {},
   "outputs": [],
   "source": []
  },
  {
   "cell_type": "code",
   "execution_count": 46,
   "metadata": {},
   "outputs": [],
   "source": [
    "# | export\n",
    "\n",
    "\n",
    "# l_win to 24, the model would consider each 24-hour period as one sequence.\n",
    "# pad: if your array is [1, 2, 3] and you symmetrically pad it with 1 unit, the result would be [2, 1, 2, 3, 2].\n",
    "# xavier_initializer()\n",
    "# dense 1: num_hidden_units\n",
    "# reshape: (bs, 1, 1, num_hidden_units)  -> this is tensorflow notation, channel at end so actually (bs, num_hidden_units, 1, 1)\n",
    "\n",
    "# conv 2: num_hidden_units, kernel = 1\n",
    "# reshape: (bs, 4, 1, num_hidden_units / 4)\n",
    "\n",
    "# conv 3: num_hidden_units / 4, kernel = 3, 1, stride = 1\n",
    "# permute depth to spatial tf\n",
    "# reshape: (bs, 8, 1, num_hidden_units / 8),\n",
    "\n",
    "# conv 4: num_hidden_units / 8,  kernel = 3, 1, stride = 1\n",
    "# permute depth to spatial tf\n",
    "# reshape: (bs, 16, 1, num_hidden_units / 16)\n",
    "\n",
    "# conv 5: num_hidden_units / 16, kernel = 3, 1, stride = 1\n",
    "# permute depth to spatial tf\n",
    "# reshape: (bs, num_hidden_units /16, 1,  16)\n",
    "\n",
    "# conv 6: num_channel, kernel = 9, 1, stride = 1\n",
    "# reshape: (bs, l_win, num_channel)\n",
    "\n",
    "\n",
    "class Decoder(nn.Module):\n",
    "    def __init__(\n",
    "        self,\n",
    "        output_shape,\n",
    "        latent_dim=20,\n",
    "        num_hidden_units=512,\n",
    "        kernel_size=5,\n",
    "        stride=2,\n",
    "        act=F.mish,\n",
    "    ):\n",
    "        super().__init__()\n",
    "        self.output_shape = output_shape\n",
    "        self.linear = nn.Linear(\n",
    "            in_features=latent_dim, out_features=num_hidden_units, bias=False\n",
    "        )\n",
    "        self.dconv1 = nn.ConvTranspose2d(\n",
    "            in_channels=num_hidden_units,\n",
    "            out_channels=num_hidden_units,\n",
    "            kernel_size=kernel_size,\n",
    "            stride=stride,\n",
    "        )\n",
    "        self.dconv2 = nn.ConvTranspose2d(\n",
    "            in_channels=num_hidden_units,\n",
    "            out_channels=num_hidden_units // 8,\n",
    "            kernel_size=kernel_size,\n",
    "            stride=stride,\n",
    "        )\n",
    "\n",
    "        self.bn1 = nn.BatchNorm2d(num_hidden_units)\n",
    "        self.bn2 = nn.BatchNorm2d(num_hidden_units // 8)\n",
    "\n",
    "        self.flatten = nn.Flatten()\n",
    "        self.linear_out = nn.LazyLinear(\n",
    "            out_features=math.prod(output_shape),\n",
    "            bias=False,\n",
    "        )\n",
    "\n",
    "        self.act = act\n",
    "\n",
    "        self.init_weights()\n",
    "\n",
    "    def forward(self, x):\n",
    "        x = self.linear(x)\n",
    "        x = x[:, :, None, None]\n",
    "        x = self.act(self.bn1(self.dconv1(x)))\n",
    "        x = self.act(self.bn2(self.dconv2(x)))\n",
    "        x = self.flatten(x)\n",
    "        # no act for last layer\n",
    "        x = self.linear_out(x)\n",
    "        return self.reshape_to_output(x)\n",
    "\n",
    "    def reshape_to_output(self, x):\n",
    "        bs = x.shape[0]\n",
    "        return x.reshape(bs, *self.output_shape)\n",
    "\n",
    "    def init_weights(self):\n",
    "        for m in self.modules():\n",
    "            if isinstance(m, nn.Conv2d):\n",
    "                torch.nn.init.xavier_normal_(m.weight)\n",
    "                m.bias.data.fill_(0)"
   ]
  },
  {
   "cell_type": "code",
   "execution_count": 48,
   "metadata": {},
   "outputs": [
    {
     "name": "stderr",
     "output_type": "stream",
     "text": [
      "/home/gg/.local/share/virtualenvs/ts_vae-lstm-hz-Oy2CQ/lib/python3.9/site-packages/torch/nn/modules/lazy.py:180: UserWarning: Lazy modules are a new feature under heavy development so changes to the API or functionality can happen at any moment.\n",
      "  warnings.warn('Lazy modules are a new feature under heavy development '\n"
     ]
    },
    {
     "data": {
      "text/plain": [
       "torch.Size([8, 48, 1])"
      ]
     },
     "execution_count": 48,
     "metadata": {},
     "output_type": "execute_result"
    }
   ],
   "source": [
    "Decoder(\n",
    "    output_shape=(p, n_features),\n",
    "    latent_dim=latent_dim,\n",
    "    num_hidden_units=num_hidden_units,\n",
    "    kernel_size=kernel_size,\n",
    "    stride=stride,\n",
    ")(emb).shape"
   ]
  },
  {
   "cell_type": "code",
   "execution_count": 49,
   "metadata": {},
   "outputs": [
    {
     "data": {
      "text/plain": [
       "torch.Size([8, 48, 1])"
      ]
     },
     "execution_count": 49,
     "metadata": {},
     "output_type": "execute_result"
    }
   ],
   "source": [
    "xs.shape"
   ]
  },
  {
   "cell_type": "code",
   "execution_count": 50,
   "metadata": {},
   "outputs": [
    {
     "data": {
      "text/plain": [
       "48"
      ]
     },
     "execution_count": 50,
     "metadata": {},
     "output_type": "execute_result"
    }
   ],
   "source": [
    "xs.size(1)"
   ]
  },
  {
   "cell_type": "code",
   "execution_count": 51,
   "metadata": {},
   "outputs": [],
   "source": [
    "# | export\n",
    "class VAE(nn.Module):\n",
    "    def __init__(\n",
    "        self,\n",
    "        input_shape,\n",
    "        latent_dim=20,\n",
    "        num_hidden_units=512,\n",
    "        kernel_size=5,\n",
    "        stride=2,\n",
    "        act=F.leaky_relu,\n",
    "        deterministic=False,\n",
    "    ):\n",
    "        super().__init__()\n",
    "        self.encoder = Encoder(\n",
    "            latent_dim=latent_dim,\n",
    "            act=act,\n",
    "            num_hidden_units=num_hidden_units,\n",
    "            kernel_size=kernel_size,\n",
    "            stride=stride,\n",
    "        )\n",
    "        self.decoder = Decoder(\n",
    "            output_shape=input_shape,\n",
    "            latent_dim=latent_dim,\n",
    "            act=act,\n",
    "            num_hidden_units=num_hidden_units,\n",
    "            kernel_size=kernel_size,\n",
    "            stride=stride,\n",
    "        )\n",
    "        self.latent_sampler = StochasticSampler(deterministic=deterministic)\n",
    "        self.act = act\n",
    "\n",
    "    def forward(self, x):\n",
    "        # x shape: [batch_size, sequence_length, num_features]\n",
    "        z_mean, z_log_var = self.encoder(x)\n",
    "        z = self.latent_sampler(z_mean, z_log_var)\n",
    "        reconstructed_x = self.decoder(z)\n",
    "        # loss to enforce all possible values are sampled from latent space\n",
    "        # should be of the size of the batch\n",
    "\n",
    "        # Reconstruction Loss (Mean Squared Error)\n",
    "        reconstruction_loss = F.mse_loss(reconstructed_x, x, reduction=\"mean\")\n",
    "        loss_kl = -0.5 * torch.mean(1 + z_log_var - z_mean.pow(2) - z_log_var.exp())\n",
    "        # / x.size(1)\n",
    "        # average the KL divergence across the batch dimension\n",
    "        # In the VAE-LSTM paper, they mention normalizing the KL divergence term by the number of features in the input.\n",
    "        vae_loss = reconstruction_loss + loss_kl\n",
    "        return reconstructed_x, vae_loss"
   ]
  },
  {
   "cell_type": "code",
   "execution_count": 52,
   "metadata": {},
   "outputs": [
    {
     "data": {
      "text/plain": [
       "torch.Size([8, 48, 1])"
      ]
     },
     "execution_count": 52,
     "metadata": {},
     "output_type": "execute_result"
    }
   ],
   "source": [
    "xs.shape"
   ]
  },
  {
   "cell_type": "code",
   "execution_count": 53,
   "metadata": {},
   "outputs": [
    {
     "data": {
      "text/plain": [
       "(5, 1)"
      ]
     },
     "execution_count": 53,
     "metadata": {},
     "output_type": "execute_result"
    }
   ],
   "source": [
    "kernel_size"
   ]
  },
  {
   "cell_type": "code",
   "execution_count": 54,
   "metadata": {},
   "outputs": [
    {
     "data": {
      "text/plain": [
       "tensor(1.3158, grad_fn=<AddBackward0>)"
      ]
     },
     "execution_count": 54,
     "metadata": {},
     "output_type": "execute_result"
    }
   ],
   "source": [
    "model = VAE(\n",
    "    input_shape=(p, n_features),\n",
    "    latent_dim=latent_dim,\n",
    "    num_hidden_units=num_hidden_units,\n",
    "    kernel_size=kernel_size,\n",
    "    stride=stride,\n",
    ")\n",
    "xs_pred, loss = model(xs)\n",
    "\n",
    "loss"
   ]
  },
  {
   "cell_type": "code",
   "execution_count": 55,
   "metadata": {},
   "outputs": [
    {
     "data": {
      "text/plain": [
       "(torch.Size([8, 48, 1]), tensor(1.3158, grad_fn=<AddBackward0>))"
      ]
     },
     "execution_count": 55,
     "metadata": {},
     "output_type": "execute_result"
    }
   ],
   "source": [
    "xs_pred.shape, loss"
   ]
  },
  {
   "cell_type": "markdown",
   "metadata": {},
   "source": [
    "# Evaluation metric"
   ]
  },
  {
   "cell_type": "code",
   "execution_count": 56,
   "metadata": {},
   "outputs": [],
   "source": [
    "# | export\n",
    "\n",
    "\n",
    "@torch.no_grad()\n",
    "def evaluate_reconstruction(original_signal, reconstructed_signal):\n",
    "    \"\"\"\n",
    "    Evaluates the quality of the reconstructed signal compared to the original signal.\n",
    "\n",
    "    Args:\n",
    "        original_signal (torch.Tensor): Original time series signal.\n",
    "        reconstructed_signal (torch.Tensor): Reconstructed signal from the VAE.\n",
    "\n",
    "    Returns:\n",
    "        dict: Dictionary containing the evaluation metrics:\n",
    "            - mse: Mean Squared Error\n",
    "            - mae: Mean Absolute Error\n",
    "    \"\"\"\n",
    "\n",
    "    # Ensure tensors are on the CPU and numpy arrays\n",
    "    original_signal = original_signal.cpu().numpy()\n",
    "    reconstructed_signal = reconstructed_signal.cpu().numpy()\n",
    "\n",
    "    # Mean Squared Error\n",
    "    mse = nn.MSELoss()(\n",
    "        torch.from_numpy(original_signal), torch.from_numpy(reconstructed_signal)\n",
    "    ).item()\n",
    "\n",
    "    # Mean Absolute Error\n",
    "    mae = nn.L1Loss()(\n",
    "        torch.from_numpy(original_signal), torch.from_numpy(reconstructed_signal)\n",
    "    ).item()\n",
    "\n",
    "    return {\n",
    "        \"mse\": mse,\n",
    "        \"mae\": mae,\n",
    "    }"
   ]
  },
  {
   "cell_type": "markdown",
   "metadata": {},
   "source": [
    "# Training loop"
   ]
  },
  {
   "cell_type": "code",
   "execution_count": 57,
   "metadata": {},
   "outputs": [],
   "source": [
    "# | export\n",
    "\n",
    "\n",
    "def validate_epoch(dls, scorer):\n",
    "    \"\"\"For the full dataloader, calculate the running loss and score\"\"\"\n",
    "    model.eval()\n",
    "    running_loss = 0.0\n",
    "    running_score = 0.0\n",
    "    with torch.no_grad():\n",
    "        for batch_idx, xs in enumerate(dls):\n",
    "            # move to device\n",
    "            xs = xs.to(device)\n",
    "\n",
    "            # Forward pass\n",
    "            xs_gen, loss = model(xs)\n",
    "            # calc score\n",
    "            score = scorer(xs, xs_gen)[\"mse\"]\n",
    "\n",
    "            running_loss += loss.item()\n",
    "            running_score += score\n",
    "    return running_loss / len(dls), running_score / len(dls)"
   ]
  },
  {
   "cell_type": "code",
   "execution_count": 58,
   "metadata": {},
   "outputs": [],
   "source": [
    "# | export\n",
    "\n",
    "from fastcore.xtras import partial\n",
    "import time"
   ]
  },
  {
   "cell_type": "code",
   "execution_count": null,
   "metadata": {},
   "outputs": [],
   "source": []
  },
  {
   "cell_type": "code",
   "execution_count": 59,
   "metadata": {},
   "outputs": [
    {
     "name": "stdout",
     "output_type": "stream",
     "text": [
      "latent_dim is 24\n",
      "Epoch [1/50], Batch [545/545], Loss: [0.566, 0.460], Score: [0.342, 0.278]\n",
      "Epoch [2/50], Batch [545/545], Loss: [0.430, 0.382], Score: [0.240, 0.204]\n",
      "Epoch [3/50], Batch [545/545], Loss: [0.394, 0.388], Score: [0.213, 0.206]\n",
      "Epoch [4/50], Batch [545/545], Loss: [0.366, 0.349], Score: [0.193, 0.177]\n",
      "Epoch [5/50], Batch [545/545], Loss: [0.352, 0.343], Score: [0.184, 0.165]\n",
      "Epoch [6/50], Batch [545/545], Loss: [0.337, 0.329], Score: [0.173, 0.170]\n",
      "Epoch [7/50], Batch [545/545], Loss: [0.335, 0.325], Score: [0.170, 0.139]\n",
      "Epoch [8/50], Batch [545/545], Loss: [0.329, 0.319], Score: [0.169, 0.180]\n",
      "Epoch [9/50], Batch [545/545], Loss: [0.324, 0.307], Score: [0.167, 0.169]\n",
      "Epoch [10/50], Batch [545/545], Loss: [0.316, 0.302], Score: [0.160, 0.143]\n",
      "Epoch [11/50], Batch [545/545], Loss: [0.312, 0.299], Score: [0.158, 0.155]\n",
      "Epoch [12/50], Batch [545/545], Loss: [0.306, 0.293], Score: [0.153, 0.142]\n",
      "Epoch [13/50], Batch [545/545], Loss: [0.306, 0.326], Score: [0.150, 0.159]\n",
      "Epoch [14/50], Batch [545/545], Loss: [0.306, 0.286], Score: [0.150, 0.128]\n",
      "Epoch [15/50], Batch [545/545], Loss: [0.301, 0.289], Score: [0.146, 0.134]\n",
      "Epoch [16/50], Batch [545/545], Loss: [0.302, 0.284], Score: [0.146, 0.134]\n",
      "Epoch [17/50], Batch [545/545], Loss: [0.301, 0.291], Score: [0.145, 0.143]\n",
      "Epoch [18/50], Batch [545/545], Loss: [0.297, 0.300], Score: [0.144, 0.142]\n",
      "Epoch [19/50], Batch [545/545], Loss: [0.296, 0.287], Score: [0.142, 0.134]\n",
      "Epoch [20/50], Batch [545/545], Loss: [0.294, 0.283], Score: [0.139, 0.133]\n",
      "Epoch [21/50], Batch [545/545], Loss: [0.297, 0.303], Score: [0.140, 0.159]\n",
      "Epoch [22/50], Batch [545/545], Loss: [0.296, 0.284], Score: [0.141, 0.127]\n",
      "Epoch [23/50], Batch [545/545], Loss: [0.293, 0.285], Score: [0.137, 0.131]\n",
      "Epoch [24/50], Batch [545/545], Loss: [0.290, 0.281], Score: [0.135, 0.133]\n",
      "Epoch [25/50], Batch [545/545], Loss: [0.290, 0.279], Score: [0.136, 0.126]\n",
      "Epoch [26/50], Batch [545/545], Loss: [0.291, 0.279], Score: [0.136, 0.129]\n",
      "Epoch [27/50], Batch [545/545], Loss: [0.287, 0.275], Score: [0.133, 0.122]\n",
      "Epoch [28/50], Batch [545/545], Loss: [0.289, 0.273], Score: [0.133, 0.115]\n",
      "Epoch [29/50], Batch [545/545], Loss: [0.291, 0.281], Score: [0.134, 0.121]\n",
      "Epoch [30/50], Batch [545/545], Loss: [0.286, 0.274], Score: [0.132, 0.115]\n",
      "Epoch [31/50], Batch [545/545], Loss: [0.288, 0.285], Score: [0.132, 0.142]\n",
      "Epoch [32/50], Batch [545/545], Loss: [0.288, 0.286], Score: [0.132, 0.136]\n",
      "Epoch [33/50], Batch [545/545], Loss: [0.286, 0.271], Score: [0.133, 0.115]\n",
      "Epoch [34/50], Batch [545/545], Loss: [0.285, 0.274], Score: [0.131, 0.127]\n",
      "Epoch [35/50], Batch [545/545], Loss: [0.283, 0.275], Score: [0.130, 0.128]\n",
      "Epoch [36/50], Batch [545/545], Loss: [0.286, 0.270], Score: [0.130, 0.121]\n",
      "Epoch [37/50], Batch [545/545], Loss: [0.283, 0.286], Score: [0.129, 0.147]\n",
      "Epoch [38/50], Batch [545/545], Loss: [0.283, 0.276], Score: [0.129, 0.122]\n",
      "Epoch [39/50], Batch [545/545], Loss: [0.281, 0.280], Score: [0.127, 0.132]\n",
      "Epoch [40/50], Batch [545/545], Loss: [0.285, 0.279], Score: [0.129, 0.131]\n",
      "Epoch [41/50], Batch [545/545], Loss: [0.284, 0.268], Score: [0.130, 0.110]\n",
      "Epoch [42/50], Batch [545/545], Loss: [0.283, 0.279], Score: [0.128, 0.140]\n",
      "Epoch [43/50], Batch [545/545], Loss: [0.282, 0.275], Score: [0.128, 0.122]\n",
      "Epoch [44/50], Batch [545/545], Loss: [0.282, 0.275], Score: [0.128, 0.123]\n",
      "Epoch [45/50], Batch [545/545], Loss: [0.279, 0.266], Score: [0.125, 0.118]\n",
      "Epoch [46/50], Batch [545/545], Loss: [0.281, 0.272], Score: [0.126, 0.120]\n",
      "Epoch [47/50], Batch [545/545], Loss: [0.280, 0.281], Score: [0.126, 0.126]\n",
      "Epoch [48/50], Batch [545/545], Loss: [0.282, 0.279], Score: [0.128, 0.127]\n",
      "Epoch [49/50], Batch [545/545], Loss: [0.281, 0.275], Score: [0.126, 0.120]\n",
      "Epoch [50/50], Batch [545/545], Loss: [0.279, 0.287], Score: [0.126, 0.138]\n"
     ]
    }
   ],
   "source": [
    "train = True\n",
    "batch_size = cfg.batch_sz\n",
    "# range_of_vals = 3.5  # output values will be in the range -3 to 3\n",
    "activation = F.mish\n",
    "latent_dim = latent_dim  # int(p * n_features // 2)\n",
    "learning_rate = cfg.lr\n",
    "num_epochs = cfg.epochs\n",
    "\n",
    "dset_trn = TSDataset(trn_data, mean=means, std=stds)\n",
    "dset_val = TSDataset(val_data, mean=means, std=stds)\n",
    "dl_trn = DataLoader(\n",
    "    dataset=dset_trn,\n",
    "    batch_size=batch_size,\n",
    "    drop_last=True,\n",
    "    shuffle=train,\n",
    "    num_workers=num_workers,\n",
    ")\n",
    "dl_val = DataLoader(\n",
    "    dataset=dset_val,\n",
    "    batch_size=batch_size,\n",
    "    drop_last=False,\n",
    "    shuffle=False,\n",
    "    num_workers=num_workers,\n",
    ")\n",
    "\n",
    "#\n",
    "train_dataloader = dl_trn\n",
    "valid_dataloader = dl_val\n",
    "print_every = len(train_dataloader)  # epoch number to print at\n",
    "\n",
    "print(f\"latent_dim is {latent_dim}\")\n",
    "model = VAE(\n",
    "    latent_dim=latent_dim,\n",
    "    input_shape=(p, n_features),\n",
    "    act=activation,\n",
    "    num_hidden_units=num_hidden_units,\n",
    "    kernel_size=kernel_size,\n",
    "    stride=stride,\n",
    ").to(device)  # to make visualization easier, 2 latent dims\n",
    "\n",
    "optimizer = torch.optim.Adam(model.parameters(), lr=learning_rate, weight_decay=cfg.wd)\n",
    "scorer = evaluate_reconstruction  # calculate_smape\n",
    "# Training loop\n",
    "\n",
    "# Define LR scheduler\n",
    "scheduler = torch.optim.lr_scheduler.ReduceLROnPlateau(\n",
    "    optimizer, factor=cfg.factor, patience=cfg.patience, min_lr=1e-8, verbose=True\n",
    ")\n",
    "\n",
    "# Training loop\n",
    "for epoch in range(num_epochs):\n",
    "    model.train()\n",
    "    running_loss = 0.0\n",
    "    running_score = 0.0\n",
    "    for batch_idx, xs in enumerate(train_dataloader):\n",
    "        model.train()\n",
    "        optimizer.zero_grad()\n",
    "\n",
    "        # move to device\n",
    "        xs = xs.to(device)\n",
    "\n",
    "        # Forward pass\n",
    "        xs_gen, loss = model(xs)\n",
    "        # calc score\n",
    "        score = scorer(xs_gen, xs)[\"mse\"]\n",
    "\n",
    "        loss.backward()\n",
    "        optimizer.step()\n",
    "\n",
    "        running_loss += loss.item()\n",
    "        running_score += score\n",
    "\n",
    "    if (batch_idx + 1) % print_every == 0:\n",
    "        # calculate loss for valid_dataloader\n",
    "        n_dls = len(train_dataloader)\n",
    "        val_loss, val_score = validate_epoch(valid_dataloader, scorer)\n",
    "        print(\n",
    "            \"Epoch [{}/{}], Batch [{}/{}], Loss: [{:.3f}, {:.3f}], Score: [{:.3f}, {:.3f}]\".format(\n",
    "                epoch + 1,\n",
    "                num_epochs,\n",
    "                batch_idx + 1,\n",
    "                n_dls,\n",
    "                running_loss / n_dls,\n",
    "                val_loss,\n",
    "                running_score / n_dls,\n",
    "                val_score,\n",
    "            )\n",
    "        )\n",
    "    # reset at end of epoch\n",
    "    running_loss = 0.0\n",
    "    running_score = 0.0\n",
    "    # Step the LR scheduler\n",
    "    scheduler.step(val_loss)  # min the running_loss"
   ]
  },
  {
   "cell_type": "code",
   "execution_count": 60,
   "metadata": {},
   "outputs": [
    {
     "data": {
      "text/plain": [
       "1732462904"
      ]
     },
     "execution_count": 60,
     "metadata": {},
     "output_type": "execute_result"
    }
   ],
   "source": [
    "time_slug = int(time.time())\n",
    "time_slug"
   ]
  },
  {
   "cell_type": "code",
   "execution_count": 61,
   "metadata": {},
   "outputs": [
    {
     "data": {
      "text/plain": [
       "'/run/media/data2/ts_vae-lstm/models/vae_50_z24_1732462904.pth'"
      ]
     },
     "execution_count": 61,
     "metadata": {},
     "output_type": "execute_result"
    }
   ],
   "source": [
    "model_pth = f\"{MODELDIR}/vae_{num_epochs}_z{latent_dim}_{time_slug}.pth\"\n",
    "model_pth"
   ]
  },
  {
   "cell_type": "code",
   "execution_count": 62,
   "metadata": {},
   "outputs": [],
   "source": [
    "# save to path\n",
    "torch.save(model, model_pth)"
   ]
  },
  {
   "cell_type": "markdown",
   "metadata": {},
   "source": [
    "# Inference"
   ]
  },
  {
   "cell_type": "code",
   "execution_count": 63,
   "metadata": {},
   "outputs": [
    {
     "data": {
      "image/png": "[encoded data removed]",
      "text/plain": [
       "<Figure size 640x480 with 8 Axes>"
      ]
     },
     "metadata": {},
     "output_type": "display_data"
    }
   ],
   "source": [
    "model = torch.load(model_pth)\n",
    "with torch.no_grad():\n",
    "    xs_val = next(iter(dl_val))\n",
    "    xs_val_gen, loss_kl = model(xs_val.to(device))\n",
    "\n",
    "for idx in range(batch_size):\n",
    "    if idx >= 10:\n",
    "        break\n",
    "    plt.subplot(5, 2, idx + 1)\n",
    "    idx_feature = 0\n",
    "    decoded_example, actual_example = (\n",
    "        xs_val_gen[idx].detach().cpu(),\n",
    "        xs_val[idx].detach().cpu(),\n",
    "    )\n",
    "    sns.lineplot(\n",
    "        actual_example[:, idx_feature].numpy(),\n",
    "        alpha=0.5,\n",
    "        label=\"true\",\n",
    "    )\n",
    "    sns.lineplot(decoded_example[:, idx_feature].numpy())  # , label=\"vae\")\n",
    "plt.tight_layout()"
   ]
  },
  {
   "cell_type": "markdown",
   "metadata": {},
   "source": [
    "# Display embedding"
   ]
  },
  {
   "cell_type": "code",
   "execution_count": 64,
   "metadata": {},
   "outputs": [],
   "source": [
    "with torch.no_grad():\n",
    "    xs_val = next(iter(dl_val))\n",
    "    emb_mean_val, emb_std_val = model.encoder(xs_val.to(device))\n",
    "    emb_val = model.latent_sampler(emb_mean_val, emb_std_val)"
   ]
  },
  {
   "cell_type": "code",
   "execution_count": 65,
   "metadata": {},
   "outputs": [
    {
     "data": {
      "text/plain": [
       "(8, 24)"
      ]
     },
     "execution_count": 65,
     "metadata": {},
     "output_type": "execute_result"
    }
   ],
   "source": [
    "emb_val.cpu().numpy().shape"
   ]
  },
  {
   "cell_type": "code",
   "execution_count": 66,
   "metadata": {},
   "outputs": [
    {
     "data": {
      "text/plain": [
       "<Axes: xlabel='None', ylabel='None'>"
      ]
     },
     "execution_count": 66,
     "metadata": {},
     "output_type": "execute_result"
    },
    {
     "data": {
      "image/png": "[encoded data removed]",
      "text/plain": [
       "<Figure size 640x480 with 1 Axes>"
      ]
     },
     "metadata": {},
     "output_type": "display_data"
    }
   ],
   "source": [
    "sns.scatterplot(x=emb_val[:, 0].cpu(), y=emb_val[:, 2].cpu())"
   ]
  },
  {
   "cell_type": "code",
   "execution_count": 67,
   "metadata": {},
   "outputs": [],
   "source": [
    "# | hide\n",
    "import nbdev\n",
    "\n",
    "nbdev.nbdev_export()"
   ]
  },
  {
   "cell_type": "code",
   "execution_count": null,
   "metadata": {},
   "outputs": [],
   "source": []
  },
  {
   "cell_type": "code",
   "execution_count": null,
   "metadata": {},
   "outputs": [],
   "source": []
  }
 ],
 "metadata": {
  "kernelspec": {
   "display_name": "ts_vae-lstm",
   "language": "python",
   "name": "ts_vae-lstm"
  },
  "language_info": {
   "codemirror_mode": {
    "name": "ipython",
    "version": 3
   },
   "file_extension": ".py",
   "mimetype": "text/x-python",
   "name": "python",
   "nbconvert_exporter": "python",
   "pygments_lexer": "ipython3",
   "version": "3.9.18"
  }
 },
 "nbformat": 4,
 "nbformat_minor": 4
}
