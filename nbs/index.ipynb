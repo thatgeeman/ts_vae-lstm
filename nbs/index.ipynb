{
 "cells": [
  {
   "cell_type": "code",
   "execution_count": null,
   "metadata": {},
   "outputs": [],
   "source": [
    "# | hide\n",
    "from ts_vae_lstm.core import *"
   ]
  },
  {
   "cell_type": "markdown",
   "metadata": {},
   "source": [
    "## TS VAE-LSTM\n",
    "\n",
    "> Implementation of the paper [Anomaly Detection for Time Series Using VAE-LSTM Hybrid Model](https://ieeexplore.ieee.org/document/9053558) \n",
    "\n",
    "\n",
    "This is a work in progress.\n",
    "\n",
    "### TODO\n",
    "- [ ] Separate training from notebooks\n",
    "- [ ] Use `.project-env` to manage paths"
   ]
  },
  {
   "cell_type": "markdown",
   "metadata": {},
   "source": [
    "```sh\n",
    "pip install ts_vae_lstm\n",
    "```"
   ]
  },
  {
   "cell_type": "markdown",
   "metadata": {},
   "source": [
    "### Env variables\n",
    "\n",
    "```bash\n",
    "BASEDIR='<your-base-path>/ts_vae-lstm'\n",
    "MODELDIR=${BASEDIR}/models\n",
    "```"
   ]
  },
  {
   "cell_type": "markdown",
   "metadata": {},
   "source": [
    "### CUDA\n",
    "\n",
    "Download the driver and cuda version compiled for the driver.\n",
    "```bash\n",
    "sudo mhwd -i pci video-nvidia-470xx\n",
    "sudo pacman -U https://archive.archlinux.org/packages/c/cuda/cuda-11.4.2-1-x86_64.pkg.tar.zst\n",
    "```"
   ]
  },
  {
   "cell_type": "code",
   "execution_count": null,
   "metadata": {},
   "outputs": [],
   "source": []
  }
 ],
 "metadata": {
  "kernelspec": {
   "display_name": "python3",
   "language": "python",
   "name": "python3"
  }
 },
 "nbformat": 4,
 "nbformat_minor": 4
}
