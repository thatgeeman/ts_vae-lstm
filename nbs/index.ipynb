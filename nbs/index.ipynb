{
 "cells": [
  {
   "cell_type": "markdown",
   "metadata": {},
   "source": [
    "## TS VAE-LSTM\n",
    "\n",
    "> Implementation of the paper [Anomaly Detection for Time Series Using VAE-LSTM Hybrid Model](https://ieeexplore.ieee.org/document/9053558) \n",
    "\n",
    "\n",
    "This is a work in progress.\n",
    "\n",
    "#### TODO\n",
    "- [ ] Separate training from notebooks\n",
    "- [ ] Fix github-actions\n",
    "  - [ ] Page deployment\n",
    "  - [ ] CI tests\n",
    "  - [x] precommit\n",
    "- [x] Build complete AD pipeline\n",
    "- [x] include fine-grained threshold with quantile for within window detection.\n",
    "- [x] use a squared term if the absolute element-wise error falls below delta and a delta-scaled L1 term otherwise (Huber)\n",
    "- [x] Use dotenv `.env` to manage paths\n",
    "- [ ] Plot has a shift of 21 due to remainder -> todo"
   ]
  },
  {
   "cell_type": "markdown",
   "metadata": {},
   "source": [
    "#### Installation"
   ]
  },
  {
   "cell_type": "markdown",
   "metadata": {},
   "source": [
    "```sh\n",
    "pip install ts_vae_lstm\n",
    "```"
   ]
  },
  {
   "cell_type": "markdown",
   "metadata": {},
   "source": [
    "#### Results from NYC Traffic dataset\n",
    "\n",
    "At time $t$, past $k$ window(s) of length $p=48$ are taken. The VAE-LSTM reconstructs the past windows and if the true time series deviates from the reconstructed time series, the $k^{th}$ window is marked as an \"anomalous window\".  \n",
    "\n",
    "VAE-LSTM is trained on a time series without anomalies so any deviation beyond the 90th quantile of reconstruction error (L2 norm) is considered an anomaly.\n",
    "\n",
    "In the figure (`sample_data/result_granular.png`), blue lines represent the unseen data. Orange lines correspond to the reconstructed data. Red dashed lines are the true labels in the unseen set. Green window is the region where anomaly was predicted. Green line is the first time anomaly was flagged in the window.\n",
    "\n",
    "![](sample_data/result_granular.png) "
   ]
  },
  {
   "cell_type": "markdown",
   "metadata": {},
   "source": [
    "## Misc\n",
    "\n",
    "### Env variables\n",
    "\n",
    "```bash\n",
    "BASEDIR='<your-base-path>/ts_vae-lstm'\n",
    "MODELDIR=${BASEDIR}/models\n",
    "VAE_MODEL=${MODELDIR}/<best-vae-model>.pth\n",
    "LSTM_MODEL=${MODELDIR}/<best-lstm-model>.pth\n",
    "```\n",
    "### CUDA setup\n",
    "\n",
    "Download the driver and cuda version compiled for the driver.\n",
    "```bash\n",
    "sudo mhwd -i pci video-nvidia-470xx\n",
    "sudo pacman -U https://archive.archlinux.org/packages/c/cuda/cuda-11.4.2-1-x86_64.pkg.tar.zst\n",
    "```"
   ]
  },
  {
   "cell_type": "code",
   "execution_count": null,
   "metadata": {},
   "outputs": [],
   "source": []
  },
  {
   "cell_type": "code",
   "execution_count": null,
   "metadata": {},
   "outputs": [],
   "source": []
  },
  {
   "cell_type": "code",
   "execution_count": null,
   "metadata": {},
   "outputs": [],
   "source": []
  }
 ],
 "metadata": {
  "kernelspec": {
   "display_name": "ts_vae-lstm",
   "language": "python",
   "name": "ts_vae-lstm"
  },
  "language_info": {
   "codemirror_mode": {
    "name": "ipython",
    "version": 3
   },
   "file_extension": ".py",
   "mimetype": "text/x-python",
   "name": "python",
   "nbconvert_exporter": "python",
   "pygments_lexer": "ipython3",
   "version": "3.9.18"
  }
 },
 "nbformat": 4,
 "nbformat_minor": 4
}
