{
 "cells": [
  {
   "cell_type": "markdown",
   "metadata": {},
   "source": [
    "## TS VAE-LSTM\n",
    "\n",
    "> Implementation of the paper [Anomaly Detection for Time Series Using VAE-LSTM Hybrid Model](https://ieeexplore.ieee.org/document/9053558) \n"
   ]
  },
  {
   "cell_type": "markdown",
   "metadata": {},
   "source": [
    "#### Usage"
   ]
  },
  {
   "cell_type": "markdown",
   "metadata": {},
   "source": [
    "After setting up the environment with `pipenv` or others, update the paths to the datasets and vary hyperparams for experimentation.\n",
    "run the scripts in order: `train_vae.py` -> `train_lstm.py` to generate the prerequisite models.\n",
    "Followed by the inference script: `run_ad.py` to generate the plots and logs.\n",
    "\n",
    "Hydra configurations to reproduce the results provided in `config`. "
   ]
  },
  {
   "cell_type": "markdown",
   "metadata": {},
   "source": [
    "#### Results from NYC Traffic dataset\n",
    "\n",
    "At time $t$, past $k$ window(s) of length $p=48$ are taken. The VAE-LSTM reconstructs the past windows and if the true time series deviates from the reconstructed time series, the $k^{th}$ window is marked as an \"anomalous window\".  \n",
    "\n",
    "VAE-LSTM is trained on a time series without anomalies so any deviation beyond the 90th quantile of reconstruction error (L2 norm) is considered an anomaly.\n",
    "\n",
    "In the figure (`sample_data/result_granular.png`), blue lines represent the unseen data. Orange lines correspond to the reconstructed data. Red dashed lines are the true labels in the unseen set. Green window is the region where anomaly was predicted. Green line is the first time anomaly was flagged in the window.\n",
    "\n",
    "![](./models/ad_result_z24_lstm_1733682851.4265444.png) "
   ]
  },
  {
   "cell_type": "markdown",
   "metadata": {},
   "source": [
    "## Misc\n",
    "\n",
    "\n",
    "#### TODO\n",
    "- [x] Training and inference scripts (#1)\n",
    "- [x] Separate training from notebooks\n",
    "- [ ] Fix github-actions\n",
    "  - [ ] Page deployment\n",
    "  - [ ] CI tests\n",
    "  - [x] precommit\n",
    "- [x] Build complete AD pipeline\n",
    "- [x] include fine-grained threshold with quantile for within window detection.\n",
    "- [x] use a squared term if the absolute element-wise error falls below delta and a delta-scaled L1 term otherwise (Huber)\n",
    "- [x] Use dotenv `.env` to manage paths\n",
    "- [x] Plot has a shift of 21 due to remainder -> todo"
   ]
  },
  {
   "cell_type": "code",
   "execution_count": null,
   "metadata": {},
   "outputs": [],
   "source": []
  },
  {
   "cell_type": "code",
   "execution_count": null,
   "metadata": {},
   "outputs": [],
   "source": []
  },
  {
   "cell_type": "code",
   "execution_count": null,
   "metadata": {},
   "outputs": [],
   "source": []
  }
 ],
 "metadata": {
  "kernelspec": {
   "display_name": "ts_vae-lstm",
   "language": "python",
   "name": "ts_vae-lstm"
  },
  "language_info": {
   "codemirror_mode": {
    "name": "ipython",
    "version": 3
   },
   "file_extension": ".py",
   "mimetype": "text/x-python",
   "name": "python",
   "nbconvert_exporter": "python",
   "pygments_lexer": "ipython3",
   "version": "3.9.18"
  }
 },
 "nbformat": 4,
 "nbformat_minor": 4
}
